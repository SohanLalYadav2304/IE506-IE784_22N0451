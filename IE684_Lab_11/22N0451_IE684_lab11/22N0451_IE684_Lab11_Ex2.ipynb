{
  "nbformat": 4,
  "nbformat_minor": 0,
  "metadata": {
    "colab": {
      "provenance": []
    },
    "kernelspec": {
      "name": "python3",
      "display_name": "Python 3"
    },
    "language_info": {
      "name": "python"
    }
  },
  "cells": [
    {
      "cell_type": "code",
      "execution_count": 1,
      "metadata": {
        "id": "2dJIW5dt1ovl"
      },
      "outputs": [],
      "source": [
        "import numpy as np\n",
        "import pandas as pd\n",
        "import matplotlib.pyplot as plt"
      ]
    },
    {
      "cell_type": "code",
      "source": [
        "pip install pybbn"
      ],
      "metadata": {
        "colab": {
          "base_uri": "https://localhost:8080/"
        },
        "id": "Ge1PTSDQB0ey",
        "outputId": "9896c21e-d926-45b0-db3e-b94fa8aa98b0"
      },
      "execution_count": 2,
      "outputs": [
        {
          "output_type": "stream",
          "name": "stdout",
          "text": [
            "Looking in indexes: https://pypi.org/simple, https://us-python.pkg.dev/colab-wheels/public/simple/\n",
            "Requirement already satisfied: pybbn in /usr/local/lib/python3.9/dist-packages (3.2.3)\n",
            "Requirement already satisfied: networkx in /usr/local/lib/python3.9/dist-packages (from pybbn) (3.0)\n",
            "Requirement already satisfied: pandas in /usr/local/lib/python3.9/dist-packages (from pybbn) (1.4.4)\n",
            "Requirement already satisfied: numpy in /usr/local/lib/python3.9/dist-packages (from pybbn) (1.22.4)\n",
            "Requirement already satisfied: scipy in /usr/local/lib/python3.9/dist-packages (from pybbn) (1.10.1)\n",
            "Requirement already satisfied: python-dateutil>=2.8.1 in /usr/local/lib/python3.9/dist-packages (from pandas->pybbn) (2.8.2)\n",
            "Requirement already satisfied: pytz>=2020.1 in /usr/local/lib/python3.9/dist-packages (from pandas->pybbn) (2022.7.1)\n",
            "Requirement already satisfied: six>=1.5 in /usr/local/lib/python3.9/dist-packages (from python-dateutil>=2.8.1->pandas->pybbn) (1.16.0)\n"
          ]
        }
      ]
    },
    {
      "cell_type": "code",
      "source": [
        "data=pd.read_csv('weatherAUS.csv')\n",
        "data.isna().sum()"
      ],
      "metadata": {
        "colab": {
          "base_uri": "https://localhost:8080/"
        },
        "id": "PG8MzP6L1zMd",
        "outputId": "6cf8df67-62cf-4cd6-c815-8a8d9867df5a"
      },
      "execution_count": 3,
      "outputs": [
        {
          "output_type": "execute_result",
          "data": {
            "text/plain": [
              "Date                 0\n",
              "Location             0\n",
              "MinTemp           1485\n",
              "MaxTemp           1261\n",
              "Rainfall          3261\n",
              "Evaporation      62790\n",
              "Sunshine         69835\n",
              "WindGustDir      10326\n",
              "WindGustSpeed    10263\n",
              "WindDir9am       10566\n",
              "WindDir3pm        4228\n",
              "WindSpeed9am      1767\n",
              "WindSpeed3pm      3062\n",
              "Humidity9am       2654\n",
              "Humidity3pm       4507\n",
              "Pressure9am      15065\n",
              "Pressure3pm      15028\n",
              "Cloud9am         55888\n",
              "Cloud3pm         59358\n",
              "Temp9am           1767\n",
              "Temp3pm           3609\n",
              "RainToday         3261\n",
              "RainTomorrow      3267\n",
              "dtype: int64"
            ]
          },
          "metadata": {},
          "execution_count": 3
        }
      ]
    },
    {
      "cell_type": "code",
      "source": [
        "data=data.fillna(data.mean())"
      ],
      "metadata": {
        "colab": {
          "base_uri": "https://localhost:8080/"
        },
        "id": "_lJ7V-j48Sgq",
        "outputId": "5005a5bc-ec47-4edc-f5b3-aff95e41c8a7"
      },
      "execution_count": 4,
      "outputs": [
        {
          "output_type": "stream",
          "name": "stderr",
          "text": [
            "<ipython-input-4-2fdd91382263>:1: FutureWarning: Dropping of nuisance columns in DataFrame reductions (with 'numeric_only=None') is deprecated; in a future version this will raise TypeError.  Select only valid columns before calling the reduction.\n",
            "  data=data.fillna(data.mean())\n"
          ]
        }
      ]
    },
    {
      "cell_type": "code",
      "source": [
        "# for creating Bayesian Belief Networks (BBN)\n",
        "from pybbn.graph.dag import Bbn\n",
        "from pybbn.graph.edge import Edge, EdgeType\n",
        "from pybbn.graph.jointree import EvidenceBuilder\n",
        "from pybbn.graph.node import BbnNode\n",
        "from pybbn.graph.variable import Variable\n",
        "from pybbn.pptc.inferencecontroller import InferenceController"
      ],
      "metadata": {
        "id": "M5P3RMO-BsvE"
      },
      "execution_count": 5,
      "outputs": []
    },
    {
      "cell_type": "code",
      "source": [
        "data.isna().sum()"
      ],
      "metadata": {
        "colab": {
          "base_uri": "https://localhost:8080/"
        },
        "id": "gibSVB8R8aJw",
        "outputId": "202c151d-398f-4cc6-d83b-f1422b52724e"
      },
      "execution_count": 6,
      "outputs": [
        {
          "output_type": "execute_result",
          "data": {
            "text/plain": [
              "Date                 0\n",
              "Location             0\n",
              "MinTemp              0\n",
              "MaxTemp              0\n",
              "Rainfall             0\n",
              "Evaporation          0\n",
              "Sunshine             0\n",
              "WindGustDir      10326\n",
              "WindGustSpeed        0\n",
              "WindDir9am       10566\n",
              "WindDir3pm        4228\n",
              "WindSpeed9am         0\n",
              "WindSpeed3pm         0\n",
              "Humidity9am          0\n",
              "Humidity3pm          0\n",
              "Pressure9am          0\n",
              "Pressure3pm          0\n",
              "Cloud9am             0\n",
              "Cloud3pm             0\n",
              "Temp9am              0\n",
              "Temp3pm              0\n",
              "RainToday         3261\n",
              "RainTomorrow      3267\n",
              "dtype: int64"
            ]
          },
          "metadata": {},
          "execution_count": 6
        }
      ]
    },
    {
      "cell_type": "code",
      "source": [
        "def attr_9am(x):\n",
        "  if x<15:\n",
        "    return 1\n",
        "  elif x>=15 and x<=26:\n",
        "    return 2\n",
        "  else:\n",
        "    return 3    \n"
      ],
      "metadata": {
        "id": "4bSkqGHO5i1I"
      },
      "execution_count": 7,
      "outputs": []
    },
    {
      "cell_type": "code",
      "source": [
        "def attr_3pm(x):\n",
        "  if x<24:\n",
        "    return 1\n",
        "  elif x>=24 and x<=36:\n",
        "    return 2\n",
        "  else:\n",
        "    return 3"
      ],
      "metadata": {
        "id": "1bntX5qy6nSl"
      },
      "execution_count": 8,
      "outputs": []
    },
    {
      "cell_type": "code",
      "source": [
        "def attr_W9am(x):\n",
        "  if x<16:\n",
        "    return 1\n",
        "  else:\n",
        "    return 2\n",
        "      "
      ],
      "metadata": {
        "id": "aaAO64Ek6xrp"
      },
      "execution_count": 9,
      "outputs": []
    },
    {
      "cell_type": "code",
      "source": [
        "def attr_W3pm(x):\n",
        "  if x<15:\n",
        "    return 1\n",
        "  else:\n",
        "    return 2  "
      ],
      "metadata": {
        "id": "zIIJDoHR67aA"
      },
      "execution_count": 10,
      "outputs": []
    },
    {
      "cell_type": "code",
      "source": [
        "data.columns"
      ],
      "metadata": {
        "colab": {
          "base_uri": "https://localhost:8080/"
        },
        "id": "f9zZj7rQ7FEL",
        "outputId": "c737ec2d-a310-46e7-8600-93d40f9c8dbd"
      },
      "execution_count": 11,
      "outputs": [
        {
          "output_type": "execute_result",
          "data": {
            "text/plain": [
              "Index(['Date', 'Location', 'MinTemp', 'MaxTemp', 'Rainfall', 'Evaporation',\n",
              "       'Sunshine', 'WindGustDir', 'WindGustSpeed', 'WindDir9am', 'WindDir3pm',\n",
              "       'WindSpeed9am', 'WindSpeed3pm', 'Humidity9am', 'Humidity3pm',\n",
              "       'Pressure9am', 'Pressure3pm', 'Cloud9am', 'Cloud3pm', 'Temp9am',\n",
              "       'Temp3pm', 'RainToday', 'RainTomorrow'],\n",
              "      dtype='object')"
            ]
          },
          "metadata": {},
          "execution_count": 11
        }
      ]
    },
    {
      "cell_type": "code",
      "source": [
        "data"
      ],
      "metadata": {
        "colab": {
          "base_uri": "https://localhost:8080/",
          "height": 661
        },
        "id": "1Vl9oFDW7YPW",
        "outputId": "51797356-c835-4fd8-ef8e-00cceb84b082"
      },
      "execution_count": 12,
      "outputs": [
        {
          "output_type": "execute_result",
          "data": {
            "text/plain": [
              "              Date Location  MinTemp    MaxTemp  Rainfall  Evaporation  \\\n",
              "0       2008-12-01   Albury     13.4  22.900000       0.6     5.468232   \n",
              "1       2008-12-02   Albury      7.4  25.100000       0.0     5.468232   \n",
              "2       2008-12-03   Albury     12.9  25.700000       0.0     5.468232   \n",
              "3       2008-12-04   Albury      9.2  28.000000       0.0     5.468232   \n",
              "4       2008-12-05   Albury     17.5  32.300000       1.0     5.468232   \n",
              "...            ...      ...      ...        ...       ...          ...   \n",
              "145455  2017-06-21    Uluru      2.8  23.400000       0.0     5.468232   \n",
              "145456  2017-06-22    Uluru      3.6  25.300000       0.0     5.468232   \n",
              "145457  2017-06-23    Uluru      5.4  26.900000       0.0     5.468232   \n",
              "145458  2017-06-24    Uluru      7.8  27.000000       0.0     5.468232   \n",
              "145459  2017-06-25    Uluru     14.9  23.221348       0.0     5.468232   \n",
              "\n",
              "        Sunshine WindGustDir  WindGustSpeed WindDir9am  ... Humidity9am  \\\n",
              "0       7.611178           W       44.00000          W  ...        71.0   \n",
              "1       7.611178         WNW       44.00000        NNW  ...        44.0   \n",
              "2       7.611178         WSW       46.00000          W  ...        38.0   \n",
              "3       7.611178          NE       24.00000         SE  ...        45.0   \n",
              "4       7.611178           W       41.00000        ENE  ...        82.0   \n",
              "...          ...         ...            ...        ...  ...         ...   \n",
              "145455  7.611178           E       31.00000         SE  ...        51.0   \n",
              "145456  7.611178         NNW       22.00000         SE  ...        56.0   \n",
              "145457  7.611178           N       37.00000         SE  ...        53.0   \n",
              "145458  7.611178          SE       28.00000        SSE  ...        51.0   \n",
              "145459  7.611178         NaN       40.03523        ESE  ...        62.0   \n",
              "\n",
              "        Humidity3pm  Pressure9am  Pressure3pm  Cloud9am  Cloud3pm  Temp9am  \\\n",
              "0              22.0       1007.7       1007.1  8.000000   4.50993     16.9   \n",
              "1              25.0       1010.6       1007.8  4.447461   4.50993     17.2   \n",
              "2              30.0       1007.6       1008.7  4.447461   2.00000     21.0   \n",
              "3              16.0       1017.6       1012.8  4.447461   4.50993     18.1   \n",
              "4              33.0       1010.8       1006.0  7.000000   8.00000     17.8   \n",
              "...             ...          ...          ...       ...       ...      ...   \n",
              "145455         24.0       1024.6       1020.3  4.447461   4.50993     10.1   \n",
              "145456         21.0       1023.5       1019.1  4.447461   4.50993     10.9   \n",
              "145457         24.0       1021.0       1016.8  4.447461   4.50993     12.5   \n",
              "145458         24.0       1019.4       1016.5  3.000000   2.00000     15.1   \n",
              "145459         36.0       1020.2       1017.9  8.000000   8.00000     15.0   \n",
              "\n",
              "        Temp3pm  RainToday  RainTomorrow  \n",
              "0          21.8         No            No  \n",
              "1          24.3         No            No  \n",
              "2          23.2         No            No  \n",
              "3          26.5         No            No  \n",
              "4          29.7         No            No  \n",
              "...         ...        ...           ...  \n",
              "145455     22.4         No            No  \n",
              "145456     24.5         No            No  \n",
              "145457     26.1         No            No  \n",
              "145458     26.0         No            No  \n",
              "145459     20.9         No           NaN  \n",
              "\n",
              "[145460 rows x 23 columns]"
            ],
            "text/html": [
              "\n",
              "  <div id=\"df-4da27224-bd63-4cd8-90ef-9260dafe915a\">\n",
              "    <div class=\"colab-df-container\">\n",
              "      <div>\n",
              "<style scoped>\n",
              "    .dataframe tbody tr th:only-of-type {\n",
              "        vertical-align: middle;\n",
              "    }\n",
              "\n",
              "    .dataframe tbody tr th {\n",
              "        vertical-align: top;\n",
              "    }\n",
              "\n",
              "    .dataframe thead th {\n",
              "        text-align: right;\n",
              "    }\n",
              "</style>\n",
              "<table border=\"1\" class=\"dataframe\">\n",
              "  <thead>\n",
              "    <tr style=\"text-align: right;\">\n",
              "      <th></th>\n",
              "      <th>Date</th>\n",
              "      <th>Location</th>\n",
              "      <th>MinTemp</th>\n",
              "      <th>MaxTemp</th>\n",
              "      <th>Rainfall</th>\n",
              "      <th>Evaporation</th>\n",
              "      <th>Sunshine</th>\n",
              "      <th>WindGustDir</th>\n",
              "      <th>WindGustSpeed</th>\n",
              "      <th>WindDir9am</th>\n",
              "      <th>...</th>\n",
              "      <th>Humidity9am</th>\n",
              "      <th>Humidity3pm</th>\n",
              "      <th>Pressure9am</th>\n",
              "      <th>Pressure3pm</th>\n",
              "      <th>Cloud9am</th>\n",
              "      <th>Cloud3pm</th>\n",
              "      <th>Temp9am</th>\n",
              "      <th>Temp3pm</th>\n",
              "      <th>RainToday</th>\n",
              "      <th>RainTomorrow</th>\n",
              "    </tr>\n",
              "  </thead>\n",
              "  <tbody>\n",
              "    <tr>\n",
              "      <th>0</th>\n",
              "      <td>2008-12-01</td>\n",
              "      <td>Albury</td>\n",
              "      <td>13.4</td>\n",
              "      <td>22.900000</td>\n",
              "      <td>0.6</td>\n",
              "      <td>5.468232</td>\n",
              "      <td>7.611178</td>\n",
              "      <td>W</td>\n",
              "      <td>44.00000</td>\n",
              "      <td>W</td>\n",
              "      <td>...</td>\n",
              "      <td>71.0</td>\n",
              "      <td>22.0</td>\n",
              "      <td>1007.7</td>\n",
              "      <td>1007.1</td>\n",
              "      <td>8.000000</td>\n",
              "      <td>4.50993</td>\n",
              "      <td>16.9</td>\n",
              "      <td>21.8</td>\n",
              "      <td>No</td>\n",
              "      <td>No</td>\n",
              "    </tr>\n",
              "    <tr>\n",
              "      <th>1</th>\n",
              "      <td>2008-12-02</td>\n",
              "      <td>Albury</td>\n",
              "      <td>7.4</td>\n",
              "      <td>25.100000</td>\n",
              "      <td>0.0</td>\n",
              "      <td>5.468232</td>\n",
              "      <td>7.611178</td>\n",
              "      <td>WNW</td>\n",
              "      <td>44.00000</td>\n",
              "      <td>NNW</td>\n",
              "      <td>...</td>\n",
              "      <td>44.0</td>\n",
              "      <td>25.0</td>\n",
              "      <td>1010.6</td>\n",
              "      <td>1007.8</td>\n",
              "      <td>4.447461</td>\n",
              "      <td>4.50993</td>\n",
              "      <td>17.2</td>\n",
              "      <td>24.3</td>\n",
              "      <td>No</td>\n",
              "      <td>No</td>\n",
              "    </tr>\n",
              "    <tr>\n",
              "      <th>2</th>\n",
              "      <td>2008-12-03</td>\n",
              "      <td>Albury</td>\n",
              "      <td>12.9</td>\n",
              "      <td>25.700000</td>\n",
              "      <td>0.0</td>\n",
              "      <td>5.468232</td>\n",
              "      <td>7.611178</td>\n",
              "      <td>WSW</td>\n",
              "      <td>46.00000</td>\n",
              "      <td>W</td>\n",
              "      <td>...</td>\n",
              "      <td>38.0</td>\n",
              "      <td>30.0</td>\n",
              "      <td>1007.6</td>\n",
              "      <td>1008.7</td>\n",
              "      <td>4.447461</td>\n",
              "      <td>2.00000</td>\n",
              "      <td>21.0</td>\n",
              "      <td>23.2</td>\n",
              "      <td>No</td>\n",
              "      <td>No</td>\n",
              "    </tr>\n",
              "    <tr>\n",
              "      <th>3</th>\n",
              "      <td>2008-12-04</td>\n",
              "      <td>Albury</td>\n",
              "      <td>9.2</td>\n",
              "      <td>28.000000</td>\n",
              "      <td>0.0</td>\n",
              "      <td>5.468232</td>\n",
              "      <td>7.611178</td>\n",
              "      <td>NE</td>\n",
              "      <td>24.00000</td>\n",
              "      <td>SE</td>\n",
              "      <td>...</td>\n",
              "      <td>45.0</td>\n",
              "      <td>16.0</td>\n",
              "      <td>1017.6</td>\n",
              "      <td>1012.8</td>\n",
              "      <td>4.447461</td>\n",
              "      <td>4.50993</td>\n",
              "      <td>18.1</td>\n",
              "      <td>26.5</td>\n",
              "      <td>No</td>\n",
              "      <td>No</td>\n",
              "    </tr>\n",
              "    <tr>\n",
              "      <th>4</th>\n",
              "      <td>2008-12-05</td>\n",
              "      <td>Albury</td>\n",
              "      <td>17.5</td>\n",
              "      <td>32.300000</td>\n",
              "      <td>1.0</td>\n",
              "      <td>5.468232</td>\n",
              "      <td>7.611178</td>\n",
              "      <td>W</td>\n",
              "      <td>41.00000</td>\n",
              "      <td>ENE</td>\n",
              "      <td>...</td>\n",
              "      <td>82.0</td>\n",
              "      <td>33.0</td>\n",
              "      <td>1010.8</td>\n",
              "      <td>1006.0</td>\n",
              "      <td>7.000000</td>\n",
              "      <td>8.00000</td>\n",
              "      <td>17.8</td>\n",
              "      <td>29.7</td>\n",
              "      <td>No</td>\n",
              "      <td>No</td>\n",
              "    </tr>\n",
              "    <tr>\n",
              "      <th>...</th>\n",
              "      <td>...</td>\n",
              "      <td>...</td>\n",
              "      <td>...</td>\n",
              "      <td>...</td>\n",
              "      <td>...</td>\n",
              "      <td>...</td>\n",
              "      <td>...</td>\n",
              "      <td>...</td>\n",
              "      <td>...</td>\n",
              "      <td>...</td>\n",
              "      <td>...</td>\n",
              "      <td>...</td>\n",
              "      <td>...</td>\n",
              "      <td>...</td>\n",
              "      <td>...</td>\n",
              "      <td>...</td>\n",
              "      <td>...</td>\n",
              "      <td>...</td>\n",
              "      <td>...</td>\n",
              "      <td>...</td>\n",
              "      <td>...</td>\n",
              "    </tr>\n",
              "    <tr>\n",
              "      <th>145455</th>\n",
              "      <td>2017-06-21</td>\n",
              "      <td>Uluru</td>\n",
              "      <td>2.8</td>\n",
              "      <td>23.400000</td>\n",
              "      <td>0.0</td>\n",
              "      <td>5.468232</td>\n",
              "      <td>7.611178</td>\n",
              "      <td>E</td>\n",
              "      <td>31.00000</td>\n",
              "      <td>SE</td>\n",
              "      <td>...</td>\n",
              "      <td>51.0</td>\n",
              "      <td>24.0</td>\n",
              "      <td>1024.6</td>\n",
              "      <td>1020.3</td>\n",
              "      <td>4.447461</td>\n",
              "      <td>4.50993</td>\n",
              "      <td>10.1</td>\n",
              "      <td>22.4</td>\n",
              "      <td>No</td>\n",
              "      <td>No</td>\n",
              "    </tr>\n",
              "    <tr>\n",
              "      <th>145456</th>\n",
              "      <td>2017-06-22</td>\n",
              "      <td>Uluru</td>\n",
              "      <td>3.6</td>\n",
              "      <td>25.300000</td>\n",
              "      <td>0.0</td>\n",
              "      <td>5.468232</td>\n",
              "      <td>7.611178</td>\n",
              "      <td>NNW</td>\n",
              "      <td>22.00000</td>\n",
              "      <td>SE</td>\n",
              "      <td>...</td>\n",
              "      <td>56.0</td>\n",
              "      <td>21.0</td>\n",
              "      <td>1023.5</td>\n",
              "      <td>1019.1</td>\n",
              "      <td>4.447461</td>\n",
              "      <td>4.50993</td>\n",
              "      <td>10.9</td>\n",
              "      <td>24.5</td>\n",
              "      <td>No</td>\n",
              "      <td>No</td>\n",
              "    </tr>\n",
              "    <tr>\n",
              "      <th>145457</th>\n",
              "      <td>2017-06-23</td>\n",
              "      <td>Uluru</td>\n",
              "      <td>5.4</td>\n",
              "      <td>26.900000</td>\n",
              "      <td>0.0</td>\n",
              "      <td>5.468232</td>\n",
              "      <td>7.611178</td>\n",
              "      <td>N</td>\n",
              "      <td>37.00000</td>\n",
              "      <td>SE</td>\n",
              "      <td>...</td>\n",
              "      <td>53.0</td>\n",
              "      <td>24.0</td>\n",
              "      <td>1021.0</td>\n",
              "      <td>1016.8</td>\n",
              "      <td>4.447461</td>\n",
              "      <td>4.50993</td>\n",
              "      <td>12.5</td>\n",
              "      <td>26.1</td>\n",
              "      <td>No</td>\n",
              "      <td>No</td>\n",
              "    </tr>\n",
              "    <tr>\n",
              "      <th>145458</th>\n",
              "      <td>2017-06-24</td>\n",
              "      <td>Uluru</td>\n",
              "      <td>7.8</td>\n",
              "      <td>27.000000</td>\n",
              "      <td>0.0</td>\n",
              "      <td>5.468232</td>\n",
              "      <td>7.611178</td>\n",
              "      <td>SE</td>\n",
              "      <td>28.00000</td>\n",
              "      <td>SSE</td>\n",
              "      <td>...</td>\n",
              "      <td>51.0</td>\n",
              "      <td>24.0</td>\n",
              "      <td>1019.4</td>\n",
              "      <td>1016.5</td>\n",
              "      <td>3.000000</td>\n",
              "      <td>2.00000</td>\n",
              "      <td>15.1</td>\n",
              "      <td>26.0</td>\n",
              "      <td>No</td>\n",
              "      <td>No</td>\n",
              "    </tr>\n",
              "    <tr>\n",
              "      <th>145459</th>\n",
              "      <td>2017-06-25</td>\n",
              "      <td>Uluru</td>\n",
              "      <td>14.9</td>\n",
              "      <td>23.221348</td>\n",
              "      <td>0.0</td>\n",
              "      <td>5.468232</td>\n",
              "      <td>7.611178</td>\n",
              "      <td>NaN</td>\n",
              "      <td>40.03523</td>\n",
              "      <td>ESE</td>\n",
              "      <td>...</td>\n",
              "      <td>62.0</td>\n",
              "      <td>36.0</td>\n",
              "      <td>1020.2</td>\n",
              "      <td>1017.9</td>\n",
              "      <td>8.000000</td>\n",
              "      <td>8.00000</td>\n",
              "      <td>15.0</td>\n",
              "      <td>20.9</td>\n",
              "      <td>No</td>\n",
              "      <td>NaN</td>\n",
              "    </tr>\n",
              "  </tbody>\n",
              "</table>\n",
              "<p>145460 rows × 23 columns</p>\n",
              "</div>\n",
              "      <button class=\"colab-df-convert\" onclick=\"convertToInteractive('df-4da27224-bd63-4cd8-90ef-9260dafe915a')\"\n",
              "              title=\"Convert this dataframe to an interactive table.\"\n",
              "              style=\"display:none;\">\n",
              "        \n",
              "  <svg xmlns=\"http://www.w3.org/2000/svg\" height=\"24px\"viewBox=\"0 0 24 24\"\n",
              "       width=\"24px\">\n",
              "    <path d=\"M0 0h24v24H0V0z\" fill=\"none\"/>\n",
              "    <path d=\"M18.56 5.44l.94 2.06.94-2.06 2.06-.94-2.06-.94-.94-2.06-.94 2.06-2.06.94zm-11 1L8.5 8.5l.94-2.06 2.06-.94-2.06-.94L8.5 2.5l-.94 2.06-2.06.94zm10 10l.94 2.06.94-2.06 2.06-.94-2.06-.94-.94-2.06-.94 2.06-2.06.94z\"/><path d=\"M17.41 7.96l-1.37-1.37c-.4-.4-.92-.59-1.43-.59-.52 0-1.04.2-1.43.59L10.3 9.45l-7.72 7.72c-.78.78-.78 2.05 0 2.83L4 21.41c.39.39.9.59 1.41.59.51 0 1.02-.2 1.41-.59l7.78-7.78 2.81-2.81c.8-.78.8-2.07 0-2.86zM5.41 20L4 18.59l7.72-7.72 1.47 1.35L5.41 20z\"/>\n",
              "  </svg>\n",
              "      </button>\n",
              "      \n",
              "  <style>\n",
              "    .colab-df-container {\n",
              "      display:flex;\n",
              "      flex-wrap:wrap;\n",
              "      gap: 12px;\n",
              "    }\n",
              "\n",
              "    .colab-df-convert {\n",
              "      background-color: #E8F0FE;\n",
              "      border: none;\n",
              "      border-radius: 50%;\n",
              "      cursor: pointer;\n",
              "      display: none;\n",
              "      fill: #1967D2;\n",
              "      height: 32px;\n",
              "      padding: 0 0 0 0;\n",
              "      width: 32px;\n",
              "    }\n",
              "\n",
              "    .colab-df-convert:hover {\n",
              "      background-color: #E2EBFA;\n",
              "      box-shadow: 0px 1px 2px rgba(60, 64, 67, 0.3), 0px 1px 3px 1px rgba(60, 64, 67, 0.15);\n",
              "      fill: #174EA6;\n",
              "    }\n",
              "\n",
              "    [theme=dark] .colab-df-convert {\n",
              "      background-color: #3B4455;\n",
              "      fill: #D2E3FC;\n",
              "    }\n",
              "\n",
              "    [theme=dark] .colab-df-convert:hover {\n",
              "      background-color: #434B5C;\n",
              "      box-shadow: 0px 1px 3px 1px rgba(0, 0, 0, 0.15);\n",
              "      filter: drop-shadow(0px 1px 2px rgba(0, 0, 0, 0.3));\n",
              "      fill: #FFFFFF;\n",
              "    }\n",
              "  </style>\n",
              "\n",
              "      <script>\n",
              "        const buttonEl =\n",
              "          document.querySelector('#df-4da27224-bd63-4cd8-90ef-9260dafe915a button.colab-df-convert');\n",
              "        buttonEl.style.display =\n",
              "          google.colab.kernel.accessAllowed ? 'block' : 'none';\n",
              "\n",
              "        async function convertToInteractive(key) {\n",
              "          const element = document.querySelector('#df-4da27224-bd63-4cd8-90ef-9260dafe915a');\n",
              "          const dataTable =\n",
              "            await google.colab.kernel.invokeFunction('convertToInteractive',\n",
              "                                                     [key], {});\n",
              "          if (!dataTable) return;\n",
              "\n",
              "          const docLinkHtml = 'Like what you see? Visit the ' +\n",
              "            '<a target=\"_blank\" href=https://colab.research.google.com/notebooks/data_table.ipynb>data table notebook</a>'\n",
              "            + ' to learn more about interactive tables.';\n",
              "          element.innerHTML = '';\n",
              "          dataTable['output_type'] = 'display_data';\n",
              "          await google.colab.output.renderOutput(dataTable, element);\n",
              "          const docLink = document.createElement('div');\n",
              "          docLink.innerHTML = docLinkHtml;\n",
              "          element.appendChild(docLink);\n",
              "        }\n",
              "      </script>\n",
              "    </div>\n",
              "  </div>\n",
              "  "
            ]
          },
          "metadata": {},
          "execution_count": 12
        }
      ]
    },
    {
      "cell_type": "code",
      "source": [
        "data['RainTomorrow']=data['RainTomorrow'].fillna('No')"
      ],
      "metadata": {
        "id": "LEQW8STCJdNz"
      },
      "execution_count": 13,
      "outputs": []
    },
    {
      "cell_type": "code",
      "source": [
        "data.isna().sum()"
      ],
      "metadata": {
        "colab": {
          "base_uri": "https://localhost:8080/"
        },
        "id": "Iqc0Lr-kJoj1",
        "outputId": "c6847ada-4299-411e-c784-64efc5ef65a8"
      },
      "execution_count": 14,
      "outputs": [
        {
          "output_type": "execute_result",
          "data": {
            "text/plain": [
              "Date                 0\n",
              "Location             0\n",
              "MinTemp              0\n",
              "MaxTemp              0\n",
              "Rainfall             0\n",
              "Evaporation          0\n",
              "Sunshine             0\n",
              "WindGustDir      10326\n",
              "WindGustSpeed        0\n",
              "WindDir9am       10566\n",
              "WindDir3pm        4228\n",
              "WindSpeed9am         0\n",
              "WindSpeed3pm         0\n",
              "Humidity9am          0\n",
              "Humidity3pm          0\n",
              "Pressure9am          0\n",
              "Pressure3pm          0\n",
              "Cloud9am             0\n",
              "Cloud3pm             0\n",
              "Temp9am              0\n",
              "Temp3pm              0\n",
              "RainToday         3261\n",
              "RainTomorrow         0\n",
              "dtype: int64"
            ]
          },
          "metadata": {},
          "execution_count": 14
        }
      ]
    },
    {
      "cell_type": "code",
      "source": [
        "'''data['Temp9am']=data['Temp9am'].apply(attr_9am)\n",
        "data['Temp3pm']=data['Temp3pm'].apply(attr_3pm)\n",
        "data['WindSpeed9am']=data['WindSpeed9am'].apply(attr_W9am)\n",
        "data['WindSpeed3pm']=data['WindSpeed3pm'].apply(attr_W3pm)'''\n"
      ],
      "metadata": {
        "colab": {
          "base_uri": "https://localhost:8080/",
          "height": 52
        },
        "id": "SvtcIKc27fJ8",
        "outputId": "a2e8e15e-b01c-46ef-a34d-726fba079b30"
      },
      "execution_count": 15,
      "outputs": [
        {
          "output_type": "execute_result",
          "data": {
            "text/plain": [
              "\"data['Temp9am']=data['Temp9am'].apply(attr_9am)\\ndata['Temp3pm']=data['Temp3pm'].apply(attr_3pm)\\ndata['WindSpeed9am']=data['WindSpeed9am'].apply(attr_W9am)\\ndata['WindSpeed3pm']=data['WindSpeed3pm'].apply(attr_W3pm)\""
            ],
            "application/vnd.google.colaboratory.intrinsic+json": {
              "type": "string"
            }
          },
          "metadata": {},
          "execution_count": 15
        }
      ]
    },
    {
      "cell_type": "code",
      "source": [
        "#data"
      ],
      "metadata": {
        "id": "ndCIjSRr8GcP"
      },
      "execution_count": 16,
      "outputs": []
    },
    {
      "cell_type": "code",
      "source": [
        "def probs(data, child, parent1=None, parent2=None):\n",
        "    if parent1==None:\n",
        "        # Calculate probabilities\n",
        "        prob=pd.crosstab(data[child], 'Empty', margins=False, normalize='columns').sort_index().to_numpy().reshape(-1).tolist()\n",
        "    elif parent1!=None:\n",
        "            # Check if child node has 1 parent or 2 parents\n",
        "            if parent2==None:\n",
        "                # Caclucate probabilities\n",
        "                prob=pd.crosstab(data[parent1],data[child], margins=False, normalize='index').sort_index().to_numpy().reshape(-1).tolist()\n",
        "            else:    \n",
        "                # Caclucate probabilities\n",
        "                prob=pd.crosstab([data[parent1],data[parent2]],data[child], margins=False, normalize='index').sort_index().to_numpy().reshape(-1).tolist()\n",
        "    else: print(\"Error in Probability Frequency Calculations\")\n",
        "    return prob "
      ],
      "metadata": {
        "id": "dMYbssGHAubK"
      },
      "execution_count": 17,
      "outputs": []
    },
    {
      "cell_type": "code",
      "source": [
        "T9am=BbnNode(Variable(0,'T9am',['<=15','15-26','>26']),probs(data,child='Temp9am'))\n",
        "T3pm=BbnNode(Variable(1,'T3pm',['<=24','24-36','>36']),probs(data,child='Temp3pm'))\n",
        "W9am=BbnNode(Variable(2,'W9am',['<16','>=16']),probs(data,child='WindSpeed9am'))\n",
        "W3pm=BbnNode(Variable(3,'W3pm',['<15','>=15']),probs(data,child='WindSpeed3pm'))\n",
        "RT = BbnNode(Variable(4, 'RT', ['No', 'Yes']), probs(data, child='RainTomorrow', parent1='Temp3pm', parent2='WindSpeed3pm'))"
      ],
      "metadata": {
        "id": "khsrWve_BTqF"
      },
      "execution_count": 18,
      "outputs": []
    },
    {
      "cell_type": "code",
      "source": [
        "# Create Network\n",
        "bbn = Bbn() \\\n",
        "    .add_node(T9am) \\\n",
        "    .add_node(T3pm) \\\n",
        "    .add_node(W9am) \\\n",
        "    .add_node(W3pm) \\\n",
        "    .add_node(RT) \\\n",
        "    .add_edge(Edge(T9am, T3pm, EdgeType.DIRECTED)) \\\n",
        "    .add_edge(Edge(T3pm, RT, EdgeType.DIRECTED)) \\\n",
        "    .add_edge(Edge(W9am, W3pm, EdgeType.DIRECTED)) \\\n",
        "    .add_edge(Edge(W3pm, RT, EdgeType.DIRECTED)) \n",
        "\n",
        "# Convert the BBN to a join tree\n",
        "join_tree = InferenceController.apply(bbn)"
      ],
      "metadata": {
        "id": "AMW-mOkZCpEH"
      },
      "execution_count": 19,
      "outputs": []
    },
    {
      "cell_type": "code",
      "source": [
        "join_tree"
      ],
      "metadata": {
        "colab": {
          "base_uri": "https://localhost:8080/"
        },
        "id": "2rdqG3XeGqQX",
        "outputId": "0056cdb1-a8a3-416f-cff2-7247d425c188"
      },
      "execution_count": 20,
      "outputs": [
        {
          "output_type": "execute_result",
          "data": {
            "text/plain": [
              "<pybbn.graph.jointree.JoinTree at 0x7f870fa2bc10>"
            ]
          },
          "metadata": {},
          "execution_count": 20
        }
      ]
    },
    {
      "cell_type": "code",
      "source": [
        "import networkx as nx\n",
        "# Set node positions\n",
        "pos = {0: (-1, 2), 1: (-1, 0.5), 2: (1, 2), 3: (1, 0.5),4:(0,0)}\n",
        "\n",
        "# Set options for graph looks\n",
        "options = {\n",
        "    \"font_size\": 16,\n",
        "    \"node_size\": 4000,\n",
        "    \"node_color\": \"white\",\n",
        "    \"edgecolors\": \"black\",\n",
        "    \"edge_color\": \"red\",\n",
        "    \"linewidths\": 5,\n",
        "    \"width\": 5,}\n",
        "    \n",
        "# Generate graph\n",
        "n, d = bbn.to_nx_graph()\n",
        "nx.draw(n, with_labels=True, labels=d, pos=pos, **options)\n",
        "\n",
        "# Update margins and print the graph\n",
        "ax = plt.gca()\n",
        "ax.margins(0.10)\n",
        "plt.axis(\"off\")\n",
        "plt.show()"
      ],
      "metadata": {
        "colab": {
          "base_uri": "https://localhost:8080/",
          "height": 516
        },
        "id": "CgQryeGNG7AJ",
        "outputId": "128cb697-e332-4057-e76d-1ec50e4d4422"
      },
      "execution_count": 21,
      "outputs": [
        {
          "output_type": "display_data",
          "data": {
            "text/plain": [
              "<Figure size 640x480 with 1 Axes>"
            ],
            "image/png": "[encoded data removed]"
          },
          "metadata": {}
        }
      ]
    },
    {
      "cell_type": "code",
      "source": [
        "# Define a function for printing marginal probabilities\n",
        "def print_probs():\n",
        "    for node in join_tree.get_bbn_nodes():\n",
        "        potential = join_tree.get_bbn_potential(node)\n",
        "        print(\"Node:\", node)\n",
        "        print(\"Values:\")\n",
        "        print(potential)\n",
        "        print('----------------')\n",
        "        \n",
        "# Use the above function to print marginal probabilities\n",
        "print_probs()"
      ],
      "metadata": {
        "colab": {
          "base_uri": "https://localhost:8080/"
        },
        "id": "S0uaIoYHHYRW",
        "outputId": "a1355848-08ff-485c-8f89-6e1fa6e022bc"
      },
      "execution_count": 22,
      "outputs": [
        {
          "output_type": "stream",
          "name": "stdout",
          "text": [
            "Node: 3|W3pm|<15,>=15\n",
            "Values:\n",
            "3=<15|0.43047\n",
            "3=>=15|0.56953\n",
            "----------------\n",
            "Node: 2|W9am|<16,>=16\n",
            "Values:\n",
            "2=<16|0.40212\n",
            "2=>=16|0.59788\n",
            "----------------\n",
            "Node: 1|T3pm|<=24,24-36,>36\n",
            "Values:\n",
            "1=<=24|0.33333\n",
            "1=24-36|0.25000\n",
            "1=>36|0.41667\n",
            "----------------\n",
            "Node: 0|T9am|<=15,15-26,>26\n",
            "Values:\n",
            "0=<=15|0.25000\n",
            "0=15-26|0.25000\n",
            "0=>26|0.50000\n",
            "----------------\n",
            "Node: 4|RT|No,Yes\n",
            "Values:\n",
            "4=No|0.33333\n",
            "4=Yes|0.66667\n",
            "----------------\n"
          ]
        }
      ]
    },
    {
      "cell_type": "code",
      "source": [
        "# To add evidence of events that happened so probability distribution can be recalculated\n",
        "def evidence(ev, nod, cat, val):\n",
        "    ev = EvidenceBuilder() \\\n",
        "    .with_node(join_tree.get_bbn_node_by_name(nod)) \\\n",
        "    .with_evidence(cat, val) \\\n",
        "    .build()\n",
        "    join_tree.set_observation(ev)\n",
        "    \n"
      ],
      "metadata": {
        "id": "TwwveEyzIPEf"
      },
      "execution_count": 23,
      "outputs": []
    },
    {
      "cell_type": "markdown",
      "source": [
        "$\\text{Evidence 1: Time: 9 am, temperature: 30}$"
      ],
      "metadata": {
        "id": "jc1iO__AIZuN"
      }
    },
    {
      "cell_type": "code",
      "source": [
        "# Use above function to add evidence\n",
        "evidence('ev1', 'T9am', '>26', 1.0)\n",
        "\n",
        "# Print marginal probabilities\n",
        "print_probs()"
      ],
      "metadata": {
        "colab": {
          "base_uri": "https://localhost:8080/"
        },
        "id": "MJVyRbNzIxIb",
        "outputId": "63e9e8b8-6418-45bf-d351-b3ab90085dd6"
      },
      "execution_count": 24,
      "outputs": [
        {
          "output_type": "stream",
          "name": "stdout",
          "text": [
            "Node: 3|W3pm|<15,>=15\n",
            "Values:\n",
            "3=<15|0.43047\n",
            "3=>=15|0.56953\n",
            "----------------\n",
            "Node: 2|W9am|<16,>=16\n",
            "Values:\n",
            "2=<16|0.40212\n",
            "2=>=16|0.59788\n",
            "----------------\n",
            "Node: 1|T3pm|<=24,24-36,>36\n",
            "Values:\n",
            "1=<=24|0.33333\n",
            "1=24-36|0.16667\n",
            "1=>36|0.50000\n",
            "----------------\n",
            "Node: 0|T9am|<=15,15-26,>26\n",
            "Values:\n",
            "0=<=15|0.00000\n",
            "0=15-26|0.00000\n",
            "0=>26|1.00000\n",
            "----------------\n",
            "Node: 4|RT|No,Yes\n",
            "Values:\n",
            "4=No|0.33333\n",
            "4=Yes|0.66667\n",
            "----------------\n"
          ]
        }
      ]
    },
    {
      "cell_type": "markdown",
      "source": [
        "• Evidence 2: Time: 9 am, temperature: 10"
      ],
      "metadata": {
        "id": "tUHRogvFJF0S"
      }
    },
    {
      "cell_type": "code",
      "source": [
        "# Use above function to add evidence\n",
        "evidence('ev2', 'T9am', '<=15', 1.0)\n",
        "\n",
        "# Print marginal probabilities\n",
        "print_probs()"
      ],
      "metadata": {
        "colab": {
          "base_uri": "https://localhost:8080/"
        },
        "id": "vGnbV8-kI7Rf",
        "outputId": "ac45be36-e5f0-41d9-9bd0-15798afcd4ea"
      },
      "execution_count": 25,
      "outputs": [
        {
          "output_type": "stream",
          "name": "stdout",
          "text": [
            "Node: 3|W3pm|<15,>=15\n",
            "Values:\n",
            "3=<15|0.43047\n",
            "3=>=15|0.56953\n",
            "----------------\n",
            "Node: 2|W9am|<16,>=16\n",
            "Values:\n",
            "2=<16|0.40212\n",
            "2=>=16|0.59788\n",
            "----------------\n",
            "Node: 1|T3pm|<=24,24-36,>36\n",
            "Values:\n",
            "1=<=24|0.33333\n",
            "1=24-36|0.33333\n",
            "1=>36|0.33333\n",
            "----------------\n",
            "Node: 0|T9am|<=15,15-26,>26\n",
            "Values:\n",
            "0=<=15|1.00000\n",
            "0=15-26|0.00000\n",
            "0=>26|0.00000\n",
            "----------------\n",
            "Node: 4|RT|No,Yes\n",
            "Values:\n",
            "4=No|0.33333\n",
            "4=Yes|0.66667\n",
            "----------------\n"
          ]
        }
      ]
    },
    {
      "cell_type": "markdown",
      "source": [
        "Evidence 3: Time: 3 pm, temperature: 26"
      ],
      "metadata": {
        "id": "2v2O1NxfJRBL"
      }
    },
    {
      "cell_type": "code",
      "source": [
        "# Use above function to add evidence\n",
        "evidence('ev3', 'T3pm', '24-36', 1.0)\n",
        "\n",
        "# Print marginal probabilities\n",
        "print_probs()"
      ],
      "metadata": {
        "colab": {
          "base_uri": "https://localhost:8080/"
        },
        "id": "TLDK-n3XJ3WN",
        "outputId": "7080f064-6a46-4982-81f6-3b6e438c51a3"
      },
      "execution_count": 28,
      "outputs": [
        {
          "output_type": "stream",
          "name": "stdout",
          "text": [
            "Node: 3|W3pm|<15,>=15\n",
            "Values:\n",
            "3=<15|0.43047\n",
            "3=>=15|0.56953\n",
            "----------------\n",
            "Node: 2|W9am|<16,>=16\n",
            "Values:\n",
            "2=<16|0.40212\n",
            "2=>=16|0.59788\n",
            "----------------\n",
            "Node: 1|T3pm|<=24,24-36,>36\n",
            "Values:\n",
            "1=<=24|0.00000\n",
            "1=24-36|1.00000\n",
            "1=>36|0.00000\n",
            "----------------\n",
            "Node: 0|T9am|<=15,15-26,>26\n",
            "Values:\n",
            "0=<=15|1.00000\n",
            "0=15-26|0.00000\n",
            "0=>26|0.00000\n",
            "----------------\n",
            "Node: 4|RT|No,Yes\n",
            "Values:\n",
            "4=No|0.00000\n",
            "4=Yes|1.00000\n",
            "----------------\n"
          ]
        }
      ]
    },
    {
      "cell_type": "markdown",
      "source": [
        "Evidence 4: Time: 3 pm, temperature: 11"
      ],
      "metadata": {
        "id": "GABuLpE-KNNA"
      }
    },
    {
      "cell_type": "code",
      "source": [
        "# Use above function to add evidence\n",
        "evidence('ev4', 'T3pm', '<=24', 1.0)\n",
        "\n",
        "# Print marginal probabilities\n",
        "print_probs()"
      ],
      "metadata": {
        "colab": {
          "base_uri": "https://localhost:8080/"
        },
        "id": "ifdqx02ZKA0z",
        "outputId": "89f4b10a-afac-4128-f188-29a6fbde8bc9"
      },
      "execution_count": 29,
      "outputs": [
        {
          "output_type": "stream",
          "name": "stdout",
          "text": [
            "Node: 3|W3pm|<15,>=15\n",
            "Values:\n",
            "3=<15|0.43047\n",
            "3=>=15|0.56953\n",
            "----------------\n",
            "Node: 2|W9am|<16,>=16\n",
            "Values:\n",
            "2=<16|0.40212\n",
            "2=>=16|0.59788\n",
            "----------------\n",
            "Node: 1|T3pm|<=24,24-36,>36\n",
            "Values:\n",
            "1=<=24|1.00000\n",
            "1=24-36|0.00000\n",
            "1=>36|0.00000\n",
            "----------------\n",
            "Node: 0|T9am|<=15,15-26,>26\n",
            "Values:\n",
            "0=<=15|1.00000\n",
            "0=15-26|0.00000\n",
            "0=>26|0.00000\n",
            "----------------\n",
            "Node: 4|RT|No,Yes\n",
            "Values:\n",
            "4=No|1.00000\n",
            "4=Yes|0.00000\n",
            "----------------\n"
          ]
        }
      ]
    },
    {
      "cell_type": "markdown",
      "source": [
        "Evidence 5: Time: 9 am, Wind speed: 11\n"
      ],
      "metadata": {
        "id": "f7yPhr9BKX5K"
      }
    },
    {
      "cell_type": "code",
      "source": [
        "# Use above function to add evidence\n",
        "evidence('ev5', 'W9am', '<16', 1.0)\n",
        "\n",
        "# Print marginal probabilities\n",
        "print_probs()"
      ],
      "metadata": {
        "colab": {
          "base_uri": "https://localhost:8080/"
        },
        "id": "jbTEJxxGKSpj",
        "outputId": "0cdabe21-1219-4a1f-abe5-246cced0b6b5"
      },
      "execution_count": 30,
      "outputs": [
        {
          "output_type": "stream",
          "name": "stdout",
          "text": [
            "Node: 3|W3pm|<15,>=15\n",
            "Values:\n",
            "3=<15|0.51817\n",
            "3=>=15|0.48183\n",
            "----------------\n",
            "Node: 2|W9am|<16,>=16\n",
            "Values:\n",
            "2=<16|1.00000\n",
            "2=>=16|0.00000\n",
            "----------------\n",
            "Node: 1|T3pm|<=24,24-36,>36\n",
            "Values:\n",
            "1=<=24|1.00000\n",
            "1=24-36|0.00000\n",
            "1=>36|0.00000\n",
            "----------------\n",
            "Node: 0|T9am|<=15,15-26,>26\n",
            "Values:\n",
            "0=<=15|1.00000\n",
            "0=15-26|0.00000\n",
            "0=>26|0.00000\n",
            "----------------\n",
            "Node: 4|RT|No,Yes\n",
            "Values:\n",
            "4=No|1.00000\n",
            "4=Yes|0.00000\n",
            "----------------\n"
          ]
        }
      ]
    },
    {
      "cell_type": "markdown",
      "source": [
        "• Evidence 6: Time: 3 pm, Wind speed: 19"
      ],
      "metadata": {
        "id": "cthAtqZpKjtO"
      }
    },
    {
      "cell_type": "code",
      "source": [
        "# Use above function to add evidence\n",
        "evidence('ev6', 'W3pm', '>=15', 1.0)\n",
        "\n",
        "# Print marginal probabilities\n",
        "print_probs()"
      ],
      "metadata": {
        "colab": {
          "base_uri": "https://localhost:8080/"
        },
        "id": "icgzqVbCKhPz",
        "outputId": "bdf6be9d-6531-4ea8-bfa5-3e4158de61e0"
      },
      "execution_count": 32,
      "outputs": [
        {
          "output_type": "stream",
          "name": "stdout",
          "text": [
            "Node: 3|W3pm|<15,>=15\n",
            "Values:\n",
            "3=<15|0.00000\n",
            "3=>=15|1.00000\n",
            "----------------\n",
            "Node: 2|W9am|<16,>=16\n",
            "Values:\n",
            "2=<16|1.00000\n",
            "2=>=16|0.00000\n",
            "----------------\n",
            "Node: 1|T3pm|<=24,24-36,>36\n",
            "Values:\n",
            "1=<=24|1.00000\n",
            "1=24-36|0.00000\n",
            "1=>36|0.00000\n",
            "----------------\n",
            "Node: 0|T9am|<=15,15-26,>26\n",
            "Values:\n",
            "0=<=15|1.00000\n",
            "0=15-26|0.00000\n",
            "0=>26|0.00000\n",
            "----------------\n",
            "Node: 4|RT|No,Yes\n",
            "Values:\n",
            "4=No|1.00000\n",
            "4=Yes|0.00000\n",
            "----------------\n"
          ]
        }
      ]
    },
    {
      "cell_type": "code",
      "source": [],
      "metadata": {
        "id": "GZCxpHRWKso6"
      },
      "execution_count": null,
      "outputs": []
    }
  ]
}