{
  "nbformat": 4,
  "nbformat_minor": 0,
  "metadata": {
    "colab": {
      "provenance": []
    },
    "kernelspec": {
      "name": "python3",
      "display_name": "Python 3"
    },
    "language_info": {
      "name": "python"
    }
  },
  "cells": [
    {
      "cell_type": "code",
      "execution_count": 20,
      "metadata": {
        "id": "cMyqvwnnjG9i"
      },
      "outputs": [],
      "source": [
        "import numpy as np\n",
        "import pandas as pd\n",
        "import matplotlib.pyplot as plt"
      ]
    },
    {
      "cell_type": "code",
      "source": [
        "import numpy as np\n",
        "from scipy.stats import multivariate_normal\n",
        "seed=34\n",
        "def expectation_step(X, pi, mu, cov):\n",
        "    N, D = X.shape\n",
        "    K = len(pi)\n",
        "    resp = np.zeros((N, K))\n",
        "\n",
        "    for k in range(K):\n",
        "        resp[:, k] = pi[k] * multivariate_normal.pdf(X, mean=mu[k], cov=cov[k])\n",
        "\n",
        "    # Normalize the responsibilities\n",
        "    resp_sum = np.sum(resp, axis=1)\n",
        "    for k in range(K):\n",
        "        resp[:, k] /= resp_sum\n",
        "\n",
        "    return resp\n",
        "\n",
        "def maximization_step(X, resp):\n",
        "    N, D = X.shape\n",
        "    K = resp.shape[1]\n",
        "\n",
        "    # Update pi\n",
        "    pi = np.sum(resp, axis=0) / N\n",
        "\n",
        "    # Update mu\n",
        "    mu = np.zeros((K, D))\n",
        "    for k in range(K):\n",
        "        mu[k] = np.sum(resp[:, k].reshape(-1, 1) * X, axis=0) / np.sum(resp[:, k])\n",
        "\n",
        "    # Update covariance\n",
        "    cov = np.zeros((K, D, D))\n",
        "    for k in range(K):\n",
        "        diff = X - mu[k]\n",
        "        cov[k] = np.dot(resp[:, k] * diff.T, diff) / np.sum(resp[:, k])\n",
        "\n",
        "    return pi, mu, cov\n",
        "\n",
        "def EM(X, K, max_iter=100):\n",
        "    N, D = X.shape\n",
        "    np.random.seed(seed)\n",
        "\n",
        "    # Initialize the parameters\n",
        "    pi = np.ones(K) / K\n",
        "    mu = np.random.randn(K, D)\n",
        "    cov = np.array([np.eye(D) for _ in range(K)])\n",
        "\n",
        "    # Run EM algorithm\n",
        "    for i in range(max_iter):\n",
        "        resp = expectation_step(X, pi, mu, cov)\n",
        "        pi, mu, cov = maximization_step(X, resp)\n",
        "\n",
        "    return pi, mu, cov"
      ],
      "metadata": {
        "id": "8oXoiEwhj4ZX"
      },
      "execution_count": 21,
      "outputs": []
    },
    {
      "cell_type": "code",
      "source": [
        "from sklearn.datasets import fetch_california_housing\n",
        "\n",
        "california_housing = fetch_california_housing(as_frame=True)"
      ],
      "metadata": {
        "id": "QTlENhDZkyiC"
      },
      "execution_count": 22,
      "outputs": []
    },
    {
      "cell_type": "code",
      "source": [
        "data=california_housing.frame\n",
        "data.isna().sum()"
      ],
      "metadata": {
        "colab": {
          "base_uri": "https://localhost:8080/"
        },
        "id": "88NIfzTdkzvQ",
        "outputId": "4ba42d0e-deca-4be5-decd-8d48452f2fd1"
      },
      "execution_count": 23,
      "outputs": [
        {
          "output_type": "execute_result",
          "data": {
            "text/plain": [
              "MedInc         0\n",
              "HouseAge       0\n",
              "AveRooms       0\n",
              "AveBedrms      0\n",
              "Population     0\n",
              "AveOccup       0\n",
              "Latitude       0\n",
              "Longitude      0\n",
              "MedHouseVal    0\n",
              "dtype: int64"
            ]
          },
          "metadata": {},
          "execution_count": 23
        }
      ]
    },
    {
      "cell_type": "code",
      "source": [
        "from sklearn.decomposition import PCA\n",
        "from sklearn.preprocessing import StandardScaler\n",
        "\n",
        "pca = PCA(n_components=2)\n",
        "data_red=pca.fit_transform(data)\n",
        "scalar=StandardScaler()\n",
        "data_rem=scalar.fit_transform(data_red)\n"
      ],
      "metadata": {
        "id": "m3Tx8f5Tk2wp"
      },
      "execution_count": 24,
      "outputs": []
    },
    {
      "cell_type": "code",
      "source": [
        "df=pd.DataFrame(data_rem)"
      ],
      "metadata": {
        "id": "VETHwmOxlqTA"
      },
      "execution_count": 25,
      "outputs": []
    },
    {
      "cell_type": "code",
      "source": [
        "def predict_clusters(data, pi, mu, sigma):\n",
        "    posterior_probs = np.zeros((data.shape[0], pi.shape[0]))\n",
        "    for k in range(pi.shape[0]):\n",
        "        posterior_probs[:, k] = pi[k] * multivariate_normal.pdf(data, mean=mu[k], cov=sigma[k])\n",
        "\n",
        "    # assign each data point to the cluster with the highest posterior probability\n",
        "    cluster_labels = np.argmax(posterior_probs, axis=1)\n",
        "\n",
        "    return cluster_labels\n"
      ],
      "metadata": {
        "id": "knwIfq3PnPso"
      },
      "execution_count": 26,
      "outputs": []
    },
    {
      "cell_type": "code",
      "source": [
        "from sklearn.metrics import silhouette_score\n",
        "score=[]"
      ],
      "metadata": {
        "id": "FuaWxW7HyxwQ"
      },
      "execution_count": 27,
      "outputs": []
    },
    {
      "cell_type": "code",
      "source": [
        "k_values=[2,3,4]"
      ],
      "metadata": {
        "id": "_pkFdR88zuHd"
      },
      "execution_count": 28,
      "outputs": []
    },
    {
      "cell_type": "code",
      "source": [
        "k=2\n",
        "\n",
        "print('\\n when k is :',k)\n",
        "pi,mu,var=EM(df, k, max_iter=300)\n",
        "print('mu values are:',mu)\n",
        "print('var is :',var)\n",
        "print('pi is ',pi)\n",
        "print('*****************************\\n')\n",
        "prediction_k2=predict_clusters(df,pi,mu,var)\n",
        "sc=silhouette_score(df,prediction_k2)\n",
        "print('silhietter score is:',sc)\n",
        "score.append(sc)\n"
      ],
      "metadata": {
        "colab": {
          "base_uri": "https://localhost:8080/"
        },
        "id": "L2B57i1OuDfI",
        "outputId": "d769aae7-c449-4129-9c39-6f2863fd47ad"
      },
      "execution_count": 29,
      "outputs": [
        {
          "output_type": "stream",
          "name": "stdout",
          "text": [
            "\n",
            " when k is : 2\n",
            "mu values are: [[ 1.3509222  -0.32226596]\n",
            " [-0.25997239  0.06201708]]\n",
            "var is : [[[ 2.86213956  0.63154218]\n",
            "  [ 0.63154218  0.91148599]]\n",
            "\n",
            " [[ 0.22286048 -0.02163143]\n",
            "  [-0.02163143  0.99320158]]]\n",
            "pi is  [0.16138386 0.83861614]\n",
            "*****************************\n",
            "\n",
            "silhietter score is: 0.4554871950955174\n"
          ]
        }
      ]
    },
    {
      "cell_type": "code",
      "source": [
        "plt.scatter(df[0],df[1],c=prediction_k2)\n",
        "plt.show()"
      ],
      "metadata": {
        "colab": {
          "base_uri": "https://localhost:8080/",
          "height": 430
        },
        "id": "BMZJHfSIxAmN",
        "outputId": "49744cd0-13d0-4b7f-c1d1-271090974d7c"
      },
      "execution_count": 30,
      "outputs": [
        {
          "output_type": "display_data",
          "data": {
            "text/plain": [
              "<Figure size 640x480 with 1 Axes>"
            ],
            "image/png": "[encoded data removed]"
          },
          "metadata": {}
        }
      ]
    },
    {
      "cell_type": "code",
      "source": [
        "k=3\n",
        "\n",
        "print('\\n when k is :',k)\n",
        "pi,mu,var=EM(df, k, max_iter=300)\n",
        "print('mu values are:',mu)\n",
        "print('var is :',var)\n",
        "print('pi is ',pi)\n",
        "print('*****************************\\n')\n",
        "prediction_k3=predict_clusters(df,pi,mu,var)\n",
        "sc=silhouette_score(df,prediction_k3)\n",
        "print('silhietter score is:',sc)\n",
        "score.append(sc)"
      ],
      "metadata": {
        "colab": {
          "base_uri": "https://localhost:8080/"
        },
        "id": "oFtBMspqxqWk",
        "outputId": "aebf78e5-f668-4ce1-f762-9751e04f4987"
      },
      "execution_count": 31,
      "outputs": [
        {
          "output_type": "stream",
          "name": "stdout",
          "text": [
            "\n",
            " when k is : 3\n",
            "mu values are: [[ 2.79823258 -0.14675612]\n",
            " [-0.38572153  0.29706907]\n",
            " [ 0.3543804  -0.53526321]]\n",
            "var is : [[[5.58928336 1.2600577 ]\n",
            "  [1.2600577  1.3099315 ]]\n",
            "\n",
            " [[0.13989523 0.0170256 ]\n",
            "  [0.0170256  0.88030335]]\n",
            "\n",
            " [[0.57975437 0.26081827]\n",
            "  [0.26081827 0.72888665]]]\n",
            "pi is  [0.04358447 0.62274448 0.33367105]\n",
            "*****************************\n",
            "\n",
            "silhietter score is: 0.29696955685730814\n"
          ]
        }
      ]
    },
    {
      "cell_type": "code",
      "source": [
        "plt.scatter(df[0],df[1],c=prediction_k3)"
      ],
      "metadata": {
        "colab": {
          "base_uri": "https://localhost:8080/",
          "height": 447
        },
        "id": "lICETX3Pxtmv",
        "outputId": "dafda7aa-c136-459d-9cf7-eeb5b2e2eaf8"
      },
      "execution_count": 32,
      "outputs": [
        {
          "output_type": "execute_result",
          "data": {
            "text/plain": [
              "<matplotlib.collections.PathCollection at 0x7fcbae6e4520>"
            ]
          },
          "metadata": {},
          "execution_count": 32
        },
        {
          "output_type": "display_data",
          "data": {
            "text/plain": [
              "<Figure size 640x480 with 1 Axes>"
            ],
            "image/png": "[encoded data removed]"
          },
          "metadata": {}
        }
      ]
    },
    {
      "cell_type": "code",
      "source": [
        "k=4\n",
        "\n",
        "print('\\n when k is :',k)\n",
        "pi,mu,var=EM(df, k, max_iter=300)\n",
        "print('mu values are:',mu)\n",
        "print('var is :',var)\n",
        "print('pi is ',pi)\n",
        "print('*****************************\\n')\n",
        "prediction_k4=predict_clusters(df,pi,mu,var)\n",
        "sc=silhouette_score(df,prediction_k4)\n",
        "print('silhietter score is:',sc)\n",
        "score.append(sc)"
      ],
      "metadata": {
        "colab": {
          "base_uri": "https://localhost:8080/"
        },
        "id": "Pw_1HKVsx-kP",
        "outputId": "de147fa5-627b-4f6b-f17a-d00f86a40bc2"
      },
      "execution_count": 33,
      "outputs": [
        {
          "output_type": "stream",
          "name": "stdout",
          "text": [
            "\n",
            " when k is : 4\n",
            "mu values are: [[ 0.73891838  0.00976234]\n",
            " [-0.4004545   0.57514857]\n",
            " [-0.22524672 -1.03980949]\n",
            " [ 3.48700343  0.15892193]]\n",
            "var is : [[[ 6.66347534e-01 -1.27522893e-01]\n",
            "  [-1.27522893e-01  7.24507576e-01]]\n",
            "\n",
            " [[ 1.28350337e-01  1.06455002e-03]\n",
            "  [ 1.06455002e-03  5.40734036e-01]]\n",
            "\n",
            " [[ 2.48286440e-01  7.93397220e-02]\n",
            "  [ 7.93397220e-02  3.05040552e-01]]\n",
            "\n",
            " [[ 7.03521434e+00  1.35523548e+00]\n",
            "  [ 1.35523548e+00  1.59278800e+00]]]\n",
            "pi is  [0.21797779 0.48228524 0.27291219 0.02682477]\n",
            "*****************************\n",
            "\n",
            "silhietter score is: 0.39881623166791763\n"
          ]
        }
      ]
    },
    {
      "cell_type": "code",
      "source": [
        "plt.scatter(df[0],df[1],c=prediction_k4)\n",
        "\n",
        "plt.show()"
      ],
      "metadata": {
        "colab": {
          "base_uri": "https://localhost:8080/",
          "height": 430
        },
        "id": "XtWff8xFyQjt",
        "outputId": "88d33f63-d934-4e92-e0fc-812029aa27eb"
      },
      "execution_count": 34,
      "outputs": [
        {
          "output_type": "display_data",
          "data": {
            "text/plain": [
              "<Figure size 640x480 with 1 Axes>"
            ],
            "image/png": "[encoded data removed]"
          },
          "metadata": {}
        }
      ]
    },
    {
      "cell_type": "code",
      "source": [
        "for i in range(len(k_values)):\n",
        "  print('when k is ',k_values[i],'score is :',score[i])\n"
      ],
      "metadata": {
        "colab": {
          "base_uri": "https://localhost:8080/"
        },
        "id": "y71_kilpuM6O",
        "outputId": "fe06dd19-ae78-4d27-a08f-f4f48a8e2733"
      },
      "execution_count": 35,
      "outputs": [
        {
          "output_type": "stream",
          "name": "stdout",
          "text": [
            "when k is  2 score is : 0.4554871950955174\n",
            "when k is  3 score is : 0.29696955685730814\n",
            "when k is  4 score is : 0.39881623166791763\n"
          ]
        }
      ]
    },
    {
      "cell_type": "code",
      "source": [],
      "metadata": {
        "id": "3m2Klb58vH1r"
      },
      "execution_count": 35,
      "outputs": []
    }
  ]
}