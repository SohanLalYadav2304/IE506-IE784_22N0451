{
  "nbformat": 4,
  "nbformat_minor": 0,
  "metadata": {
    "colab": {
      "provenance": []
    },
    "kernelspec": {
      "name": "python3",
      "display_name": "Python 3"
    },
    "language_info": {
      "name": "python"
    }
  },
  "cells": [
    {
      "cell_type": "code",
      "execution_count": 2,
      "metadata": {
        "id": "vNFrd1iZ1vyI"
      },
      "outputs": [],
      "source": [
        "import pandas as pd\n",
        "import numpy as np\n",
        "import matplotlib.pyplot as plt"
      ]
    },
    {
      "cell_type": "code",
      "source": [
        "!pip install -q pyomo"
      ],
      "metadata": {
        "id": "0rCSOpwu10Mp",
        "colab": {
          "base_uri": "https://localhost:8080/"
        },
        "outputId": "2c663edd-e910-4fa1-b4f0-0f0fbc2a6e9b"
      },
      "execution_count": 3,
      "outputs": [
        {
          "output_type": "stream",
          "name": "stdout",
          "text": [
            "\u001b[K     |████████████████████████████████| 9.7 MB 5.2 MB/s \n",
            "\u001b[K     |████████████████████████████████| 49 kB 5.9 MB/s \n",
            "\u001b[?25h"
          ]
        }
      ]
    },
    {
      "cell_type": "code",
      "source": [
        "from pyomo.environ import *"
      ],
      "metadata": {
        "id": "sYHDLAgP120L"
      },
      "execution_count": 4,
      "outputs": []
    },
    {
      "cell_type": "markdown",
      "source": [
        "## Ques1:[R] Fix p = 1. Write a linear optimization problem using the objective provided in the description. You may assume that a0 ≥ 0 and a1, a2 do not have bounds on them.\n",
        "## Answer:\n",
        "Let's assume a linear model of the form $R = a_0 + a_1T + a_2D $  \\\\\n",
        "Where T = the daily average view-time per view: Total view time / total number of view \\\\\n",
        "and D= the daily average number of\n",
        "unskipped ads per view: Total unskipped ads/ total number of views \\\\\n",
        "\n",
        "Since to obtain value of $a_0,a_1,a_2 $ we use least square method.By minimizing the difference  of forcasted revenue and actual revenue.\n",
        "So let$ Q_i=R_i-\\overline{R_i}$ ∀ i=1,2,3,⋯,6 \\\\\n",
        "where $\\overline{R_i}=a_0+a_1T_i+a_2D_i $\n",
        "\n",
        "So we are minimize $\\sum_{i=1}^6|Q_i|^p  $ for any P$ \\geq 1$ \\\\\n",
        "  ie. minimize $\\sum_{i=1}^6|R_i-\\overline{R_i}|^p $ \\\\\n",
        "  ie. minimize $\\sum_{i=1}^6|R_i-a_0-a_1T_i-a_2D_i|^p $ \\\\\n",
        "\n",
        "Where$ T_i $ : the daily average view-time per view: Total view time / total number of view for ith video \\\\\n",
        "And $D_i$ : the daily average number of\n",
        "unskipped ads per view for ith video\n",
        "\n"
      ],
      "metadata": {
        "id": "g8hW1rYZ_c3l"
      }
    },
    {
      "cell_type": "markdown",
      "source": [
        "## for p=1:\n",
        "for p=1 we have tha following non linear problem to minimize:\n",
        "\n",
        "$\\sum_{i=1}^6|R_i-a_0-a_1T_i-a_2D_i|$ \\\\\n",
        "\n",
        "we are to convert this non linear problem to linear optimization problem.To get linear problem let's assume $R_i-a_0-a_1T_i-a_2D_i=y_i$ ∀ i=1,2,3⋯6 ---------(1) \n",
        "\n",
        "Since we know that each $y_i$ is a real number and we know that each real number can be written as difference of two non negative real numbers such that:\n",
        "$y_i=y_{i1}-y_{i2} $ where $y_{i1},y_{i2}\\geq0 $ --------------(2) \\\n",
        " defined as follows: \\\\\n",
        "$y_{i1}=y_i \\ if \\ y_i >0 \\ and \\ y_{i1}=0 \\ if \\ y_i \\leq0     $ and \n",
        "\n",
        "$y_{i2}=0 \\ if \\ y_i >0 \\ and \\ y_{i2}=-y_{i} \\ if \\ y_i \\leq0     $\n",
        "\n",
        "So $ \\ \\ \\ \\ \\ \\ |y_i|=|y_{i1}-y_{i2}| \\\\ ⇒ \\ |y_i|= y_{i1}+y_{i2} $---------(3)\n",
        "\n",
        "SO after using equation (1),(2)and (3) our objective function is:\n",
        "\n",
        "min  $\\sum_{i=1}^6|R_i-a_0-a_1T_i-a_2D_i|$ \\\\\n",
        "⇒min $\\sum_{i=1}^6|y_i|$ \\\\\n",
        "⇒min  $\\sum_{i=1}^6|y_{i1}-y_{i2}|$ \\\\\n",
        "⇒ min $\\sum_{i=1}^6y_{i1}+y_{i2}$ \\\\\n",
        "\n",
        "So our linear objective function is:\n",
        "\n",
        " min $\\sum_{i=1}^6y_{i1}+y_{i2}$ \n",
        "\n",
        " By equation (1) and (3) we get:\n",
        "\n",
        "$ y_{i1}-y_{i2} = R_i-a_0-a_1T_i-a_2D_i $ ∀ i=1,2,⋯,6\n",
        "\n",
        "$y_{ij}\\geq 0 ∀i ∈ \\{1,2,3,4,5,6\\} \\ \\text{and} \\ j∈\\{1,2\\} $\n",
        "\n",
        "Given that $a_0 \\geq0$ and $a_1,a_2 ∈ \\mathbf{R}$\n"
      ],
      "metadata": {
        "id": "UzCuOrEPH1iT"
      }
    },
    {
      "cell_type": "code",
      "source": [
        "df= pd.read_csv('22n0451_IE507_lab8_Ex2.csv')"
      ],
      "metadata": {
        "id": "UwsmKwk015_R"
      },
      "execution_count": 6,
      "outputs": []
    },
    {
      "cell_type": "code",
      "source": [
        "df"
      ],
      "metadata": {
        "colab": {
          "base_uri": "https://localhost:8080/",
          "height": 237
        },
        "id": "o9VMFh372DCz",
        "outputId": "a243cf6e-d36c-4560-8fcf-1bdaa2c1bc95"
      },
      "execution_count": 7,
      "outputs": [
        {
          "output_type": "execute_result",
          "data": {
            "text/plain": [
              "   i    Ri    Vi     Bi   Ai\n",
              "0  1   175   945   2800   23\n",
              "1  2   450   832   3900   40\n",
              "2  3  1050  2007  24900   78\n",
              "3  4   900   800  36450   64\n",
              "4  5    19   780    366    4\n",
              "5  6  3550  5005  38500  150"
            ],
            "text/html": [
              "\n",
              "  <div id=\"df-984c4214-8125-4117-9a87-642ec8b318bb\">\n",
              "    <div class=\"colab-df-container\">\n",
              "      <div>\n",
              "<style scoped>\n",
              "    .dataframe tbody tr th:only-of-type {\n",
              "        vertical-align: middle;\n",
              "    }\n",
              "\n",
              "    .dataframe tbody tr th {\n",
              "        vertical-align: top;\n",
              "    }\n",
              "\n",
              "    .dataframe thead th {\n",
              "        text-align: right;\n",
              "    }\n",
              "</style>\n",
              "<table border=\"1\" class=\"dataframe\">\n",
              "  <thead>\n",
              "    <tr style=\"text-align: right;\">\n",
              "      <th></th>\n",
              "      <th>i</th>\n",
              "      <th>Ri</th>\n",
              "      <th>Vi</th>\n",
              "      <th>Bi</th>\n",
              "      <th>Ai</th>\n",
              "    </tr>\n",
              "  </thead>\n",
              "  <tbody>\n",
              "    <tr>\n",
              "      <th>0</th>\n",
              "      <td>1</td>\n",
              "      <td>175</td>\n",
              "      <td>945</td>\n",
              "      <td>2800</td>\n",
              "      <td>23</td>\n",
              "    </tr>\n",
              "    <tr>\n",
              "      <th>1</th>\n",
              "      <td>2</td>\n",
              "      <td>450</td>\n",
              "      <td>832</td>\n",
              "      <td>3900</td>\n",
              "      <td>40</td>\n",
              "    </tr>\n",
              "    <tr>\n",
              "      <th>2</th>\n",
              "      <td>3</td>\n",
              "      <td>1050</td>\n",
              "      <td>2007</td>\n",
              "      <td>24900</td>\n",
              "      <td>78</td>\n",
              "    </tr>\n",
              "    <tr>\n",
              "      <th>3</th>\n",
              "      <td>4</td>\n",
              "      <td>900</td>\n",
              "      <td>800</td>\n",
              "      <td>36450</td>\n",
              "      <td>64</td>\n",
              "    </tr>\n",
              "    <tr>\n",
              "      <th>4</th>\n",
              "      <td>5</td>\n",
              "      <td>19</td>\n",
              "      <td>780</td>\n",
              "      <td>366</td>\n",
              "      <td>4</td>\n",
              "    </tr>\n",
              "    <tr>\n",
              "      <th>5</th>\n",
              "      <td>6</td>\n",
              "      <td>3550</td>\n",
              "      <td>5005</td>\n",
              "      <td>38500</td>\n",
              "      <td>150</td>\n",
              "    </tr>\n",
              "  </tbody>\n",
              "</table>\n",
              "</div>\n",
              "      <button class=\"colab-df-convert\" onclick=\"convertToInteractive('df-984c4214-8125-4117-9a87-642ec8b318bb')\"\n",
              "              title=\"Convert this dataframe to an interactive table.\"\n",
              "              style=\"display:none;\">\n",
              "        \n",
              "  <svg xmlns=\"http://www.w3.org/2000/svg\" height=\"24px\"viewBox=\"0 0 24 24\"\n",
              "       width=\"24px\">\n",
              "    <path d=\"M0 0h24v24H0V0z\" fill=\"none\"/>\n",
              "    <path d=\"M18.56 5.44l.94 2.06.94-2.06 2.06-.94-2.06-.94-.94-2.06-.94 2.06-2.06.94zm-11 1L8.5 8.5l.94-2.06 2.06-.94-2.06-.94L8.5 2.5l-.94 2.06-2.06.94zm10 10l.94 2.06.94-2.06 2.06-.94-2.06-.94-.94-2.06-.94 2.06-2.06.94z\"/><path d=\"M17.41 7.96l-1.37-1.37c-.4-.4-.92-.59-1.43-.59-.52 0-1.04.2-1.43.59L10.3 9.45l-7.72 7.72c-.78.78-.78 2.05 0 2.83L4 21.41c.39.39.9.59 1.41.59.51 0 1.02-.2 1.41-.59l7.78-7.78 2.81-2.81c.8-.78.8-2.07 0-2.86zM5.41 20L4 18.59l7.72-7.72 1.47 1.35L5.41 20z\"/>\n",
              "  </svg>\n",
              "      </button>\n",
              "      \n",
              "  <style>\n",
              "    .colab-df-container {\n",
              "      display:flex;\n",
              "      flex-wrap:wrap;\n",
              "      gap: 12px;\n",
              "    }\n",
              "\n",
              "    .colab-df-convert {\n",
              "      background-color: #E8F0FE;\n",
              "      border: none;\n",
              "      border-radius: 50%;\n",
              "      cursor: pointer;\n",
              "      display: none;\n",
              "      fill: #1967D2;\n",
              "      height: 32px;\n",
              "      padding: 0 0 0 0;\n",
              "      width: 32px;\n",
              "    }\n",
              "\n",
              "    .colab-df-convert:hover {\n",
              "      background-color: #E2EBFA;\n",
              "      box-shadow: 0px 1px 2px rgba(60, 64, 67, 0.3), 0px 1px 3px 1px rgba(60, 64, 67, 0.15);\n",
              "      fill: #174EA6;\n",
              "    }\n",
              "\n",
              "    [theme=dark] .colab-df-convert {\n",
              "      background-color: #3B4455;\n",
              "      fill: #D2E3FC;\n",
              "    }\n",
              "\n",
              "    [theme=dark] .colab-df-convert:hover {\n",
              "      background-color: #434B5C;\n",
              "      box-shadow: 0px 1px 3px 1px rgba(0, 0, 0, 0.15);\n",
              "      filter: drop-shadow(0px 1px 2px rgba(0, 0, 0, 0.3));\n",
              "      fill: #FFFFFF;\n",
              "    }\n",
              "  </style>\n",
              "\n",
              "      <script>\n",
              "        const buttonEl =\n",
              "          document.querySelector('#df-984c4214-8125-4117-9a87-642ec8b318bb button.colab-df-convert');\n",
              "        buttonEl.style.display =\n",
              "          google.colab.kernel.accessAllowed ? 'block' : 'none';\n",
              "\n",
              "        async function convertToInteractive(key) {\n",
              "          const element = document.querySelector('#df-984c4214-8125-4117-9a87-642ec8b318bb');\n",
              "          const dataTable =\n",
              "            await google.colab.kernel.invokeFunction('convertToInteractive',\n",
              "                                                     [key], {});\n",
              "          if (!dataTable) return;\n",
              "\n",
              "          const docLinkHtml = 'Like what you see? Visit the ' +\n",
              "            '<a target=\"_blank\" href=https://colab.research.google.com/notebooks/data_table.ipynb>data table notebook</a>'\n",
              "            + ' to learn more about interactive tables.';\n",
              "          element.innerHTML = '';\n",
              "          dataTable['output_type'] = 'display_data';\n",
              "          await google.colab.output.renderOutput(dataTable, element);\n",
              "          const docLink = document.createElement('div');\n",
              "          docLink.innerHTML = docLinkHtml;\n",
              "          element.appendChild(docLink);\n",
              "        }\n",
              "      </script>\n",
              "    </div>\n",
              "  </div>\n",
              "  "
            ]
          },
          "metadata": {},
          "execution_count": 7
        }
      ]
    },
    {
      "cell_type": "code",
      "source": [
        "df['Averageview']=df['Bi']/df['Vi']"
      ],
      "metadata": {
        "id": "4J-e4dfY7hAs"
      },
      "execution_count": 8,
      "outputs": []
    },
    {
      "cell_type": "code",
      "source": [
        "df['Averageskipads']=df['Ai']/df['Vi']"
      ],
      "metadata": {
        "id": "wVqUOf5g7ugB"
      },
      "execution_count": 9,
      "outputs": []
    },
    {
      "cell_type": "code",
      "source": [
        "df"
      ],
      "metadata": {
        "colab": {
          "base_uri": "https://localhost:8080/",
          "height": 237
        },
        "id": "dIZlubA571KD",
        "outputId": "8ad6825c-6aab-422c-8dfe-79c6bf4f39ea"
      },
      "execution_count": 10,
      "outputs": [
        {
          "output_type": "execute_result",
          "data": {
            "text/plain": [
              "   i    Ri    Vi     Bi   Ai  Averageview  Averageskipads\n",
              "0  1   175   945   2800   23     2.962963        0.024339\n",
              "1  2   450   832   3900   40     4.687500        0.048077\n",
              "2  3  1050  2007  24900   78    12.406577        0.038864\n",
              "3  4   900   800  36450   64    45.562500        0.080000\n",
              "4  5    19   780    366    4     0.469231        0.005128\n",
              "5  6  3550  5005  38500  150     7.692308        0.029970"
            ],
            "text/html": [
              "\n",
              "  <div id=\"df-5bc20031-15b8-48b3-9fab-8289f68fbfa8\">\n",
              "    <div class=\"colab-df-container\">\n",
              "      <div>\n",
              "<style scoped>\n",
              "    .dataframe tbody tr th:only-of-type {\n",
              "        vertical-align: middle;\n",
              "    }\n",
              "\n",
              "    .dataframe tbody tr th {\n",
              "        vertical-align: top;\n",
              "    }\n",
              "\n",
              "    .dataframe thead th {\n",
              "        text-align: right;\n",
              "    }\n",
              "</style>\n",
              "<table border=\"1\" class=\"dataframe\">\n",
              "  <thead>\n",
              "    <tr style=\"text-align: right;\">\n",
              "      <th></th>\n",
              "      <th>i</th>\n",
              "      <th>Ri</th>\n",
              "      <th>Vi</th>\n",
              "      <th>Bi</th>\n",
              "      <th>Ai</th>\n",
              "      <th>Averageview</th>\n",
              "      <th>Averageskipads</th>\n",
              "    </tr>\n",
              "  </thead>\n",
              "  <tbody>\n",
              "    <tr>\n",
              "      <th>0</th>\n",
              "      <td>1</td>\n",
              "      <td>175</td>\n",
              "      <td>945</td>\n",
              "      <td>2800</td>\n",
              "      <td>23</td>\n",
              "      <td>2.962963</td>\n",
              "      <td>0.024339</td>\n",
              "    </tr>\n",
              "    <tr>\n",
              "      <th>1</th>\n",
              "      <td>2</td>\n",
              "      <td>450</td>\n",
              "      <td>832</td>\n",
              "      <td>3900</td>\n",
              "      <td>40</td>\n",
              "      <td>4.687500</td>\n",
              "      <td>0.048077</td>\n",
              "    </tr>\n",
              "    <tr>\n",
              "      <th>2</th>\n",
              "      <td>3</td>\n",
              "      <td>1050</td>\n",
              "      <td>2007</td>\n",
              "      <td>24900</td>\n",
              "      <td>78</td>\n",
              "      <td>12.406577</td>\n",
              "      <td>0.038864</td>\n",
              "    </tr>\n",
              "    <tr>\n",
              "      <th>3</th>\n",
              "      <td>4</td>\n",
              "      <td>900</td>\n",
              "      <td>800</td>\n",
              "      <td>36450</td>\n",
              "      <td>64</td>\n",
              "      <td>45.562500</td>\n",
              "      <td>0.080000</td>\n",
              "    </tr>\n",
              "    <tr>\n",
              "      <th>4</th>\n",
              "      <td>5</td>\n",
              "      <td>19</td>\n",
              "      <td>780</td>\n",
              "      <td>366</td>\n",
              "      <td>4</td>\n",
              "      <td>0.469231</td>\n",
              "      <td>0.005128</td>\n",
              "    </tr>\n",
              "    <tr>\n",
              "      <th>5</th>\n",
              "      <td>6</td>\n",
              "      <td>3550</td>\n",
              "      <td>5005</td>\n",
              "      <td>38500</td>\n",
              "      <td>150</td>\n",
              "      <td>7.692308</td>\n",
              "      <td>0.029970</td>\n",
              "    </tr>\n",
              "  </tbody>\n",
              "</table>\n",
              "</div>\n",
              "      <button class=\"colab-df-convert\" onclick=\"convertToInteractive('df-5bc20031-15b8-48b3-9fab-8289f68fbfa8')\"\n",
              "              title=\"Convert this dataframe to an interactive table.\"\n",
              "              style=\"display:none;\">\n",
              "        \n",
              "  <svg xmlns=\"http://www.w3.org/2000/svg\" height=\"24px\"viewBox=\"0 0 24 24\"\n",
              "       width=\"24px\">\n",
              "    <path d=\"M0 0h24v24H0V0z\" fill=\"none\"/>\n",
              "    <path d=\"M18.56 5.44l.94 2.06.94-2.06 2.06-.94-2.06-.94-.94-2.06-.94 2.06-2.06.94zm-11 1L8.5 8.5l.94-2.06 2.06-.94-2.06-.94L8.5 2.5l-.94 2.06-2.06.94zm10 10l.94 2.06.94-2.06 2.06-.94-2.06-.94-.94-2.06-.94 2.06-2.06.94z\"/><path d=\"M17.41 7.96l-1.37-1.37c-.4-.4-.92-.59-1.43-.59-.52 0-1.04.2-1.43.59L10.3 9.45l-7.72 7.72c-.78.78-.78 2.05 0 2.83L4 21.41c.39.39.9.59 1.41.59.51 0 1.02-.2 1.41-.59l7.78-7.78 2.81-2.81c.8-.78.8-2.07 0-2.86zM5.41 20L4 18.59l7.72-7.72 1.47 1.35L5.41 20z\"/>\n",
              "  </svg>\n",
              "      </button>\n",
              "      \n",
              "  <style>\n",
              "    .colab-df-container {\n",
              "      display:flex;\n",
              "      flex-wrap:wrap;\n",
              "      gap: 12px;\n",
              "    }\n",
              "\n",
              "    .colab-df-convert {\n",
              "      background-color: #E8F0FE;\n",
              "      border: none;\n",
              "      border-radius: 50%;\n",
              "      cursor: pointer;\n",
              "      display: none;\n",
              "      fill: #1967D2;\n",
              "      height: 32px;\n",
              "      padding: 0 0 0 0;\n",
              "      width: 32px;\n",
              "    }\n",
              "\n",
              "    .colab-df-convert:hover {\n",
              "      background-color: #E2EBFA;\n",
              "      box-shadow: 0px 1px 2px rgba(60, 64, 67, 0.3), 0px 1px 3px 1px rgba(60, 64, 67, 0.15);\n",
              "      fill: #174EA6;\n",
              "    }\n",
              "\n",
              "    [theme=dark] .colab-df-convert {\n",
              "      background-color: #3B4455;\n",
              "      fill: #D2E3FC;\n",
              "    }\n",
              "\n",
              "    [theme=dark] .colab-df-convert:hover {\n",
              "      background-color: #434B5C;\n",
              "      box-shadow: 0px 1px 3px 1px rgba(0, 0, 0, 0.15);\n",
              "      filter: drop-shadow(0px 1px 2px rgba(0, 0, 0, 0.3));\n",
              "      fill: #FFFFFF;\n",
              "    }\n",
              "  </style>\n",
              "\n",
              "      <script>\n",
              "        const buttonEl =\n",
              "          document.querySelector('#df-5bc20031-15b8-48b3-9fab-8289f68fbfa8 button.colab-df-convert');\n",
              "        buttonEl.style.display =\n",
              "          google.colab.kernel.accessAllowed ? 'block' : 'none';\n",
              "\n",
              "        async function convertToInteractive(key) {\n",
              "          const element = document.querySelector('#df-5bc20031-15b8-48b3-9fab-8289f68fbfa8');\n",
              "          const dataTable =\n",
              "            await google.colab.kernel.invokeFunction('convertToInteractive',\n",
              "                                                     [key], {});\n",
              "          if (!dataTable) return;\n",
              "\n",
              "          const docLinkHtml = 'Like what you see? Visit the ' +\n",
              "            '<a target=\"_blank\" href=https://colab.research.google.com/notebooks/data_table.ipynb>data table notebook</a>'\n",
              "            + ' to learn more about interactive tables.';\n",
              "          element.innerHTML = '';\n",
              "          dataTable['output_type'] = 'display_data';\n",
              "          await google.colab.output.renderOutput(dataTable, element);\n",
              "          const docLink = document.createElement('div');\n",
              "          docLink.innerHTML = docLinkHtml;\n",
              "          element.appendChild(docLink);\n",
              "        }\n",
              "      </script>\n",
              "    </div>\n",
              "  </div>\n",
              "  "
            ]
          },
          "metadata": {},
          "execution_count": 10
        }
      ]
    },
    {
      "cell_type": "code",
      "source": [
        "model= ConcreteModel()"
      ],
      "metadata": {
        "id": "VzS-9dYz2ELT"
      },
      "execution_count": 11,
      "outputs": []
    },
    {
      "cell_type": "code",
      "source": [
        "model.x=Var(range(6),range(2),domain=NonNegativeReals)\n",
        "model.a=Var(range(3))"
      ],
      "metadata": {
        "id": "Zl0_3LG62Hiz"
      },
      "execution_count": 12,
      "outputs": []
    },
    {
      "cell_type": "code",
      "source": [
        "model.a[0].domain=NonNegativeReals"
      ],
      "metadata": {
        "id": "W2Y08Doo6veH"
      },
      "execution_count": 13,
      "outputs": []
    },
    {
      "cell_type": "code",
      "source": [
        "model.constraints= ConstraintList()"
      ],
      "metadata": {
        "id": "r25EhttO276P"
      },
      "execution_count": 14,
      "outputs": []
    },
    {
      "cell_type": "code",
      "source": [
        "model.objective= Objective(expr=sum(model.x[i,j] for i in range(6) for j in range(2)))"
      ],
      "metadata": {
        "id": "oYEWUO9-2-QF"
      },
      "execution_count": 15,
      "outputs": []
    },
    {
      "cell_type": "code",
      "source": [
        "for i in range(6):\n",
        "  model.constraints.add(expr=model.x[i,0]-model.x[i,1] == df['Ri'][i] - model.a[0]-df['Averageview'][i]*model.a[1]-df['Averageskipads'][i]*model.a[2])"
      ],
      "metadata": {
        "id": "tvnWTquv3uwg"
      },
      "execution_count": 16,
      "outputs": []
    },
    {
      "cell_type": "code",
      "source": [
        "model.pprint()"
      ],
      "metadata": {
        "colab": {
          "base_uri": "https://localhost:8080/"
        },
        "id": "Ng7M4Q-Y6XgG",
        "outputId": "fcb59f67-efca-400a-ca5a-708365943359"
      },
      "execution_count": 17,
      "outputs": [
        {
          "output_type": "stream",
          "name": "stdout",
          "text": [
            "5 Set Declarations\n",
            "    a_index : Size=1, Index=None, Ordered=Insertion\n",
            "        Key  : Dimen : Domain : Size : Members\n",
            "        None :     1 :    Any :    3 : {0, 1, 2}\n",
            "    constraints_index : Size=1, Index=None, Ordered=Insertion\n",
            "        Key  : Dimen : Domain : Size : Members\n",
            "        None :     1 :    Any :    6 : {1, 2, 3, 4, 5, 6}\n",
            "    x_index : Size=1, Index=None, Ordered=True\n",
            "        Key  : Dimen : Domain              : Size : Members\n",
            "        None :     2 : x_index_0*x_index_1 :   12 : {(0, 0), (0, 1), (1, 0), (1, 1), (2, 0), (2, 1), (3, 0), (3, 1), (4, 0), (4, 1), (5, 0), (5, 1)}\n",
            "    x_index_0 : Size=1, Index=None, Ordered=Insertion\n",
            "        Key  : Dimen : Domain : Size : Members\n",
            "        None :     1 :    Any :    6 : {0, 1, 2, 3, 4, 5}\n",
            "    x_index_1 : Size=1, Index=None, Ordered=Insertion\n",
            "        Key  : Dimen : Domain : Size : Members\n",
            "        None :     1 :    Any :    2 : {0, 1}\n",
            "\n",
            "2 Var Declarations\n",
            "    a : Size=3, Index=a_index\n",
            "        Key : Lower : Value : Upper : Fixed : Stale : Domain\n",
            "          0 :     0 :  None :  None : False :  True : NonNegativeReals\n",
            "          1 :  None :  None :  None : False :  True :            Reals\n",
            "          2 :  None :  None :  None : False :  True :            Reals\n",
            "    x : Size=12, Index=x_index\n",
            "        Key    : Lower : Value : Upper : Fixed : Stale : Domain\n",
            "        (0, 0) :     0 :  None :  None : False :  True : NonNegativeReals\n",
            "        (0, 1) :     0 :  None :  None : False :  True : NonNegativeReals\n",
            "        (1, 0) :     0 :  None :  None : False :  True : NonNegativeReals\n",
            "        (1, 1) :     0 :  None :  None : False :  True : NonNegativeReals\n",
            "        (2, 0) :     0 :  None :  None : False :  True : NonNegativeReals\n",
            "        (2, 1) :     0 :  None :  None : False :  True : NonNegativeReals\n",
            "        (3, 0) :     0 :  None :  None : False :  True : NonNegativeReals\n",
            "        (3, 1) :     0 :  None :  None : False :  True : NonNegativeReals\n",
            "        (4, 0) :     0 :  None :  None : False :  True : NonNegativeReals\n",
            "        (4, 1) :     0 :  None :  None : False :  True : NonNegativeReals\n",
            "        (5, 0) :     0 :  None :  None : False :  True : NonNegativeReals\n",
            "        (5, 1) :     0 :  None :  None : False :  True : NonNegativeReals\n",
            "\n",
            "1 Objective Declarations\n",
            "    objective : Size=1, Index=None, Active=True\n",
            "        Key  : Active : Sense    : Expression\n",
            "        None :   True : minimize : x[0,0] + x[0,1] + x[1,0] + x[1,1] + x[2,0] + x[2,1] + x[3,0] + x[3,1] + x[4,0] + x[4,1] + x[5,0] + x[5,1]\n",
            "\n",
            "1 Constraint Declarations\n",
            "    constraints : Size=6, Index=constraints_index, Active=True\n",
            "        Key : Lower : Body                                                                                  : Upper : Active\n",
            "          1 :   0.0 :    x[0,0] - x[0,1] - (175 - a[0] - 2.962962962962963*a[1] - 0.02433862433862434*a[2]) :   0.0 :   True\n",
            "          2 :   0.0 :               x[1,0] - x[1,1] - (450 - a[0] - 4.6875*a[1] - 0.04807692307692308*a[2]) :   0.0 :   True\n",
            "          3 :   0.0 :  x[2,0] - x[2,1] - (1050 - a[0] - 12.406576980568012*a[1] - 0.03886397608370702*a[2]) :   0.0 :   True\n",
            "          4 :   0.0 :                             x[3,0] - x[3,1] - (900 - a[0] - 45.5625*a[1] - 0.08*a[2]) :   0.0 :   True\n",
            "          5 :   0.0 :  x[4,0] - x[4,1] - (19 - a[0] - 0.46923076923076923*a[1] - 0.005128205128205128*a[2]) :   0.0 :   True\n",
            "          6 :   0.0 : x[5,0] - x[5,1] - (3550 - a[0] - 7.6923076923076925*a[1] - 0.029970029970029972*a[2]) :   0.0 :   True\n",
            "\n",
            "9 Declarations: x_index_0 x_index_1 x_index x a_index a constraints_index constraints objective\n"
          ]
        }
      ]
    },
    {
      "cell_type": "code",
      "source": [
        "!apt-get install -y -qq coinor-cbc"
      ],
      "metadata": {
        "id": "yx-6VfMp6ZJS",
        "colab": {
          "base_uri": "https://localhost:8080/"
        },
        "outputId": "e479a42e-8a32-4987-ac03-c99f9de23e27"
      },
      "execution_count": 18,
      "outputs": [
        {
          "output_type": "stream",
          "name": "stdout",
          "text": [
            "Selecting previously unselected package coinor-libcoinutils3v5.\n",
            "(Reading database ... 123934 files and directories currently installed.)\n",
            "Preparing to unpack .../0-coinor-libcoinutils3v5_2.10.14+repack1-1_amd64.deb ...\n",
            "Unpacking coinor-libcoinutils3v5 (2.10.14+repack1-1) ...\n",
            "Selecting previously unselected package coinor-libosi1v5.\n",
            "Preparing to unpack .../1-coinor-libosi1v5_0.107.9+repack1-1_amd64.deb ...\n",
            "Unpacking coinor-libosi1v5 (0.107.9+repack1-1) ...\n",
            "Selecting previously unselected package coinor-libclp1.\n",
            "Preparing to unpack .../2-coinor-libclp1_1.16.11+repack1-1_amd64.deb ...\n",
            "Unpacking coinor-libclp1 (1.16.11+repack1-1) ...\n",
            "Selecting previously unselected package coinor-libcgl1.\n",
            "Preparing to unpack .../3-coinor-libcgl1_0.59.10+repack1-1_amd64.deb ...\n",
            "Unpacking coinor-libcgl1 (0.59.10+repack1-1) ...\n",
            "Selecting previously unselected package coinor-libcbc3.\n",
            "Preparing to unpack .../4-coinor-libcbc3_2.9.9+repack1-1_amd64.deb ...\n",
            "Unpacking coinor-libcbc3 (2.9.9+repack1-1) ...\n",
            "Selecting previously unselected package coinor-cbc.\n",
            "Preparing to unpack .../5-coinor-cbc_2.9.9+repack1-1_amd64.deb ...\n",
            "Unpacking coinor-cbc (2.9.9+repack1-1) ...\n",
            "Setting up coinor-libcoinutils3v5 (2.10.14+repack1-1) ...\n",
            "Setting up coinor-libosi1v5 (0.107.9+repack1-1) ...\n",
            "Setting up coinor-libclp1 (1.16.11+repack1-1) ...\n",
            "Setting up coinor-libcgl1 (0.59.10+repack1-1) ...\n",
            "Setting up coinor-libcbc3 (2.9.9+repack1-1) ...\n",
            "Setting up coinor-cbc (2.9.9+repack1-1) ...\n",
            "Processing triggers for man-db (2.8.3-2ubuntu0.1) ...\n",
            "Processing triggers for libc-bin (2.27-3ubuntu1.6) ...\n"
          ]
        }
      ]
    },
    {
      "cell_type": "code",
      "source": [
        "opt_cbc = SolverFactory('cbc')"
      ],
      "metadata": {
        "id": "eDv6oYjf8-Nu"
      },
      "execution_count": 19,
      "outputs": []
    },
    {
      "cell_type": "code",
      "source": [
        "result = opt_cbc.solve(model)\n",
        "print('Solver status:', result.solver.status)\n",
        "print('Solver termination condition:',result.solver.termination_condition)\n",
        "print('Solver time taken',result.solver.time)"
      ],
      "metadata": {
        "colab": {
          "base_uri": "https://localhost:8080/"
        },
        "id": "1SMPEX9W9B4V",
        "outputId": "e9c69503-0e65-4952-ed8b-4b7c02c739f7"
      },
      "execution_count": 20,
      "outputs": [
        {
          "output_type": "stream",
          "name": "stdout",
          "text": [
            "Solver status: ok\n",
            "Solver termination condition: optimal\n",
            "Solver time taken 0.05090761184692383\n"
          ]
        }
      ]
    },
    {
      "cell_type": "code",
      "source": [
        "print('\\nObjective = ', model.objective())\n",
        "\n",
        "print(f'a0={model.a[0].value}')\n",
        "print(f'a1={model.a[1].value}')\n",
        "print(f'a2={model.a[2].value}')\n",
        "for i in range(6):\n",
        "  for j in range(2):\n",
        "    print(f'x{i,j}={model.x[i,j].value}')\n",
        "\n",
        "\n"
      ],
      "metadata": {
        "colab": {
          "base_uri": "https://localhost:8080/"
        },
        "id": "GxZfSQZK9QjK",
        "outputId": "177992b1-aa58-4113-ace7-270af45ea69c"
      },
      "execution_count": 21,
      "outputs": [
        {
          "output_type": "stream",
          "name": "stdout",
          "text": [
            "\n",
            "Objective =  3986.158757\n",
            "a0=0.0\n",
            "a1=4.0039722\n",
            "a2=8969.6127\n",
            "x(0, 0)=0.0\n",
            "x(0, 1)=55.171656\n",
            "x(1, 0)=0.0\n",
            "x(1, 1)=0.0\n",
            "x(2, 0)=651.7296\n",
            "x(2, 1)=0.0\n",
            "x(3, 0)=0.0\n",
            "x(3, 1)=0.0\n",
            "x(4, 0)=0.0\n",
            "x(4, 1)=28.876801\n",
            "x(5, 0)=3250.3807\n",
            "x(5, 1)=0.0\n"
          ]
        }
      ]
    },
    {
      "cell_type": "code",
      "source": [
        "# for p=1 , estimated umoney:\n",
        "a0=0.0\n",
        "a1=4.0039722\n",
        "a2=8969.6127\n",
        "df['Ri for p=1']=a0+a1*df['Averageview']+a2*df['Averageskipads']"
      ],
      "metadata": {
        "id": "uJ-28gCtAB34"
      },
      "execution_count": 22,
      "outputs": []
    },
    {
      "cell_type": "code",
      "source": [
        "df"
      ],
      "metadata": {
        "colab": {
          "base_uri": "https://localhost:8080/",
          "height": 237
        },
        "id": "9IYb009OAZy6",
        "outputId": "a169bb47-75b1-4e68-e9a9-014733577614"
      },
      "execution_count": 23,
      "outputs": [
        {
          "output_type": "execute_result",
          "data": {
            "text/plain": [
              "   i    Ri    Vi     Bi   Ai  Averageview  Averageskipads  Ri for p=1\n",
              "0  1   175   945   2800   23     2.962963        0.024339  230.171655\n",
              "1  2   450   832   3900   40     4.687500        0.048077  449.999999\n",
              "2  3  1050  2007  24900   78    12.406577        0.038864  398.270403\n",
              "3  4   900   800  36450   64    45.562500        0.080000  899.999999\n",
              "4  5    19   780    366    4     0.469231        0.005128   47.876801\n",
              "5  6  3550  5005  38500  150     7.692308        0.029970  299.619348"
            ],
            "text/html": [
              "\n",
              "  <div id=\"df-68de9752-1c93-42d2-ae5b-f6346c038023\">\n",
              "    <div class=\"colab-df-container\">\n",
              "      <div>\n",
              "<style scoped>\n",
              "    .dataframe tbody tr th:only-of-type {\n",
              "        vertical-align: middle;\n",
              "    }\n",
              "\n",
              "    .dataframe tbody tr th {\n",
              "        vertical-align: top;\n",
              "    }\n",
              "\n",
              "    .dataframe thead th {\n",
              "        text-align: right;\n",
              "    }\n",
              "</style>\n",
              "<table border=\"1\" class=\"dataframe\">\n",
              "  <thead>\n",
              "    <tr style=\"text-align: right;\">\n",
              "      <th></th>\n",
              "      <th>i</th>\n",
              "      <th>Ri</th>\n",
              "      <th>Vi</th>\n",
              "      <th>Bi</th>\n",
              "      <th>Ai</th>\n",
              "      <th>Averageview</th>\n",
              "      <th>Averageskipads</th>\n",
              "      <th>Ri for p=1</th>\n",
              "    </tr>\n",
              "  </thead>\n",
              "  <tbody>\n",
              "    <tr>\n",
              "      <th>0</th>\n",
              "      <td>1</td>\n",
              "      <td>175</td>\n",
              "      <td>945</td>\n",
              "      <td>2800</td>\n",
              "      <td>23</td>\n",
              "      <td>2.962963</td>\n",
              "      <td>0.024339</td>\n",
              "      <td>230.171655</td>\n",
              "    </tr>\n",
              "    <tr>\n",
              "      <th>1</th>\n",
              "      <td>2</td>\n",
              "      <td>450</td>\n",
              "      <td>832</td>\n",
              "      <td>3900</td>\n",
              "      <td>40</td>\n",
              "      <td>4.687500</td>\n",
              "      <td>0.048077</td>\n",
              "      <td>449.999999</td>\n",
              "    </tr>\n",
              "    <tr>\n",
              "      <th>2</th>\n",
              "      <td>3</td>\n",
              "      <td>1050</td>\n",
              "      <td>2007</td>\n",
              "      <td>24900</td>\n",
              "      <td>78</td>\n",
              "      <td>12.406577</td>\n",
              "      <td>0.038864</td>\n",
              "      <td>398.270403</td>\n",
              "    </tr>\n",
              "    <tr>\n",
              "      <th>3</th>\n",
              "      <td>4</td>\n",
              "      <td>900</td>\n",
              "      <td>800</td>\n",
              "      <td>36450</td>\n",
              "      <td>64</td>\n",
              "      <td>45.562500</td>\n",
              "      <td>0.080000</td>\n",
              "      <td>899.999999</td>\n",
              "    </tr>\n",
              "    <tr>\n",
              "      <th>4</th>\n",
              "      <td>5</td>\n",
              "      <td>19</td>\n",
              "      <td>780</td>\n",
              "      <td>366</td>\n",
              "      <td>4</td>\n",
              "      <td>0.469231</td>\n",
              "      <td>0.005128</td>\n",
              "      <td>47.876801</td>\n",
              "    </tr>\n",
              "    <tr>\n",
              "      <th>5</th>\n",
              "      <td>6</td>\n",
              "      <td>3550</td>\n",
              "      <td>5005</td>\n",
              "      <td>38500</td>\n",
              "      <td>150</td>\n",
              "      <td>7.692308</td>\n",
              "      <td>0.029970</td>\n",
              "      <td>299.619348</td>\n",
              "    </tr>\n",
              "  </tbody>\n",
              "</table>\n",
              "</div>\n",
              "      <button class=\"colab-df-convert\" onclick=\"convertToInteractive('df-68de9752-1c93-42d2-ae5b-f6346c038023')\"\n",
              "              title=\"Convert this dataframe to an interactive table.\"\n",
              "              style=\"display:none;\">\n",
              "        \n",
              "  <svg xmlns=\"http://www.w3.org/2000/svg\" height=\"24px\"viewBox=\"0 0 24 24\"\n",
              "       width=\"24px\">\n",
              "    <path d=\"M0 0h24v24H0V0z\" fill=\"none\"/>\n",
              "    <path d=\"M18.56 5.44l.94 2.06.94-2.06 2.06-.94-2.06-.94-.94-2.06-.94 2.06-2.06.94zm-11 1L8.5 8.5l.94-2.06 2.06-.94-2.06-.94L8.5 2.5l-.94 2.06-2.06.94zm10 10l.94 2.06.94-2.06 2.06-.94-2.06-.94-.94-2.06-.94 2.06-2.06.94z\"/><path d=\"M17.41 7.96l-1.37-1.37c-.4-.4-.92-.59-1.43-.59-.52 0-1.04.2-1.43.59L10.3 9.45l-7.72 7.72c-.78.78-.78 2.05 0 2.83L4 21.41c.39.39.9.59 1.41.59.51 0 1.02-.2 1.41-.59l7.78-7.78 2.81-2.81c.8-.78.8-2.07 0-2.86zM5.41 20L4 18.59l7.72-7.72 1.47 1.35L5.41 20z\"/>\n",
              "  </svg>\n",
              "      </button>\n",
              "      \n",
              "  <style>\n",
              "    .colab-df-container {\n",
              "      display:flex;\n",
              "      flex-wrap:wrap;\n",
              "      gap: 12px;\n",
              "    }\n",
              "\n",
              "    .colab-df-convert {\n",
              "      background-color: #E8F0FE;\n",
              "      border: none;\n",
              "      border-radius: 50%;\n",
              "      cursor: pointer;\n",
              "      display: none;\n",
              "      fill: #1967D2;\n",
              "      height: 32px;\n",
              "      padding: 0 0 0 0;\n",
              "      width: 32px;\n",
              "    }\n",
              "\n",
              "    .colab-df-convert:hover {\n",
              "      background-color: #E2EBFA;\n",
              "      box-shadow: 0px 1px 2px rgba(60, 64, 67, 0.3), 0px 1px 3px 1px rgba(60, 64, 67, 0.15);\n",
              "      fill: #174EA6;\n",
              "    }\n",
              "\n",
              "    [theme=dark] .colab-df-convert {\n",
              "      background-color: #3B4455;\n",
              "      fill: #D2E3FC;\n",
              "    }\n",
              "\n",
              "    [theme=dark] .colab-df-convert:hover {\n",
              "      background-color: #434B5C;\n",
              "      box-shadow: 0px 1px 3px 1px rgba(0, 0, 0, 0.15);\n",
              "      filter: drop-shadow(0px 1px 2px rgba(0, 0, 0, 0.3));\n",
              "      fill: #FFFFFF;\n",
              "    }\n",
              "  </style>\n",
              "\n",
              "      <script>\n",
              "        const buttonEl =\n",
              "          document.querySelector('#df-68de9752-1c93-42d2-ae5b-f6346c038023 button.colab-df-convert');\n",
              "        buttonEl.style.display =\n",
              "          google.colab.kernel.accessAllowed ? 'block' : 'none';\n",
              "\n",
              "        async function convertToInteractive(key) {\n",
              "          const element = document.querySelector('#df-68de9752-1c93-42d2-ae5b-f6346c038023');\n",
              "          const dataTable =\n",
              "            await google.colab.kernel.invokeFunction('convertToInteractive',\n",
              "                                                     [key], {});\n",
              "          if (!dataTable) return;\n",
              "\n",
              "          const docLinkHtml = 'Like what you see? Visit the ' +\n",
              "            '<a target=\"_blank\" href=https://colab.research.google.com/notebooks/data_table.ipynb>data table notebook</a>'\n",
              "            + ' to learn more about interactive tables.';\n",
              "          element.innerHTML = '';\n",
              "          dataTable['output_type'] = 'display_data';\n",
              "          await google.colab.output.renderOutput(dataTable, element);\n",
              "          const docLink = document.createElement('div');\n",
              "          docLink.innerHTML = docLinkHtml;\n",
              "          element.appendChild(docLink);\n",
              "        }\n",
              "      </script>\n",
              "    </div>\n",
              "  </div>\n",
              "  "
            ]
          },
          "metadata": {},
          "execution_count": 23
        }
      ]
    },
    {
      "cell_type": "markdown",
      "source": [
        "### 4. [R] Solve the linear program using cbc solver, report the solver status, solver termination condition, optimal solution values for the decision variables, and the optimal objective function value. Comment on your observations.\n",
        "### Answer:\n",
        "Solver status: ok \\\\\n",
        "Solver termination condition: optimal \\\\\n",
        "Solver time taken 0.023586034774780273 \\\\\n",
        "optimal objective function value: 3986.158757 \\\\\n",
        "optimal values for the decision variables: \\\\\n",
        "a0=0.0 \\\\\n",
        "a1=4.0039722 \\\\\n",
        "a2=8969.6127 \\\\\n",
        "\n",
        "we can see that value of estimated revenue is approximately equal to real revenue for i = 2,4.But for i=1,5 difference between estimated revenue and real revenue is small but for i= 3,6 difference between estimated revenue and real revenue is so large."
      ],
      "metadata": {
        "id": "zMm2IGkDOKD-"
      }
    },
    {
      "cell_type": "markdown",
      "source": [
        "### 5. [R] Now, consider p > 1. Write a general nonlinear optimization problem for p > 1. You may assume that a0 ≥ 0 and a1, a2 do not have bounds on them.\n",
        "### Solution:\n",
        "Optimization problem:\n",
        "\n",
        " Min $\\sum_{i=1}^6|R_i-a_0-a_1T_i-a_2D_i|^p$ \\\\\n",
        "\n",
        " Since we know that$ \\sqrt(x^2) = |x|$\n",
        "\n",
        " So we can write the above optimization problem in the below form: \\\\\n",
        " Min $\\sum_{i=1}^6(\\sqrt((R_i-a_0-a_1T_i-a_2D_i)^2))^p$ \\\\\n",
        "\n",
        "\n",
        " ⇒ Min $\\sum_{i=1}^6(((R_i-a_0-a_1T_i-a_2D_i)^2)^{0.5})^p$ \\\\\n",
        " $a_0 \\geq 0 ,a_1,a_2 ∈ \\mathbf{R} $\n",
        "\n",
        "\n"
      ],
      "metadata": {
        "id": "WovJekv7O4qR"
      }
    },
    {
      "cell_type": "markdown",
      "source": [
        "### 7.[R] Solve the respective non-linear optimization problems for p = 1.5, 2 using ipopt solver, and for each p value report the solver status, solver termination conditions, time taken by solver, optimal solution values for the decision variables, and the optimal objective function value. Comment on your observations.\n",
        "#### Answer:Solution for p=1.5,2\n"
      ],
      "metadata": {
        "id": "nc65evpdTiGv"
      }
    },
    {
      "cell_type": "code",
      "source": [
        "!wget -N -q \"https://ampl.com/dl/open/ipopt/ipopt-linux64.zip\"\n",
        "!unzip -o -q ipopt-linux64"
      ],
      "metadata": {
        "id": "iMBgZKKEkS6B"
      },
      "execution_count": 24,
      "outputs": []
    },
    {
      "cell_type": "code",
      "source": [
        "solver = SolverFactory('ipopt', executable='/content/ipopt')"
      ],
      "metadata": {
        "id": "Bw7J8HS8kWbB"
      },
      "execution_count": 25,
      "outputs": []
    },
    {
      "cell_type": "code",
      "source": [
        "df.head(2)"
      ],
      "metadata": {
        "colab": {
          "base_uri": "https://localhost:8080/",
          "height": 112
        },
        "id": "LDDMssIPv_w5",
        "outputId": "3811f7cf-7c41-4947-e6a6-2f70b856d1c8"
      },
      "execution_count": 26,
      "outputs": [
        {
          "output_type": "execute_result",
          "data": {
            "text/plain": [
              "   i   Ri   Vi    Bi  Ai  Averageview  Averageskipads  Ri for p=1\n",
              "0  1  175  945  2800  23     2.962963        0.024339  230.171655\n",
              "1  2  450  832  3900  40     4.687500        0.048077  449.999999"
            ],
            "text/html": [
              "\n",
              "  <div id=\"df-f64077f2-3f90-4788-a61c-ea2cc5e489f5\">\n",
              "    <div class=\"colab-df-container\">\n",
              "      <div>\n",
              "<style scoped>\n",
              "    .dataframe tbody tr th:only-of-type {\n",
              "        vertical-align: middle;\n",
              "    }\n",
              "\n",
              "    .dataframe tbody tr th {\n",
              "        vertical-align: top;\n",
              "    }\n",
              "\n",
              "    .dataframe thead th {\n",
              "        text-align: right;\n",
              "    }\n",
              "</style>\n",
              "<table border=\"1\" class=\"dataframe\">\n",
              "  <thead>\n",
              "    <tr style=\"text-align: right;\">\n",
              "      <th></th>\n",
              "      <th>i</th>\n",
              "      <th>Ri</th>\n",
              "      <th>Vi</th>\n",
              "      <th>Bi</th>\n",
              "      <th>Ai</th>\n",
              "      <th>Averageview</th>\n",
              "      <th>Averageskipads</th>\n",
              "      <th>Ri for p=1</th>\n",
              "    </tr>\n",
              "  </thead>\n",
              "  <tbody>\n",
              "    <tr>\n",
              "      <th>0</th>\n",
              "      <td>1</td>\n",
              "      <td>175</td>\n",
              "      <td>945</td>\n",
              "      <td>2800</td>\n",
              "      <td>23</td>\n",
              "      <td>2.962963</td>\n",
              "      <td>0.024339</td>\n",
              "      <td>230.171655</td>\n",
              "    </tr>\n",
              "    <tr>\n",
              "      <th>1</th>\n",
              "      <td>2</td>\n",
              "      <td>450</td>\n",
              "      <td>832</td>\n",
              "      <td>3900</td>\n",
              "      <td>40</td>\n",
              "      <td>4.687500</td>\n",
              "      <td>0.048077</td>\n",
              "      <td>449.999999</td>\n",
              "    </tr>\n",
              "  </tbody>\n",
              "</table>\n",
              "</div>\n",
              "      <button class=\"colab-df-convert\" onclick=\"convertToInteractive('df-f64077f2-3f90-4788-a61c-ea2cc5e489f5')\"\n",
              "              title=\"Convert this dataframe to an interactive table.\"\n",
              "              style=\"display:none;\">\n",
              "        \n",
              "  <svg xmlns=\"http://www.w3.org/2000/svg\" height=\"24px\"viewBox=\"0 0 24 24\"\n",
              "       width=\"24px\">\n",
              "    <path d=\"M0 0h24v24H0V0z\" fill=\"none\"/>\n",
              "    <path d=\"M18.56 5.44l.94 2.06.94-2.06 2.06-.94-2.06-.94-.94-2.06-.94 2.06-2.06.94zm-11 1L8.5 8.5l.94-2.06 2.06-.94-2.06-.94L8.5 2.5l-.94 2.06-2.06.94zm10 10l.94 2.06.94-2.06 2.06-.94-2.06-.94-.94-2.06-.94 2.06-2.06.94z\"/><path d=\"M17.41 7.96l-1.37-1.37c-.4-.4-.92-.59-1.43-.59-.52 0-1.04.2-1.43.59L10.3 9.45l-7.72 7.72c-.78.78-.78 2.05 0 2.83L4 21.41c.39.39.9.59 1.41.59.51 0 1.02-.2 1.41-.59l7.78-7.78 2.81-2.81c.8-.78.8-2.07 0-2.86zM5.41 20L4 18.59l7.72-7.72 1.47 1.35L5.41 20z\"/>\n",
              "  </svg>\n",
              "      </button>\n",
              "      \n",
              "  <style>\n",
              "    .colab-df-container {\n",
              "      display:flex;\n",
              "      flex-wrap:wrap;\n",
              "      gap: 12px;\n",
              "    }\n",
              "\n",
              "    .colab-df-convert {\n",
              "      background-color: #E8F0FE;\n",
              "      border: none;\n",
              "      border-radius: 50%;\n",
              "      cursor: pointer;\n",
              "      display: none;\n",
              "      fill: #1967D2;\n",
              "      height: 32px;\n",
              "      padding: 0 0 0 0;\n",
              "      width: 32px;\n",
              "    }\n",
              "\n",
              "    .colab-df-convert:hover {\n",
              "      background-color: #E2EBFA;\n",
              "      box-shadow: 0px 1px 2px rgba(60, 64, 67, 0.3), 0px 1px 3px 1px rgba(60, 64, 67, 0.15);\n",
              "      fill: #174EA6;\n",
              "    }\n",
              "\n",
              "    [theme=dark] .colab-df-convert {\n",
              "      background-color: #3B4455;\n",
              "      fill: #D2E3FC;\n",
              "    }\n",
              "\n",
              "    [theme=dark] .colab-df-convert:hover {\n",
              "      background-color: #434B5C;\n",
              "      box-shadow: 0px 1px 3px 1px rgba(0, 0, 0, 0.15);\n",
              "      filter: drop-shadow(0px 1px 2px rgba(0, 0, 0, 0.3));\n",
              "      fill: #FFFFFF;\n",
              "    }\n",
              "  </style>\n",
              "\n",
              "      <script>\n",
              "        const buttonEl =\n",
              "          document.querySelector('#df-f64077f2-3f90-4788-a61c-ea2cc5e489f5 button.colab-df-convert');\n",
              "        buttonEl.style.display =\n",
              "          google.colab.kernel.accessAllowed ? 'block' : 'none';\n",
              "\n",
              "        async function convertToInteractive(key) {\n",
              "          const element = document.querySelector('#df-f64077f2-3f90-4788-a61c-ea2cc5e489f5');\n",
              "          const dataTable =\n",
              "            await google.colab.kernel.invokeFunction('convertToInteractive',\n",
              "                                                     [key], {});\n",
              "          if (!dataTable) return;\n",
              "\n",
              "          const docLinkHtml = 'Like what you see? Visit the ' +\n",
              "            '<a target=\"_blank\" href=https://colab.research.google.com/notebooks/data_table.ipynb>data table notebook</a>'\n",
              "            + ' to learn more about interactive tables.';\n",
              "          element.innerHTML = '';\n",
              "          dataTable['output_type'] = 'display_data';\n",
              "          await google.colab.output.renderOutput(dataTable, element);\n",
              "          const docLink = document.createElement('div');\n",
              "          docLink.innerHTML = docLinkHtml;\n",
              "          element.appendChild(docLink);\n",
              "        }\n",
              "      </script>\n",
              "    </div>\n",
              "  </div>\n",
              "  "
            ]
          },
          "metadata": {},
          "execution_count": 26
        }
      ]
    },
    {
      "cell_type": "code",
      "source": [
        "def func(p):\n",
        "  model= ConcreteModel()\n",
        "  model.a=Var(range(3),initialize=4)\n",
        "  model.a[0].domain=NonNegativeReals\n",
        "  model.constraints= ConstraintList()\n",
        "  model.objective= Objective(expr=sum((((df['Ri'][i]-model.a[0]-model.a[1]*df['Averageview'][i]-model.a[2]*df['Averageskipads'][i])**2)**0.5)**p for i in range(6)))\n",
        "  model.pprint()\n",
        "  results = solver.solve(model)\n",
        "  print(results)\n",
        "  print('\\nObjective = ', model.objective())\n",
        "  print(f'a0={model.a[0].value}')\n",
        "  print(f'a1={model.a[1].value}')\n",
        "  print(f'a2={model.a[2].value}')\n",
        "\n",
        "  \n",
        "  \n"
      ],
      "metadata": {
        "id": "Cv-9XVkW9Tiv"
      },
      "execution_count": 27,
      "outputs": []
    },
    {
      "cell_type": "code",
      "source": [
        "func(1.5)"
      ],
      "metadata": {
        "colab": {
          "base_uri": "https://localhost:8080/"
        },
        "id": "1-9bSqHal6bb",
        "outputId": "51738276-21a9-46f0-8619-3cec140d3865"
      },
      "execution_count": 28,
      "outputs": [
        {
          "output_type": "stream",
          "name": "stdout",
          "text": [
            "2 Set Declarations\n",
            "    a_index : Size=1, Index=None, Ordered=Insertion\n",
            "        Key  : Dimen : Domain : Size : Members\n",
            "        None :     1 :    Any :    3 : {0, 1, 2}\n",
            "    constraints_index : Size=1, Index=None, Ordered=Insertion\n",
            "        Key  : Dimen : Domain : Size : Members\n",
            "        None :     1 :    Any :    0 :      {}\n",
            "\n",
            "1 Var Declarations\n",
            "    a : Size=3, Index=a_index\n",
            "        Key : Lower : Value : Upper : Fixed : Stale : Domain\n",
            "          0 :     0 :     4 :  None : False : False : NonNegativeReals\n",
            "          1 :  None :     4 :  None : False : False :            Reals\n",
            "          2 :  None :     4 :  None : False : False :            Reals\n",
            "\n",
            "1 Objective Declarations\n",
            "    objective : Size=1, Index=None, Active=True\n",
            "        Key  : Active : Sense    : Expression\n",
            "        None :   True : minimize : (((175 - a[0] - 2.962962962962963*a[1] - 0.02433862433862434*a[2])**2)**0.5)**1.5 + (((450 - a[0] - 4.6875*a[1] - 0.04807692307692308*a[2])**2)**0.5)**1.5 + (((1050 - a[0] - 12.406576980568012*a[1] - 0.03886397608370702*a[2])**2)**0.5)**1.5 + (((900 - a[0] - 45.5625*a[1] - 0.08*a[2])**2)**0.5)**1.5 + (((19 - a[0] - 0.46923076923076923*a[1] - 0.005128205128205128*a[2])**2)**0.5)**1.5 + (((3550 - a[0] - 7.6923076923076925*a[1] - 0.029970029970029972*a[2])**2)**0.5)**1.5\n",
            "\n",
            "1 Constraint Declarations\n",
            "    constraints : Size=0, Index=constraints_index, Active=True\n",
            "        Key : Lower : Body : Upper : Active\n",
            "\n",
            "5 Declarations: a_index a constraints_index constraints objective\n",
            "\n",
            "Problem: \n",
            "- Lower bound: -inf\n",
            "  Upper bound: inf\n",
            "  Number of objectives: 1\n",
            "  Number of constraints: 0\n",
            "  Number of variables: 3\n",
            "  Sense: unknown\n",
            "Solver: \n",
            "- Status: ok\n",
            "  Message: Ipopt 3.12.13\\x3a Optimal Solution Found\n",
            "  Termination condition: optimal\n",
            "  Id: 0\n",
            "  Error rc: 0\n",
            "  Time: 0.034833669662475586\n",
            "Solution: \n",
            "- number of solutions: 0\n",
            "  number of solutions displayed: 0\n",
            "\n",
            "\n",
            "Objective =  188066.9241172161\n",
            "a0=503.7405941385695\n",
            "a1=2.7235995102785324\n",
            "a2=4802.719658515411\n"
          ]
        }
      ]
    },
    {
      "cell_type": "code",
      "source": [
        "func(2)"
      ],
      "metadata": {
        "colab": {
          "base_uri": "https://localhost:8080/"
        },
        "id": "jG1pgdbTfMTH",
        "outputId": "2c82ba03-9691-4c12-ae0d-bfe4ac0078db"
      },
      "execution_count": 29,
      "outputs": [
        {
          "output_type": "stream",
          "name": "stdout",
          "text": [
            "2 Set Declarations\n",
            "    a_index : Size=1, Index=None, Ordered=Insertion\n",
            "        Key  : Dimen : Domain : Size : Members\n",
            "        None :     1 :    Any :    3 : {0, 1, 2}\n",
            "    constraints_index : Size=1, Index=None, Ordered=Insertion\n",
            "        Key  : Dimen : Domain : Size : Members\n",
            "        None :     1 :    Any :    0 :      {}\n",
            "\n",
            "1 Var Declarations\n",
            "    a : Size=3, Index=a_index\n",
            "        Key : Lower : Value : Upper : Fixed : Stale : Domain\n",
            "          0 :     0 :     4 :  None : False : False : NonNegativeReals\n",
            "          1 :  None :     4 :  None : False : False :            Reals\n",
            "          2 :  None :     4 :  None : False : False :            Reals\n",
            "\n",
            "1 Objective Declarations\n",
            "    objective : Size=1, Index=None, Active=True\n",
            "        Key  : Active : Sense    : Expression\n",
            "        None :   True : minimize : (((175 - a[0] - 2.962962962962963*a[1] - 0.02433862433862434*a[2])**2)**0.5)**2 + (((450 - a[0] - 4.6875*a[1] - 0.04807692307692308*a[2])**2)**0.5)**2 + (((1050 - a[0] - 12.406576980568012*a[1] - 0.03886397608370702*a[2])**2)**0.5)**2 + (((900 - a[0] - 45.5625*a[1] - 0.08*a[2])**2)**0.5)**2 + (((19 - a[0] - 0.46923076923076923*a[1] - 0.005128205128205128*a[2])**2)**0.5)**2 + (((3550 - a[0] - 7.6923076923076925*a[1] - 0.029970029970029972*a[2])**2)**0.5)**2\n",
            "\n",
            "1 Constraint Declarations\n",
            "    constraints : Size=0, Index=constraints_index, Active=True\n",
            "        Key : Lower : Body : Upper : Active\n",
            "\n",
            "5 Declarations: a_index a constraints_index constraints objective\n",
            "\n",
            "Problem: \n",
            "- Lower bound: -inf\n",
            "  Upper bound: inf\n",
            "  Number of objectives: 1\n",
            "  Number of constraints: 0\n",
            "  Number of variables: 3\n",
            "  Sense: unknown\n",
            "Solver: \n",
            "- Status: ok\n",
            "  Message: Ipopt 3.12.13\\x3a Optimal Solution Found\n",
            "  Termination condition: optimal\n",
            "  Id: 0\n",
            "  Error rc: 0\n",
            "  Time: 0.02735757827758789\n",
            "Solution: \n",
            "- number of solutions: 0\n",
            "  number of solutions displayed: 0\n",
            "\n",
            "\n",
            "Objective =  8399946.937111441\n",
            "a0=884.3228471751012\n",
            "a1=1.8562371587132973\n",
            "a2=3097.0698797873274\n"
          ]
        }
      ]
    },
    {
      "cell_type": "markdown",
      "source": [
        "### For p=1.5\n",
        "\n",
        "Solver Status : ok \\\\\n",
        "Termination condition: optimal \\\\\n",
        "Time taken to solve problem: 0.034113407135009766 \\\\\n",
        "\n",
        "Optimal objective function: 188066.9241172161 \\\\\n",
        "Optimal solution values for the decision variables: \\\\\n",
        "a0=503.7405941385695 \\\\\n",
        "a1=2.7235995102785324 \\\\\n",
        "a2=4802.719658515411 \\\\\n",
        "\n",
        "### For p=2\n",
        "\n",
        "Solver Status : ok \\\\\n",
        "Termination condition: optimal \\\\\n",
        "Time taken to solve problem: 0.02591991424560547 \\\\\n",
        " \n",
        "Optimal objective function: 8399946.937111441 \\\\\n",
        "Optimal solution values for the decision variables: \\\\\n",
        "a0=884.3228471751012 \\\\\n",
        "a1=1.8562371587132973 \\\\\n",
        "a2=3097.0698797873274 \\\\\n",
        " \n",
        "\n",
        "\n",
        "\n"
      ],
      "metadata": {
        "id": "rRxJ5kVHUTmk"
      }
    },
    {
      "cell_type": "code",
      "source": [
        "# for p=1.5 , estimated umoney:\n",
        "a0=503.7405941385695\n",
        "a1=2.7235995102785324\n",
        "a2=4802.719658515411\n",
        "df['Ri for p=1.5']=a0+a1*df['Averageview']+a2*df['Averageskipads']\n"
      ],
      "metadata": {
        "id": "yyd16edufY7d"
      },
      "execution_count": 30,
      "outputs": []
    },
    {
      "cell_type": "code",
      "source": [
        "df"
      ],
      "metadata": {
        "colab": {
          "base_uri": "https://localhost:8080/",
          "height": 237
        },
        "id": "XVzsSfultzqh",
        "outputId": "b32939c6-39e9-40a5-a822-8300bf7d9e9b"
      },
      "execution_count": 31,
      "outputs": [
        {
          "output_type": "execute_result",
          "data": {
            "text/plain": [
              "   i    Ri    Vi     Bi   Ai  Averageview  Averageskipads  Ri for p=1  \\\n",
              "0  1   175   945   2800   23     2.962963        0.024339  230.171655   \n",
              "1  2   450   832   3900   40     4.687500        0.048077  449.999999   \n",
              "2  3  1050  2007  24900   78    12.406577        0.038864  398.270403   \n",
              "3  4   900   800  36450   64    45.562500        0.080000  899.999999   \n",
              "4  5    19   780    366    4     0.469231        0.005128   47.876801   \n",
              "5  6  3550  5005  38500  150     7.692308        0.029970  299.619348   \n",
              "\n",
              "   Ri for p=1.5  \n",
              "0    628.702108  \n",
              "1    747.407450  \n",
              "2    724.183923  \n",
              "3   1012.052170  \n",
              "4    529.647922  \n",
              "5    668.629012  "
            ],
            "text/html": [
              "\n",
              "  <div id=\"df-9ae7e841-2a07-4a05-8cdb-71dc92ad5336\">\n",
              "    <div class=\"colab-df-container\">\n",
              "      <div>\n",
              "<style scoped>\n",
              "    .dataframe tbody tr th:only-of-type {\n",
              "        vertical-align: middle;\n",
              "    }\n",
              "\n",
              "    .dataframe tbody tr th {\n",
              "        vertical-align: top;\n",
              "    }\n",
              "\n",
              "    .dataframe thead th {\n",
              "        text-align: right;\n",
              "    }\n",
              "</style>\n",
              "<table border=\"1\" class=\"dataframe\">\n",
              "  <thead>\n",
              "    <tr style=\"text-align: right;\">\n",
              "      <th></th>\n",
              "      <th>i</th>\n",
              "      <th>Ri</th>\n",
              "      <th>Vi</th>\n",
              "      <th>Bi</th>\n",
              "      <th>Ai</th>\n",
              "      <th>Averageview</th>\n",
              "      <th>Averageskipads</th>\n",
              "      <th>Ri for p=1</th>\n",
              "      <th>Ri for p=1.5</th>\n",
              "    </tr>\n",
              "  </thead>\n",
              "  <tbody>\n",
              "    <tr>\n",
              "      <th>0</th>\n",
              "      <td>1</td>\n",
              "      <td>175</td>\n",
              "      <td>945</td>\n",
              "      <td>2800</td>\n",
              "      <td>23</td>\n",
              "      <td>2.962963</td>\n",
              "      <td>0.024339</td>\n",
              "      <td>230.171655</td>\n",
              "      <td>628.702108</td>\n",
              "    </tr>\n",
              "    <tr>\n",
              "      <th>1</th>\n",
              "      <td>2</td>\n",
              "      <td>450</td>\n",
              "      <td>832</td>\n",
              "      <td>3900</td>\n",
              "      <td>40</td>\n",
              "      <td>4.687500</td>\n",
              "      <td>0.048077</td>\n",
              "      <td>449.999999</td>\n",
              "      <td>747.407450</td>\n",
              "    </tr>\n",
              "    <tr>\n",
              "      <th>2</th>\n",
              "      <td>3</td>\n",
              "      <td>1050</td>\n",
              "      <td>2007</td>\n",
              "      <td>24900</td>\n",
              "      <td>78</td>\n",
              "      <td>12.406577</td>\n",
              "      <td>0.038864</td>\n",
              "      <td>398.270403</td>\n",
              "      <td>724.183923</td>\n",
              "    </tr>\n",
              "    <tr>\n",
              "      <th>3</th>\n",
              "      <td>4</td>\n",
              "      <td>900</td>\n",
              "      <td>800</td>\n",
              "      <td>36450</td>\n",
              "      <td>64</td>\n",
              "      <td>45.562500</td>\n",
              "      <td>0.080000</td>\n",
              "      <td>899.999999</td>\n",
              "      <td>1012.052170</td>\n",
              "    </tr>\n",
              "    <tr>\n",
              "      <th>4</th>\n",
              "      <td>5</td>\n",
              "      <td>19</td>\n",
              "      <td>780</td>\n",
              "      <td>366</td>\n",
              "      <td>4</td>\n",
              "      <td>0.469231</td>\n",
              "      <td>0.005128</td>\n",
              "      <td>47.876801</td>\n",
              "      <td>529.647922</td>\n",
              "    </tr>\n",
              "    <tr>\n",
              "      <th>5</th>\n",
              "      <td>6</td>\n",
              "      <td>3550</td>\n",
              "      <td>5005</td>\n",
              "      <td>38500</td>\n",
              "      <td>150</td>\n",
              "      <td>7.692308</td>\n",
              "      <td>0.029970</td>\n",
              "      <td>299.619348</td>\n",
              "      <td>668.629012</td>\n",
              "    </tr>\n",
              "  </tbody>\n",
              "</table>\n",
              "</div>\n",
              "      <button class=\"colab-df-convert\" onclick=\"convertToInteractive('df-9ae7e841-2a07-4a05-8cdb-71dc92ad5336')\"\n",
              "              title=\"Convert this dataframe to an interactive table.\"\n",
              "              style=\"display:none;\">\n",
              "        \n",
              "  <svg xmlns=\"http://www.w3.org/2000/svg\" height=\"24px\"viewBox=\"0 0 24 24\"\n",
              "       width=\"24px\">\n",
              "    <path d=\"M0 0h24v24H0V0z\" fill=\"none\"/>\n",
              "    <path d=\"M18.56 5.44l.94 2.06.94-2.06 2.06-.94-2.06-.94-.94-2.06-.94 2.06-2.06.94zm-11 1L8.5 8.5l.94-2.06 2.06-.94-2.06-.94L8.5 2.5l-.94 2.06-2.06.94zm10 10l.94 2.06.94-2.06 2.06-.94-2.06-.94-.94-2.06-.94 2.06-2.06.94z\"/><path d=\"M17.41 7.96l-1.37-1.37c-.4-.4-.92-.59-1.43-.59-.52 0-1.04.2-1.43.59L10.3 9.45l-7.72 7.72c-.78.78-.78 2.05 0 2.83L4 21.41c.39.39.9.59 1.41.59.51 0 1.02-.2 1.41-.59l7.78-7.78 2.81-2.81c.8-.78.8-2.07 0-2.86zM5.41 20L4 18.59l7.72-7.72 1.47 1.35L5.41 20z\"/>\n",
              "  </svg>\n",
              "      </button>\n",
              "      \n",
              "  <style>\n",
              "    .colab-df-container {\n",
              "      display:flex;\n",
              "      flex-wrap:wrap;\n",
              "      gap: 12px;\n",
              "    }\n",
              "\n",
              "    .colab-df-convert {\n",
              "      background-color: #E8F0FE;\n",
              "      border: none;\n",
              "      border-radius: 50%;\n",
              "      cursor: pointer;\n",
              "      display: none;\n",
              "      fill: #1967D2;\n",
              "      height: 32px;\n",
              "      padding: 0 0 0 0;\n",
              "      width: 32px;\n",
              "    }\n",
              "\n",
              "    .colab-df-convert:hover {\n",
              "      background-color: #E2EBFA;\n",
              "      box-shadow: 0px 1px 2px rgba(60, 64, 67, 0.3), 0px 1px 3px 1px rgba(60, 64, 67, 0.15);\n",
              "      fill: #174EA6;\n",
              "    }\n",
              "\n",
              "    [theme=dark] .colab-df-convert {\n",
              "      background-color: #3B4455;\n",
              "      fill: #D2E3FC;\n",
              "    }\n",
              "\n",
              "    [theme=dark] .colab-df-convert:hover {\n",
              "      background-color: #434B5C;\n",
              "      box-shadow: 0px 1px 3px 1px rgba(0, 0, 0, 0.15);\n",
              "      filter: drop-shadow(0px 1px 2px rgba(0, 0, 0, 0.3));\n",
              "      fill: #FFFFFF;\n",
              "    }\n",
              "  </style>\n",
              "\n",
              "      <script>\n",
              "        const buttonEl =\n",
              "          document.querySelector('#df-9ae7e841-2a07-4a05-8cdb-71dc92ad5336 button.colab-df-convert');\n",
              "        buttonEl.style.display =\n",
              "          google.colab.kernel.accessAllowed ? 'block' : 'none';\n",
              "\n",
              "        async function convertToInteractive(key) {\n",
              "          const element = document.querySelector('#df-9ae7e841-2a07-4a05-8cdb-71dc92ad5336');\n",
              "          const dataTable =\n",
              "            await google.colab.kernel.invokeFunction('convertToInteractive',\n",
              "                                                     [key], {});\n",
              "          if (!dataTable) return;\n",
              "\n",
              "          const docLinkHtml = 'Like what you see? Visit the ' +\n",
              "            '<a target=\"_blank\" href=https://colab.research.google.com/notebooks/data_table.ipynb>data table notebook</a>'\n",
              "            + ' to learn more about interactive tables.';\n",
              "          element.innerHTML = '';\n",
              "          dataTable['output_type'] = 'display_data';\n",
              "          await google.colab.output.renderOutput(dataTable, element);\n",
              "          const docLink = document.createElement('div');\n",
              "          docLink.innerHTML = docLinkHtml;\n",
              "          element.appendChild(docLink);\n",
              "        }\n",
              "      </script>\n",
              "    </div>\n",
              "  </div>\n",
              "  "
            ]
          },
          "metadata": {},
          "execution_count": 31
        }
      ]
    },
    {
      "cell_type": "markdown",
      "source": [
        "### Observation for p=1.5 \n",
        "#### By above table we can see that value of difference between estimated revenue and  actual revenue for i=1,3,4,5 is not so large but values of estimated revenue has a big difference with actual revenue for i = 2,6."
      ],
      "metadata": {
        "id": "8651y_m0t2uo"
      }
    },
    {
      "cell_type": "code",
      "source": [
        "df"
      ],
      "metadata": {
        "colab": {
          "base_uri": "https://localhost:8080/",
          "height": 237
        },
        "id": "yFKXcNYq2fVi",
        "outputId": "eb779e22-89f9-442e-ceac-4c729695d050"
      },
      "execution_count": 32,
      "outputs": [
        {
          "output_type": "execute_result",
          "data": {
            "text/plain": [
              "   i    Ri    Vi     Bi   Ai  Averageview  Averageskipads  Ri for p=1  \\\n",
              "0  1   175   945   2800   23     2.962963        0.024339  230.171655   \n",
              "1  2   450   832   3900   40     4.687500        0.048077  449.999999   \n",
              "2  3  1050  2007  24900   78    12.406577        0.038864  398.270403   \n",
              "3  4   900   800  36450   64    45.562500        0.080000  899.999999   \n",
              "4  5    19   780    366    4     0.469231        0.005128   47.876801   \n",
              "5  6  3550  5005  38500  150     7.692308        0.029970  299.619348   \n",
              "\n",
              "   Ri for p=1.5  \n",
              "0    628.702108  \n",
              "1    747.407450  \n",
              "2    724.183923  \n",
              "3   1012.052170  \n",
              "4    529.647922  \n",
              "5    668.629012  "
            ],
            "text/html": [
              "\n",
              "  <div id=\"df-ff7d3565-0c97-4f43-ab43-82328a82f36e\">\n",
              "    <div class=\"colab-df-container\">\n",
              "      <div>\n",
              "<style scoped>\n",
              "    .dataframe tbody tr th:only-of-type {\n",
              "        vertical-align: middle;\n",
              "    }\n",
              "\n",
              "    .dataframe tbody tr th {\n",
              "        vertical-align: top;\n",
              "    }\n",
              "\n",
              "    .dataframe thead th {\n",
              "        text-align: right;\n",
              "    }\n",
              "</style>\n",
              "<table border=\"1\" class=\"dataframe\">\n",
              "  <thead>\n",
              "    <tr style=\"text-align: right;\">\n",
              "      <th></th>\n",
              "      <th>i</th>\n",
              "      <th>Ri</th>\n",
              "      <th>Vi</th>\n",
              "      <th>Bi</th>\n",
              "      <th>Ai</th>\n",
              "      <th>Averageview</th>\n",
              "      <th>Averageskipads</th>\n",
              "      <th>Ri for p=1</th>\n",
              "      <th>Ri for p=1.5</th>\n",
              "    </tr>\n",
              "  </thead>\n",
              "  <tbody>\n",
              "    <tr>\n",
              "      <th>0</th>\n",
              "      <td>1</td>\n",
              "      <td>175</td>\n",
              "      <td>945</td>\n",
              "      <td>2800</td>\n",
              "      <td>23</td>\n",
              "      <td>2.962963</td>\n",
              "      <td>0.024339</td>\n",
              "      <td>230.171655</td>\n",
              "      <td>628.702108</td>\n",
              "    </tr>\n",
              "    <tr>\n",
              "      <th>1</th>\n",
              "      <td>2</td>\n",
              "      <td>450</td>\n",
              "      <td>832</td>\n",
              "      <td>3900</td>\n",
              "      <td>40</td>\n",
              "      <td>4.687500</td>\n",
              "      <td>0.048077</td>\n",
              "      <td>449.999999</td>\n",
              "      <td>747.407450</td>\n",
              "    </tr>\n",
              "    <tr>\n",
              "      <th>2</th>\n",
              "      <td>3</td>\n",
              "      <td>1050</td>\n",
              "      <td>2007</td>\n",
              "      <td>24900</td>\n",
              "      <td>78</td>\n",
              "      <td>12.406577</td>\n",
              "      <td>0.038864</td>\n",
              "      <td>398.270403</td>\n",
              "      <td>724.183923</td>\n",
              "    </tr>\n",
              "    <tr>\n",
              "      <th>3</th>\n",
              "      <td>4</td>\n",
              "      <td>900</td>\n",
              "      <td>800</td>\n",
              "      <td>36450</td>\n",
              "      <td>64</td>\n",
              "      <td>45.562500</td>\n",
              "      <td>0.080000</td>\n",
              "      <td>899.999999</td>\n",
              "      <td>1012.052170</td>\n",
              "    </tr>\n",
              "    <tr>\n",
              "      <th>4</th>\n",
              "      <td>5</td>\n",
              "      <td>19</td>\n",
              "      <td>780</td>\n",
              "      <td>366</td>\n",
              "      <td>4</td>\n",
              "      <td>0.469231</td>\n",
              "      <td>0.005128</td>\n",
              "      <td>47.876801</td>\n",
              "      <td>529.647922</td>\n",
              "    </tr>\n",
              "    <tr>\n",
              "      <th>5</th>\n",
              "      <td>6</td>\n",
              "      <td>3550</td>\n",
              "      <td>5005</td>\n",
              "      <td>38500</td>\n",
              "      <td>150</td>\n",
              "      <td>7.692308</td>\n",
              "      <td>0.029970</td>\n",
              "      <td>299.619348</td>\n",
              "      <td>668.629012</td>\n",
              "    </tr>\n",
              "  </tbody>\n",
              "</table>\n",
              "</div>\n",
              "      <button class=\"colab-df-convert\" onclick=\"convertToInteractive('df-ff7d3565-0c97-4f43-ab43-82328a82f36e')\"\n",
              "              title=\"Convert this dataframe to an interactive table.\"\n",
              "              style=\"display:none;\">\n",
              "        \n",
              "  <svg xmlns=\"http://www.w3.org/2000/svg\" height=\"24px\"viewBox=\"0 0 24 24\"\n",
              "       width=\"24px\">\n",
              "    <path d=\"M0 0h24v24H0V0z\" fill=\"none\"/>\n",
              "    <path d=\"M18.56 5.44l.94 2.06.94-2.06 2.06-.94-2.06-.94-.94-2.06-.94 2.06-2.06.94zm-11 1L8.5 8.5l.94-2.06 2.06-.94-2.06-.94L8.5 2.5l-.94 2.06-2.06.94zm10 10l.94 2.06.94-2.06 2.06-.94-2.06-.94-.94-2.06-.94 2.06-2.06.94z\"/><path d=\"M17.41 7.96l-1.37-1.37c-.4-.4-.92-.59-1.43-.59-.52 0-1.04.2-1.43.59L10.3 9.45l-7.72 7.72c-.78.78-.78 2.05 0 2.83L4 21.41c.39.39.9.59 1.41.59.51 0 1.02-.2 1.41-.59l7.78-7.78 2.81-2.81c.8-.78.8-2.07 0-2.86zM5.41 20L4 18.59l7.72-7.72 1.47 1.35L5.41 20z\"/>\n",
              "  </svg>\n",
              "      </button>\n",
              "      \n",
              "  <style>\n",
              "    .colab-df-container {\n",
              "      display:flex;\n",
              "      flex-wrap:wrap;\n",
              "      gap: 12px;\n",
              "    }\n",
              "\n",
              "    .colab-df-convert {\n",
              "      background-color: #E8F0FE;\n",
              "      border: none;\n",
              "      border-radius: 50%;\n",
              "      cursor: pointer;\n",
              "      display: none;\n",
              "      fill: #1967D2;\n",
              "      height: 32px;\n",
              "      padding: 0 0 0 0;\n",
              "      width: 32px;\n",
              "    }\n",
              "\n",
              "    .colab-df-convert:hover {\n",
              "      background-color: #E2EBFA;\n",
              "      box-shadow: 0px 1px 2px rgba(60, 64, 67, 0.3), 0px 1px 3px 1px rgba(60, 64, 67, 0.15);\n",
              "      fill: #174EA6;\n",
              "    }\n",
              "\n",
              "    [theme=dark] .colab-df-convert {\n",
              "      background-color: #3B4455;\n",
              "      fill: #D2E3FC;\n",
              "    }\n",
              "\n",
              "    [theme=dark] .colab-df-convert:hover {\n",
              "      background-color: #434B5C;\n",
              "      box-shadow: 0px 1px 3px 1px rgba(0, 0, 0, 0.15);\n",
              "      filter: drop-shadow(0px 1px 2px rgba(0, 0, 0, 0.3));\n",
              "      fill: #FFFFFF;\n",
              "    }\n",
              "  </style>\n",
              "\n",
              "      <script>\n",
              "        const buttonEl =\n",
              "          document.querySelector('#df-ff7d3565-0c97-4f43-ab43-82328a82f36e button.colab-df-convert');\n",
              "        buttonEl.style.display =\n",
              "          google.colab.kernel.accessAllowed ? 'block' : 'none';\n",
              "\n",
              "        async function convertToInteractive(key) {\n",
              "          const element = document.querySelector('#df-ff7d3565-0c97-4f43-ab43-82328a82f36e');\n",
              "          const dataTable =\n",
              "            await google.colab.kernel.invokeFunction('convertToInteractive',\n",
              "                                                     [key], {});\n",
              "          if (!dataTable) return;\n",
              "\n",
              "          const docLinkHtml = 'Like what you see? Visit the ' +\n",
              "            '<a target=\"_blank\" href=https://colab.research.google.com/notebooks/data_table.ipynb>data table notebook</a>'\n",
              "            + ' to learn more about interactive tables.';\n",
              "          element.innerHTML = '';\n",
              "          dataTable['output_type'] = 'display_data';\n",
              "          await google.colab.output.renderOutput(dataTable, element);\n",
              "          const docLink = document.createElement('div');\n",
              "          docLink.innerHTML = docLinkHtml;\n",
              "          element.appendChild(docLink);\n",
              "        }\n",
              "      </script>\n",
              "    </div>\n",
              "  </div>\n",
              "  "
            ]
          },
          "metadata": {},
          "execution_count": 32
        }
      ]
    },
    {
      "cell_type": "markdown",
      "source": [
        "### Observation For p=1:\n",
        "#### Similarly we can see that value of estimated revenue is approximately equal to actual revenue for i = 2,4.But for i=1,5 difference between estimated revenue and actual revenue is small but for i= 3,6 difference between estimated revenue and actual revenue is so large."
      ],
      "metadata": {
        "id": "MqqId-xZ22CT"
      }
    },
    {
      "cell_type": "code",
      "source": [
        "# for p=2 , estimated umoney:\n",
        "a0=884.3228471751012\n",
        "a1=1.8562371587132973\n",
        "a2=3097.0698797873274\n",
        "df['Ri for p=2']=a0+a1*df['Averageview']+a2*df['Averageskipads']\n",
        "\n"
      ],
      "metadata": {
        "id": "_r1iRuGw1caX"
      },
      "execution_count": 33,
      "outputs": []
    },
    {
      "cell_type": "code",
      "source": [
        "df"
      ],
      "metadata": {
        "colab": {
          "base_uri": "https://localhost:8080/",
          "height": 237
        },
        "id": "_3Qdhyan0A0N",
        "outputId": "ef1b47d0-34fd-4557-d3fb-ffc238f811f3"
      },
      "execution_count": 34,
      "outputs": [
        {
          "output_type": "execute_result",
          "data": {
            "text/plain": [
              "   i    Ri    Vi     Bi   Ai  Averageview  Averageskipads  Ri for p=1  \\\n",
              "0  1   175   945   2800   23     2.962963        0.024339  230.171655   \n",
              "1  2   450   832   3900   40     4.687500        0.048077  449.999999   \n",
              "2  3  1050  2007  24900   78    12.406577        0.038864  398.270403   \n",
              "3  4   900   800  36450   64    45.562500        0.080000  899.999999   \n",
              "4  5    19   780    366    4     0.469231        0.005128   47.876801   \n",
              "5  6  3550  5005  38500  150     7.692308        0.029970  299.619348   \n",
              "\n",
              "   Ri for p=1.5   Ri for p=2  \n",
              "0    628.702108   965.201229  \n",
              "1    747.407450  1041.921549  \n",
              "2    724.183923  1027.716846  \n",
              "3   1012.052170  1216.663243  \n",
              "4    529.647922   901.076260  \n",
              "5    668.629012   991.420872  "
            ],
            "text/html": [
              "\n",
              "  <div id=\"df-adc21ce0-2825-4217-9dfc-ef66ab47879b\">\n",
              "    <div class=\"colab-df-container\">\n",
              "      <div>\n",
              "<style scoped>\n",
              "    .dataframe tbody tr th:only-of-type {\n",
              "        vertical-align: middle;\n",
              "    }\n",
              "\n",
              "    .dataframe tbody tr th {\n",
              "        vertical-align: top;\n",
              "    }\n",
              "\n",
              "    .dataframe thead th {\n",
              "        text-align: right;\n",
              "    }\n",
              "</style>\n",
              "<table border=\"1\" class=\"dataframe\">\n",
              "  <thead>\n",
              "    <tr style=\"text-align: right;\">\n",
              "      <th></th>\n",
              "      <th>i</th>\n",
              "      <th>Ri</th>\n",
              "      <th>Vi</th>\n",
              "      <th>Bi</th>\n",
              "      <th>Ai</th>\n",
              "      <th>Averageview</th>\n",
              "      <th>Averageskipads</th>\n",
              "      <th>Ri for p=1</th>\n",
              "      <th>Ri for p=1.5</th>\n",
              "      <th>Ri for p=2</th>\n",
              "    </tr>\n",
              "  </thead>\n",
              "  <tbody>\n",
              "    <tr>\n",
              "      <th>0</th>\n",
              "      <td>1</td>\n",
              "      <td>175</td>\n",
              "      <td>945</td>\n",
              "      <td>2800</td>\n",
              "      <td>23</td>\n",
              "      <td>2.962963</td>\n",
              "      <td>0.024339</td>\n",
              "      <td>230.171655</td>\n",
              "      <td>628.702108</td>\n",
              "      <td>965.201229</td>\n",
              "    </tr>\n",
              "    <tr>\n",
              "      <th>1</th>\n",
              "      <td>2</td>\n",
              "      <td>450</td>\n",
              "      <td>832</td>\n",
              "      <td>3900</td>\n",
              "      <td>40</td>\n",
              "      <td>4.687500</td>\n",
              "      <td>0.048077</td>\n",
              "      <td>449.999999</td>\n",
              "      <td>747.407450</td>\n",
              "      <td>1041.921549</td>\n",
              "    </tr>\n",
              "    <tr>\n",
              "      <th>2</th>\n",
              "      <td>3</td>\n",
              "      <td>1050</td>\n",
              "      <td>2007</td>\n",
              "      <td>24900</td>\n",
              "      <td>78</td>\n",
              "      <td>12.406577</td>\n",
              "      <td>0.038864</td>\n",
              "      <td>398.270403</td>\n",
              "      <td>724.183923</td>\n",
              "      <td>1027.716846</td>\n",
              "    </tr>\n",
              "    <tr>\n",
              "      <th>3</th>\n",
              "      <td>4</td>\n",
              "      <td>900</td>\n",
              "      <td>800</td>\n",
              "      <td>36450</td>\n",
              "      <td>64</td>\n",
              "      <td>45.562500</td>\n",
              "      <td>0.080000</td>\n",
              "      <td>899.999999</td>\n",
              "      <td>1012.052170</td>\n",
              "      <td>1216.663243</td>\n",
              "    </tr>\n",
              "    <tr>\n",
              "      <th>4</th>\n",
              "      <td>5</td>\n",
              "      <td>19</td>\n",
              "      <td>780</td>\n",
              "      <td>366</td>\n",
              "      <td>4</td>\n",
              "      <td>0.469231</td>\n",
              "      <td>0.005128</td>\n",
              "      <td>47.876801</td>\n",
              "      <td>529.647922</td>\n",
              "      <td>901.076260</td>\n",
              "    </tr>\n",
              "    <tr>\n",
              "      <th>5</th>\n",
              "      <td>6</td>\n",
              "      <td>3550</td>\n",
              "      <td>5005</td>\n",
              "      <td>38500</td>\n",
              "      <td>150</td>\n",
              "      <td>7.692308</td>\n",
              "      <td>0.029970</td>\n",
              "      <td>299.619348</td>\n",
              "      <td>668.629012</td>\n",
              "      <td>991.420872</td>\n",
              "    </tr>\n",
              "  </tbody>\n",
              "</table>\n",
              "</div>\n",
              "      <button class=\"colab-df-convert\" onclick=\"convertToInteractive('df-adc21ce0-2825-4217-9dfc-ef66ab47879b')\"\n",
              "              title=\"Convert this dataframe to an interactive table.\"\n",
              "              style=\"display:none;\">\n",
              "        \n",
              "  <svg xmlns=\"http://www.w3.org/2000/svg\" height=\"24px\"viewBox=\"0 0 24 24\"\n",
              "       width=\"24px\">\n",
              "    <path d=\"M0 0h24v24H0V0z\" fill=\"none\"/>\n",
              "    <path d=\"M18.56 5.44l.94 2.06.94-2.06 2.06-.94-2.06-.94-.94-2.06-.94 2.06-2.06.94zm-11 1L8.5 8.5l.94-2.06 2.06-.94-2.06-.94L8.5 2.5l-.94 2.06-2.06.94zm10 10l.94 2.06.94-2.06 2.06-.94-2.06-.94-.94-2.06-.94 2.06-2.06.94z\"/><path d=\"M17.41 7.96l-1.37-1.37c-.4-.4-.92-.59-1.43-.59-.52 0-1.04.2-1.43.59L10.3 9.45l-7.72 7.72c-.78.78-.78 2.05 0 2.83L4 21.41c.39.39.9.59 1.41.59.51 0 1.02-.2 1.41-.59l7.78-7.78 2.81-2.81c.8-.78.8-2.07 0-2.86zM5.41 20L4 18.59l7.72-7.72 1.47 1.35L5.41 20z\"/>\n",
              "  </svg>\n",
              "      </button>\n",
              "      \n",
              "  <style>\n",
              "    .colab-df-container {\n",
              "      display:flex;\n",
              "      flex-wrap:wrap;\n",
              "      gap: 12px;\n",
              "    }\n",
              "\n",
              "    .colab-df-convert {\n",
              "      background-color: #E8F0FE;\n",
              "      border: none;\n",
              "      border-radius: 50%;\n",
              "      cursor: pointer;\n",
              "      display: none;\n",
              "      fill: #1967D2;\n",
              "      height: 32px;\n",
              "      padding: 0 0 0 0;\n",
              "      width: 32px;\n",
              "    }\n",
              "\n",
              "    .colab-df-convert:hover {\n",
              "      background-color: #E2EBFA;\n",
              "      box-shadow: 0px 1px 2px rgba(60, 64, 67, 0.3), 0px 1px 3px 1px rgba(60, 64, 67, 0.15);\n",
              "      fill: #174EA6;\n",
              "    }\n",
              "\n",
              "    [theme=dark] .colab-df-convert {\n",
              "      background-color: #3B4455;\n",
              "      fill: #D2E3FC;\n",
              "    }\n",
              "\n",
              "    [theme=dark] .colab-df-convert:hover {\n",
              "      background-color: #434B5C;\n",
              "      box-shadow: 0px 1px 3px 1px rgba(0, 0, 0, 0.15);\n",
              "      filter: drop-shadow(0px 1px 2px rgba(0, 0, 0, 0.3));\n",
              "      fill: #FFFFFF;\n",
              "    }\n",
              "  </style>\n",
              "\n",
              "      <script>\n",
              "        const buttonEl =\n",
              "          document.querySelector('#df-adc21ce0-2825-4217-9dfc-ef66ab47879b button.colab-df-convert');\n",
              "        buttonEl.style.display =\n",
              "          google.colab.kernel.accessAllowed ? 'block' : 'none';\n",
              "\n",
              "        async function convertToInteractive(key) {\n",
              "          const element = document.querySelector('#df-adc21ce0-2825-4217-9dfc-ef66ab47879b');\n",
              "          const dataTable =\n",
              "            await google.colab.kernel.invokeFunction('convertToInteractive',\n",
              "                                                     [key], {});\n",
              "          if (!dataTable) return;\n",
              "\n",
              "          const docLinkHtml = 'Like what you see? Visit the ' +\n",
              "            '<a target=\"_blank\" href=https://colab.research.google.com/notebooks/data_table.ipynb>data table notebook</a>'\n",
              "            + ' to learn more about interactive tables.';\n",
              "          element.innerHTML = '';\n",
              "          dataTable['output_type'] = 'display_data';\n",
              "          await google.colab.output.renderOutput(dataTable, element);\n",
              "          const docLink = document.createElement('div');\n",
              "          docLink.innerHTML = docLinkHtml;\n",
              "          element.appendChild(docLink);\n",
              "        }\n",
              "      </script>\n",
              "    </div>\n",
              "  </div>\n",
              "  "
            ]
          },
          "metadata": {},
          "execution_count": 34
        }
      ]
    },
    {
      "cell_type": "markdown",
      "source": [
        "### Observations for p=2\n",
        "#### Here we can see that difference between estimated revenue and actual revenue is small for i =3 only. but for other i ,difference is much larger than this."
      ],
      "metadata": {
        "id": "PDOT1kfe3_Gi"
      }
    },
    {
      "cell_type": "markdown",
      "source": [
        "### 8. [R] For each value of p ∈ {1, 1.5, 2}, prepare different plots depicting the actual revenue Ri and the forecast value eRi obtained using your optimization models for the data provided. Based on the plots, comment with suitable justifications if the forecast model that you have assumed would be good fit for the given data.\n",
        "#### Answer:\n"
      ],
      "metadata": {
        "id": "SsBgDE2f5x0A"
      }
    },
    {
      "cell_type": "code",
      "source": [
        "\n",
        "plt.scatter(range(6),df['Ri for p=1.5'],label='p=1.5',color='Blue')\n",
        "plt.scatter(range(6),df['Ri for p=1'],label='p=1',color='Yellow')\n",
        "plt.scatter(range(6),df['Ri for p=2'],label='p=2',color='Red')\n",
        "plt.scatter(range(6),df['Ri'],label='Actual Ri',color='Green')\n",
        "plt.xlabel('Video')\n",
        "plt.ylabel('umoney')\n",
        "plt.legend();"
      ],
      "metadata": {
        "colab": {
          "base_uri": "https://localhost:8080/",
          "height": 279
        },
        "id": "-KPoSmM72U60",
        "outputId": "750a8c13-2f1a-4061-f578-3ee3a5827896"
      },
      "execution_count": 35,
      "outputs": [
        {
          "output_type": "display_data",
          "data": {
            "text/plain": [
              "<Figure size 432x288 with 1 Axes>"
            ],
            "image/png": "[encoded data removed]"
          },
          "metadata": {
            "needs_background": "light"
          }
        }
      ]
    },
    {
      "cell_type": "code",
      "source": [
        "plt.scatter(range(6),df['Ri for p=1'],label='p=1',color='Yellow')\n",
        "plt.scatter(range(6),df['Ri'],label='Actual Ri',color='Green')\n",
        "plt.xlabel('Video')\n",
        "plt.ylabel('umoney')\n",
        "plt.legend();\n"
      ],
      "metadata": {
        "colab": {
          "base_uri": "https://localhost:8080/",
          "height": 279
        },
        "id": "qix3hk9zVk5Y",
        "outputId": "96066809-2e5e-415e-d3a1-698d44d9db55"
      },
      "execution_count": 36,
      "outputs": [
        {
          "output_type": "display_data",
          "data": {
            "text/plain": [
              "<Figure size 432x288 with 1 Axes>"
            ],
            "image/png": "[encoded data removed]"
          },
          "metadata": {
            "needs_background": "light"
          }
        }
      ]
    },
    {
      "cell_type": "code",
      "source": [
        "plt.scatter(range(6),df['Ri for p=1.5'],label='p=1.5',color='Blue')\n",
        "plt.scatter(range(6),df['Ri'],label='Actual Ri',color='Green')\n",
        "plt.xlabel('Video')\n",
        "plt.ylabel('umoney')\n",
        "plt.legend();\n"
      ],
      "metadata": {
        "colab": {
          "base_uri": "https://localhost:8080/",
          "height": 279
        },
        "id": "N0uWpSxwVwhM",
        "outputId": "96eb09f6-a043-4b13-d675-68a6b4c57d5d"
      },
      "execution_count": 37,
      "outputs": [
        {
          "output_type": "display_data",
          "data": {
            "text/plain": [
              "<Figure size 432x288 with 1 Axes>"
            ],
            "image/png": "[encoded data removed]"
          },
          "metadata": {
            "needs_background": "light"
          }
        }
      ]
    },
    {
      "cell_type": "code",
      "source": [
        "plt.scatter(range(6),df['Ri for p=2'],label='p=2',color='Red')\n",
        "plt.scatter(range(6),df['Ri'],label='Actual Ri',color='Green')\n",
        "plt.xlabel('Video')\n",
        "plt.ylabel('umoney')\n",
        "plt.legend();\n",
        "\n"
      ],
      "metadata": {
        "id": "OX_Ue2-YV3x-",
        "outputId": "fd932fe4-4fe9-4122-8482-7059df9d0f62",
        "colab": {
          "base_uri": "https://localhost:8080/",
          "height": 279
        }
      },
      "execution_count": 38,
      "outputs": [
        {
          "output_type": "display_data",
          "data": {
            "text/plain": [
              "<Figure size 432x288 with 1 Axes>"
            ],
            "image/png": "[encoded data removed]"
          },
          "metadata": {
            "needs_background": "light"
          }
        }
      ]
    },
    {
      "cell_type": "code",
      "source": [
        "x=np.arange(1,7)\n",
        "width=0.40\n",
        "rects1= plt.bar(x-0.20,df['Ri for p=1.5'],width=0.10,alpha=0.5,label='P=1.5',color='Blue')\n",
        "rects2= plt.bar(x-0.10,df['Ri for p=1'],width=0.10,alpha=0.5,label='P=1',color='Yellow')\n",
        "rects3= plt.bar(x+0.00,df['Ri for p=2'],width=0.10,alpha=0.5,label='P=2',color='Red')\n",
        "rects4= plt.bar(x+0.10,df['Ri'],width=0.10,alpha=0.5,label='Actual Ri',color='Green')\n",
        "plt.legend();"
      ],
      "metadata": {
        "colab": {
          "base_uri": "https://localhost:8080/",
          "height": 265
        },
        "id": "dPKAsWZenLMr",
        "outputId": "8532708d-55ed-4c2f-ee50-85f2c4458ad6"
      },
      "execution_count": 39,
      "outputs": [
        {
          "output_type": "display_data",
          "data": {
            "text/plain": [
              "<Figure size 432x288 with 1 Axes>"
            ],
            "image/png": "[encoded data removed]"
          },
          "metadata": {
            "needs_background": "light"
          }
        }
      ]
    },
    {
      "cell_type": "markdown",
      "source": [
        "#### Answer8: By observing above we can say that For p=1 , the forecast model estimated the revenue approximately equal to actual revenue for video=1,2,4,5.But for video=3,6 ,the forcast model can't estimate properly.\n",
        "\n",
        "### for p=1.5, the forecast model does not estimate the revenue approximately to actual revenue but the difference between actual revenue and estimated revenue is smaller in comparison of observations for p=1.\n",
        "\n",
        "### for p=2 , the forecast model does not estimate the revenue approximately to actual revenue but hte difference between actual revenue and estimated rvenue is smaller in comparison of observations for both p=1 and p=1.5.\n",
        "\n",
        "---\n",
        "\n"
      ],
      "metadata": {
        "id": "Vgb-dkmI5sVr"
      }
    },
    {
      "cell_type": "code",
      "source": [
        "MSS_p1= sum((df['Ri'][i]-df['Ri for p=1'][i])**2 for i in range(6))/6\n",
        "MSS_p2= sum((df['Ri'][i]-df['Ri for p=1.5'][i])**2 for i in range(6))/6\n",
        "MSS_p3= sum((df['Ri'][i]-df['Ri for p=2'][i])**2 for i in range(6))/6\n"
      ],
      "metadata": {
        "id": "NGCFY3Sj7TkG"
      },
      "execution_count": 40,
      "outputs": []
    },
    {
      "cell_type": "code",
      "source": [
        "print(MSS_p1)\n",
        "print(MSS_p2)\n",
        "print(MSS_p3)"
      ],
      "metadata": {
        "colab": {
          "base_uri": "https://localhost:8080/"
        },
        "id": "NTwleJmC-jTb",
        "outputId": "dfbcb86e-9103-41f4-9e0c-c8041317df4f"
      },
      "execution_count": 41,
      "outputs": [
        {
          "output_type": "stream",
          "name": "stdout",
          "text": [
            "1832267.272435175\n",
            "1496011.445344473\n",
            "1399991.1561852396\n"
          ]
        }
      ]
    },
    {
      "cell_type": "markdown",
      "source": [
        "### 9. [R] Based on your results and plots, suggest using appropriate reasons which value of p is good for your problem among the three different choices you tried.\n",
        "##### Answer: Among values {1,1.5,2}, for p=2  forecast model gives better esitmation for problem since mean square error is least for p=2."
      ],
      "metadata": {
        "id": "a4N14Hj_6yv8"
      }
    },
    {
      "cell_type": "code",
      "source": [],
      "metadata": {
        "id": "Few0sb8Sn5Tj"
      },
      "execution_count": null,
      "outputs": []
    }
  ]
}