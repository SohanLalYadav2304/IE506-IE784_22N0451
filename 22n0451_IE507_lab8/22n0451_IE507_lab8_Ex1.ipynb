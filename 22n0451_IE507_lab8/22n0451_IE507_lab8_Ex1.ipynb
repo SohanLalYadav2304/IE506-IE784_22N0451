{
  "nbformat": 4,
  "nbformat_minor": 0,
  "metadata": {
    "colab": {
      "provenance": [],
      "collapsed_sections": []
    },
    "kernelspec": {
      "name": "python3",
      "display_name": "Python 3"
    },
    "language_info": {
      "name": "python"
    }
  },
  "cells": [
    {
      "cell_type": "code",
      "execution_count": 1,
      "metadata": {
        "id": "Afb7JNy5bqz4",
        "colab": {
          "base_uri": "https://localhost:8080/"
        },
        "outputId": "c9a49e2f-f375-4483-f55b-bc721f7e489d"
      },
      "outputs": [
        {
          "output_type": "stream",
          "name": "stdout",
          "text": [
            "\u001b[K     |████████████████████████████████| 9.7 MB 29.2 MB/s \n",
            "\u001b[K     |████████████████████████████████| 49 kB 5.6 MB/s \n",
            "\u001b[?25h"
          ]
        }
      ],
      "source": [
        "!pip install -q pyomo"
      ]
    },
    {
      "cell_type": "code",
      "source": [
        "import pandas as pd\n",
        "import numpy as np"
      ],
      "metadata": {
        "id": "INDE2fp85L-y"
      },
      "execution_count": 2,
      "outputs": []
    },
    {
      "cell_type": "code",
      "source": [
        "from pyomo.environ import *"
      ],
      "metadata": {
        "id": "qr0n7Lw9b1QM"
      },
      "execution_count": 3,
      "outputs": []
    },
    {
      "cell_type": "markdown",
      "source": [
        "## Ques1. Consider the following Optimization problem:\n",
        "min $f(x_1,x_2,x_3,x_4,x_5) = (x_1-1)^2+(x_1-x_2)^2+(x_2-x_3)^2+(x_3-x_4)^4+(x_4-x_5)^4,  $ \\\\\n",
        "st. $x_1+x_2^2+x_3^3-2-3\\sqrt2=0 \\\\\n",
        "x_2-x_3^2+x_4+2-2\\sqrt2=0 \\\\\n",
        "x_1x_5-2=0 \\\\\n",
        "-5\\leq x_3\\leq5 \\\\\n",
        "0\\leq x_3 \\leq 3 $ \\\\\n",
        "Solve the above optimization problem with initail values starting point $(x_1, x_2, x_3, x_4, x_5) $= (2, 2, 2, 2, 2)\n",
        "## Solution: \n",
        "Since given optimization problem is non linear optimization problem.So using pyomo:\n",
        "\n",
        "\n"
      ],
      "metadata": {
        "id": "xkepgVJwv4fS"
      }
    },
    {
      "cell_type": "code",
      "source": [
        "# Creating a model\n",
        "model=ConcreteModel()"
      ],
      "metadata": {
        "id": "LoGjF1FjcBKI"
      },
      "execution_count": 4,
      "outputs": []
    },
    {
      "cell_type": "code",
      "source": [
        "model.x1 = Var(initialize=2.)\n",
        "model.x2 = Var(initialize=2.)\n",
        "model.x3 = Var(initialize=2.)\n",
        "model.x4 = Var(initialize=2.)\n",
        "model.x5 = Var(initialize=2.)"
      ],
      "metadata": {
        "id": "7shqc_QJcFPY"
      },
      "execution_count": 5,
      "outputs": []
    },
    {
      "cell_type": "code",
      "source": [
        "model.constr1= Constraint(expr= model.x1+(model.x2)**2 + (model.x3)**3 -2 -3*(2)**0.5==0)\n",
        "model.constr2= Constraint(expr= model.x2-(model.x3)**2 +model.x4+ 2-2*(2)**0.5==0)\n",
        "model.constr3= Constraint(expr= model.x1*model.x5-2==0)\n",
        "model.constr4= Constraint(expr= model.x1>=-5)\n",
        "model.constr5= Constraint(expr= model.x1<=5)\n",
        "model.constr6= Constraint(expr= model.x3>=0)\n",
        "model.constr7= Constraint(expr= model.x3<=3)"
      ],
      "metadata": {
        "id": "5JGBdvtycb3x"
      },
      "execution_count": 6,
      "outputs": []
    },
    {
      "cell_type": "code",
      "source": [
        "def fun(model):\n",
        "  return (model.x1-1)**2 + (model.x1-model.x2)**2 + (model.x2-model.x3)**2+ (model.x3-model.x4)**4 + (model.x4-model.x5)**4"
      ],
      "metadata": {
        "id": "NtzxC7UgcjI_"
      },
      "execution_count": 7,
      "outputs": []
    },
    {
      "cell_type": "code",
      "source": [
        "model.cost= Objective(rule=fun, sense=minimize)"
      ],
      "metadata": {
        "id": "S_X0TRTifKql"
      },
      "execution_count": 8,
      "outputs": []
    },
    {
      "cell_type": "code",
      "source": [
        "model.pprint()"
      ],
      "metadata": {
        "colab": {
          "base_uri": "https://localhost:8080/"
        },
        "id": "yzlhC9uffvX-",
        "outputId": "316d525c-de53-4e5c-f9fd-c55d103f4299"
      },
      "execution_count": 9,
      "outputs": [
        {
          "output_type": "stream",
          "name": "stdout",
          "text": [
            "5 Var Declarations\n",
            "    x1 : Size=1, Index=None\n",
            "        Key  : Lower : Value : Upper : Fixed : Stale : Domain\n",
            "        None :  None :   2.0 :  None : False : False :  Reals\n",
            "    x2 : Size=1, Index=None\n",
            "        Key  : Lower : Value : Upper : Fixed : Stale : Domain\n",
            "        None :  None :   2.0 :  None : False : False :  Reals\n",
            "    x3 : Size=1, Index=None\n",
            "        Key  : Lower : Value : Upper : Fixed : Stale : Domain\n",
            "        None :  None :   2.0 :  None : False : False :  Reals\n",
            "    x4 : Size=1, Index=None\n",
            "        Key  : Lower : Value : Upper : Fixed : Stale : Domain\n",
            "        None :  None :   2.0 :  None : False : False :  Reals\n",
            "    x5 : Size=1, Index=None\n",
            "        Key  : Lower : Value : Upper : Fixed : Stale : Domain\n",
            "        None :  None :   2.0 :  None : False : False :  Reals\n",
            "\n",
            "1 Objective Declarations\n",
            "    cost : Size=1, Index=None, Active=True\n",
            "        Key  : Active : Sense    : Expression\n",
            "        None :   True : minimize : (x1 - 1)**2 + (x1 - x2)**2 + (x2 - x3)**2 + (x3 - x4)**4 + (x4 - x5)**4\n",
            "\n",
            "7 Constraint Declarations\n",
            "    constr1 : Size=1, Index=None, Active=True\n",
            "        Key  : Lower : Body                                       : Upper : Active\n",
            "        None :   0.0 : x1 + x2**2 + x3**3 - 2 - 4.242640687119286 :   0.0 :   True\n",
            "    constr2 : Size=1, Index=None, Active=True\n",
            "        Key  : Lower : Body                                     : Upper : Active\n",
            "        None :   0.0 : x2 - x3**2 + x4 + 2 - 2.8284271247461903 :   0.0 :   True\n",
            "    constr3 : Size=1, Index=None, Active=True\n",
            "        Key  : Lower : Body      : Upper : Active\n",
            "        None :   0.0 : x1*x5 - 2 :   0.0 :   True\n",
            "    constr4 : Size=1, Index=None, Active=True\n",
            "        Key  : Lower : Body : Upper : Active\n",
            "        None :  -5.0 :   x1 :  +Inf :   True\n",
            "    constr5 : Size=1, Index=None, Active=True\n",
            "        Key  : Lower : Body : Upper : Active\n",
            "        None :  -Inf :   x1 :   5.0 :   True\n",
            "    constr6 : Size=1, Index=None, Active=True\n",
            "        Key  : Lower : Body : Upper : Active\n",
            "        None :   0.0 :   x3 :  +Inf :   True\n",
            "    constr7 : Size=1, Index=None, Active=True\n",
            "        Key  : Lower : Body : Upper : Active\n",
            "        None :  -Inf :   x3 :   3.0 :   True\n",
            "\n",
            "13 Declarations: x1 x2 x3 x4 x5 constr1 constr2 constr3 constr4 constr5 constr6 constr7 cost\n"
          ]
        }
      ]
    },
    {
      "cell_type": "code",
      "source": [
        "!wget -N -q \"https://ampl.com/dl/open/ipopt/ipopt-linux64.zip\"\n",
        "!unzip -o -q ipopt-linux64"
      ],
      "metadata": {
        "id": "cC_CHJV8fxtR"
      },
      "execution_count": 10,
      "outputs": []
    },
    {
      "cell_type": "code",
      "source": [
        "solver = SolverFactory('ipopt', executable='/content/ipopt')"
      ],
      "metadata": {
        "id": "PkIWJphdf6nH"
      },
      "execution_count": 11,
      "outputs": []
    },
    {
      "cell_type": "code",
      "source": [
        "results = solver.solve(model)"
      ],
      "metadata": {
        "id": "PYj2Uinnf8zx"
      },
      "execution_count": 12,
      "outputs": []
    },
    {
      "cell_type": "code",
      "source": [
        "print(results)"
      ],
      "metadata": {
        "colab": {
          "base_uri": "https://localhost:8080/"
        },
        "id": "jXa4Zw_wf-t8",
        "outputId": "c2ff4eb8-9ac4-465b-f2af-cdda2473a5db"
      },
      "execution_count": 13,
      "outputs": [
        {
          "output_type": "stream",
          "name": "stdout",
          "text": [
            "\n",
            "Problem: \n",
            "- Lower bound: -inf\n",
            "  Upper bound: inf\n",
            "  Number of objectives: 1\n",
            "  Number of constraints: 7\n",
            "  Number of variables: 5\n",
            "  Sense: unknown\n",
            "Solver: \n",
            "- Status: ok\n",
            "  Message: Ipopt 3.12.13\\x3a Optimal Solution Found\n",
            "  Termination condition: optimal\n",
            "  Id: 0\n",
            "  Error rc: 0\n",
            "  Time: 0.023660898208618164\n",
            "Solution: \n",
            "- number of solutions: 0\n",
            "  number of solutions displayed: 0\n",
            "\n"
          ]
        }
      ]
    },
    {
      "cell_type": "code",
      "source": [
        "results.solver.time"
      ],
      "metadata": {
        "colab": {
          "base_uri": "https://localhost:8080/"
        },
        "id": "2uC9zokx5_K2",
        "outputId": "163d175d-467a-4589-f92d-84cafae32df6"
      },
      "execution_count": 14,
      "outputs": [
        {
          "output_type": "execute_result",
          "data": {
            "text/plain": [
              "0.023660898208618164"
            ]
          },
          "metadata": {},
          "execution_count": 14
        }
      ]
    },
    {
      "cell_type": "code",
      "source": [
        "print('\\nCost = ', model.cost())\n",
        "\n",
        "print('\\nOptimal solution:')\n",
        "print('x1 = ', model.x1())\n",
        "print('x2 = ', model.x2())\n",
        "print('x3 = ', model.x3())\n",
        "print('x4 = ', model.x4())\n",
        "print('x5 = ', model.x5())\n",
        "\n",
        "print('\\nConstraints')\n",
        "print('Constraint 1  = ', model.constr1())\n",
        "print('Constraint 2  = ', model.constr2())\n",
        "print('Constraint 3  = ', model.constr3())\n",
        "print('Constraint 4  = ', model.constr4())\n",
        "print('Constraint 5  = ', model.constr5())\n",
        "print('Constraint 6  = ', model.constr6())\n",
        "print('Constraint 7  = ', model.constr7())\n",
        "\n"
      ],
      "metadata": {
        "colab": {
          "base_uri": "https://localhost:8080/"
        },
        "id": "0h9-h64BgBoE",
        "outputId": "f47f5241-e850-4223-ae1d-1fe0f47ab59c"
      },
      "execution_count": 15,
      "outputs": [
        {
          "output_type": "stream",
          "name": "stdout",
          "text": [
            "\n",
            "Cost =  0.07877682087105699\n",
            "\n",
            "Optimal solution:\n",
            "x1 =  1.1911274562403504\n",
            "x2 =  1.3626031649434767\n",
            "x3 =  1.4728179315306016\n",
            "x4 =  1.6350166192407933\n",
            "x5 =  1.6790814362660684\n",
            "\n",
            "Constraints\n",
            "Constraint 1  =  1.7763568394002505e-15\n",
            "Constraint 2  =  -4.440892098500626e-16\n",
            "Constraint 3  =  -3.774758283725532e-15\n",
            "Constraint 4  =  1.1911274562403504\n",
            "Constraint 5  =  1.1911274562403504\n",
            "Constraint 6  =  1.4728179315306016\n",
            "Constraint 7  =  1.4728179315306016\n"
          ]
        }
      ]
    },
    {
      "cell_type": "markdown",
      "source": [
        "## 3.[R] Report the solver status, time taken to solve and solver termination condition.\n",
        "## Answer: \n",
        "Solver status: Ok \\\\\n",
        "\n",
        "Time taken to solve:  0.025565147399902344 \\\\\n",
        "Solver Termination Condition: Optimal"
      ],
      "metadata": {
        "id": "czOZU2Bmy9ba"
      }
    },
    {
      "cell_type": "markdown",
      "source": [
        "## 4. [R] Report the optimal objective function value and optimal values of the optimization variables.\n",
        "## Answer:\n",
        "Optimal objective function value: 0.07877682087105699 \\\\\n",
        "Optimal values of variables: \\\\\n",
        "$x_1 =  1.1911274562403504 \\\\\n",
        "x_2 =  1.3626031649434767 \\\\\n",
        "x_3 =  1.4728179315306016 \\\\\n",
        "x_4 =  1.6350166192407933 \\\\\n",
        "x_5 =  1.6790814362660684$\n"
      ],
      "metadata": {
        "id": "h_A-BTYFzrv5"
      }
    },
    {
      "cell_type": "markdown",
      "source": [
        "## 5. [R] Report if the constraints are active or inactive at the optimal solution.\n",
        "## Answer: \n",
        "At the optimal solution constraint1, 2 and 3 (ie.$x_1+x_2^2+x_3^3-2-3\\sqrt2=0,x_2-x_3^2+x_4+2-2\\sqrt2=0 \\ and \\ \n",
        "x_1x_5-2=0 $ ) are active since value of RHS is zero in constraints and in optimal solution value of these constrains are approximately zero.So all the three constraints are active constraints. \\\\\n",
        "value of $x_3= 1.4728179315306016 $ which does not belongs to set {-5,5} so constraints 4,5 ($-5\\leq x_3 \\ and  \\ x_3 \\leq5$)  are inactive. \\\\\n",
        "Similarly value of $x_5= 1.6790814362660684 $ which does not belongs to set {0,3} so constraints 6,7 ($0\\leq x_5 \\ and  \\ x_5 \\leq3$)  are inactive.\n",
        "\n"
      ],
      "metadata": {
        "id": "UJJP1YF10MqI"
      }
    },
    {
      "cell_type": "markdown",
      "source": [
        "##  6. [R] Solve the model using the following choices of starting points: $(x_1, x_2, x_3, x_4, x_5) =(2^i, 2^i, 2^i, 2^i, 2^i)$ for i = 2, 4, 8, 10, 12. Tabulate the optimal solution, optimal values of optimizationvariables and time taken to solve, for each i. Comment on your observations\n",
        "## Answer:\n",
        "First we solve the problem for each i:"
      ],
      "metadata": {
        "id": "w7LKQ8V33WS4"
      }
    },
    {
      "cell_type": "code",
      "source": [
        "a=[2**i for i in [2,4,8,10,12]]"
      ],
      "metadata": {
        "id": "gOWCdZfJhTv8"
      },
      "execution_count": 16,
      "outputs": []
    },
    {
      "cell_type": "code",
      "source": [
        "a"
      ],
      "metadata": {
        "colab": {
          "base_uri": "https://localhost:8080/"
        },
        "id": "c7V_ATJyjNpt",
        "outputId": "76b8dda5-16e0-45f4-94ff-2ebe40ac2a83"
      },
      "execution_count": 17,
      "outputs": [
        {
          "output_type": "execute_result",
          "data": {
            "text/plain": [
              "[4, 16, 256, 1024, 4096]"
            ]
          },
          "metadata": {},
          "execution_count": 17
        }
      ]
    },
    {
      "cell_type": "code",
      "source": [
        "df=pd.DataFrame()"
      ],
      "metadata": {
        "id": "DbORe7q25EPi"
      },
      "execution_count": 18,
      "outputs": []
    },
    {
      "cell_type": "code",
      "source": [
        "df['index']=['optimal Value','x1','x2','x3','x4','x5','time']"
      ],
      "metadata": {
        "id": "sYDIsoub5SHy"
      },
      "execution_count": 19,
      "outputs": []
    },
    {
      "cell_type": "code",
      "source": [
        "df=df.set_index('index')"
      ],
      "metadata": {
        "id": "2atbVJSz5V2K"
      },
      "execution_count": 20,
      "outputs": []
    },
    {
      "cell_type": "code",
      "source": [
        "df"
      ],
      "metadata": {
        "colab": {
          "base_uri": "https://localhost:8080/",
          "height": 283
        },
        "id": "56I8kJR15ako",
        "outputId": "314bf9c1-fe0c-4f1f-c536-788c3edc7fb4"
      },
      "execution_count": 21,
      "outputs": [
        {
          "output_type": "execute_result",
          "data": {
            "text/plain": [
              "Empty DataFrame\n",
              "Columns: []\n",
              "Index: [optimal Value, x1, x2, x3, x4, x5, time]"
            ],
            "text/html": [
              "\n",
              "  <div id=\"df-9aac4f3b-cdb6-4329-b635-c33e834b31c8\">\n",
              "    <div class=\"colab-df-container\">\n",
              "      <div>\n",
              "<style scoped>\n",
              "    .dataframe tbody tr th:only-of-type {\n",
              "        vertical-align: middle;\n",
              "    }\n",
              "\n",
              "    .dataframe tbody tr th {\n",
              "        vertical-align: top;\n",
              "    }\n",
              "\n",
              "    .dataframe thead th {\n",
              "        text-align: right;\n",
              "    }\n",
              "</style>\n",
              "<table border=\"1\" class=\"dataframe\">\n",
              "  <thead>\n",
              "    <tr style=\"text-align: right;\">\n",
              "      <th></th>\n",
              "    </tr>\n",
              "    <tr>\n",
              "      <th>index</th>\n",
              "    </tr>\n",
              "  </thead>\n",
              "  <tbody>\n",
              "    <tr>\n",
              "      <th>optimal Value</th>\n",
              "    </tr>\n",
              "    <tr>\n",
              "      <th>x1</th>\n",
              "    </tr>\n",
              "    <tr>\n",
              "      <th>x2</th>\n",
              "    </tr>\n",
              "    <tr>\n",
              "      <th>x3</th>\n",
              "    </tr>\n",
              "    <tr>\n",
              "      <th>x4</th>\n",
              "    </tr>\n",
              "    <tr>\n",
              "      <th>x5</th>\n",
              "    </tr>\n",
              "    <tr>\n",
              "      <th>time</th>\n",
              "    </tr>\n",
              "  </tbody>\n",
              "</table>\n",
              "</div>\n",
              "      <button class=\"colab-df-convert\" onclick=\"convertToInteractive('df-9aac4f3b-cdb6-4329-b635-c33e834b31c8')\"\n",
              "              title=\"Convert this dataframe to an interactive table.\"\n",
              "              style=\"display:none;\">\n",
              "        \n",
              "  <svg xmlns=\"http://www.w3.org/2000/svg\" height=\"24px\"viewBox=\"0 0 24 24\"\n",
              "       width=\"24px\">\n",
              "    <path d=\"M0 0h24v24H0V0z\" fill=\"none\"/>\n",
              "    <path d=\"M18.56 5.44l.94 2.06.94-2.06 2.06-.94-2.06-.94-.94-2.06-.94 2.06-2.06.94zm-11 1L8.5 8.5l.94-2.06 2.06-.94-2.06-.94L8.5 2.5l-.94 2.06-2.06.94zm10 10l.94 2.06.94-2.06 2.06-.94-2.06-.94-.94-2.06-.94 2.06-2.06.94z\"/><path d=\"M17.41 7.96l-1.37-1.37c-.4-.4-.92-.59-1.43-.59-.52 0-1.04.2-1.43.59L10.3 9.45l-7.72 7.72c-.78.78-.78 2.05 0 2.83L4 21.41c.39.39.9.59 1.41.59.51 0 1.02-.2 1.41-.59l7.78-7.78 2.81-2.81c.8-.78.8-2.07 0-2.86zM5.41 20L4 18.59l7.72-7.72 1.47 1.35L5.41 20z\"/>\n",
              "  </svg>\n",
              "      </button>\n",
              "      \n",
              "  <style>\n",
              "    .colab-df-container {\n",
              "      display:flex;\n",
              "      flex-wrap:wrap;\n",
              "      gap: 12px;\n",
              "    }\n",
              "\n",
              "    .colab-df-convert {\n",
              "      background-color: #E8F0FE;\n",
              "      border: none;\n",
              "      border-radius: 50%;\n",
              "      cursor: pointer;\n",
              "      display: none;\n",
              "      fill: #1967D2;\n",
              "      height: 32px;\n",
              "      padding: 0 0 0 0;\n",
              "      width: 32px;\n",
              "    }\n",
              "\n",
              "    .colab-df-convert:hover {\n",
              "      background-color: #E2EBFA;\n",
              "      box-shadow: 0px 1px 2px rgba(60, 64, 67, 0.3), 0px 1px 3px 1px rgba(60, 64, 67, 0.15);\n",
              "      fill: #174EA6;\n",
              "    }\n",
              "\n",
              "    [theme=dark] .colab-df-convert {\n",
              "      background-color: #3B4455;\n",
              "      fill: #D2E3FC;\n",
              "    }\n",
              "\n",
              "    [theme=dark] .colab-df-convert:hover {\n",
              "      background-color: #434B5C;\n",
              "      box-shadow: 0px 1px 3px 1px rgba(0, 0, 0, 0.15);\n",
              "      filter: drop-shadow(0px 1px 2px rgba(0, 0, 0, 0.3));\n",
              "      fill: #FFFFFF;\n",
              "    }\n",
              "  </style>\n",
              "\n",
              "      <script>\n",
              "        const buttonEl =\n",
              "          document.querySelector('#df-9aac4f3b-cdb6-4329-b635-c33e834b31c8 button.colab-df-convert');\n",
              "        buttonEl.style.display =\n",
              "          google.colab.kernel.accessAllowed ? 'block' : 'none';\n",
              "\n",
              "        async function convertToInteractive(key) {\n",
              "          const element = document.querySelector('#df-9aac4f3b-cdb6-4329-b635-c33e834b31c8');\n",
              "          const dataTable =\n",
              "            await google.colab.kernel.invokeFunction('convertToInteractive',\n",
              "                                                     [key], {});\n",
              "          if (!dataTable) return;\n",
              "\n",
              "          const docLinkHtml = 'Like what you see? Visit the ' +\n",
              "            '<a target=\"_blank\" href=https://colab.research.google.com/notebooks/data_table.ipynb>data table notebook</a>'\n",
              "            + ' to learn more about interactive tables.';\n",
              "          element.innerHTML = '';\n",
              "          dataTable['output_type'] = 'display_data';\n",
              "          await google.colab.output.renderOutput(dataTable, element);\n",
              "          const docLink = document.createElement('div');\n",
              "          docLink.innerHTML = docLinkHtml;\n",
              "          element.appendChild(docLink);\n",
              "        }\n",
              "      </script>\n",
              "    </div>\n",
              "  </div>\n",
              "  "
            ]
          },
          "metadata": {},
          "execution_count": 21
        }
      ]
    },
    {
      "cell_type": "code",
      "source": [
        "def diffinit(b):\n",
        "  for i in b:\n",
        "    model=ConcreteModel()\n",
        "    model.x1 = Var(initialize=i)\n",
        "    model.x2 = Var(initialize=i)\n",
        "    model.x3 = Var(initialize=i)\n",
        "    model.x4 = Var(initialize=i)\n",
        "    model.x5 = Var(initialize=i)\n",
        "    model.constr1= Constraint(expr= model.x1+(model.x2)**2 + (model.x3)**3 -2 -3*(2)**0.5==0)\n",
        "    model.constr2= Constraint(expr= model.x2-(model.x3)**2 +model.x4+ 2-2*(2)**0.5==0)\n",
        "    model.constr3= Constraint(expr= model.x1*model.x5-2==0)\n",
        "    model.constr4= Constraint(expr= model.x1>=-5)\n",
        "    model.constr5= Constraint(expr= model.x1<=5)\n",
        "    model.constr6= Constraint(expr= model.x3>=0)\n",
        "    model.constr7= Constraint(expr= model.x3<=3)\n",
        "    model.cost= Objective(rule=fun, sense=minimize)\n",
        "   \n",
        "    results = solver.solve(model)\n",
        "    \n",
        "    print(f'When initializer of [x1,x2,x3,x4,x5] is {[i,i,i,i,i]}')\n",
        "    print(results)\n",
        "    print('\\nCost = ', model.cost())\n",
        "\n",
        "    print('\\nOptimal solution:')\n",
        "    print('x1 = ', model.x1())\n",
        "    print('x2 = ', model.x2())\n",
        "    print('x3 = ', model.x3())\n",
        "    print('x4 = ', model.x4())\n",
        "    print('x5 = ', model.x5())\n",
        "\n",
        "    print('\\nConstraints')\n",
        "    print('Constraint 1  = ', model.constr1())\n",
        "    print('Constraint 2  = ', model.constr2())\n",
        "    print('Constraint 3  = ', model.constr3())\n",
        "    print('Constraint 4  = ', model.constr4())\n",
        "    print('Constraint 5  = ', model.constr5())\n",
        "    print('Constraint 6  = ', model.constr6())\n",
        "    print('Constraint 7  = ', model.constr7())\n",
        "    df[f'2**i={i}']=[model.cost(),model.x1(),model.x2(),model.x3(),model.x4(),model.x5(),results.solver.time]\n",
        "    print('_'*50)\n",
        "\n"
      ],
      "metadata": {
        "id": "YJjOJ3eOjOR8"
      },
      "execution_count": 22,
      "outputs": []
    },
    {
      "cell_type": "code",
      "source": [
        "diffinit(a)"
      ],
      "metadata": {
        "colab": {
          "base_uri": "https://localhost:8080/"
        },
        "id": "_iDEsi27k_fn",
        "outputId": "5839ccd0-31a2-45a7-eaee-c56dc417915a"
      },
      "execution_count": 23,
      "outputs": [
        {
          "output_type": "stream",
          "name": "stdout",
          "text": [
            "When initializer of [x1,x2,x3,x4,x5] is [4, 4, 4, 4, 4]\n",
            "\n",
            "Problem: \n",
            "- Lower bound: -inf\n",
            "  Upper bound: inf\n",
            "  Number of objectives: 1\n",
            "  Number of constraints: 7\n",
            "  Number of variables: 5\n",
            "  Sense: unknown\n",
            "Solver: \n",
            "- Status: ok\n",
            "  Message: Ipopt 3.12.13\\x3a Optimal Solution Found\n",
            "  Termination condition: optimal\n",
            "  Id: 0\n",
            "  Error rc: 0\n",
            "  Time: 0.016002178192138672\n",
            "Solution: \n",
            "- number of solutions: 0\n",
            "  number of solutions displayed: 0\n",
            "\n",
            "\n",
            "Cost =  0.07877682087105696\n",
            "\n",
            "Optimal solution:\n",
            "x1 =  1.1911274562403504\n",
            "x2 =  1.3626031649434764\n",
            "x3 =  1.4728179315306016\n",
            "x4 =  1.6350166192407931\n",
            "x5 =  1.6790814362660684\n",
            "\n",
            "Constraints\n",
            "Constraint 1  =  8.881784197001252e-16\n",
            "Constraint 2  =  -4.440892098500626e-16\n",
            "Constraint 3  =  -3.774758283725532e-15\n",
            "Constraint 4  =  1.1911274562403504\n",
            "Constraint 5  =  1.1911274562403504\n",
            "Constraint 6  =  1.4728179315306016\n",
            "Constraint 7  =  1.4728179315306016\n",
            "__________________________________________________\n",
            "When initializer of [x1,x2,x3,x4,x5] is [16, 16, 16, 16, 16]\n",
            "\n",
            "Problem: \n",
            "- Lower bound: -inf\n",
            "  Upper bound: inf\n",
            "  Number of objectives: 1\n",
            "  Number of constraints: 7\n",
            "  Number of variables: 5\n",
            "  Sense: unknown\n",
            "Solver: \n",
            "- Status: ok\n",
            "  Message: Ipopt 3.12.13\\x3a Optimal Solution Found\n",
            "  Termination condition: optimal\n",
            "  Id: 0\n",
            "  Error rc: 0\n",
            "  Time: 0.03263282775878906\n",
            "Solution: \n",
            "- number of solutions: 0\n",
            "  number of solutions displayed: 0\n",
            "\n",
            "\n",
            "Cost =  0.07877682087105699\n",
            "\n",
            "Optimal solution:\n",
            "x1 =  1.1911274562403504\n",
            "x2 =  1.3626031649434767\n",
            "x3 =  1.4728179315306016\n",
            "x4 =  1.6350166192407933\n",
            "x5 =  1.6790814362660684\n",
            "\n",
            "Constraints\n",
            "Constraint 1  =  1.7763568394002505e-15\n",
            "Constraint 2  =  -4.440892098500626e-16\n",
            "Constraint 3  =  -3.774758283725532e-15\n",
            "Constraint 4  =  1.1911274562403504\n",
            "Constraint 5  =  1.1911274562403504\n",
            "Constraint 6  =  1.4728179315306016\n",
            "Constraint 7  =  1.4728179315306016\n",
            "__________________________________________________\n",
            "When initializer of [x1,x2,x3,x4,x5] is [256, 256, 256, 256, 256]\n",
            "\n",
            "Problem: \n",
            "- Lower bound: -inf\n",
            "  Upper bound: inf\n",
            "  Number of objectives: 1\n",
            "  Number of constraints: 7\n",
            "  Number of variables: 5\n",
            "  Sense: unknown\n",
            "Solver: \n",
            "- Status: ok\n",
            "  Message: Ipopt 3.12.13\\x3a Optimal Solution Found\n",
            "  Termination condition: optimal\n",
            "  Id: 0\n",
            "  Error rc: 0\n",
            "  Time: 0.03022480010986328\n",
            "Solution: \n",
            "- number of solutions: 0\n",
            "  number of solutions displayed: 0\n",
            "\n",
            "\n",
            "Cost =  0.07877682087275217\n",
            "\n",
            "Optimal solution:\n",
            "x1 =  1.1911274559325666\n",
            "x2 =  1.3626031648437267\n",
            "x3 =  1.472817931626912\n",
            "x4 =  1.6350166196164382\n",
            "x5 =  1.6790814366888756\n",
            "\n",
            "Constraints\n",
            "Constraint 1  =  4.7126746949288645e-11\n",
            "Constraint 2  =  -7.80131514943605e-12\n",
            "Constraint 3  =  -1.3180789792954783e-11\n",
            "Constraint 4  =  1.1911274559325666\n",
            "Constraint 5  =  1.1911274559325666\n",
            "Constraint 6  =  1.472817931626912\n",
            "Constraint 7  =  1.472817931626912\n",
            "__________________________________________________\n",
            "When initializer of [x1,x2,x3,x4,x5] is [1024, 1024, 1024, 1024, 1024]\n",
            "\n",
            "Problem: \n",
            "- Lower bound: -inf\n",
            "  Upper bound: inf\n",
            "  Number of objectives: 1\n",
            "  Number of constraints: 7\n",
            "  Number of variables: 5\n",
            "  Sense: unknown\n",
            "Solver: \n",
            "- Status: ok\n",
            "  Message: Ipopt 3.12.13\\x3a Optimal Solution Found\n",
            "  Termination condition: optimal\n",
            "  Id: 0\n",
            "  Error rc: 0\n",
            "  Time: 0.04132723808288574\n",
            "Solution: \n",
            "- number of solutions: 0\n",
            "  number of solutions displayed: 0\n",
            "\n",
            "\n",
            "Cost =  0.07877682087107182\n",
            "\n",
            "Optimal solution:\n",
            "x1 =  1.191127454862753\n",
            "x2 =  1.3626031645868748\n",
            "x3 =  1.4728179318916943\n",
            "x4 =  1.6350166206609638\n",
            "x5 =  1.6790814382066548\n",
            "\n",
            "Constraints\n",
            "Constraint 1  =  4.298783551348606e-13\n",
            "Constraint 2  =  -7.904787935331115e-14\n",
            "Constraint 3  =  -1.6162626792493029e-12\n",
            "Constraint 4  =  1.191127454862753\n",
            "Constraint 5  =  1.191127454862753\n",
            "Constraint 6  =  1.4728179318916943\n",
            "Constraint 7  =  1.4728179318916943\n",
            "__________________________________________________\n",
            "When initializer of [x1,x2,x3,x4,x5] is [4096, 4096, 4096, 4096, 4096]\n",
            "\n",
            "Problem: \n",
            "- Lower bound: -inf\n",
            "  Upper bound: inf\n",
            "  Number of objectives: 1\n",
            "  Number of constraints: 7\n",
            "  Number of variables: 5\n",
            "  Sense: unknown\n",
            "Solver: \n",
            "- Status: ok\n",
            "  Message: Ipopt 3.12.13\\x3a Optimal Solution Found\n",
            "  Termination condition: optimal\n",
            "  Id: 0\n",
            "  Error rc: 0\n",
            "  Time: 0.07193326950073242\n",
            "Solution: \n",
            "- number of solutions: 0\n",
            "  number of solutions displayed: 0\n",
            "\n",
            "\n",
            "Cost =  0.078776821476022\n",
            "\n",
            "Optimal solution:\n",
            "x1 =  1.1911275027451427\n",
            "x2 =  1.3626031771640859\n",
            "x3 =  1.4728179218935038\n",
            "x4 =  1.6350165752432628\n",
            "x5 =  1.6790813649752658\n",
            "\n",
            "Constraints\n",
            "Constraint 1  =  1.7094309967546906e-08\n",
            "Constraint 2  =  -3.389540648157663e-09\n",
            "Constraint 3  =  -6.831106125204656e-09\n",
            "Constraint 4  =  1.1911275027451427\n",
            "Constraint 5  =  1.1911275027451427\n",
            "Constraint 6  =  1.4728179218935038\n",
            "Constraint 7  =  1.4728179218935038\n",
            "__________________________________________________\n"
          ]
        }
      ]
    },
    {
      "cell_type": "code",
      "source": [
        "Table=df"
      ],
      "metadata": {
        "id": "XTQKB8YPlDqq"
      },
      "execution_count": 24,
      "outputs": []
    },
    {
      "cell_type": "code",
      "source": [
        "Table"
      ],
      "metadata": {
        "colab": {
          "base_uri": "https://localhost:8080/",
          "height": 300
        },
        "id": "H-JiF8JN6bRq",
        "outputId": "f83617b2-85e9-4340-91d9-82d80b9c2c11"
      },
      "execution_count": 25,
      "outputs": [
        {
          "output_type": "execute_result",
          "data": {
            "text/plain": [
              "                 2**i=4   2**i=16  2**i=256  2**i=1024  2**i=4096\n",
              "index                                                            \n",
              "optimal Value  0.078777  0.078777  0.078777   0.078777   0.078777\n",
              "x1             1.191127  1.191127  1.191127   1.191127   1.191128\n",
              "x2             1.362603  1.362603  1.362603   1.362603   1.362603\n",
              "x3             1.472818  1.472818  1.472818   1.472818   1.472818\n",
              "x4             1.635017  1.635017  1.635017   1.635017   1.635017\n",
              "x5             1.679081  1.679081  1.679081   1.679081   1.679081\n",
              "time           0.016002  0.032633  0.030225   0.041327   0.071933"
            ],
            "text/html": [
              "\n",
              "  <div id=\"df-51aca730-7cdc-4f79-8180-730b598ef01b\">\n",
              "    <div class=\"colab-df-container\">\n",
              "      <div>\n",
              "<style scoped>\n",
              "    .dataframe tbody tr th:only-of-type {\n",
              "        vertical-align: middle;\n",
              "    }\n",
              "\n",
              "    .dataframe tbody tr th {\n",
              "        vertical-align: top;\n",
              "    }\n",
              "\n",
              "    .dataframe thead th {\n",
              "        text-align: right;\n",
              "    }\n",
              "</style>\n",
              "<table border=\"1\" class=\"dataframe\">\n",
              "  <thead>\n",
              "    <tr style=\"text-align: right;\">\n",
              "      <th></th>\n",
              "      <th>2**i=4</th>\n",
              "      <th>2**i=16</th>\n",
              "      <th>2**i=256</th>\n",
              "      <th>2**i=1024</th>\n",
              "      <th>2**i=4096</th>\n",
              "    </tr>\n",
              "    <tr>\n",
              "      <th>index</th>\n",
              "      <th></th>\n",
              "      <th></th>\n",
              "      <th></th>\n",
              "      <th></th>\n",
              "      <th></th>\n",
              "    </tr>\n",
              "  </thead>\n",
              "  <tbody>\n",
              "    <tr>\n",
              "      <th>optimal Value</th>\n",
              "      <td>0.078777</td>\n",
              "      <td>0.078777</td>\n",
              "      <td>0.078777</td>\n",
              "      <td>0.078777</td>\n",
              "      <td>0.078777</td>\n",
              "    </tr>\n",
              "    <tr>\n",
              "      <th>x1</th>\n",
              "      <td>1.191127</td>\n",
              "      <td>1.191127</td>\n",
              "      <td>1.191127</td>\n",
              "      <td>1.191127</td>\n",
              "      <td>1.191128</td>\n",
              "    </tr>\n",
              "    <tr>\n",
              "      <th>x2</th>\n",
              "      <td>1.362603</td>\n",
              "      <td>1.362603</td>\n",
              "      <td>1.362603</td>\n",
              "      <td>1.362603</td>\n",
              "      <td>1.362603</td>\n",
              "    </tr>\n",
              "    <tr>\n",
              "      <th>x3</th>\n",
              "      <td>1.472818</td>\n",
              "      <td>1.472818</td>\n",
              "      <td>1.472818</td>\n",
              "      <td>1.472818</td>\n",
              "      <td>1.472818</td>\n",
              "    </tr>\n",
              "    <tr>\n",
              "      <th>x4</th>\n",
              "      <td>1.635017</td>\n",
              "      <td>1.635017</td>\n",
              "      <td>1.635017</td>\n",
              "      <td>1.635017</td>\n",
              "      <td>1.635017</td>\n",
              "    </tr>\n",
              "    <tr>\n",
              "      <th>x5</th>\n",
              "      <td>1.679081</td>\n",
              "      <td>1.679081</td>\n",
              "      <td>1.679081</td>\n",
              "      <td>1.679081</td>\n",
              "      <td>1.679081</td>\n",
              "    </tr>\n",
              "    <tr>\n",
              "      <th>time</th>\n",
              "      <td>0.016002</td>\n",
              "      <td>0.032633</td>\n",
              "      <td>0.030225</td>\n",
              "      <td>0.041327</td>\n",
              "      <td>0.071933</td>\n",
              "    </tr>\n",
              "  </tbody>\n",
              "</table>\n",
              "</div>\n",
              "      <button class=\"colab-df-convert\" onclick=\"convertToInteractive('df-51aca730-7cdc-4f79-8180-730b598ef01b')\"\n",
              "              title=\"Convert this dataframe to an interactive table.\"\n",
              "              style=\"display:none;\">\n",
              "        \n",
              "  <svg xmlns=\"http://www.w3.org/2000/svg\" height=\"24px\"viewBox=\"0 0 24 24\"\n",
              "       width=\"24px\">\n",
              "    <path d=\"M0 0h24v24H0V0z\" fill=\"none\"/>\n",
              "    <path d=\"M18.56 5.44l.94 2.06.94-2.06 2.06-.94-2.06-.94-.94-2.06-.94 2.06-2.06.94zm-11 1L8.5 8.5l.94-2.06 2.06-.94-2.06-.94L8.5 2.5l-.94 2.06-2.06.94zm10 10l.94 2.06.94-2.06 2.06-.94-2.06-.94-.94-2.06-.94 2.06-2.06.94z\"/><path d=\"M17.41 7.96l-1.37-1.37c-.4-.4-.92-.59-1.43-.59-.52 0-1.04.2-1.43.59L10.3 9.45l-7.72 7.72c-.78.78-.78 2.05 0 2.83L4 21.41c.39.39.9.59 1.41.59.51 0 1.02-.2 1.41-.59l7.78-7.78 2.81-2.81c.8-.78.8-2.07 0-2.86zM5.41 20L4 18.59l7.72-7.72 1.47 1.35L5.41 20z\"/>\n",
              "  </svg>\n",
              "      </button>\n",
              "      \n",
              "  <style>\n",
              "    .colab-df-container {\n",
              "      display:flex;\n",
              "      flex-wrap:wrap;\n",
              "      gap: 12px;\n",
              "    }\n",
              "\n",
              "    .colab-df-convert {\n",
              "      background-color: #E8F0FE;\n",
              "      border: none;\n",
              "      border-radius: 50%;\n",
              "      cursor: pointer;\n",
              "      display: none;\n",
              "      fill: #1967D2;\n",
              "      height: 32px;\n",
              "      padding: 0 0 0 0;\n",
              "      width: 32px;\n",
              "    }\n",
              "\n",
              "    .colab-df-convert:hover {\n",
              "      background-color: #E2EBFA;\n",
              "      box-shadow: 0px 1px 2px rgba(60, 64, 67, 0.3), 0px 1px 3px 1px rgba(60, 64, 67, 0.15);\n",
              "      fill: #174EA6;\n",
              "    }\n",
              "\n",
              "    [theme=dark] .colab-df-convert {\n",
              "      background-color: #3B4455;\n",
              "      fill: #D2E3FC;\n",
              "    }\n",
              "\n",
              "    [theme=dark] .colab-df-convert:hover {\n",
              "      background-color: #434B5C;\n",
              "      box-shadow: 0px 1px 3px 1px rgba(0, 0, 0, 0.15);\n",
              "      filter: drop-shadow(0px 1px 2px rgba(0, 0, 0, 0.3));\n",
              "      fill: #FFFFFF;\n",
              "    }\n",
              "  </style>\n",
              "\n",
              "      <script>\n",
              "        const buttonEl =\n",
              "          document.querySelector('#df-51aca730-7cdc-4f79-8180-730b598ef01b button.colab-df-convert');\n",
              "        buttonEl.style.display =\n",
              "          google.colab.kernel.accessAllowed ? 'block' : 'none';\n",
              "\n",
              "        async function convertToInteractive(key) {\n",
              "          const element = document.querySelector('#df-51aca730-7cdc-4f79-8180-730b598ef01b');\n",
              "          const dataTable =\n",
              "            await google.colab.kernel.invokeFunction('convertToInteractive',\n",
              "                                                     [key], {});\n",
              "          if (!dataTable) return;\n",
              "\n",
              "          const docLinkHtml = 'Like what you see? Visit the ' +\n",
              "            '<a target=\"_blank\" href=https://colab.research.google.com/notebooks/data_table.ipynb>data table notebook</a>'\n",
              "            + ' to learn more about interactive tables.';\n",
              "          element.innerHTML = '';\n",
              "          dataTable['output_type'] = 'display_data';\n",
              "          await google.colab.output.renderOutput(dataTable, element);\n",
              "          const docLink = document.createElement('div');\n",
              "          docLink.innerHTML = docLinkHtml;\n",
              "          element.appendChild(docLink);\n",
              "        }\n",
              "      </script>\n",
              "    </div>\n",
              "  </div>\n",
              "  "
            ]
          },
          "metadata": {},
          "execution_count": 25
        }
      ]
    },
    {
      "cell_type": "markdown",
      "source": [
        "## Answer: \n",
        "Above table shows the optimal values of objective function,decision variables,tame taken to solve problem for various initial values of decision variables. \\\\\n",
        "Here we can observe that optimized value of objective function and decision variables doesnot change with respect to change in initial value of decision variables.But value of time taken to solve problem changes with respect to change in initial value of decision variables.\n",
        "By above observation we can say that when the initial values of decision variables are (4,4,4,4,4) then time taken to solve the problem is least time.As soon as initial value increases time taken to solve the problem is also increases.Since we got the optimal values of decision variables are : \\\\\n",
        "\n",
        "x1 =  1.1911275027451427 \\\\\n",
        "x2 =  1.3626031771640859 \\\\\n",
        "x3 =  1.4728179218935038 \\\\\n",
        "x4 =  1.6350165752432628 \\\\\n",
        "x5 =  1.6790813649752658 \\\\\n",
        "\n",
        "So when initial value, near to optimal values it took least time time to solve the problem.as soon as difference  between initial value and optimal value increases time taken to solve problem also increases."
      ],
      "metadata": {
        "id": "MVO4HAh87PrM"
      }
    },
    {
      "cell_type": "code",
      "source": [],
      "metadata": {
        "id": "M5nS-_y17N0X"
      },
      "execution_count": 25,
      "outputs": []
    }
  ]
}