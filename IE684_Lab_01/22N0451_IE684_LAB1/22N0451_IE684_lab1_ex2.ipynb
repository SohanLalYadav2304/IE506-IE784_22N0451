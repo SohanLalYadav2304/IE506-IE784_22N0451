{
  "nbformat": 4,
  "nbformat_minor": 0,
  "metadata": {
    "colab": {
      "provenance": []
    },
    "kernelspec": {
      "name": "python3",
      "display_name": "Python 3"
    }
  },
  "cells": [
    {
      "cell_type": "markdown",
      "metadata": {
        "id": "nVE0Xoa0Q5wE"
      },
      "source": [
        "$\\Large\\textbf{Lab 1. Exercise 2. }$\n",
        "\n",
        "Now we will consider a slightly different algorithm which can be used to find a minimizer of the function $f(\\mathbf{x})=f(x_1,x_2)= (x_1+100)^2 + (x_2-25)^2$. "
      ]
    },
    {
      "cell_type": "markdown",
      "metadata": {
        "id": "0gpe6eGRLvSh"
      },
      "source": [
        "$\\textbf{[R]}$ Write the function $f(\\mathbf{x})$ in the form $\\mathbf{x}^\\top \\mathbf{A} \\mathbf{x} + 2 \\mathbf{b}^\\top \\mathbf{x} + c$, where $\\mathbf{x}\\in {\\mathbb{R}}^2$, $\\mathbf{A}$ is a symmetric matrix of size $2 \\times 2$, $\\mathbf{b}\\in{\\mathbb{R}}^2$ and $c\\in\\mathbb{R}$. \n",
        "\n"
      ]
    },
    {
      "cell_type": "code",
      "source": [
        "import numpy as np\n",
        "import matplotlib.pyplot as plt\n"
      ],
      "metadata": {
        "id": "WEKxfLCWNj5Q"
      },
      "execution_count": 1,
      "outputs": []
    },
    {
      "cell_type": "code",
      "source": [
        "def evalf2(x):\n",
        "  assert A.shape==(2,2) and type(A) is ndarray and len(b)==2 and type(b) is ndarray and len(x)==2 and type(x) is ndarray\n",
        "  return np.dot(x.transpose,(np.dot(A,x)))+2*np.dot(b.transpose(),x)+c"
      ],
      "metadata": {
        "id": "Zt8fF99GNFW3"
      },
      "execution_count": 8,
      "outputs": []
    },
    {
      "cell_type": "markdown",
      "metadata": {
        "id": "CTPeLBt0L7F7"
      },
      "source": [
        "$\\large \\textbf{ANSWER:}$ Write your answer here:\n",
        "\n",
        "$f(x_1,x_2)=\\begin{bmatrix} \n",
        "\tx_1 & x_2 \\\\\n",
        "\t\\end{bmatrix}\n",
        "\\begin{bmatrix} \n",
        "\t1 & 0  \\\\\n",
        "\t0 & 1 \\\\\n",
        "\t\\end{bmatrix}\n",
        "  \\begin{bmatrix} \n",
        "\tx_1 \\\\\n",
        "\tx_2 \\\\\n",
        "\t\\end{bmatrix}\n",
        "  + 2*\n",
        "  \\begin{bmatrix} \n",
        "\t100 & -25 \\\\\n",
        "\t\\end{bmatrix}\n",
        "  \\begin{bmatrix} \n",
        "\tx_1 \\\\\n",
        "\tx_2 \\\\\n",
        "\t\\end{bmatrix}\n",
        "  +10625$"
      ]
    },
    {
      "cell_type": "markdown",
      "metadata": {
        "id": "PjANnIQ3L39D"
      },
      "source": [
        "\n",
        "$\\textbf{[R]}$ It turns out that for a function $f:{\\mathbb{R}}^n\\rightarrow \\mathbb{R}$ of the form $f(\\mathbf{x})=\\mathbf{x}^\\top \\mathbf{A} \\mathbf{x} + 2 \\mathbf{b}^\\top \\mathbf{x} + c$, where $\\mathbf{A}\\in{\\mathbb{R}}^{n \\times n}$ is a symmetric matrix, $\\mathbf{b} \\in {\\mathbb{R}}^n$ and $c\\in \\mathbb{R}$, the analytical solution to $\\min_{\\alpha \\geq 0} f(\\mathbf{x} - \\alpha \\nabla f(\\mathbf{x}))$ can be found in closed form. Find the solution. "
      ]
    },
    {
      "cell_type": "markdown",
      "metadata": {
        "id": "4jU-adJ0L-P1"
      },
      "source": [
        "$\\large \\textbf{ANSWER:}$\n",
        "Write your answer here:\n",
        " Given that $f(\\mathbf{x})=\\mathbf{x}^\\top \\mathbf{A} \\mathbf{x} + 2 \\mathbf{b}^\\top \\mathbf{x} + c$ \\\\\n",
        "we can find $\\nabla f(\\mathbf{x}) = 2\\mathbf{A} \\mathbf{x}+2 \\mathbf{b} ----(1) $ \\\\\n",
        "Since we are to minimize  $f(\\mathbf{x} - \\alpha \\nabla f(\\mathbf{x}))=g(\\alpha) \\   \\text{with respect to } \\alpha .  \\\\\n",
        "\\text{By calculas we want to minimize} \\ g(\\alpha) so \n",
        "\\\\ \\frac{δg}{δα} = [\\nabla f(x-\\alpha\\nabla f(\\mathbf{x}))]^\\top[-\\nabla f(\\mathbf{x})]   \\\\\n",
        "\\text{By Fermat's theorem, necessary condition for optimality is:} \\\\\n",
        " \\frac{δg}{δα}=0\n",
        " ⇒ \\  [\\nabla f(x-\\alpha\\nabla f(\\mathbf{x}))]^\\top[-\\nabla f(\\mathbf{x})]=0 \\\\ \n",
        "⇒ [-\\nabla f(\\mathbf{x})]^\\top[\\nabla f(x-\\alpha\\nabla f(\\mathbf{x}))]=0  \\ \\ (\\text{taking transpose of both sides} )\\\\\n",
        " ⇒[-\\nabla f(\\mathbf{x})]^\\top[2\\mathbf{A}(\\mathbf{x-α\\nabla}f(\\mathbf{x})+2b]=0 \\ \\  \\text{By Equation (1)}  \\\\ ⇒α= \\frac{[\\nabla f(\\mathbf{x})]^⊤[\\mathbf{A}\\mathbf{x}+\\mathbf{b}]}{[\\nabla f(\\mathbf{x})]^⊤\\mathbf{A}\\nabla f(\\mathbf{x})} \\\\\n",
        " ⇒ α = \\frac{[\\nabla f(\\mathbf{x})]^⊤\\nabla f(\\mathbf{x})}{\\mathbf{2}[\\nabla f(\\mathbf{x})]^⊤\\mathbf{A} \\nabla f(\\mathbf{x})} $"
      ]
    },
    {
      "cell_type": "markdown",
      "metadata": {
        "id": "YVkab74DJsRL"
      },
      "source": [
        "We will use this idea to construct a suitable step length finding procedure for our modified algorithm given below: \n",
        "\n",
        "\n",
        "\\begin{align}\n",
        "& \\textbf{Input:} \\text{ Starting point $x^0$, Stopping tolerance $\\tau$}  \\\\\n",
        "& \\textbf{Initialize } k=0 \\\\ \n",
        "&\\textbf{While } \\| \\nabla f(\\mathbf{x}^k) \\|_2 > \\tau \\text{ do:}  \\\\   \n",
        "&\\quad \\quad \\eta^k = \\arg\\min_{\\eta\\geq 0} f(\\mathbf{x}^k - \\eta  \\nabla f(\\mathbf{x}^k)) \\\\\n",
        "&\\quad \\quad \\mathbf{x}^{k+1} \\leftarrow \\mathbf{x}^k - \\eta^k \\nabla f(\\mathbf{x}^k)  \\\\ \n",
        "&\\quad \\quad k = {k+1} \\\\ \n",
        "&\\textbf{End While} \\\\\n",
        "&\\textbf{Output: } \\mathbf{x}^k\n",
        "\\end{align}"
      ]
    },
    {
      "cell_type": "code",
      "metadata": {
        "id": "KJq7tIgIRroP"
      },
      "source": [
        "#numpy package will be used for most of our lab exercises. Please have a look at https://numpy.org/doc/stable/ for numpy documentation\n",
        "#we will first import the numpy package and name it as np\n",
        "import numpy as np \n",
        "#Henceforth, we can lazily use np to denote the much longer numpy !! "
      ],
      "execution_count": 9,
      "outputs": []
    },
    {
      "cell_type": "code",
      "metadata": {
        "id": "GZjX2IwOR8_X"
      },
      "source": [
        "#Now we will define a function which will compute and return the function value \n",
        "def evalf(x):  \n",
        "  #Input: x is a numpy array of size 2 \n",
        "  assert type(x) is np.ndarray and len(x) == 2 #do not allow arbitrary arguments \n",
        "  #after checking if the argument is valid, we can compute the objective function value\n",
        "  return (x[0]+100)**2 + (x[1]-25)**2\n"
      ],
      "execution_count": 10,
      "outputs": []
    },
    {
      "cell_type": "code",
      "metadata": {
        "id": "6klpwtDra_I8"
      },
      "source": [
        "#Now we will define a function which will compute and return the gradient value as a numpy array \n",
        "def evalg(x):  \n",
        "  #Input: x is a numpy array of size 2 \n",
        "  assert type(x) is np.ndarray and len(x) == 2 #do not allow arbitrary arguments \n",
        "  #after checking if the argument is valid, we can compute the gradient value\n",
        "  return np.array([2*(x[0]+100),2*(x[1]-25)])"
      ],
      "execution_count": 11,
      "outputs": []
    },
    {
      "cell_type": "code",
      "source": [
        "A=np.array([1,0,0,1]).reshape((2,2))\n",
        "b=np.array([100,-25]).reshape((2,1))"
      ],
      "metadata": {
        "id": "_I4htpuF8nmk"
      },
      "execution_count": 12,
      "outputs": []
    },
    {
      "cell_type": "code",
      "metadata": {
        "id": "f3blM08V0HOl"
      },
      "source": [
        "#Complete the module to compute the steplength\n",
        "def compute_steplength(x,A): #add appropriate arguments to the function\n",
        "  numerator=np.dot(evalg(x).transpose(),evalg(x))    \n",
        "  denominator=2*np.dot(np.dot(evalg(x).transpose(),A),evalg(x))\n",
        "  step_length=numerator/denominator\n",
        "   \n",
        "  return step_length"
      ],
      "execution_count": 14,
      "outputs": []
    },
    {
      "cell_type": "code",
      "metadata": {
        "id": "3SCJdqivdpxx"
      },
      "source": [
        "def find_minimizer(start_x, tol):\n",
        "  #Input: start_x is a numpy array of size 2, tol denotes the tolerance and is a positive float value\n",
        "  assert type(start_x) is np.ndarray and len(start_x) == 2 #do not allow arbitrary arguments \n",
        "  assert type(tol) is float and tol>=0 \n",
        "  x = start_x\n",
        "  g_x = evalg(x)\n",
        "  k = 0\n",
        "  print('iter:',k, ' x:', x, ' f(x):', evalf(x), ' grad at x:', g_x, ' gradient norm:', np.linalg.norm(g_x))\n",
        "\n",
        "  while (np.linalg.norm(g_x) > tol): #continue as long as the norm of gradient is not close to zero upto a tolerance tol\n",
        "    step_length = compute_steplength(x,A) #call the new function you wrote to compute the steplength\n",
        "    x = np.subtract(x, np.multiply(step_length,g_x)) #update x = x - step_length*g_x\n",
        "    k += 1 #increment iteration\n",
        "    g_x = evalg(x) #compute gradient at new point\n",
        "    print('iter:',k, ' x:', x, ' f(x):', evalf(x), ' grad at x:', g_x, ' gradient norm:', np.linalg.norm(g_x))\n",
        "  print(k) \n",
        "  return x \n"
      ],
      "execution_count": 15,
      "outputs": []
    },
    {
      "cell_type": "code",
      "metadata": {
        "id": "n-kHCkbwe-M4",
        "colab": {
          "base_uri": "https://localhost:8080/"
        },
        "outputId": "2edc0057-201a-4947-8511-f07a4b149c17"
      },
      "source": [
        "my_start_x = np.array([10,10])\n",
        "my_tol= 1e-3\n",
        "find_minimizer(my_start_x, my_tol)"
      ],
      "execution_count": 16,
      "outputs": [
        {
          "output_type": "stream",
          "name": "stdout",
          "text": [
            "iter: 0  x: [10 10]  f(x): 12325  grad at x: [220 -30]  gradient norm: 222.03603311174518\n",
            "iter: 1  x: [-100.   25.]  f(x): 0.0  grad at x: [0. 0.]  gradient norm: 0.0\n",
            "1\n"
          ]
        },
        {
          "output_type": "execute_result",
          "data": {
            "text/plain": [
              "array([-100.,   25.])"
            ]
          },
          "metadata": {},
          "execution_count": 16
        }
      ]
    },
    {
      "cell_type": "markdown",
      "source": [
        "$\\large \\textbf{[R]}$ With starting point $x_0 = (10, 10)$ and the new module to compute $η^k$\n",
        ", try $τ = 10^{−p}$ where p = 1, 2, . . . , 10.\n",
        "For each τ , record the number of iterations taken by the algorithm to terminate. \\\\\n",
        "Prepare a plot where the number of iterations is plotted against τ values. \\\\\n",
        " Compare and contrast the plot with the plots obtained in\n",
        "Exercise 1 with fixed step length values.\n"
      ],
      "metadata": {
        "id": "E3VCc4lW1l4e"
      }
    },
    {
      "cell_type": "code",
      "source": [
        "def find_minimizer_1(start_x, tol):\n",
        "  #Input: start_x is a numpy array of size 2, tol denotes the tolerance and is a positive float value\n",
        "  assert type(start_x) is np.ndarray and len(start_x) == 2 #do not allow arbitrary arguments \n",
        "  assert type(tol) is float and tol>=0 \n",
        "  x = start_x\n",
        "  g_x = evalg(x)\n",
        "  k =0\n",
        "  #print('iter:',k, ' x:', x, ' f(x):', evalf(x), ' grad at x:', g_x, ' gradient norm:', np.linalg.norm(g_x))\n",
        "\n",
        "  while (np.linalg.norm(g_x) > tol): #continue as long as the norm of gradient is not close to zero upto a tolerance tol\n",
        "    step_length = compute_steplength(x,A) #call the new function you wrote to compute the steplength\n",
        "    x = np.subtract(x, np.multiply(step_length,g_x)) #update x = x - step_length*g_x\n",
        "    k=k+1 #increment iteration\n",
        "    g_x = evalg(x) #compute gradient at new point\n",
        "    #print('iter:',k, ' x:', x, ' f(x):', evalf(x), ' grad at x:', g_x, ' gradient norm:', np.linalg.norm(g_x))\n",
        "  print(k)\n",
        "  return x,k"
      ],
      "metadata": {
        "id": "LvVawIMZ9_9z"
      },
      "execution_count": 20,
      "outputs": []
    },
    {
      "cell_type": "code",
      "source": [
        "tol_values=[]\n",
        "iterations=[]\n",
        "for p in range(1,11):\n",
        "  my_start_x = np.array([10,10])\n",
        "  my_tol= (10)**(-p)\n",
        "  print('when tol is',my_tol)\n",
        "  tol_values.append(my_tol)\n",
        "  minimizer,number_of_iterations=find_minimizer_1(my_start_x, my_tol)\n",
        "  print('minimizer is:',minimizer)\n",
        "  print('number_of_iterations',number_of_iterations)\n",
        "  iterations.append(number_of_iterations)\n",
        "print(tol_values)\n",
        "print(iterations)  "
      ],
      "metadata": {
        "colab": {
          "base_uri": "https://localhost:8080/"
        },
        "id": "5HaP1eHf9T8f",
        "outputId": "3da8295f-db93-4b1c-f000-7714c5a60322"
      },
      "execution_count": 21,
      "outputs": [
        {
          "output_type": "stream",
          "name": "stdout",
          "text": [
            "when tol is 0.1\n",
            "1\n",
            "minimizer is: [-100.   25.]\n",
            "number_of_iterations 1\n",
            "when tol is 0.01\n",
            "1\n",
            "minimizer is: [-100.   25.]\n",
            "number_of_iterations 1\n",
            "when tol is 0.001\n",
            "1\n",
            "minimizer is: [-100.   25.]\n",
            "number_of_iterations 1\n",
            "when tol is 0.0001\n",
            "1\n",
            "minimizer is: [-100.   25.]\n",
            "number_of_iterations 1\n",
            "when tol is 1e-05\n",
            "1\n",
            "minimizer is: [-100.   25.]\n",
            "number_of_iterations 1\n",
            "when tol is 1e-06\n",
            "1\n",
            "minimizer is: [-100.   25.]\n",
            "number_of_iterations 1\n",
            "when tol is 1e-07\n",
            "1\n",
            "minimizer is: [-100.   25.]\n",
            "number_of_iterations 1\n",
            "when tol is 1e-08\n",
            "1\n",
            "minimizer is: [-100.   25.]\n",
            "number_of_iterations 1\n",
            "when tol is 1e-09\n",
            "1\n",
            "minimizer is: [-100.   25.]\n",
            "number_of_iterations 1\n",
            "when tol is 1e-10\n",
            "1\n",
            "minimizer is: [-100.   25.]\n",
            "number_of_iterations 1\n",
            "[0.1, 0.01, 0.001, 0.0001, 1e-05, 1e-06, 1e-07, 1e-08, 1e-09, 1e-10]\n",
            "[1, 1, 1, 1, 1, 1, 1, 1, 1, 1]\n"
          ]
        }
      ]
    },
    {
      "cell_type": "code",
      "metadata": {
        "id": "Ft_3BxMzfREx",
        "colab": {
          "base_uri": "https://localhost:8080/",
          "height": 296
        },
        "outputId": "62e2481d-a875-48f1-dec2-4c5769e41c9d"
      },
      "source": [
        "plt.plot(tol_values,iterations,color='b')\n",
        "plt.scatter(tol_values,iterations,color='r')\n",
        "plt.title('tol_value vs number of iterations')\n",
        "plt.xlabel('tol_values')\n",
        "plt.ylabel('number of iterations')\n",
        "plt.show()"
      ],
      "execution_count": 22,
      "outputs": [
        {
          "output_type": "display_data",
          "data": {
            "text/plain": [
              "<Figure size 432x288 with 1 Axes>"
            ],
            "image/png": "[encoded data removed]"
          },
          "metadata": {
            "needs_background": "light"
          }
        }
      ]
    },
    {
      "cell_type": "markdown",
      "source": [
        "$\\large \\textbf{ANSWER:}$ As we can see in above plot that number of iterations does not depend on tolerance value when we use Gradient Descent Procedure with line search to compute step length but in excercise 1 we were fixing step length 0.1 and due to that number of iterations were depending over tolerance values and number of iterations were increasing very fast when tolerance value decreases. SO we can conclude that Gradient Descent Procedure with line search to compute step length is better then Gradient Descent Procedure with constant step length.  "
      ],
      "metadata": {
        "id": "aP_AQ2CP2MHl"
      }
    },
    {
      "cell_type": "code",
      "metadata": {
        "id": "GcsCIAntMNdb"
      },
      "source": [],
      "execution_count": null,
      "outputs": []
    }
  ]
}