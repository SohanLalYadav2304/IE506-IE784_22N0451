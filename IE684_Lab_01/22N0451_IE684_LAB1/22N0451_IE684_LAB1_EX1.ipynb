{
  "nbformat": 4,
  "nbformat_minor": 0,
  "metadata": {
    "colab": {
      "provenance": []
    },
    "kernelspec": {
      "name": "python3",
      "display_name": "Python 3"
    }
  },
  "cells": [
    {
      "cell_type": "markdown",
      "metadata": {
        "id": "nVE0Xoa0Q5wE"
      },
      "source": [
        "$\\Large\\textbf{Welcome to IE 684 (Spring 202-23)}$  \n",
        "\n",
        "$\\large\\textbf{Lab 1 Exercise 1. }$\n",
        "\n",
        "We will start with a procedure which helps to find a minimizer of the function $f(\\mathbf{x})=f(x_1,x_2)= (x_1+100)^2 + (x_2-25)^2$. \n",
        "\n",
        "Note that the gradient of $f(\\mathbf{x})$ is given by:\n",
        "\n",
        "$\n",
        "\\nabla f(\\mathbf{x}) = \\begin{bmatrix} \\frac{\\partial f(\\mathbf{x})}{\\partial x_1} \\\\ \\frac{\\partial f(\\mathbf{x})}{\\partial x_2}\\end{bmatrix}. \n",
        "$\n",
        "\n",
        "We will use the following gradient descent type algorithm: \n",
        "\n",
        "\\begin{align}\n",
        "& \\textbf{Input:} \\text{ Starting point $x^0$, Stopping tolerance $\\tau$, Steplength $\\eta$}  \\\\\n",
        "& \\textbf{Initialize } k=0 \\\\ \n",
        "&\\textbf{While } \\| \\nabla f(\\mathbf{x}^k) \\|_2 > \\tau \\text{ do:}  \\\\   \n",
        "&\\quad \\quad \\mathbf{x}^{k+1} \\leftarrow \\mathbf{x}^k - \\eta \\nabla f(\\mathbf{x}^k)  \\\\ \n",
        "&\\quad \\quad k = {k+1} \\\\ \n",
        "&\\textbf{End While} \\\\\n",
        "&\\textbf{Output: } \\mathbf{x}^k\n",
        "\\end{align}\n"
      ]
    },
    {
      "cell_type": "code",
      "metadata": {
        "id": "KJq7tIgIRroP"
      },
      "source": [
        "#numpy package will be used for most of our lab exercises. Please have a look at https://numpy.org/doc/stable/ for numpy documentation\n",
        "#we will first import the numpy package and name it as np\n",
        "import numpy as np \n",
        "import pandas as pd\n",
        "#Henceforth, we can lazily use np to denote the much longer numpy !! "
      ],
      "execution_count": 4,
      "outputs": []
    },
    {
      "cell_type": "code",
      "metadata": {
        "id": "GZjX2IwOR8_X"
      },
      "source": [
        "#Now we will define a function which will compute and return the function value \n",
        "def evalf(x):  \n",
        "  #Input: x is a numpy array of size 2 \n",
        "  assert type(x) is np.ndarray \n",
        "  assert len(x) == 2 #do not allow arbitrary arguments \n",
        "  #after checking if the argument is valid, we can compute the objective function value\n",
        "  return (x[0]+100)**2 + (x[1]-25)**2\n"
      ],
      "execution_count": 5,
      "outputs": []
    },
    {
      "cell_type": "code",
      "metadata": {
        "id": "hu_eWNWHTg64"
      },
      "source": [
        "#check whether you can pass arbitrary arguments to evalf \n",
        "#my_x = [1,3] #Note: my_x is a list of 2 elements, but not a numpy array\n",
        "#print('f(my_x) is:',evalf(my_x))"
      ],
      "execution_count": 6,
      "outputs": []
    },
    {
      "cell_type": "code",
      "metadata": {
        "colab": {
          "base_uri": "https://localhost:8080/"
        },
        "id": "JhgbIivdTshs",
        "outputId": "29172694-2c56-40db-9028-a8b480574000"
      },
      "source": [
        "# First we will create a numpy array of size 2\n",
        "my_x = np.array([1,2])\n",
        "print('type of my_x',type(my_x), 'length of my_x:',len(my_x)) #verify if my_x is indeed a numpy array of size 2\n"
      ],
      "execution_count": 7,
      "outputs": [
        {
          "output_type": "stream",
          "name": "stdout",
          "text": [
            "type of my_x <class 'numpy.ndarray'> length of my_x: 2\n"
          ]
        }
      ]
    },
    {
      "cell_type": "code",
      "metadata": {
        "id": "o6Iky9aOT78d"
      },
      "source": [
        "#now call evalf (x) with my_x as argument and check if it works\n",
        "#print(evalf(my_x))"
      ],
      "execution_count": 8,
      "outputs": []
    },
    {
      "cell_type": "code",
      "metadata": {
        "id": "6klpwtDra_I8"
      },
      "source": [
        "#Now we will define a function which will compute and return the gradient value as a numpy array \n",
        "def evalg(x):  \n",
        "  #Input: x is a numpy array of size 2 \n",
        "  assert type(x) is np.ndarray and len(x) == 2 #do not allow arbitrary arguments \n",
        "  #after checking if the argument is valid, we can compute the gradient value\n",
        "  return np.array([2*(x[0]+100),2*(x[1]-25)])"
      ],
      "execution_count": 9,
      "outputs": []
    },
    {
      "cell_type": "code",
      "metadata": {
        "id": "3SCJdqivdpxx"
      },
      "source": [
        "def find_minimizer(start_x, tol, step_length):\n",
        "  #Input: start_x is a numpy array of size 2, tol denotes the tolerance and is a positive float value\n",
        "  assert type(start_x) is np.ndarray and len(start_x) == 2 #do not allow arbitrary arguments \n",
        "  assert type(tol) is float and tol>=0 \n",
        "  assert type(step_length) is float and step_length>=0 \n",
        "  x = start_x\n",
        "  g_x = evalg(x)\n",
        "  k = 0\n",
        "\n",
        "  #we can manage a list to store the function values, might be useful for plotting \n",
        "  fvals = [evalf(x)]\n",
        "  print('iter:',k, ' x:', x, ' f(x):', evalf(x), ' grad at x:', g_x, ' gradient norm:', np.linalg.norm(g_x))\n",
        "\n",
        "  while (np.linalg.norm(g_x) > tol): #continue as long as the norm of gradient is not close to zero upto a tolerance tol\n",
        "    x = np.subtract(x, np.multiply(step_length,g_x)) #update x = x - step_length*g_x\n",
        "    k += 1 #increment iteration\n",
        "    g_x = evalg(x) #compute gradient at new point\n",
        "\n",
        "    #append the current function value to the list containing function values\n",
        "    fvals.append(evalf(x))\n",
        "    print('iter:',k, ' x:', x, ' f(x):', evalf(x), ' grad at x:', g_x, ' gradient norm:', np.linalg.norm(g_x))\n",
        "  return x, fvals \n"
      ],
      "execution_count": 10,
      "outputs": []
    },
    {
      "cell_type": "markdown",
      "source": [
        "$\\large\\textbf{[R] What is the minimizer and minimum function value of f(x) = f(x1, x2) = (x1 + 100)2 + (x2 − 25)2}$"
      ],
      "metadata": {
        "id": "k0UTagsLT6D3"
      }
    },
    {
      "cell_type": "code",
      "metadata": {
        "colab": {
          "base_uri": "https://localhost:8080/"
        },
        "id": "n-kHCkbwe-M4",
        "outputId": "193ee5dc-95ca-44fa-8dbe-cb7720ae8260"
      },
      "source": [
        "my_start_x = np.array([10,10])\n",
        "my_steplength = 0.1\n",
        "my_tol= 1e-3 #10^{-3} or 0.001\n",
        "opt_x, fvals_ret = find_minimizer(my_start_x, my_tol, my_steplength)\n",
        "print('Optimizer:',opt_x)\n",
        "print(fvals_ret[-1])"
      ],
      "execution_count": 11,
      "outputs": [
        {
          "output_type": "stream",
          "name": "stdout",
          "text": [
            "iter: 0  x: [10 10]  f(x): 12325  grad at x: [220 -30]  gradient norm: 222.03603311174518\n",
            "iter: 1  x: [-12.  13.]  f(x): 7888.0  grad at x: [176. -24.]  gradient norm: 177.62882648939615\n",
            "iter: 2  x: [-29.6  15.4]  f(x): 5048.320000000001  grad at x: [140.8 -19.2]  gradient norm: 142.10306119151693\n",
            "iter: 3  x: [-43.68  17.32]  f(x): 3230.9247999999993  grad at x: [112.64 -15.36]  gradient norm: 113.68244895321352\n",
            "iter: 4  x: [-54.944  18.856]  f(x): 2067.791872  grad at x: [ 90.112 -12.288]  gradient norm: 90.94595916257082\n",
            "iter: 5  x: [-63.9552  20.0848]  f(x): 1323.3867980799996  grad at x: [72.0896 -9.8304]  gradient norm: 72.75676733005665\n",
            "iter: 6  x: [-71.16416  21.06784]  f(x): 846.9675507711995  grad at x: [57.67168 -7.86432]  gradient norm: 58.20541386404531\n",
            "iter: 7  x: [-76.931328  21.854272]  f(x): 542.0592324935676  grad at x: [46.137344 -6.291456]  gradient norm: 46.56433109123625\n",
            "iter: 8  x: [-81.5450624  22.4834176]  f(x): 346.9179087958833  grad at x: [36.9098752 -5.0331648]  gradient norm: 37.251464872989\n",
            "iter: 9  x: [-85.23604992  22.98673408]  f(x): 222.0274616293655  grad at x: [29.52790016 -4.02653184]  gradient norm: 29.80117189839121\n",
            "iter: 10  x: [-88.18883994  23.38938726]  f(x): 142.09757544279404  grad at x: [23.62232013 -3.22122547]  gradient norm: 23.840937518712977\n",
            "iter: 11  x: [-90.55107195  23.71150981]  f(x): 90.94244828338809  grad at x: [18.8978561  -2.57698038]  gradient norm: 19.072750014970374\n",
            "iter: 12  x: [-92.44085756  23.96920785]  f(x): 58.20316690136841  grad at x: [15.11828488 -2.0615843 ]  gradient norm: 15.258200011976303\n",
            "iter: 13  x: [-93.95268605  24.17536628]  f(x): 37.25002681687585  grad at x: [12.09462791 -1.64926744]  gradient norm: 12.206560009581054\n",
            "iter: 14  x: [-95.16214884  24.34029302]  f(x): 23.840017162800546  grad at x: [ 9.67570232 -1.31941395]  gradient norm: 9.765248007664843\n",
            "iter: 15  x: [-96.12971907  24.47223442]  f(x): 15.25761098419235  grad at x: [ 7.74056186 -1.05553116]  gradient norm: 7.812198406131874\n",
            "iter: 16  x: [-96.90377526  24.57778753]  f(x): 9.764871029883087  grad at x: [ 6.19244949 -0.84442493]  gradient norm: 6.249758724905495\n",
            "iter: 17  x: [-97.5230202   24.66223003]  f(x): 6.249517459125205  grad at x: [ 4.95395959 -0.67553994]  gradient norm: 4.999806979924407\n",
            "iter: 18  x: [-98.01841616  24.72978402]  f(x): 3.9996911738401533  grad at x: [ 3.96316767 -0.54043196]  gradient norm: 3.999845583939537\n",
            "iter: 19  x: [-98.41473293  24.78382722]  f(x): 2.559802351257707  grad at x: [ 3.17053414 -0.43234556]  gradient norm: 3.199876467151635\n",
            "iter: 20  x: [-98.73178634  24.82706177]  f(x): 1.6382735048049322  grad at x: [ 2.53642731 -0.34587645]  gradient norm: 2.5599011737213075\n",
            "iter: 21  x: [-98.98542908  24.86164942]  f(x): 1.0484950430751447  grad at x: [ 2.02914185 -0.27670116]  gradient norm: 2.0479209389770348\n",
            "iter: 22  x: [-99.18834326  24.88931954]  f(x): 0.6710368275680882  grad at x: [ 1.62331348 -0.22136093]  gradient norm: 1.6383367511816223\n",
            "iter: 23  x: [-99.35067461  24.91145563]  f(x): 0.42946356964356897  grad at x: [ 1.29865078 -0.17708874]  gradient norm: 1.3106694009452864\n",
            "iter: 24  x: [-99.48053969  24.9291645 ]  f(x): 0.27485668457188733  grad at x: [ 1.03892063 -0.14167099]  gradient norm: 1.0485355207562352\n",
            "iter: 25  x: [-99.58443175  24.9433316 ]  f(x): 0.1759082781260078  grad at x: [ 0.8311365 -0.1133368]  gradient norm: 0.8388284166049879\n",
            "iter: 26  x: [-99.6675454   24.95466528]  f(x): 0.11258129800064115  grad at x: [ 0.6649092  -0.09066944]  gradient norm: 0.6710627332839789\n",
            "iter: 27  x: [-99.73403632  24.96373223]  f(x): 0.07205203072040883  grad at x: [ 0.53192736 -0.07253555]  gradient norm: 0.5368501866271775\n",
            "iter: 28  x: [-99.78722906  24.97098578]  f(x): 0.04611329966106277  grad at x: [ 0.42554189 -0.05802844]  gradient norm: 0.4294801493017472\n",
            "iter: 29  x: [-99.82978324  24.97678862]  f(x): 0.02951251178308121  grad at x: [ 0.34043351 -0.04642275]  gradient norm: 0.3435841194414038\n",
            "iter: 30  x: [-99.8638266  24.9814309]  f(x): 0.018888007541173576  grad at x: [ 0.27234681 -0.0371382 ]  gradient norm: 0.2748672955531347\n",
            "iter: 31  x: [-99.89106128  24.98514472]  f(x): 0.01208832482635049  grad at x: [ 0.21787745 -0.02971056]  gradient norm: 0.21989383644250232\n",
            "iter: 32  x: [-99.91284902  24.98811578]  f(x): 0.007736527888864313  grad at x: [ 0.17430196 -0.02376845]  gradient norm: 0.17591506915400185\n",
            "iter: 33  x: [-99.93027922  24.99049262]  f(x): 0.004951377848873557  grad at x: [ 0.13944157 -0.01901476]  gradient norm: 0.14073205532320712\n",
            "iter: 34  x: [-99.94422337  24.9923941 ]  f(x): 0.0031688818232796997  grad at x: [ 0.11155325 -0.01521181]  gradient norm: 0.11258564425857677\n",
            "iter: 35  x: [-99.9553787   24.99391528]  f(x): 0.0020280843668995063  grad at x: [ 0.0892426  -0.01216945]  gradient norm: 0.09006851540687248\n",
            "iter: 36  x: [-99.96430296  24.99513222]  f(x): 0.0012979739948154952  grad at x: [ 0.07139408 -0.00973556]  gradient norm: 0.07205481232549274\n",
            "iter: 37  x: [-99.97144237  24.99610578]  f(x): 0.0008307033566815811  grad at x: [ 0.05711527 -0.00778845]  gradient norm: 0.05764384986038254\n",
            "iter: 38  x: [-99.97715389  24.99688462]  f(x): 0.000531650148276203  grad at x: [ 0.04569221 -0.00623076]  gradient norm: 0.04611507988830565\n",
            "iter: 39  x: [-99.98172312  24.9975077 ]  f(x): 0.000340256094896659  grad at x: [ 0.03655377 -0.0049846 ]  gradient norm: 0.036892063910638505\n",
            "iter: 40  x: [-99.98537849  24.99800616]  f(x): 0.00021776390073393917  grad at x: [ 0.02924302 -0.00398768]  gradient norm: 0.02951365112851605\n",
            "iter: 41  x: [-99.98830279  24.99840493]  f(x): 0.0001393688964697853  grad at x: [ 0.02339441 -0.00319015]  gradient norm: 0.02361092090281828\n",
            "iter: 42  x: [-99.99064223  24.99872394]  f(x): 8.919609374066622e-05  grad at x: [ 0.01871553 -0.00255212]  gradient norm: 0.01888873672225501\n",
            "iter: 43  x: [-99.99251379  24.99897915]  f(x): 5.7085499994068934e-05  grad at x: [ 0.01497242 -0.00204169]  gradient norm: 0.01511098937780964\n",
            "iter: 44  x: [-99.99401103  24.99918332]  f(x): 3.653471999613835e-05  grad at x: [ 0.01197794 -0.00163336]  gradient norm: 0.01208879150223683\n",
            "iter: 45  x: [-99.99520882  24.99934666]  f(x): 2.3382220797474075e-05  grad at x: [ 0.00958235 -0.00130668]  gradient norm: 0.0096710332017782\n",
            "iter: 46  x: [-99.99616706  24.99947733]  f(x): 1.4964621310382665e-05  grad at x: [ 0.00766588 -0.00104535]  gradient norm: 0.007736826561422368\n",
            "iter: 47  x: [-99.99693365  24.99958186]  f(x): 9.577357638678578e-06  grad at x: [ 0.0061327  -0.00083628]  gradient norm: 0.006189461249148775\n",
            "iter: 48  x: [-99.99754692  24.99966549]  f(x): 6.129508888739396e-06  grad at x: [ 0.00490616 -0.00066902]  gradient norm: 0.004951568999313004\n",
            "iter: 49  x: [-99.99803753  24.99973239]  f(x): 3.922885688770902e-06  grad at x: [ 0.00392493 -0.00053522]  gradient norm: 0.003961255199439138\n",
            "iter: 50  x: [-99.99843003  24.99978591]  f(x): 2.5106468407952244e-06  grad at x: [ 0.00313994 -0.00042817]  gradient norm: 0.003169004159539854\n",
            "iter: 51  x: [-99.99874402  24.99982873]  f(x): 1.6068139781229793e-06  grad at x: [ 0.00251196 -0.00034254]  gradient norm: 0.002535203327642956\n",
            "iter: 52  x: [-99.99899522  24.99986298]  f(x): 1.0283609459933846e-06  grad at x: [ 0.00200956 -0.00027403]  gradient norm: 0.0020281626621091167\n",
            "iter: 53  x: [-99.99919617  24.99989039]  f(x): 6.581510054452161e-07  grad at x: [ 0.00160765 -0.00021923]  gradient norm: 0.0016225301296989418\n",
            "iter: 54  x: [-99.99935694  24.99991231]  f(x): 4.212166434776276e-07  grad at x: [ 0.00128612 -0.00017538]  gradient norm: 0.001298024103747889\n",
            "iter: 55  x: [-99.99948555  24.99992985]  f(x): 2.6957865182860594e-07  grad at x: [ 0.0010289 -0.0001403]  gradient norm: 0.0010384192830039433\n",
            "iter: 56  x: [-99.99958844  24.99994388]  f(x): 1.7253033717248775e-07  grad at x: [ 0.00082312 -0.00011224]  gradient norm: 0.0008307354264084029\n",
            "Optimizer: [-99.99958844  24.99994388]\n",
            "1.7253033717248775e-07\n"
          ]
        }
      ]
    },
    {
      "cell_type": "markdown",
      "source": [
        "$\\large\\textbf{Answer:} \\\\ \\text{So minimizer is } x_1=-99.99958844 ∼-100,x_2=24.99994388  ∼ 25 \\\\ \\text{Minimum function value:} 1.7253033717248775e-07 ∼ 0$"
      ],
      "metadata": {
        "id": "zbFDYR-PUNYw"
      }
    },
    {
      "cell_type": "code",
      "metadata": {
        "id": "Ft_3BxMzfREx",
        "colab": {
          "base_uri": "https://localhost:8080/",
          "height": 279
        },
        "outputId": "5aca17a4-59f2-45a2-fa25-daec0e444f6e"
      },
      "source": [
        "#we will plot the function values and check the behavior\n",
        "import matplotlib.pyplot as plt #package useful for plotting\n",
        "plt.plot(fvals_ret)\n",
        "plt.xlabel('Iterations')\n",
        "plt.ylabel('f(x)')\n",
        "plt.show()"
      ],
      "execution_count": 12,
      "outputs": [
        {
          "output_type": "display_data",
          "data": {
            "text/plain": [
              "<Figure size 432x288 with 1 Axes>"
            ],
            "image/png": "[encoded data removed]"
          },
          "metadata": {
            "needs_background": "light"
          }
        }
      ]
    },
    {
      "cell_type": "markdown",
      "source": [
        "$\\large\\textbf{[R]} \n",
        "\\\\ \\text{With starting point x0 = (10, 10) and η = 0.1, we will now study the behavior of the algorithm for different tolerance values.} \\\\ \\text{Try τ = 10−p where p = 1, 2, . . . , 10. For each τ , record the final minimizer, final objective function value and number of iterations taken by the algorithm to terminate.} \\\\ \\text{ Prepare a plot where the number of iterations is plotted against τ values. Comment on the observations.} \\\\ \\text{Comment about the minimizers and objective function values obtained for different choices of the tolerance values.}$"
      ],
      "metadata": {
        "id": "_NrGgPe-V0LC"
      }
    },
    {
      "cell_type": "code",
      "source": [
        "def find_minimizer_1(start_x, tol, step_length):\n",
        "  #Input: start_x is a numpy array of size 2, tol denotes the tolerance and is a positive float value\n",
        "  assert type(start_x) is np.ndarray and len(start_x) == 2 #do not allow arbitrary arguments \n",
        "  assert type(tol) is float and tol>=0 \n",
        "  assert type(step_length) is float and step_length>=0 \n",
        "  x = start_x\n",
        "  g_x = evalg(x)\n",
        "  k = 0\n",
        "\n",
        "  #we can manage a list to store the function values, might be useful for plotting \n",
        "  fvals = [evalf(x)]\n",
        "  #print('iter:',k, ' x:', x, ' f(x):', evalf(x), ' grad at x:', g_x, ' gradient norm:', np.linalg.norm(g_x))\n",
        "  iter_count=0\n",
        "  while (np.linalg.norm(g_x) > tol): #continue as long as the norm of gradient is not close to zero upto a tolerance tol\n",
        "    x = np.subtract(x, np.multiply(step_length,g_x)) #update x = x - step_length*g_x\n",
        "    k += 1 #increment iteration\n",
        "    g_x = evalg(x) #compute gradient at new point\n",
        "    iter_count+=1\n",
        "    #append the current function value to the list containing function values\n",
        "    fvals.append(evalf(x))\n",
        "  #print('iter:',k, ' x:', x, ' f(x):', evalf(x), ' grad at x:', g_x, ' gradient norm:', np.linalg.norm(g_x))\n",
        "  return x, fvals,iter_count \n"
      ],
      "metadata": {
        "id": "cLr97zd2DmEQ"
      },
      "execution_count": 13,
      "outputs": []
    },
    {
      "cell_type": "code",
      "metadata": {
        "id": "E6_yk3_CaBYJ",
        "colab": {
          "base_uri": "https://localhost:8080/"
        },
        "outputId": "de98e24f-2ba2-4c16-8228-873ff8103a27"
      },
      "source": [
        "tolerance_value=[]\n",
        "iterations=[]\n",
        "objective_val=[]\n",
        "for p in range(1,11):\n",
        "  my_start_x = np.array([10,10])\n",
        "  my_steplength = 0.1\n",
        "  my_tol=(10)**(-p)  #10^{-p} or 0.001\n",
        "  opt_x, fvals_ret,number_of_iteration = find_minimizer_1(my_start_x, my_tol, my_steplength)\n",
        "  tolerance_value.append(my_tol)\n",
        "  iterations.append(number_of_iteration)\n",
        "  objective_val.append(fvals_ret[-1])\n",
        "  print('when tolerance value is',my_tol)\n",
        "  print('Optimizer:',opt_x)\n",
        "  print('objective function value:',fvals_ret[-1])\n",
        "  print('number of iterations:',number_of_iteration)\n",
        "  print('---------------------------------------------------------------')\n",
        "  \n",
        "print('tolerance_values:',tolerance_value)  \n",
        "print('number of iterations:',iterations)\n",
        "\n",
        "\n"
      ],
      "execution_count": 17,
      "outputs": [
        {
          "output_type": "stream",
          "name": "stdout",
          "text": [
            "when tolerance value is 0.1\n",
            "Optimizer: [-99.9553787   24.99391528]\n",
            "objective function value: 0.0020280843668995063\n",
            "number of iterations: 35\n",
            "---------------------------------------------------------------\n",
            "when tolerance value is 0.01\n",
            "Optimizer: [-99.99520882  24.99934666]\n",
            "objective function value: 2.3382220797474075e-05\n",
            "number of iterations: 45\n",
            "---------------------------------------------------------------\n",
            "when tolerance value is 0.001\n",
            "Optimizer: [-99.99958844  24.99994388]\n",
            "objective function value: 1.7253033717248775e-07\n",
            "number of iterations: 56\n",
            "---------------------------------------------------------------\n",
            "when tolerance value is 0.0001\n",
            "Optimizer: [-99.99995581  24.99999397]\n",
            "objective function value: 1.989139359193299e-09\n",
            "number of iterations: 66\n",
            "---------------------------------------------------------------\n",
            "when tolerance value is 1e-05\n",
            "Optimizer: [-99.99999526  24.99999935]\n",
            "objective function value: 2.293321544605827e-11\n",
            "number of iterations: 76\n",
            "---------------------------------------------------------------\n",
            "when tolerance value is 1e-06\n",
            "Optimizer: [-99.99999959  24.99999994]\n",
            "objective function value: 1.6921726745458407e-13\n",
            "number of iterations: 87\n",
            "---------------------------------------------------------------\n",
            "when tolerance value is 1e-07\n",
            "Optimizer: [-99.99999996  24.99999999]\n",
            "objective function value: 1.950942200128245e-15\n",
            "number of iterations: 97\n",
            "---------------------------------------------------------------\n",
            "when tolerance value is 1e-08\n",
            "Optimizer: [-100.   25.]\n",
            "objective function value: 2.249273021138356e-17\n",
            "number of iterations: 107\n",
            "---------------------------------------------------------------\n",
            "when tolerance value is 1e-09\n",
            "Optimizer: [-100.   25.]\n",
            "objective function value: 1.6597088735501767e-19\n",
            "number of iterations: 118\n",
            "---------------------------------------------------------------\n",
            "when tolerance value is 1e-10\n",
            "Optimizer: [-100.   25.]\n",
            "objective function value: 1.9135732950098918e-21\n",
            "number of iterations: 128\n",
            "---------------------------------------------------------------\n",
            "tolerance_values: [0.1, 0.01, 0.001, 0.0001, 1e-05, 1e-06, 1e-07, 1e-08, 1e-09, 1e-10]\n",
            "number of iterations: [35, 45, 56, 66, 76, 87, 97, 107, 118, 128]\n"
          ]
        }
      ]
    },
    {
      "cell_type": "code",
      "source": [
        "plt.plot(tolerance_value,iterations,color='r')\n",
        "plt.scatter(tolerance_value,iterations,color='b')\n",
        "plt.title('plot b/w tolerance value and no. of iterations')\n",
        "plt.xlabel('tolerance_value')\n",
        "plt.ylabel('iterations')\n",
        "plt.show()\n"
      ],
      "metadata": {
        "colab": {
          "base_uri": "https://localhost:8080/",
          "height": 296
        },
        "id": "_i0AJxscHXYT",
        "outputId": "1c777d93-75ba-42af-8258-b7917e576eb3"
      },
      "execution_count": 20,
      "outputs": [
        {
          "output_type": "display_data",
          "data": {
            "text/plain": [
              "<Figure size 432x288 with 1 Axes>"
            ],
            "image/png": "[encoded data removed]"
          },
          "metadata": {
            "needs_background": "light"
          }
        }
      ]
    },
    {
      "cell_type": "code",
      "source": [
        "plt.plot(tolerance_value,objective_val,color='b')\n",
        "plt.scatter(tolerance_value,objective_val,color='r')\n",
        "plt.title('tolerance value vs objective function value')\n",
        "plt.xlabel('tolerance value')\n",
        "plt.ylabel('objective function value')\n",
        "plt.show()"
      ],
      "metadata": {
        "colab": {
          "base_uri": "https://localhost:8080/",
          "height": 295
        },
        "id": "yzxjI1mbdwqz",
        "outputId": "b3b7bb99-eee9-46a4-faab-1d45692ba9a9"
      },
      "execution_count": 21,
      "outputs": [
        {
          "output_type": "display_data",
          "data": {
            "text/plain": [
              "<Figure size 432x288 with 1 Axes>"
            ],
            "image/png": "[encoded data removed]"
          },
          "metadata": {
            "needs_background": "light"
          }
        }
      ]
    },
    {
      "cell_type": "markdown",
      "source": [
        "$\\large\\textbf{Observations_1:} \\textbf{tolerance value and number of iterations}$  By above plot we can easily observe that as soon as tolerance value decreases ,number of iterations taken by gradient descent to reach optimal value of function increases. As we can see that when tolerance value is 0.10 then number of iterations are low but if tolerance value is below than 0.01 then number of iterations are high that means that as soon as tolerance value decreases gradient descent takes more iterations to reach optimal condition."
      ],
      "metadata": {
        "id": "TXFHO5b2XH_v"
      }
    },
    {
      "cell_type": "markdown",
      "source": [
        "$\\large\\textbf{Observations_2:} \\textbf{tolerance value and Objective function values:} $ As we can see that when the tolerance value is 0.1 then our algorithm can not properly minimize our objective function in comparison of lower tolerance values. In plot as soon as tolerance value is decreasing optimised value of function is also decreasing and as tolerance value converges to zero then function also converges to its minimum value."
      ],
      "metadata": {
        "id": "uR_MqAHPeJrd"
      }
    },
    {
      "cell_type": "markdown",
      "source": [
        "$\\large\\textbf{Observations_3:} \\textbf{tolerance value and minimizers:}$ In observations we can see that as soon as tolerance value decreases minimizers also converges to optimal minimizers."
      ],
      "metadata": {
        "id": "F_9a9WsLf4bv"
      }
    },
    {
      "cell_type": "markdown",
      "source": [
        "$\\large\\textbf{. [R]} $ With starting point $x_0 = (10, 10)$ and $τ = 10^{−5}$, we will study the behavior of the algorithm for different\n",
        "step length values. Try $ η ∈\\{ {0.0001, 0.001, 0.01, 0.1, 0.2, 0.4, 0.5, 0.6, 0.7, 0.8, 0.9}\\}.$ \\\\\n",
        " For each $η,$ record the final minimizer, final objective function value and number of iterations taken by the algorithm to terminate. \\\\\n",
        "Prepare a plot where the number of iterations is plotted against η values. Comment on the observations. \\\\\n",
        "Comment about the minimizers and objective function values obtained for different choices of the step length values.\n"
      ],
      "metadata": {
        "id": "VM0_j_Osb31B"
      }
    },
    {
      "cell_type": "code",
      "source": [
        "step_size=[]\n",
        "iterations_1=[]\n",
        "objective_val_1=[]\n",
        "for alpha in [0.0001,0.001,0.01,0.1,0.2,0.4,0.5,0.6,0.7,0.8,0.9]:\n",
        "  my_start_x = np.array([10,10])\n",
        "  my_steplength = alpha\n",
        "  my_tol=(10)**(-5)  #10^{-p} or 0.001\n",
        "  opt_x, fvals_ret,number_of_iteration = find_minimizer_1(my_start_x, my_tol, my_steplength)\n",
        "  step_size.append(my_steplength)\n",
        "  iterations_1.append(number_of_iteration)\n",
        "  objective_val_1.append(fvals_ret[-1])\n",
        "  print('when step size is',alpha)\n",
        "  print('Optimizer:',opt_x)\n",
        "  print('objective function value:',fvals_ret[-1])\n",
        "  print('number of iterations:',number_of_iteration)\n",
        "  print('---------------------------------------------------------------')\n",
        "print(step_size)  \n",
        "print(iterations_1)\n",
        "print(objective_val_1)\n",
        "\n"
      ],
      "metadata": {
        "colab": {
          "base_uri": "https://localhost:8080/"
        },
        "id": "NqS4GESBEtk_",
        "outputId": "7bd4318d-b39d-4ef9-cac0-91ca75711679"
      },
      "execution_count": 26,
      "outputs": [
        {
          "output_type": "stream",
          "name": "stdout",
          "text": [
            "when step size is 0.0001\n",
            "Optimizer: [-99.99999505  24.99999932]\n",
            "objective function value: 2.49936770204995e-11\n",
            "number of iterations: 84571\n",
            "---------------------------------------------------------------\n",
            "when step size is 0.001\n",
            "Optimizer: [-99.99999505  24.99999933]\n",
            "objective function value: 2.494219709847674e-11\n",
            "number of iterations: 8450\n",
            "---------------------------------------------------------------\n",
            "when step size is 0.01\n",
            "Optimizer: [-99.99999512  24.99999933]\n",
            "objective function value: 2.4304673044883465e-11\n",
            "number of iterations: 838\n",
            "---------------------------------------------------------------\n",
            "when step size is 0.1\n",
            "Optimizer: [-99.99999526  24.99999935]\n",
            "objective function value: 2.293321544605827e-11\n",
            "number of iterations: 76\n",
            "---------------------------------------------------------------\n",
            "when step size is 0.2\n",
            "Optimizer: [-99.99999685  24.99999957]\n",
            "objective function value: 1.011747066175869e-11\n",
            "number of iterations: 34\n",
            "---------------------------------------------------------------\n",
            "when step size is 0.4\n",
            "Optimizer: [-99.99999775  24.99999969]\n",
            "objective function value: 5.169479687800271e-12\n",
            "number of iterations: 11\n",
            "---------------------------------------------------------------\n",
            "when step size is 0.5\n",
            "Optimizer: [-100.   25.]\n",
            "objective function value: 0.0\n",
            "number of iterations: 1\n",
            "---------------------------------------------------------------\n",
            "when step size is 0.6\n",
            "Optimizer: [-100.00000225   25.00000031]\n",
            "objective function value: 5.169479687800271e-12\n",
            "number of iterations: 11\n",
            "---------------------------------------------------------------\n",
            "when step size is 0.7\n",
            "Optimizer: [-100.00000302   25.00000041]\n",
            "objective function value: 9.312506683476372e-12\n",
            "number of iterations: 19\n",
            "---------------------------------------------------------------\n",
            "when step size is 0.8\n",
            "Optimizer: [-99.99999685  24.99999957]\n",
            "objective function value: 1.011747066175869e-11\n",
            "number of iterations: 34\n",
            "---------------------------------------------------------------\n",
            "when step size is 0.9\n",
            "Optimizer: [-99.99999526  24.99999935]\n",
            "objective function value: 2.293321544605827e-11\n",
            "number of iterations: 76\n",
            "---------------------------------------------------------------\n",
            "[0.0001, 0.001, 0.01, 0.1, 0.2, 0.4, 0.5, 0.6, 0.7, 0.8, 0.9]\n",
            "[84571, 8450, 838, 76, 34, 11, 1, 11, 19, 34, 76]\n",
            "[2.49936770204995e-11, 2.494219709847674e-11, 2.4304673044883465e-11, 2.293321544605827e-11, 1.011747066175869e-11, 5.169479687800271e-12, 0.0, 5.169479687800271e-12, 9.312506683476372e-12, 1.011747066175869e-11, 2.293321544605827e-11]\n"
          ]
        }
      ]
    },
    {
      "cell_type": "code",
      "source": [
        "plt.plot(step_size,iterations_1,color='r')\n",
        "plt.scatter(step_size,iterations_1,color='b')\n",
        "plt.title('plot b/w stepsize and no. of iterations')\n",
        "plt.xlabel('step_size')\n",
        "plt.ylabel('iterations')\n",
        "plt.show()"
      ],
      "metadata": {
        "colab": {
          "base_uri": "https://localhost:8080/",
          "height": 296
        },
        "id": "xexMwGAqIrO0",
        "outputId": "6ad1958c-c90c-4e24-8d03-4f690268318a"
      },
      "execution_count": 30,
      "outputs": [
        {
          "output_type": "display_data",
          "data": {
            "text/plain": [
              "<Figure size 432x288 with 1 Axes>"
            ],
            "image/png": "[encoded data removed]"
          },
          "metadata": {
            "needs_background": "light"
          }
        }
      ]
    },
    {
      "cell_type": "markdown",
      "source": [
        "$\\large\\textbf{Observations_1:} \\textbf{step size and number of iterations:}$ As the above graph we can see that as soon as step size becomes too small that means as step size becomes nearer to zero than suddenly value increases to above 80000 iterations but if it is more than 0.01 and less than 1 then number of iterations are almost same and low in counting."
      ],
      "metadata": {
        "id": "-07CGdMLhwRI"
      }
    },
    {
      "cell_type": "code",
      "source": [
        "plt.plot(step_size,objective_val_1,color='b')\n",
        "plt.scatter(step_size,objective_val_1,color='r')\n",
        "plt.title('step_size vs objective function value')\n",
        "plt.xlabel('step_size')\n",
        "plt.ylabel('objective function value')\n",
        "plt.show()"
      ],
      "metadata": {
        "colab": {
          "base_uri": "https://localhost:8080/",
          "height": 296
        },
        "id": "7syUm0l6hBl6",
        "outputId": "7f32bdaf-0382-4cc2-c0ee-6120502d7a0a"
      },
      "execution_count": 27,
      "outputs": [
        {
          "output_type": "display_data",
          "data": {
            "text/plain": [
              "<Figure size 432x288 with 1 Axes>"
            ],
            "image/png": "[encoded data removed]"
          },
          "metadata": {
            "needs_background": "light"
          }
        }
      ]
    },
    {
      "cell_type": "markdown",
      "source": [
        "$\\large\\textbf{Observations_2:} \\textbf{step size and objective_function_value:}$ By above graph we can see that when step size is near to zero or near to 1 then objective function is not properly minimized but when it is in middle of 0 and 1 that mean that when step size is about 0.5 then function is properly minimized and objective function is near to its optimal value. So it concludes that step size need not be high nor low it must be between to high and low step size."
      ],
      "metadata": {
        "id": "sjj9YuvgjQAu"
      }
    },
    {
      "cell_type": "markdown",
      "source": [
        "$\\large\\textbf{Observations_3:} \\textbf{step size and minimizers:}$ As by observations we can see that when step size is low then minimizers are not properly minimizing the objective function value but when step size increases minimizers starts going nearer to optimal values but after some time it again starts going away from optimal values."
      ],
      "metadata": {
        "id": "9DbzaUdUhrEB"
      }
    },
    {
      "cell_type": "markdown",
      "source": [
        "$\\large\\textbf{[R]} $ With τ = 10−5 and η = 0.1, we will study the behavior of the algorithm for different starting points.\n",
        "Consider $x_0  \\in $ {(10000, 10000),(500, 0),(0, 1000),(1, 1),(−500, −2). Prepare a table listing the final minimizer,\n",
        "final objective function value and number of iterations taken by the algorithm to terminate for the different starting points. Comment on your observations."
      ],
      "metadata": {
        "id": "RqvDy2g7mPER"
      }
    },
    {
      "cell_type": "code",
      "source": [
        "starts=[[10000,10000],[500,0],[0,1000],[1,1],[-500,-2]]\n",
        "objectinve_function_value=[]\n",
        "minimizer=[]\n",
        "iterations2=[]\n",
        "\n",
        "\n",
        "for starting_point in [[10000,10000],[500,0],[0,1000],[1,1],[-500,-2]]:\n",
        "  my_start_x = np.array(starting_point)\n",
        "  my_steplength = 0.1\n",
        "  my_tol=(10)**(-5)  #10^{-p} or 0.001\n",
        "  opt_x, fvals_ret,number_of_iteration = find_minimizer_1(my_start_x, my_tol, my_steplength)\n",
        "  objectinve_function_value.append(fvals_ret[-1])\n",
        "  minimizer.append(opt_x)\n",
        "  iterations2.append(number_of_iteration)\n",
        "\n",
        "  #print('Starting point  |      objectinve function value   |   minimizer    |      number of iterations')\n",
        "  #print(starting_point,' |     ',opt_x,'      |     ',fvals_ret[-1],'     |   ',number_of_iteration)\n",
        "  #print(fvals_ret[-1])\n",
        "  #print(number_of_iteration)\n",
        "print(objectinve_function_value)\n",
        "print(minimizer)\n",
        "print(iterations2)  \n",
        "\n",
        "\n"
      ],
      "metadata": {
        "colab": {
          "base_uri": "https://localhost:8080/"
        },
        "id": "riGSGigwFe0G",
        "outputId": "0482cecd-e560-4c83-e902-c68fffd7c41a"
      },
      "execution_count": 31,
      "outputs": [
        {
          "output_type": "stream",
          "name": "stdout",
          "text": [
            "[2.0414342669998657e-11, 1.888746375147865e-11, 2.060780080476227e-11, 2.0052840841640608e-11, 2.055190630073527e-11]\n",
            "[array([-99.99999679,  25.00000317]), array([-99.99999566,  24.99999982]), array([-99.99999954,  25.00000452]), array([-99.99999564,  24.99999896]), array([-100.00000452,   24.99999969])]\n",
            "[98, 84, 86, 76, 82]\n"
          ]
        }
      ]
    },
    {
      "cell_type": "code",
      "source": [
        "table=pd.DataFrame(np.array([0 for i in range(20)]).reshape(5,4),[i for i in range(1,6)],['Starting_point','objective_funcion_value','minimizer','number_of_iterations'])"
      ],
      "metadata": {
        "id": "T3qMf35jXNAW"
      },
      "execution_count": 33,
      "outputs": []
    },
    {
      "cell_type": "code",
      "source": [
        "table['Starting_point']=starts\n",
        "table['objective_funcion_value']=objectinve_function_value\n",
        "table['minimizer']=minimizer\n",
        "table['number_of_iterations']=iterations2"
      ],
      "metadata": {
        "id": "gwbvi8dmX5um"
      },
      "execution_count": 34,
      "outputs": []
    },
    {
      "cell_type": "markdown",
      "source": [
        "|index|Starting\\_point|objective\\_funcion\\_value|minimizer|number\\_of\\_iterations|\n",
        "|---|---|---|---|---|\n",
        "|1|10000,10000|2\\.0414342669998657e-11|\\[-99\\.99999679  25\\.00000317\\]|98|\n",
        "|2|500,0|1\\.888746375147865e-11|\\[-99\\.99999566  24\\.99999982\\]|84|\n",
        "|3|0,1000|2\\.060780080476227e-11|\\[-99\\.99999954  25\\.00000452\\]|86|\n",
        "|4|1,1|2\\.0052840841640608e-11|\\[-99\\.99999564  24\\.99999896\\]|76|\n",
        "|5|-500,-2|2\\.055190630073527e-11|\\[-100\\.00000452   24\\.99999969\\]|82|\n"
      ],
      "metadata": {
        "id": "i1VEJwfVJt9_"
      }
    },
    {
      "cell_type": "markdown",
      "source": [
        "$\\large\\textbf{Observations:}$ As we know theoritically that if our starting point is near to minimizer then it takes low number of iterations to reach minimizer but here all starting points are far away than minimizer so all the number of iterations are almost nearer to each other.And objective function value is also approximately same obtained."
      ],
      "metadata": {
        "id": "RaHFO2cOmCzf"
      }
    },
    {
      "cell_type": "code",
      "source": [
        "table"
      ],
      "metadata": {
        "colab": {
          "base_uri": "https://localhost:8080/",
          "height": 357
        },
        "id": "nlHhCf4TbOLN",
        "outputId": "06703ff9-307d-4b4e-c036-b6365397249f"
      },
      "execution_count": 35,
      "outputs": [
        {
          "output_type": "execute_result",
          "data": {
            "text/plain": [
              "   Starting_point  objective_funcion_value  \\\n",
              "1  [10000, 10000]             2.041434e-11   \n",
              "2        [500, 0]             1.888746e-11   \n",
              "3       [0, 1000]             2.060780e-11   \n",
              "4          [1, 1]             2.005284e-11   \n",
              "5      [-500, -2]             2.055191e-11   \n",
              "\n",
              "                                  minimizer  number_of_iterations  \n",
              "1    [-99.9999967853026, 25.00000317491154]                    98  \n",
              "2  [-99.99999565779666, 24.999999819074862]                    84  \n",
              "3  [-99.99999953683165, 25.000004515891483]                    86  \n",
              "4  [-99.99999564327261, 24.999998964738047]                    76  \n",
              "5  [-100.0000045231285, 24.999999694688828]                    82  "
            ],
            "text/html": [
              "\n",
              "  <div id=\"df-68822bbe-634e-4e6a-8277-a3c08cfcbc5a\">\n",
              "    <div class=\"colab-df-container\">\n",
              "      <div>\n",
              "<style scoped>\n",
              "    .dataframe tbody tr th:only-of-type {\n",
              "        vertical-align: middle;\n",
              "    }\n",
              "\n",
              "    .dataframe tbody tr th {\n",
              "        vertical-align: top;\n",
              "    }\n",
              "\n",
              "    .dataframe thead th {\n",
              "        text-align: right;\n",
              "    }\n",
              "</style>\n",
              "<table border=\"1\" class=\"dataframe\">\n",
              "  <thead>\n",
              "    <tr style=\"text-align: right;\">\n",
              "      <th></th>\n",
              "      <th>Starting_point</th>\n",
              "      <th>objective_funcion_value</th>\n",
              "      <th>minimizer</th>\n",
              "      <th>number_of_iterations</th>\n",
              "    </tr>\n",
              "  </thead>\n",
              "  <tbody>\n",
              "    <tr>\n",
              "      <th>1</th>\n",
              "      <td>[10000, 10000]</td>\n",
              "      <td>2.041434e-11</td>\n",
              "      <td>[-99.9999967853026, 25.00000317491154]</td>\n",
              "      <td>98</td>\n",
              "    </tr>\n",
              "    <tr>\n",
              "      <th>2</th>\n",
              "      <td>[500, 0]</td>\n",
              "      <td>1.888746e-11</td>\n",
              "      <td>[-99.99999565779666, 24.999999819074862]</td>\n",
              "      <td>84</td>\n",
              "    </tr>\n",
              "    <tr>\n",
              "      <th>3</th>\n",
              "      <td>[0, 1000]</td>\n",
              "      <td>2.060780e-11</td>\n",
              "      <td>[-99.99999953683165, 25.000004515891483]</td>\n",
              "      <td>86</td>\n",
              "    </tr>\n",
              "    <tr>\n",
              "      <th>4</th>\n",
              "      <td>[1, 1]</td>\n",
              "      <td>2.005284e-11</td>\n",
              "      <td>[-99.99999564327261, 24.999998964738047]</td>\n",
              "      <td>76</td>\n",
              "    </tr>\n",
              "    <tr>\n",
              "      <th>5</th>\n",
              "      <td>[-500, -2]</td>\n",
              "      <td>2.055191e-11</td>\n",
              "      <td>[-100.0000045231285, 24.999999694688828]</td>\n",
              "      <td>82</td>\n",
              "    </tr>\n",
              "  </tbody>\n",
              "</table>\n",
              "</div>\n",
              "      <button class=\"colab-df-convert\" onclick=\"convertToInteractive('df-68822bbe-634e-4e6a-8277-a3c08cfcbc5a')\"\n",
              "              title=\"Convert this dataframe to an interactive table.\"\n",
              "              style=\"display:none;\">\n",
              "        \n",
              "  <svg xmlns=\"http://www.w3.org/2000/svg\" height=\"24px\"viewBox=\"0 0 24 24\"\n",
              "       width=\"24px\">\n",
              "    <path d=\"M0 0h24v24H0V0z\" fill=\"none\"/>\n",
              "    <path d=\"M18.56 5.44l.94 2.06.94-2.06 2.06-.94-2.06-.94-.94-2.06-.94 2.06-2.06.94zm-11 1L8.5 8.5l.94-2.06 2.06-.94-2.06-.94L8.5 2.5l-.94 2.06-2.06.94zm10 10l.94 2.06.94-2.06 2.06-.94-2.06-.94-.94-2.06-.94 2.06-2.06.94z\"/><path d=\"M17.41 7.96l-1.37-1.37c-.4-.4-.92-.59-1.43-.59-.52 0-1.04.2-1.43.59L10.3 9.45l-7.72 7.72c-.78.78-.78 2.05 0 2.83L4 21.41c.39.39.9.59 1.41.59.51 0 1.02-.2 1.41-.59l7.78-7.78 2.81-2.81c.8-.78.8-2.07 0-2.86zM5.41 20L4 18.59l7.72-7.72 1.47 1.35L5.41 20z\"/>\n",
              "  </svg>\n",
              "      </button>\n",
              "      \n",
              "  <style>\n",
              "    .colab-df-container {\n",
              "      display:flex;\n",
              "      flex-wrap:wrap;\n",
              "      gap: 12px;\n",
              "    }\n",
              "\n",
              "    .colab-df-convert {\n",
              "      background-color: #E8F0FE;\n",
              "      border: none;\n",
              "      border-radius: 50%;\n",
              "      cursor: pointer;\n",
              "      display: none;\n",
              "      fill: #1967D2;\n",
              "      height: 32px;\n",
              "      padding: 0 0 0 0;\n",
              "      width: 32px;\n",
              "    }\n",
              "\n",
              "    .colab-df-convert:hover {\n",
              "      background-color: #E2EBFA;\n",
              "      box-shadow: 0px 1px 2px rgba(60, 64, 67, 0.3), 0px 1px 3px 1px rgba(60, 64, 67, 0.15);\n",
              "      fill: #174EA6;\n",
              "    }\n",
              "\n",
              "    [theme=dark] .colab-df-convert {\n",
              "      background-color: #3B4455;\n",
              "      fill: #D2E3FC;\n",
              "    }\n",
              "\n",
              "    [theme=dark] .colab-df-convert:hover {\n",
              "      background-color: #434B5C;\n",
              "      box-shadow: 0px 1px 3px 1px rgba(0, 0, 0, 0.15);\n",
              "      filter: drop-shadow(0px 1px 2px rgba(0, 0, 0, 0.3));\n",
              "      fill: #FFFFFF;\n",
              "    }\n",
              "  </style>\n",
              "\n",
              "      <script>\n",
              "        const buttonEl =\n",
              "          document.querySelector('#df-68822bbe-634e-4e6a-8277-a3c08cfcbc5a button.colab-df-convert');\n",
              "        buttonEl.style.display =\n",
              "          google.colab.kernel.accessAllowed ? 'block' : 'none';\n",
              "\n",
              "        async function convertToInteractive(key) {\n",
              "          const element = document.querySelector('#df-68822bbe-634e-4e6a-8277-a3c08cfcbc5a');\n",
              "          const dataTable =\n",
              "            await google.colab.kernel.invokeFunction('convertToInteractive',\n",
              "                                                     [key], {});\n",
              "          if (!dataTable) return;\n",
              "\n",
              "          const docLinkHtml = 'Like what you see? Visit the ' +\n",
              "            '<a target=\"_blank\" href=https://colab.research.google.com/notebooks/data_table.ipynb>data table notebook</a>'\n",
              "            + ' to learn more about interactive tables.';\n",
              "          element.innerHTML = '';\n",
              "          dataTable['output_type'] = 'display_data';\n",
              "          await google.colab.output.renderOutput(dataTable, element);\n",
              "          const docLink = document.createElement('div');\n",
              "          docLink.innerHTML = docLinkHtml;\n",
              "          element.appendChild(docLink);\n",
              "        }\n",
              "      </script>\n",
              "    </div>\n",
              "  </div>\n",
              "  "
            ]
          },
          "metadata": {},
          "execution_count": 35
        }
      ]
    },
    {
      "cell_type": "code",
      "source": [],
      "metadata": {
        "id": "33ZDkQLpM0kU"
      },
      "execution_count": null,
      "outputs": []
    }
  ]
}