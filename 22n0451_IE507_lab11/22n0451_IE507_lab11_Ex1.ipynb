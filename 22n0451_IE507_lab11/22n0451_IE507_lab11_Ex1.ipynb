{
  "nbformat": 4,
  "nbformat_minor": 0,
  "metadata": {
    "colab": {
      "provenance": [],
      "collapsed_sections": []
    },
    "kernelspec": {
      "name": "python3",
      "display_name": "Python 3"
    },
    "language_info": {
      "name": "python"
    }
  },
  "cells": [
    {
      "cell_type": "markdown",
      "source": [
        "# Simulation using Python, Lab 2, Part A: Monte Carlo Integration"
      ],
      "metadata": {
        "id": "jCYxZA0Ksgwt"
      }
    },
    {
      "cell_type": "code",
      "metadata": {
        "id": "9mEq66v4PziL"
      },
      "source": [
        "import math\n",
        "import numpy as np\n",
        "import random \n",
        "import matplotlib.pyplot as plt\n",
        "from scipy import stats"
      ],
      "execution_count": 1,
      "outputs": []
    },
    {
      "cell_type": "markdown",
      "source": [
        "**Example**\n",
        "Compute $\\int_0^\\pi sin(x) dx$ using MCS"
      ],
      "metadata": {
        "id": "GrYHWMdgstZG"
      }
    },
    {
      "cell_type": "code",
      "metadata": {
        "id": "xuQDD_oiQDC0"
      },
      "source": [
        "#Let's define the integral\n",
        "def integral1(x):\n",
        "  return (math.sin(x))\n"
      ],
      "execution_count": 2,
      "outputs": []
    },
    {
      "cell_type": "code",
      "metadata": {
        "id": "bS6qfA6jQLQL",
        "colab": {
          "base_uri": "https://localhost:8080/"
        },
        "outputId": "ff40a2aa-e548-441f-a402-2dc0cd841109"
      },
      "source": [
        "N = 1000 ## number of random points\n",
        "\n",
        "lb = 0.0  #lower bound\n",
        "ub = math.pi\t#upper bound\n",
        "\n",
        "eval_data = [] \t#Defining eval_data as a list data type\n",
        "\n",
        "for i in range(N):\n",
        "  v = random.uniform(lb, ub)\n",
        "  eval_data.append(integral1(v))\n",
        "\n",
        "val = (ub-lb)*np.mean(eval_data)\n",
        "\n",
        "print('Integral Estimate   : ', val)"
      ],
      "execution_count": 3,
      "outputs": [
        {
          "output_type": "stream",
          "name": "stdout",
          "text": [
            "Integral Estimate   :  1.971980553432048\n"
          ]
        }
      ]
    },
    {
      "cell_type": "markdown",
      "metadata": {
        "id": "cnTVEuMvRZEf"
      },
      "source": [
        "Solve above example for N = 10, 100, 1000, 10000 and observe the results!"
      ]
    },
    {
      "cell_type": "code",
      "source": [
        "N = 1000 ## number of random points\n",
        "\n",
        "lb = 0.0  #lower bound\n",
        "ub = math.pi\t#upper bound\n",
        "\n",
        "eval_data = [] \t#Defining eval_data as a list data type\n",
        "\n",
        "for i in range(N):\n",
        "  v = random.uniform(lb, ub)\n",
        "  eval_data.append(integral1(v))\n",
        "\n",
        "val = (ub-lb)*np.mean(eval_data)\n",
        "\n",
        "print('Integral Estimate   : ', val)"
      ],
      "metadata": {
        "colab": {
          "base_uri": "https://localhost:8080/"
        },
        "id": "Zabjcu88w-JI",
        "outputId": "cff44514-77a0-4020-f0d7-3e7daa5c5a7b"
      },
      "execution_count": 4,
      "outputs": [
        {
          "output_type": "stream",
          "name": "stdout",
          "text": [
            "Integral Estimate   :  1.993988922035635\n"
          ]
        }
      ]
    },
    {
      "cell_type": "markdown",
      "source": [
        "### Building Confidence Interval\n",
        "Let's run the model M=10 times, each with N=100 data points. Use the M data points to build the 95% CI of the mean estimate of the integral"
      ],
      "metadata": {
        "id": "lJEkQ7is-E2R"
      }
    },
    {
      "cell_type": "code",
      "metadata": {
        "id": "Rq3-TrrOSxcj",
        "colab": {
          "base_uri": "https://localhost:8080/"
        },
        "outputId": "ba8e4078-748f-4b18-d2eb-a69fbe4578ea"
      },
      "source": [
        "M = 100 #Number of batches or sample sets.\n",
        "N = 100 ## number of random points per batch\n",
        "\n",
        "lb = 0.0  #lower bound\n",
        "ub = math.pi\t#upper bound\n",
        "\n",
        "val=[]\n",
        "for j in range(M): #Outer-loop for sample sets\n",
        "  eval_data = []\n",
        "\n",
        "  for i in range(N): #Inner-loop for function evaluation\n",
        "    v = random.uniform(lb, ub)\n",
        "    eval_data.append(integral1(v))\n",
        "  \n",
        "  val.append((ub-lb)*np.mean(eval_data))\n",
        "\n",
        "total_mean = np.mean(val)  #mean\n",
        "print(\"Integral Mean =\",total_mean)\n",
        "sd = np.std(val)\t#standard deviation\n",
        "print('Standard deviation = ',sd)\n",
        "\n",
        "alpha=0.05 #since we want to construct 95% CI\n",
        "dof = M -1\t# Degrees of freedom\n",
        "t_value = stats.t.ppf((1-alpha/2),dof)\n",
        "print(\"t-value from student t-dist with dof \", M-1, \" and alpha \", alpha, \" is \", t_value)\n",
        "t_hw = t_value*sd/math.sqrt(M)\t\t#Halfwidth\n",
        "print(\"Halfwidth = \",t_hw)\n",
        "print(\"95% CI of Integral is [\", total_mean - t_hw, \", \", total_mean + t_hw, \"]\" )"
      ],
      "execution_count": 5,
      "outputs": [
        {
          "output_type": "stream",
          "name": "stdout",
          "text": [
            "Integral Mean = 2.00268711569485\n",
            "Standard deviation =  0.09290753007779812\n",
            "t-value from student t-dist with dof  99  and alpha  0.05  is  1.9842169515086827\n",
            "Halfwidth =  0.018434869610316984\n",
            "95% CI of Integral is [ 1.984252246084533 ,  2.021121985305167 ]\n"
          ]
        }
      ]
    },
    {
      "cell_type": "code",
      "source": [],
      "metadata": {
        "id": "POfPAzyX_smb"
      },
      "execution_count": null,
      "outputs": []
    },
    {
      "cell_type": "markdown",
      "source": [
        "#To Do"
      ],
      "metadata": {
        "id": "FI7wctp3CX9U"
      }
    },
    {
      "cell_type": "markdown",
      "source": [
        "1. Estimate $I = \\int_0^{9/10} \\int_0^1 \\int_0^{11/10} (4-x^2-y^2-z^2)dz dy dx$ using MCS.  Bound the expected value with a 95% CI"
      ],
      "metadata": {
        "id": "rCKQ-wVJChkx"
      }
    },
    {
      "cell_type": "code",
      "source": [
        "def fun(x,y,z):\n",
        "  a=4-x**2-y**2-z**2\n",
        "  return a"
      ],
      "metadata": {
        "id": "2yqbp2LpxT-I"
      },
      "execution_count": 6,
      "outputs": []
    },
    {
      "cell_type": "code",
      "source": [
        "N=1000\n",
        "lb=0\n",
        "ub_x=1.1\n",
        "ub_y=1\n",
        "ub_z=0.9\n",
        "val=[]\n",
        "for i in range(N):\n",
        "  x=random.uniform(lb,ub_x)\n",
        "  y=random.uniform(lb,ub_y)\n",
        "  z=random.uniform(lb,ub_z)\n",
        "  val.append(fun(x,y,z))\n",
        "integration_value=0.9*1.1*np.mean(val) \n",
        "print(integration_value) \n",
        "  \n",
        "\n",
        "\n"
      ],
      "metadata": {
        "id": "nJ7oBKk6CZro",
        "colab": {
          "base_uri": "https://localhost:8080/"
        },
        "outputId": "71b77322-0a4c-4d18-d224-cab9687a58ad"
      },
      "execution_count": 7,
      "outputs": [
        {
          "output_type": "stream",
          "name": "stdout",
          "text": [
            "2.9614104098118714\n"
          ]
        }
      ]
    },
    {
      "cell_type": "code",
      "source": [
        "M=100\n",
        "N=100\n",
        "lb=0\n",
        "ub_x=1.1\n",
        "ub_y=1\n",
        "ub_z=0.9\n",
        "mean_values=[]\n",
        "for i in range(M):\n",
        "  val=[]\n",
        "  for i in range(N):\n",
        "    x=random.uniform(lb,ub_x)\n",
        "    y=random.uniform(lb,ub_y)\n",
        "    z=random.uniform(lb,ub_z)\n",
        "    val.append(fun(x,y,z))\n",
        "  mean_values.append(0.9*1.1*np.mean(val))\n",
        "total_mean = np.mean(mean_values)  #mean\n",
        "print(\"Integral Mean =\",total_mean)\n",
        "sd = np.std(mean_values)\t#standard deviation\n",
        "print('Standard deviation = ',sd)\n",
        "\n",
        "alpha=0.05 #since we want to construct 95% CI\n",
        "dof = M -1\t# Degrees of freedom\n",
        "t_value = stats.t.ppf((1-alpha/2),dof)\n",
        "print(\"t-value from student t-dist with dof \", M-1, \" and alpha \", alpha, \" is \", t_value)\n",
        "t_hw = t_value*sd/math.sqrt(M)\t\t#Halfwidth\n",
        "print(\"Halfwidth = \",t_hw)\n",
        "print(\"95% CI of Integral is [\", total_mean - t_hw, \", \", total_mean + t_hw, \"]\" )  \n",
        "\n",
        "\n",
        "  "
      ],
      "metadata": {
        "colab": {
          "base_uri": "https://localhost:8080/"
        },
        "id": "XvEXvoVU1jEx",
        "outputId": "cf01bb65-8845-4c6a-b9e1-00fcc026c233"
      },
      "execution_count": 8,
      "outputs": [
        {
          "output_type": "stream",
          "name": "stdout",
          "text": [
            "Integral Mean = 2.966638699015669\n",
            "Standard deviation =  0.052875187762686016\n",
            "t-value from student t-dist with dof  99  and alpha  0.05  is  1.9842169515086827\n",
            "Halfwidth =  0.010491584387292604\n",
            "95% CI of Integral is [ 2.956147114628376 ,  2.977130283402962 ]\n"
          ]
        }
      ]
    },
    {
      "cell_type": "markdown",
      "source": [
        "2. Estimate $I = \\int_0^\\inf x^{\\alpha -1} e^{-x} dx$, with $\\alpha$ = 1.9 using MCS.  Option 1: Try with $x$ ~ Expo(1).  Option 2: Try with $x$ ~ Erlang(k=2, $\\beta$=1). Compare the results across options for same value of N=100 and N=1000 "
      ],
      "metadata": {
        "id": "p7SoVrYGC3Xx"
      }
    },
    {
      "cell_type": "markdown",
      "source": [
        "### Solution:"
      ],
      "metadata": {
        "id": "cadZLiTDLIz0"
      }
    },
    {
      "cell_type": "code",
      "source": [
        "def fun1(x,a):\n",
        "  return x**(a-1)"
      ],
      "metadata": {
        "id": "337aw3Qa3jP_"
      },
      "execution_count": 9,
      "outputs": []
    },
    {
      "cell_type": "markdown",
      "source": [
        "### Part1:\n",
        "When x is sampled over exponential distribution with mean 1."
      ],
      "metadata": {
        "id": "zcs2YAnKLV1B"
      }
    },
    {
      "cell_type": "code",
      "source": [
        "N=10000\n",
        "val=[]\n",
        "a=1.9\n",
        "for i in range(N):\n",
        "  x=np.random.exponential(1)\n",
        "  val.append(fun1(x,a))\n",
        "integration_value=np.mean(val) \n",
        "print(integration_value) \n",
        "  "
      ],
      "metadata": {
        "id": "GWHcUpx1DJxF",
        "colab": {
          "base_uri": "https://localhost:8080/"
        },
        "outputId": "42207b09-3e5d-4fdd-8fa3-5e829633d664"
      },
      "execution_count": 11,
      "outputs": [
        {
          "output_type": "stream",
          "name": "stdout",
          "text": [
            "0.9671492135203463\n"
          ]
        }
      ]
    },
    {
      "cell_type": "code",
      "source": [
        "M=100\n",
        "N=100\n",
        "a=1.9\n",
        "mean_values=[]\n",
        "for i in range(M):\n",
        "  val=[]\n",
        "  for i in range(N):\n",
        "    x=np.random.exponential(1)\n",
        "    val.append(fun1(x,a))\n",
        "  mean_values.append(np.mean(val))\n",
        "total_mean = np.mean(mean_values)  #mean\n",
        "print(\"Integral Mean =\",total_mean)\n",
        "sd = np.std(mean_values)\t#standard deviation\n",
        "print('Standard deviation = ',sd)\n",
        "\n",
        "alpha=0.05 #since we want to construct 95% CI\n",
        "dof = M -1\t# Degrees of freedom\n",
        "t_value = stats.t.ppf((1-alpha/2),dof)\n",
        "print(\"t-value from student t-dist with dof \", M-1, \" and alpha \", alpha, \" is \", t_value)\n",
        "t_hw = t_value*sd/math.sqrt(M)\t\t#Halfwidth\n",
        "print(\"Halfwidth = \",t_hw)\n",
        "print(\"95% CI of Integral is [\", total_mean - t_hw, \", \", total_mean + t_hw, \"]\" )  \n"
      ],
      "metadata": {
        "colab": {
          "base_uri": "https://localhost:8080/"
        },
        "id": "u88-Mv3F42kq",
        "outputId": "3a7795f4-bdea-4364-e377-e140649f3af7"
      },
      "execution_count": 12,
      "outputs": [
        {
          "output_type": "stream",
          "name": "stdout",
          "text": [
            "Integral Mean = 0.9780863276837163\n",
            "Standard deviation =  0.0871582546883891\n",
            "t-value from student t-dist with dof  99  and alpha  0.05  is  1.9842169515086827\n",
            "Halfwidth =  0.017294088641661275\n",
            "95% CI of Integral is [ 0.960792239042055 ,  0.9953804163253775 ]\n"
          ]
        }
      ]
    },
    {
      "cell_type": "markdown",
      "source": [
        "### Part 2:\n",
        "When x is sampled over erlang distribution with parameters 2,1."
      ],
      "metadata": {
        "id": "KQKpCf3TLS5y"
      }
    },
    {
      "cell_type": "code",
      "source": [
        "def fun2(x,a):\n",
        "  return x**(a-1)/x\n"
      ],
      "metadata": {
        "id": "tzu_8q_F4Bu2"
      },
      "execution_count": 13,
      "outputs": []
    },
    {
      "cell_type": "code",
      "source": [
        "N=10000\n",
        "val=[]\n",
        "a=1.9\n",
        "for i in range(N):\n",
        "  x=np.random.gamma(2,1 )\n",
        "  val.append(fun2(x,a))\n",
        "integration_value=np.mean(val) \n",
        "print(integration_value) \n",
        "  "
      ],
      "metadata": {
        "colab": {
          "base_uri": "https://localhost:8080/"
        },
        "id": "2sFGLTZX7OCa",
        "outputId": "6be85a76-08e8-4ac3-8684-9e4e1dc0c843"
      },
      "execution_count": 14,
      "outputs": [
        {
          "output_type": "stream",
          "name": "stdout",
          "text": [
            "0.9607998912347296\n"
          ]
        }
      ]
    },
    {
      "cell_type": "code",
      "source": [
        "M=10000\n",
        "N=100\n",
        "a=1.9\n",
        "mean_values=[]\n",
        "for i in range(M):\n",
        "  val=[]\n",
        "  for i in range(N):\n",
        "    x=np.random.gamma(2,1)\n",
        "    val.append(fun2(x,a))\n",
        "  mean_values.append(np.mean(val))\n",
        "total_mean = np.mean(mean_values)  #mean\n",
        "print(\"Integral Mean =\",total_mean)\n",
        "sd = np.std(mean_values)\t#standard deviation\n",
        "print('Standard deviation = ',sd)\n",
        "\n",
        "alpha=0.05 #since we want to construct 95% CI\n",
        "dof = M -1\t# Degrees of freedom\n",
        "t_value = stats.t.ppf((1-alpha/2),dof)\n",
        "print(\"t-value from student t-dist with dof \", M-1, \" and alpha \", alpha, \" is \", t_value)\n",
        "t_hw = t_value*sd/math.sqrt(M)\t\t#Halfwidth\n",
        "print(\"Halfwidth = \",t_hw)\n",
        "print(\"95% CI of Integral is [\", total_mean - t_hw, \", \", total_mean + t_hw, \"]\" ) "
      ],
      "metadata": {
        "colab": {
          "base_uri": "https://localhost:8080/"
        },
        "id": "JEBxvMSp7fmi",
        "outputId": "1db87ad9-1306-4f72-b169-2afc85bfad54"
      },
      "execution_count": 15,
      "outputs": [
        {
          "output_type": "stream",
          "name": "stdout",
          "text": [
            "Integral Mean = 0.9617310316399297\n",
            "Standard deviation =  0.007949290859528045\n",
            "t-value from student t-dist with dof  9999  and alpha  0.05  is  1.9602012636213575\n",
            "Halfwidth =  0.0001558220998774058\n",
            "95% CI of Integral is [ 0.9615752095400523 ,  0.9618868537398071 ]\n"
          ]
        }
      ]
    },
    {
      "cell_type": "code",
      "source": [],
      "metadata": {
        "id": "ExQ66WtO7pol"
      },
      "execution_count": null,
      "outputs": []
    }
  ]
}