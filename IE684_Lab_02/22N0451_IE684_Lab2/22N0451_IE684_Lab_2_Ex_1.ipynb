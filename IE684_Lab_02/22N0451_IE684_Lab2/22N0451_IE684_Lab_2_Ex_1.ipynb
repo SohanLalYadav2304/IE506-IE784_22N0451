{
  "nbformat": 4,
  "nbformat_minor": 0,
  "metadata": {
    "colab": {
      "provenance": []
    },
    "kernelspec": {
      "name": "python3",
      "display_name": "Python 3"
    }
  },
  "cells": [
    {
      "cell_type": "markdown",
      "metadata": {
        "id": "nVE0Xoa0Q5wE"
      },
      "source": [
        "$\\Large\\textbf{Lab 2. Exercise 1. }$\n",
        "\n"
      ]
    },
    {
      "cell_type": "markdown",
      "metadata": {
        "id": "YVkab74DJsRL"
      },
      "source": [
        "Recall that we implemented the gradient descent algorithm to solve $\\min_{\\mathbf{x} \\in {\\mathbb{R}}^n} f(\\mathbf{x})$. The main ingredients in the gradient descent iterations are the descent direction $\\mathbf{p}^k$ which is set to $-\\nabla f(\\mathbf{x}^k)$, and the step length $\\eta^k$ which is found by solving an optimization problem (or sometimes taken as a constant value over all iterations). We used the following procedure in the previous lab:\n",
        "\n",
        "\\begin{align}\n",
        "& \\textbf{Input:} \\text{ Starting point $x^0$, Stopping tolerance $\\tau$}  \\\\\n",
        "& \\textbf{Initialize } k=0 \\\\ \n",
        "& \\mathbf{p}^k =-\\nabla f(\\mathbf{x}^k) \\\\ \n",
        "&\\textbf{While } \\| \\mathbf{p}^k \\|_2 > \\tau \\text{ do:}  \\\\   \n",
        "&\\quad \\quad \\eta^k = \\arg\\min_{\\eta\\geq 0} f(\\mathbf{x}^k + \\eta  \\mathbf{p}^k) = \\arg\\min_{\\eta\\geq 0} f(\\mathbf{x}^k - \\eta  \\nabla f(\\mathbf{x}^k)) \\\\\n",
        "&\\quad \\quad \\mathbf{x}^{k+1} = \\mathbf{x}^k + \\eta^k \\mathbf{p}^k = \\mathbf{x}^k - \\eta^k \\nabla f (\\mathbf{x}^k)  \\\\ \n",
        "&\\quad \\quad k = {k+1} \\\\ \n",
        "&\\textbf{End While} \\\\\n",
        "&\\textbf{Output: } \\mathbf{x}^k\n",
        "\\end{align}"
      ]
    },
    {
      "cell_type": "markdown",
      "metadata": {
        "id": "g7ivDCuJRP9b"
      },
      "source": [
        "We saw that for particular cases of quadratic functions, a closed form analytical solution for the minimizer of the optimization problem $\\min_{\\eta \\geq 0} f({\\mathbf{x}}^k + \\eta {\\mathbf{p}}^k)$ exists. However finding a closed form expression as a solution to this optimization problem to find a suitable step length might not always be possible. To tackle general situations, we will try to devise a different procedure in this lab. \n",
        "\n",
        "To find the step length, we will use the following property: \n",
        "Suppose a non-zero $\\mathbf{p} \\in {\\mathbb{R}}^n$ is a descent direction at point $\\mathbf{x}$, and let $\\gamma \\in (0,1)$. Then there exists $\\varepsilon >0$ such that  \n",
        "\\begin{align}\n",
        "f(\\mathbf{x}+\\alpha \\mathbf{p}) \\leq f(\\mathbf{x}) + \\gamma \\alpha \\nabla f(\\mathbf{x})^\\top \\mathbf{p}, \\ \\forall \\alpha \\in (0,\\varepsilon].  \n",
        "\\end{align}\n",
        "\n",
        "The step length $\\eta^k$ can be found using a backtracking procedure illustrated below to find appropriate value of $\\varepsilon$.  \n",
        "\n"
      ]
    },
    {
      "cell_type": "markdown",
      "metadata": {
        "id": "iW-xcDISWmGR"
      },
      "source": [
        "In this exercise, we will check if finding the steplength using the backtracking procedure is advantageous for some quadratic functions. In this sample code we consider $f(\\mathbf{x})=f(x_1,x_2) = (x_1-8)^2 + (x_2 + 12)^2$."
      ]
    },
    {
      "cell_type": "code",
      "metadata": {
        "id": "KJq7tIgIRroP"
      },
      "source": [
        "#numpy package will be used for most of our lab exercises. Please have a look at Please have a look at https://numpy.org/doc/stable/ for numpy documentation\n",
        "#we will first import the numpy package and name it as np\n",
        "import numpy as np \n",
        "#Henceforth, we can lazily use np to denote the much longer numpy !! "
      ],
      "execution_count": null,
      "outputs": []
    },
    {
      "cell_type": "code",
      "metadata": {
        "id": "GZjX2IwOR8_X"
      },
      "source": [
        "#Now we will define a function which will compute and return the function value \n",
        "def evalf(x):  \n",
        "  #Input: x is a numpy array of size 2 \n",
        "  assert type(x) is np.ndarray and len(x) == 2 #do not allow arbitrary arguments \n",
        "  #after checking if the argument is valid, we can compute the objective function value\n",
        "  #compute the function value and return it \n",
        "  return (x[1]+12)**2 + (-8+x[0])**2\n"
      ],
      "execution_count": null,
      "outputs": []
    },
    {
      "cell_type": "code",
      "metadata": {
        "id": "6klpwtDra_I8"
      },
      "source": [
        "#Now we will define a function which will compute and return the gradient value as a numpy array \n",
        "def evalg(x):  \n",
        "  #Input: x is a numpy array of size 2 \n",
        "  assert type(x) is np.ndarray and len(x) == 2 #do not allow arbitrary arguments \n",
        "  #after checking if the argument is valid, we can compute the gradient value\n",
        "  #compute the gradient value and return it \n",
        "  return np.array([2*(x[0]-8), 2*(x[1]+12)])"
      ],
      "execution_count": null,
      "outputs": []
    },
    {
      "cell_type": "code",
      "metadata": {
        "id": "f3blM08V0HOl"
      },
      "source": [
        "#Complete the module to compute the steplength by using the closed-form expression\n",
        "def compute_steplength_exact(gradf, A,x): #add appropriate arguments to the function \n",
        "  assert type(gradf) is np.ndarray and len(gradf) == 2 \n",
        "  assert type(A) is np.ndarray and A.shape[0] == 2 and  A.shape[1] == 2 #allow only a 2x2 array\n",
        "   \n",
        "  numerator=np.dot(evalg(x).transpose(),evalg(x))    \n",
        "  denominator=2*np.dot(np.dot(evalg(x).transpose(),A),evalg(x))\n",
        "  step_length=numerator/denominator\n",
        "\n",
        "  \n",
        "  return step_length"
      ],
      "execution_count": null,
      "outputs": []
    },
    {
      "cell_type": "markdown",
      "metadata": {
        "id": "WV6OddaNAmpA"
      },
      "source": [
        "\n",
        "\\begin{align}\n",
        "& \\textbf{Input:}  \\text{ $\\mathbf{x}^k$, $\\mathbf{p}^k$, $\\alpha^0$, $\\rho \\in (0,1)$, $\\gamma \\in (0,1)$ }  \\\\\n",
        "& \\textbf{Initialize } \\alpha=\\alpha^0 \\\\ \n",
        "&\\textbf{While } f(\\mathbf{x}^k + \\alpha \\mathbf{p}^k)   > f(\\mathbf{x}^k) + \\gamma \\alpha \\nabla f(\\mathbf{x}^k)^\\top \\mathbf{p}^k \\text{ do:}  \\\\   \n",
        "&\\quad \\quad \\alpha = \\rho \\alpha  \\\\\n",
        "&\\textbf{End While} \\\\\n",
        "&\\textbf{Output: } \\alpha\n",
        "\\end{align}"
      ]
    },
    {
      "cell_type": "code",
      "metadata": {
        "id": "PGunDYy6Q21S"
      },
      "source": [
        "#Complete the module to compute the steplength by using the backtracking line search\n",
        "def compute_steplength_backtracking(x, gradf, alpha_start, rho, gamma): #add appropriate arguments to the function \n",
        "  assert type(x) is np.ndarray and len(gradf) == 2 \n",
        "  assert type(gradf) is np.ndarray and len(gradf) == 2 \n",
        "  \n",
        "  alpha = alpha_start\n",
        "  p=-gradf\n",
        "  while evalf(x+alpha*p)> evalf(x)+gamma*alpha*(np.dot(evalg(x).transpose(),p)):\n",
        "    alpha=alpha*rho\n",
        "  return alpha"
      ],
      "execution_count": null,
      "outputs": []
    },
    {
      "cell_type": "code",
      "source": [
        "grad=evalg(np.array([1,1]))"
      ],
      "metadata": {
        "id": "zbFu9nwr4ceM"
      },
      "execution_count": null,
      "outputs": []
    },
    {
      "cell_type": "code",
      "metadata": {
        "id": "WaUUdzLtVSCl"
      },
      "source": [
        "#we define the types of line search methods that we have implemented\n",
        "EXACT_LINE_SEARCH = 1\n",
        "BACKTRACKING_LINE_SEARCH = 2\n",
        "CONSTANT_STEP_LENGTH = 3"
      ],
      "execution_count": null,
      "outputs": []
    },
    {
      "cell_type": "code",
      "metadata": {
        "id": "3SCJdqivdpxx"
      },
      "source": [
        "def find_minimizer(start_x, tol, line_search_type, *args):\n",
        "  #Input: start_x is a numpy array of size 2, tol denotes the tolerance and is a positive float value\n",
        "  assert type(start_x) is np.ndarray and len(start_x) == 2 #do not allow arbitrary arguments \n",
        "  assert type(tol) is float and tol>=0 \n",
        "  # construct a suitable A matrix for the quadratic function \n",
        "  A = np.array([[1, 0],[0,1]])\n",
        "  x = start_x\n",
        "  g_x = evalg(x)\n",
        "\n",
        "  #initialization for backtracking line search\n",
        "  if(line_search_type == BACKTRACKING_LINE_SEARCH):\n",
        "    alpha_start = args[0]\n",
        "    rho = args[1]\n",
        "    gamma = args[2]\n",
        "    print('Params for Backtracking LS: alpha start:', alpha_start, 'rho:', rho,' gamma:', gamma)\n",
        "\n",
        "  k = 0\n",
        "  #print('iter:',k, ' x:', x, ' f(x):', evalf(x), ' grad at x:', g_x, ' gradient norm:', np.linalg.norm(g_x))\n",
        "\n",
        "  while (np.linalg.norm(g_x) > tol): #continue as long as the norm of gradient is not close to zero upto a tolerance tol\n",
        "  \n",
        "    if line_search_type == EXACT_LINE_SEARCH:\n",
        "      step_length = compute_steplength_exact(g_x, A,x) #call the new function you wrote to compute the steplength\n",
        "      #raise ValueError('EXACT LINE SEARCH NOT YET IMPLEMENTED')\n",
        "    elif line_search_type == BACKTRACKING_LINE_SEARCH:\n",
        "      step_length = compute_steplength_backtracking(x,g_x, alpha_start,rho, gamma) #call the new function you wrote to compute the steplength\n",
        "      #raise ValueError('BACKTRACKING LINE SEARCH NOT YET IMPLEMENTED')\n",
        "    elif line_search_type == CONSTANT_STEP_LENGTH: #do a gradient descent with constant step length\n",
        "      step_length = 0.1\n",
        "    else:  \n",
        "      raise ValueError('Line search type unknown. Please check!')\n",
        "    \n",
        "    #implement the gradient descent steps here   \n",
        "    x = np.subtract(x, np.multiply(step_length,g_x)) #update x = x - step_length*g_x\n",
        "    k += 1 #increment iteration\n",
        "    g_x = evalg(x) #compute gradient at new point\n",
        "\n",
        "    #print('iter:',k, ' x:', x, ' f(x):', evalf(x), ' grad at x:', g_x, ' gradient norm:', np.linalg.norm(g_x))\n",
        "  return x,k \n"
      ],
      "execution_count": null,
      "outputs": []
    },
    {
      "cell_type": "markdown",
      "source": [
        "$\\large \\text{[R]} \\\\ \\text{Note down the minimizer and minimum function value of }f(x) = f(x_1, x_2) = (x_1 − 8)^2 + (x_2 + 12)^2. $"
      ],
      "metadata": {
        "id": "7icJC48dB5iD"
      }
    },
    {
      "cell_type": "code",
      "metadata": {
        "id": "n-kHCkbwe-M4",
        "colab": {
          "base_uri": "https://localhost:8080/"
        },
        "outputId": "90d41c69-6a32-49a0-abaa-720b5f2a450a"
      },
      "source": [
        "\n",
        "my_start_x = np.array([1,1])\n",
        "my_tol= 1e-5\n",
        "\n",
        "print('Solution using constant_step_length(0.1)')\n",
        "x_opt,number_of_iter = find_minimizer(my_start_x, my_tol, CONSTANT_STEP_LENGTH)\n",
        "print('Minimizer of function:',x_opt)\n",
        "print('Minuimum function value:',evalf(x_opt))\n",
        "print('number of iterations:',number_of_iter)\n",
        "print('---------------------------------------------------------------------')\n",
        "print('Solution using closed-form expression')\n",
        "x_opt_cls,number_of_iter_cls=find_minimizer(my_start_x,my_tol,EXACT_LINE_SEARCH)\n",
        "print('Minimizer of function:',x_opt_cls)\n",
        "print('Minuimum function value:',evalf(x_opt_cls))\n",
        "print('number of iterations:',number_of_iter_cls)\n",
        "print('---------------------------------------------------------------------')\n",
        "#check what happens when you call find_minimzer using backtracking line search\n",
        "print('Solution using backtracking line search')\n",
        "x_opt_bls,number_of_iter_bls = find_minimizer(my_start_x, my_tol, BACKTRACKING_LINE_SEARCH, 1, 0.5,0.5)\n",
        "print('Minimizer of function:',x_opt_bls)\n",
        "print('Minuimum function value:',evalf(x_opt_bls))\n",
        "print('number of iterations:',number_of_iter_bls)\n"
      ],
      "execution_count": null,
      "outputs": [
        {
          "output_type": "stream",
          "name": "stdout",
          "text": [
            "Solution using constant_step_length(0.1)\n",
            "Minimizer of function: [  7.99999775 -11.99999582]\n",
            "Minuimum function value: 2.2517218946096954e-11\n",
            "number of iterations: 67\n",
            "---------------------------------------------------------------------\n",
            "Solution using closed-form expression\n",
            "Minimizer of function: [  8. -12.]\n",
            "Minuimum function value: 0.0\n",
            "number of iterations: 1\n",
            "---------------------------------------------------------------------\n",
            "Solution using backtracking line search\n",
            "Params for Backtracking LS: alpha start: 1 rho: 0.5  gamma: 0.5\n",
            "Minimizer of function: [  8. -12.]\n",
            "Minuimum function value: 0.0\n",
            "number of iterations: 1\n"
          ]
        }
      ]
    },
    {
      "cell_type": "markdown",
      "source": [
        "$\\large \\text{ Above result shows minimizer for function and minimum function value in various ways of finding step length.} $"
      ],
      "metadata": {
        "id": "hidTQuboRqtS"
      }
    },
    {
      "cell_type": "markdown",
      "source": [
        "$\\large \\text{[R]} \\text{Consider stopping tolerance} \\\\ τ = 10^{−12} \\text{and starting point} \\ x_0 = (25, 25). \\\\ \\text{ Compare the number of iterations taken by the gradient descent procedure which uses exact step length computation against the gradient descent} \\\\ \\text{procedure which uses the backtracking line search procedure (with} α_0 = 1, ρ = 0.5, γ = 0.5). \\text{Comment on your observations.} $"
      ],
      "metadata": {
        "id": "O9aX-d9PGTsK"
      }
    },
    {
      "cell_type": "code",
      "metadata": {
        "id": "GcsCIAntMNdb",
        "colab": {
          "base_uri": "https://localhost:8080/"
        },
        "outputId": "d2f754a2-20af-4eda-e697-90f23d7d73c3"
      },
      "source": [
        "Start_upd=np.array([25,25])\n",
        "tol_upd=1e-12\n",
        "print('Solution using closed-form expression')\n",
        "x_opt_cls,number_of_iter_cls=find_minimizer(Start_upd,tol_upd,EXACT_LINE_SEARCH)\n",
        "print('Minimizer of function:',x_opt_cls)\n",
        "print('Minuimum function value:',evalf(x_opt_cls))\n",
        "print('number of iterations:',number_of_iter_cls)\n",
        "print('---------------------------------------------------------------------')\n",
        "#check what happens when you call find_minimzer using backtracking line search\n",
        "print('Solution using backtracking line search')\n",
        "x_opt_bls,number_of_iter_bls = find_minimizer(Start_upd,tol_upd, BACKTRACKING_LINE_SEARCH, 1, 0.5,0.5)\n",
        "print('Minimizer of function:',x_opt_bls)\n",
        "print('Minuimum function value:',evalf(x_opt_bls))\n",
        "print('number of iterations:',number_of_iter_bls)\n"
      ],
      "execution_count": null,
      "outputs": [
        {
          "output_type": "stream",
          "name": "stdout",
          "text": [
            "Solution using closed-form expression\n",
            "Minimizer of function: [  8. -12.]\n",
            "Minuimum function value: 0.0\n",
            "number of iterations: 1\n",
            "---------------------------------------------------------------------\n",
            "Solution using backtracking line search\n",
            "Params for Backtracking LS: alpha start: 1 rho: 0.5  gamma: 0.5\n",
            "Minimizer of function: [  8. -12.]\n",
            "Minuimum function value: 0.0\n",
            "number of iterations: 1\n"
          ]
        }
      ]
    },
    {
      "cell_type": "markdown",
      "source": [
        "$ \\\\ \\text{As we can see that number of iterations in both ways(exact step length computation,backtracking line search procedure) are equal to 1} \\\\ \\text{ so we can see that in this condition when starting point is [25,25] and tolerance value is 1e-12 } $"
      ],
      "metadata": {
        "id": "njEmrY67SCUL"
      }
    },
    {
      "cell_type": "markdown",
      "source": [
        "$\\text{[R] With starting point} \\ x_0 = (25, 25) \\ \\text{ and} \\ τ = 10^{−10} \\\\ \\text{we will now study the behavior of the backtracking line search algorithm for different choices of} \\  \\alpha_0.\\ \\text{Take} \\ γ = ρ = 0.5. \\\\ \\text{ Try} \\ \\alpha_0 ∈ \\{1, 0.9, 0.75, 0.6, 0.5, 0.4, 0.25, 0.1, 0.01\\}.$\n",
        "For each α0, record the final minimizer, final objective function value and number of iterations taken by the\n",
        "gradient descent algorithm with backtracking line search to terminate. Prepare a plot where the number of\n",
        "iterations is plotted against α0 values. Comment on the observations. Comment about the minimizers and\n",
        "objective function values obtained for different choices of the α0 values. Check and comment if for any α0\n",
        "value, gradient descent with backtracking line search takes lesser number of iterations when compared to the\n",
        "gradient descent procedure with exact line search."
      ],
      "metadata": {
        "id": "fJN12X_fIelo"
      }
    },
    {
      "cell_type": "code",
      "source": [
        "Start_upd=np.array([25,25])\n",
        "tol_upd=1e-10\n",
        "alpha_0=[1,0.9,0.75,0.6,0.5,0.4,0.25,0.1,0.01]\n",
        "iter_list=[]\n",
        "print('Solution using closed-form expression')\n",
        "x_opt_cls,number_of_iter_cls=find_minimizer(Start_upd,tol_upd,EXACT_LINE_SEARCH)\n",
        "print('Minimizer of function:',x_opt_cls)\n",
        "print('Minuimum function value:',evalf(x_opt_cls))\n",
        "print('number of iterations:',number_of_iter_cls)\n",
        "print('---------------------------------------------------------------------')\n",
        "#check what happens when you call find_minimzer using backtracking line search\n",
        "print('Solution using backtracking line search')\n",
        "for alpha in alpha_0:\n",
        "  x_opt_bls,number_of_iter_bls = find_minimizer(Start_upd,tol_upd, BACKTRACKING_LINE_SEARCH, alpha, 0.5,0.5)\n",
        "  iter_list.append(number_of_iter_bls)\n",
        "  print('initial value of alpha:',alpha)\n",
        "  print('Minimizer of function:',x_opt_bls)\n",
        "  print('Minuimum function value:',evalf(x_opt_bls))\n",
        "  print('number of iterations:',number_of_iter_bls)\n",
        "  print('---------------------------------------------------------------------------')"
      ],
      "metadata": {
        "colab": {
          "base_uri": "https://localhost:8080/"
        },
        "id": "dQN4CkfuHs-D",
        "outputId": "3cdb7285-4e34-47f6-b6c5-4d856ff76a5f"
      },
      "execution_count": null,
      "outputs": [
        {
          "output_type": "stream",
          "name": "stdout",
          "text": [
            "Solution using closed-form expression\n",
            "Minimizer of function: [  8. -12.]\n",
            "Minuimum function value: 0.0\n",
            "number of iterations: 1\n",
            "---------------------------------------------------------------------\n",
            "Solution using backtracking line search\n",
            "Params for Backtracking LS: alpha start: 1 rho: 0.5  gamma: 0.5\n",
            "initial value of alpha: 1\n",
            "Minimizer of function: [  8. -12.]\n",
            "Minuimum function value: 0.0\n",
            "number of iterations: 1\n",
            "---------------------------------------------------------------------------\n",
            "Params for Backtracking LS: alpha start: 0.9 rho: 0.5  gamma: 0.5\n",
            "initial value of alpha: 0.9\n",
            "Minimizer of function: [  8. -12.]\n",
            "Minuimum function value: 1.6579714975258972e-21\n",
            "number of iterations: 12\n",
            "---------------------------------------------------------------------------\n",
            "Params for Backtracking LS: alpha start: 0.75 rho: 0.5  gamma: 0.5\n",
            "initial value of alpha: 0.75\n",
            "Minimizer of function: [  8. -12.]\n",
            "Minuimum function value: 1.3714654556129199e-21\n",
            "number of iterations: 20\n",
            "---------------------------------------------------------------------------\n",
            "Params for Backtracking LS: alpha start: 0.6 rho: 0.5  gamma: 0.5\n",
            "initial value of alpha: 0.6\n",
            "Minimizer of function: [  8. -12.]\n",
            "Minuimum function value: 2.2038291998576117e-21\n",
            "number of iterations: 30\n",
            "---------------------------------------------------------------------------\n",
            "Params for Backtracking LS: alpha start: 0.5 rho: 0.5  gamma: 0.5\n",
            "initial value of alpha: 0.5\n",
            "Minimizer of function: [  8. -12.]\n",
            "Minuimum function value: 0.0\n",
            "number of iterations: 1\n",
            "---------------------------------------------------------------------------\n",
            "Params for Backtracking LS: alpha start: 0.4 rho: 0.5  gamma: 0.5\n",
            "initial value of alpha: 0.4\n",
            "Minimizer of function: [  8. -12.]\n",
            "Minuimum function value: 1.1393259623274523e-22\n",
            "number of iterations: 18\n",
            "---------------------------------------------------------------------------\n",
            "Params for Backtracking LS: alpha start: 0.25 rho: 0.5  gamma: 0.5\n",
            "initial value of alpha: 0.25\n",
            "Minimizer of function: [  8. -12.]\n",
            "Minuimum function value: 1.3714654556129199e-21\n",
            "number of iterations: 40\n",
            "---------------------------------------------------------------------------\n",
            "Params for Backtracking LS: alpha start: 0.1 rho: 0.5  gamma: 0.5\n",
            "initial value of alpha: 0.1\n",
            "Minimizer of function: [  8. -12.]\n",
            "Minuimum function value: 2.3972320602008796e-21\n",
            "number of iterations: 123\n",
            "---------------------------------------------------------------------------\n",
            "Params for Backtracking LS: alpha start: 0.01 rho: 0.5  gamma: 0.5\n",
            "initial value of alpha: 0.01\n",
            "Minimizer of function: [  8. -12.]\n",
            "Minuimum function value: 2.4523367712209537e-21\n",
            "number of iterations: 1358\n",
            "---------------------------------------------------------------------------\n"
          ]
        }
      ]
    },
    {
      "cell_type": "code",
      "source": [
        "import matplotlib.pyplot as plt\n",
        "plt.plot(alpha_0,iter_list,color='r')\n",
        "plt.scatter(alpha_0,iter_list,color='g')\n",
        "plt.title('Number of iteration vs alpha_0 value')\n",
        "plt.xlabel('alpha_0 value')\n",
        "plt.ylabel('number of iteration')\n",
        "plt.show()"
      ],
      "metadata": {
        "colab": {
          "base_uri": "https://localhost:8080/",
          "height": 296
        },
        "id": "wR6fZ-PZKl7b",
        "outputId": "78c54145-7d74-49e2-9e7b-fa2b8984fe22"
      },
      "execution_count": null,
      "outputs": [
        {
          "output_type": "display_data",
          "data": {
            "text/plain": [
              "<Figure size 432x288 with 1 Axes>"
            ],
            "image/png": "[encoded data removed]"
          },
          "metadata": {
            "needs_background": "light"
          }
        }
      ]
    },
    {
      "cell_type": "markdown",
      "source": [
        "$ \\text{ Here we can easily observe that when value of alpha is near to zero than gradient descent takes high number of iterations} \\\\ $ \\\\\n",
        " but as soon as alplha value increases and tends to zero it starts decreasing and at value 0.5 , we get minimum number of iterations which is 1 and as we increase value of alpha more than 0.5 than number of iterations again start increasing and increase slowly thus we can conclude that small alpha value results more number of iterations. "
      ],
      "metadata": {
        "id": "KdQqNgpOMKe2"
      }
    },
    {
      "cell_type": "markdown",
      "source": [
        " Here we can observe that for alpha =1 and alpha=0.5 we get number of iterations is 1 which is minimum and for all other values of alpha our gradient descent method take more number of iterations to reach optimal condition and when we use exact line search to find step length, it also takes one iteration to reach optimal condition. So there is no values of alpha where we got number of iterations less than number of iterations to reach optial condition in exact line search methoed to find step_length."
      ],
      "metadata": {
        "id": "K0icqwVuUQug"
      }
    },
    {
      "cell_type": "markdown",
      "source": [
        "$\\large \\text{[R]}$  $ \\text{With starting point} \\ x0 = (25, 25)  \\ \\text{and} \\  τ = 10^{−10} \\ \\text{,we will now study the behavior of the backtracking line search algorithm for different choices of } \\ ρ. \\text{Take} \\ α = 1, γ = 0.5. \\ \\text{Try} \\ $ $ ρ ∈ \\{{0.9, 0.75, 0.6, 0.5, 0.4, 0.25, 0.1, 0.01\\}}.$ \\\\\n",
        "For each ρ, record the final minimizer, final objective function value and number of iterations taken by the\n",
        "gradient descent algorithm with backtracking line search to terminate. Prepare a plot where the number of\n",
        "iterations is plotted against ρ values. Comment on the observations. Comment about the minimizers and\n",
        "objective function values obtained for different choices of the ρ values. Check and comment if for any ρ value,\n",
        "gradient descent with backtracking line search takes lesser number of iterations when compared to the gradient\n",
        "descent procedure with exact line search."
      ],
      "metadata": {
        "id": "Nfv48wb5MACa"
      }
    },
    {
      "cell_type": "code",
      "source": [
        "Start_upd=np.array([25,25])\n",
        "tol_upd=1e-10\n",
        "rho_list=[0.9, 0.75, 0.6, 0.5, 0.4, 0.25, 0.1, 0.01]\n",
        "alpha=1\n",
        "iter_list_1=[]\n",
        "print('Solution using closed-form expression')\n",
        "x_opt_cls,number_of_iter_cls=find_minimizer(Start_upd,tol_upd,EXACT_LINE_SEARCH)\n",
        "print('Minimizer of function:',x_opt_cls)\n",
        "print('Minuimum function value:',evalf(x_opt_cls))\n",
        "print('number of iterations:',number_of_iter_cls)\n",
        "print('---------------------------------------------------------------------')\n",
        "#check what happens when you call find_minimzer using backtracking line search\n",
        "print('Solution using backtracking line search')\n",
        "for rho in rho_list:\n",
        "  x_opt_bls,number_of_iter_bls = find_minimizer(Start_upd,tol_upd, BACKTRACKING_LINE_SEARCH, alpha, rho,0.5)\n",
        "  iter_list_1.append(number_of_iter_bls)\n",
        "  print('initial value of rho:',rho)\n",
        "  print('Minimizer of function:',x_opt_bls)\n",
        "  print('Minuimum function value:',evalf(x_opt_bls))\n",
        "  print('number of iterations:',number_of_iter_bls)\n",
        "  print('---------------------------------------------------------------------------')"
      ],
      "metadata": {
        "colab": {
          "base_uri": "https://localhost:8080/"
        },
        "id": "vfGGpWUsLks3",
        "outputId": "3867c204-0306-468c-b3db-e08d7d95125f"
      },
      "execution_count": null,
      "outputs": [
        {
          "output_type": "stream",
          "name": "stdout",
          "text": [
            "Solution using closed-form expression\n",
            "Minimizer of function: [  8. -12.]\n",
            "Minuimum function value: 0.0\n",
            "number of iterations: 1\n",
            "---------------------------------------------------------------------\n",
            "Solution using backtracking line search\n",
            "Params for Backtracking LS: alpha start: 1 rho: 0.9  gamma: 0.5\n",
            "initial value of rho: 0.9\n",
            "Minimizer of function: [  8. -12.]\n",
            "Minuimum function value: 4.960536411900771e-22\n",
            "number of iterations: 9\n",
            "---------------------------------------------------------------------------\n",
            "Params for Backtracking LS: alpha start: 1 rho: 0.75  gamma: 0.5\n",
            "initial value of rho: 0.75\n",
            "Minimizer of function: [  8. -12.]\n",
            "Minuimum function value: 1.0819468296335504e-21\n",
            "number of iterations: 15\n",
            "---------------------------------------------------------------------------\n",
            "Params for Backtracking LS: alpha start: 1 rho: 0.6  gamma: 0.5\n",
            "initial value of rho: 0.6\n",
            "Minimizer of function: [  8. -12.]\n",
            "Minuimum function value: 7.844395544174143e-22\n",
            "number of iterations: 22\n",
            "---------------------------------------------------------------------------\n",
            "Params for Backtracking LS: alpha start: 1 rho: 0.5  gamma: 0.5\n",
            "initial value of rho: 0.5\n",
            "Minimizer of function: [  8. -12.]\n",
            "Minuimum function value: 0.0\n",
            "number of iterations: 1\n",
            "---------------------------------------------------------------------------\n",
            "Params for Backtracking LS: alpha start: 1 rho: 0.4  gamma: 0.5\n",
            "initial value of rho: 0.4\n",
            "Minimizer of function: [  8. -12.]\n",
            "Minuimum function value: 1.1393259623274523e-22\n",
            "number of iterations: 18\n",
            "---------------------------------------------------------------------------\n",
            "Params for Backtracking LS: alpha start: 1 rho: 0.25  gamma: 0.5\n",
            "initial value of rho: 0.25\n",
            "Minimizer of function: [  8. -12.]\n",
            "Minuimum function value: 1.3714654556129199e-21\n",
            "number of iterations: 40\n",
            "---------------------------------------------------------------------------\n",
            "Params for Backtracking LS: alpha start: 1 rho: 0.1  gamma: 0.5\n",
            "initial value of rho: 0.1\n",
            "Minimizer of function: [  8. -12.]\n",
            "Minuimum function value: 2.3972320602008796e-21\n",
            "number of iterations: 123\n",
            "---------------------------------------------------------------------------\n",
            "Params for Backtracking LS: alpha start: 1 rho: 0.01  gamma: 0.5\n",
            "initial value of rho: 0.01\n",
            "Minimizer of function: [  8. -12.]\n",
            "Minuimum function value: 2.4523367712209537e-21\n",
            "number of iterations: 1358\n",
            "---------------------------------------------------------------------------\n"
          ]
        }
      ]
    },
    {
      "cell_type": "code",
      "source": [
        "plt.plot(rho_list,iter_list_1,color='r')\n",
        "plt.scatter(rho_list,iter_list_1,color='b')\n",
        "plt.title('Number of iteration vs rho value')\n",
        "plt.xlabel('rho value')\n",
        "plt.ylabel('number of iteration')\n",
        "plt.show()"
      ],
      "metadata": {
        "colab": {
          "base_uri": "https://localhost:8080/",
          "height": 295
        },
        "id": "uncSd_MhQxDm",
        "outputId": "13058a2e-637d-42dd-8c4d-44442ec369d2"
      },
      "execution_count": null,
      "outputs": [
        {
          "output_type": "display_data",
          "data": {
            "text/plain": [
              "<Figure size 432x288 with 1 Axes>"
            ],
            "image/png": "[encoded data removed]"
          },
          "metadata": {
            "needs_background": "light"
          }
        }
      ]
    },
    {
      "cell_type": "markdown",
      "source": [
        "$\\large \\text{Explaination of plot}$\n",
        "\n",
        "$\\large $As the above plot explains that when row value goes near to 0 than gradient descent take high number of iterations to reach optiaml condition and as value of rho reaches to 0.5 it take minimum number of itartions(1) to reach optimal conditions."
      ],
      "metadata": {
        "id": "JMgddWuzVIcM"
      }
    },
    {
      "cell_type": "markdown",
      "source": [
        "$\\large \\text{Observations about minimizers and minimum function value:}$ \n",
        "\n",
        "As we can see that for each value of rho the minimum function value is zero or so small quantity which is approximately equal to zero. Similarly for each value of rho, minimizers are [8,-12] or almost equal to these values."
      ],
      "metadata": {
        "id": "wm-q4ouYWOEx"
      }
    },
    {
      "cell_type": "markdown",
      "source": [
        "$\\large \\text{Comparison of number of iterations based on  methos of finding step_length} $ \n",
        "\n",
        "By above results we know that number of iterations is 1 when we use exact line search method to find step_lenght and if we take different rho values in backtracking line search method we get different number of methods and minimum number of iterations are 1 corresponding to rho 0.5 so there is no value of rho which can give us lower number of iterations to reach optimal conditions in comparison of exact line search method to find step length method."
      ],
      "metadata": {
        "id": "eONMCZFzXGKS"
      }
    },
    {
      "cell_type": "code",
      "source": [],
      "metadata": {
        "id": "cuB66dSbSmRS"
      },
      "execution_count": null,
      "outputs": []
    }
  ]
}