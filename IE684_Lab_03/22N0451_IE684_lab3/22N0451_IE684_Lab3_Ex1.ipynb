{
  "nbformat": 4,
  "nbformat_minor": 0,
  "metadata": {
    "colab": {
      "provenance": []
    },
    "kernelspec": {
      "name": "python3",
      "display_name": "Python 3"
    }
  },
  "cells": [
    {
      "cell_type": "markdown",
      "metadata": {
        "id": "nVE0Xoa0Q5wE"
      },
      "source": [
        "$\\Large\\textbf{Lab 3.}$ $\\large\\textbf{Exercise 1.}$\n",
        "\n"
      ]
    },
    {
      "cell_type": "markdown",
      "metadata": {
        "id": "YVkab74DJsRL"
      },
      "source": [
        "In the last lab, when we tried to solve certain problems of the form $\\min_{\\mathbf{x} \\in {\\mathbb{R}}^n} f(\\mathbf{x})$ using gradient descent algorithm, we noticed that the algorithm needed a large number of iterations to find the minimizer. Today we will discuss some remedy measures for this issue.  "
      ]
    },
    {
      "cell_type": "markdown",
      "metadata": {
        "id": "b-Meohokl4xP"
      },
      "source": [
        "Consider the problem $\\min_{\\mathbf{x}} f(\\mathbf{x}) = 1500x_1^2 + 4x_1 x_2 +  x_2^2$. "
      ]
    },
    {
      "cell_type": "markdown",
      "metadata": {
        "id": "ZvWjvAgnXxS3"
      },
      "source": [
        "Note that the function $f(\\mathbf{x})$ is twice continuously differentiable. First let us investigate the Hessian $\\nabla^2 f(\\mathbf{x})$ of the function. \n",
        "\n",
        "Note that the Hessian $\\nabla^2 f(\\mathbf{x})$ of the function $f(\\mathbf{x})$ is positive definite. \n",
        "\n",
        "Due to the positive definite nature of the Hessian, we shall find the condition number of the Hessian given by $\\kappa\\left (\\nabla^2 f(\\mathbf{x}) \\right ) = \\frac{\\lambda_{\\max} \\left (\\nabla^2 f(\\mathbf{x}) \\right )}{\\lambda_{\\min} \\left (\\nabla^2 f(\\mathbf{x}) \\right )}$, where $\\lambda_{\\max}(\\mathbf{A})$ denotes the maximum eigen value of matrix $\\mathbf{A}$ and $\\lambda_{\\min}(\\mathbf{A})$ denotes the minimum eigen value of matrix $\\mathbf{A}$.  \n",
        "\n",
        "\n"
      ]
    },
    {
      "cell_type": "markdown",
      "metadata": {
        "id": "fLfdgrmxANif"
      },
      "source": [
        "$\\textbf{Question:}$ Write code to find the Hessian matrix of the function $f(\\mathbf{x}) = 1500x_1^2 + 4x_1 x_2 +  x_2^2$ and its condition number. "
      ]
    },
    {
      "cell_type": "markdown",
      "source": [
        "$\\large \\textbf{Question 1 [R]:} \\text{Consider the function} \\\\  f(x) = 1500x_1^2+ 4x_1x_2 + x_2^2 \\\\\n",
        "\\text{Write code to find the Hessian matrix of f and its\n",
        "condition number.}$"
      ],
      "metadata": {
        "id": "wlULK9F-I8GA"
      }
    },
    {
      "cell_type": "code",
      "metadata": {
        "id": "72qwiJ0CDtOX"
      },
      "source": [
        "import numpy as np \n",
        "\n",
        "#method to find Hessian matrix: Complete the code\n",
        "def evalh(x): \n",
        "  assert type(x) is np.ndarray \n",
        "  assert len(x) == 2\n",
        "  a=np.array([3000,4,4,2]).reshape(2,2)\n",
        "  return a\n",
        "\n",
        "#method to find the condition number of any square matrix: : Complete the code\n",
        "def find_condition_number(A):\n",
        "  assert type(A) is np.ndarray\n",
        "  assert A.shape[0] == A.shape[1]\n",
        "  eigen_values=np.linalg.eig(A)[0]\n",
        "  return max(eigen_values)/min(eigen_values)\n"
      ],
      "execution_count": 1,
      "outputs": []
    },
    {
      "cell_type": "markdown",
      "metadata": {
        "id": "g7ivDCuJRP9b"
      },
      "source": [
        "The condition number of the Hessian plays a major role in the progress of the iterates of gradient descent towards the optimal solution point. Typically a large value of the condition number indicates that the problem is $\\textbf{ill-conditioned}$ and hence leads to slow progress of the iterates towards the optimal solution point. Now we shall discuss a method which would help in better $\\textbf{conditioning}$ of the problem and hence would help in speeding up the progress of the iterates towards the optimal solution point. \n",
        "\n",
        "Let us first illustrate an equivalent transformation of the problem $\\min_{\\mathbf{x} \\in {\\mathbb{R}}^n} f(\\mathbf{x})$. Consider the transformation $\\mathbf{x}=\\mathbf{My}$ where $\\mathbf{M}\\in {\\mathbb{R}}^{n \\times n}$ is an invertible matrix and $\\mathbf{y} \\in {\\mathbb{R}}^n$ and consider the equivalent problem $\\min_{\\mathbf{y} \\in {\\mathbb{R}}^n} g(\\mathbf{y}) \\equiv \\min_{\\mathbf{y} \\in {\\mathbb{R}}^n} f(\\mathbf{My})$. \n",
        "\n",
        "$\\textbf{Check:}$ Why are the two problems $\\min_{\\mathbf{x} \\in {\\mathbb{R}}^n} f(\\mathbf{x})$ and $\\min_{\\mathbf{y} \\in {\\mathbb{R}}^n} g(\\mathbf{y})$  equivalent? \n",
        "\n",
        "Note that the gradient $\\nabla_{\\mathbf{y}} g(\\mathbf{y}) = \\mathbf{M}^\\top \\nabla_{\\mathbf{x}} f(\\mathbf{x})$ and the Hessian is $\\nabla^2_{\\mathbf{y}} g(\\mathbf{y}) = \\mathbf{M}^\\top \\nabla^2_{\\mathbf{x}} f(\\mathbf{x}) \\mathbf{M}$. \n",
        "\n",
        "Hence the gradient descent update to solve $\\min_{\\mathbf{y} \\in {\\mathbb{R}}^n} g(\\mathbf{y})$ becomes: \n",
        "\n",
        "\n",
        "\\begin{align}\n",
        "{\\mathbf{y}}^{k+1} &= {\\mathbf{y}}^{k} - \\eta \\nabla_{\\mathbf{y}} g({\\mathbf{y}}^{k}) \\\\\n",
        "\\end{align}\n",
        "\n",
        "Pre-multiplying by $\\mathbf{M}$, we have:\n",
        "\\begin{align}\n",
        "{\\mathbf{M}\\mathbf{y}}^{k+1} &= {\\mathbf{M}\\mathbf{y}}^{k} -  \\eta \\mathbf{M} \\nabla_{\\mathbf{y}} g({\\mathbf{y}}^{k})  \\\\\n",
        "\\implies \\mathbf{x}^{k+1} &= \\mathbf{x}^{k} - \\eta \\mathbf{MM}^\\top \\nabla_{\\mathbf{x}} f({\\mathbf{x}}^{k}) \n",
        "\\end{align}\n",
        "\n",
        "\n",
        "Letting $\\mathbf{D} = \\mathbf{MM}^\\top$, we see that the update is of the form:\n",
        "\\begin{align}\n",
        "\\mathbf{x}^{k+1} &= \\mathbf{x}^{k} - \\eta \\mathbf{D} \\nabla f({\\mathbf{x}}^{k}) \n",
        "\\end{align}\n",
        "\n",
        "Note that the matrix $\\mathbf{D}$ is symmetric and positive definite and hence can be written as $\\mathbf{D} = \\mathbf{B}^2$, where $\\mathbf{B}$ is also symmetric and positive definite. Denoting $\\mathbf{B}= \\mathbf{D}^{\\frac{1}{2}}$, we see that a useful choice for the matrix $\\mathbf{M}$ is $\\mathbf{M} = \\mathbf{B} = \\mathbf{D}^{\\frac{1}{2}}$. \n",
        "\n",
        "The matrix $\\mathbf{D}$ is called a $\\textbf{scaling}$ matrix and helps in scaling the Hessian. We will consider $\\mathbf{D}$ to be a diagonal matrix. Thus it would be useful to find a suitable candidate of the scaling matrix at each iteration which could help in significant progress of the iterates towards the optimal solution. \n",
        "\n",
        "\n"
      ]
    },
    {
      "cell_type": "markdown",
      "metadata": {
        "id": "ZgHGXcTYNXuw"
      },
      "source": [
        "This discussion leads to the following algorithm:\n",
        "\\begin{align}\n",
        "& \\textbf{Input:} \\text{ Starting point $x^0$, Stopping tolerance $\\tau$}  \\\\\n",
        "& \\textbf{Initialize } k=0 \\\\ \n",
        "& \\mathbf{p}^k =-\\nabla f(\\mathbf{x}^k) \\\\ \n",
        "&\\textbf{While } \\| \\mathbf{p}^k \\|_2 > \\tau \\text{ do:}  \\\\   \n",
        "&\\quad \\quad \\text{ Choose a suitable scaling matrix }\\mathbf{D}^k. \\\\ \n",
        "&\\quad \\quad \\eta^k = \\arg\\min_{\\eta\\geq 0} f(\\mathbf{x}^k + \\eta  \\mathbf{D}^k \\mathbf{p}^k) = \\arg\\min_{\\eta\\geq 0} f(\\mathbf{x}^k - \\eta  \\mathbf{D}^k \\nabla f(\\mathbf{x}^k)) \\\\\n",
        "&\\quad \\quad \\mathbf{x}^{k+1} = \\mathbf{x}^k + \\eta^k \\mathbf{D}^k \\mathbf{p}^k = \\mathbf{x}^k - \\eta^k  \\mathbf{D}^k \\nabla f(\\mathbf{x}^k)  \\\\ \n",
        "&\\quad \\quad k = {k+1} \\\\ \n",
        "&\\textbf{End While} \\\\\n",
        "&\\textbf{Output: } \\mathbf{x}^k\n",
        "\\end{align}"
      ]
    },
    {
      "cell_type": "markdown",
      "metadata": {
        "id": "3XvbzQ5LeJ_N"
      },
      "source": [
        "Note that the update step in the modified gradient descent scheme uses a scaled gradient. Thus it becomes important to set up some criteria for choosing the $\\mathbf{D}^k$ matrix in every iteration. In this exercise, we will assume $\\mathbf{D}^k$ to be a diagonal matrix. The following questions will help in designing a suitable $\\mathbf{D}^k$."
      ]
    },
    {
      "cell_type": "markdown",
      "source": [
        "$\\large \\textbf{Question.2[R]} $"
      ],
      "metadata": {
        "id": "xGEsaho_JeKJ"
      }
    },
    {
      "cell_type": "markdown",
      "metadata": {
        "id": "kC5h9vGOfLcr"
      },
      "source": [
        "$\\textbf{Question:}$ Based on our discussion on condition number and the derivation of the gradient descent scheme with scaling, can you identify and write down the matrix $\\mathbf{Q}$ whose condition number needs to be analyzed in the new gradient scheme with scaling? "
      ]
    },
    {
      "cell_type": "markdown",
      "metadata": {
        "id": "ZL8skZZIf8yd"
      },
      "source": [
        "$\\textbf{ Answer:} \\  \\text{Since we can write our function in form of } x^{T}Qx+b^{T}x \\ \\text{.So condition number of Q must be analyzed inn the new gradient schem with scalling.} \\\\ $\n",
        "\n",
        "\n",
        "$Q=\n",
        "\\begin{bmatrix}\n",
        "1500 & 2\\\\\n",
        "2 & 1\n",
        "\\end{bmatrix}$ \n",
        "\n",
        "$\\\\ \\\\ \\\\ \\text{In general we can write our Q matrix as product of a diagonal matrix and hessian metrix of function.As folllows: }  \\\\ \\mathbf{Q}  = (\\mathbf{D}^k)^{\\frac{1}{2}} \\mathbf{H}^k (\\mathbf{D}^k)^{\\frac{1}{2}}\\ \\ \\ \\\\ \\text{Where } \\mathbf{D} \\ \\text{is a diagonal matrix with diagonal elements as reciprocal of eigen values of Hessian matrix and H is hessian matrix.} $"
      ]
    },
    {
      "cell_type": "markdown",
      "source": [
        "$\\large \\textbf{Question.3[R]}$"
      ],
      "metadata": {
        "id": "4cisp0gpJuTa"
      }
    },
    {
      "cell_type": "markdown",
      "metadata": {
        "id": "qrbWd2XigB2N"
      },
      "source": [
        "$\\textbf{Question:}$ Based on the matrix $\\mathbf{Q}$, can you come up with a useful choice for $\\mathbf{D}^k$ (assuming $\\mathbf{D}^k$ to be diagonal)?"
      ]
    },
    {
      "cell_type": "markdown",
      "metadata": {
        "id": "BTIH3LnUgRh6"
      },
      "source": [
        "\n",
        "$\\textbf{Your Answer:}$\n",
        "\n",
        "yes we can take $D^k$ as diag  $[(\\frac{\\delta^2f}{\\delta x_1^2})^{-1},(\\frac{\\delta^2f}{\\delta x_2^2})^{-1} , (\\frac{\\delta^2f}{\\delta x_3^2})^{-1}, ...............(\\frac{\\delta^2f}{\\delta x_n^2})^{-1}] \\\\ i.e. \\text{Each diagonal value of D is resiprocal of  corresponding diagonal entry of hessian matrix. }$"
      ]
    },
    {
      "cell_type": "markdown",
      "metadata": {
        "id": "YDNH0zgxgaPR"
      },
      "source": [
        "Write code to find the matrix $\\mathbf{D}^k$. "
      ]
    },
    {
      "cell_type": "code",
      "metadata": {
        "id": "KJq7tIgIRroP"
      },
      "source": [
        "#The method defines a way to construct D_k matrix used in scaling the gradient in the modified gradient descent scheme\n",
        "def compute_D_k(x):\n",
        "  assert type(x) is np.ndarray\n",
        "  assert len(x) == 2\n",
        "  Hes=evalh(x)\n",
        "  D_k=np.array([1/Hes[0,0],0,0,1/Hes[1,1]]).reshape(2,2)\n",
        "  return D_k\n",
        "  \n",
        "  "
      ],
      "execution_count": 2,
      "outputs": []
    },
    {
      "cell_type": "code",
      "metadata": {
        "id": "GZjX2IwOR8_X"
      },
      "source": [
        "#Now we will define a Python function which will compute and return the objective function value \n",
        "def evalf(x):  \n",
        "  #Input: x is a numpy array of size 2 \n",
        "  assert type(x) is np.ndarray and len(x) == 2 #do not allow arbitrary arguments \n",
        "  return 1500*x[0]**2+4*x[0]*x[1]+x[1]**2\n",
        "  #after checking if the argument is valid, we can compute the objective function value\n",
        "  #compute the function value and return it \n",
        "  \n"
      ],
      "execution_count": 3,
      "outputs": []
    },
    {
      "cell_type": "code",
      "metadata": {
        "id": "6klpwtDra_I8"
      },
      "source": [
        "#Now we will define a Python function which will compute and return the gradient value as a numpy array \n",
        "def evalg(x):  \n",
        "  #Input: x is a numpy array of size 2 \n",
        "  assert type(x) is np.ndarray and len(x) == 2 #do not allow arbitrary arguments \n",
        "  grad_x_1=3000*x[0]+4*x[1]\n",
        "  grad_x_2=2*x[1]+4*x[0]\n",
        "  return np.array([grad_x_1,grad_x_2],dtype='float128')\n",
        "  #after checking if the argument is valid, we can compute the gradient value\n",
        "  #compute the gradient value and return it \n",
        "  "
      ],
      "execution_count": 4,
      "outputs": []
    },
    {
      "cell_type": "markdown",
      "source": [
        "$ \\ let \\ A= \\begin{bmatrix}\n",
        "1500 & 2\\\\\n",
        "2 & 1\n",
        "\\end{bmatrix}$ \n",
        "\n",
        "\n",
        " Given that $f(\\mathbf{x})=\\mathbf{x}^\\top \\mathbf{A} \\mathbf{x} + 2 \\mathbf{b}^\\top \\mathbf{x}$ \\\\\n",
        "we can find $\\nabla f(\\mathbf{x}) = 2\\mathbf{A} \\mathbf{x}+2 \\mathbf{b} ----(1) $ \\\\\n",
        "Since we are to minimize  $f(\\mathbf{x} - \\alpha \\nabla f(\\mathbf{x}))=g(\\alpha) \\   \\text{with respect to } \\alpha .  \\\\\n",
        "\\text{By calculas we want to minimize} \\ g(\\alpha) so \n",
        "\\\\ \\frac{δg}{δα} = [\\nabla f(x-\\alpha\\nabla f(\\mathbf{x}))]^\\top[-\\nabla f(\\mathbf{x})]   \\\\\n",
        "\\text{By Fermat's theorem, necessary condition for optimality is:} \\\\\n",
        " \\frac{δg}{δα}=0\n",
        " ⇒ \\  [\\nabla f(x-\\alpha\\nabla f(\\mathbf{x}))]^\\top[-\\nabla f(\\mathbf{x})]=0 \\\\ \n",
        "⇒ [-\\nabla f(\\mathbf{x})]^\\top[\\nabla f(x-\\alpha\\nabla f(\\mathbf{x}))]=0  \\ \\ (\\text{taking transpose of both sides} )\\\\\n",
        " ⇒[-\\nabla f(\\mathbf{x})]^\\top[2\\mathbf{A}(\\mathbf{x-α\\nabla}f(\\mathbf{x})+2b]=0 \\ \\  \\text{By Equation (1)}  \\\\ ⇒α= \\frac{[\\nabla f(\\mathbf{x})]^⊤[\\mathbf{A}\\mathbf{x}+\\mathbf{b}]}{[\\nabla f(\\mathbf{x})]^⊤\\mathbf{A}\\nabla f(\\mathbf{x})} \\\\\n",
        " ⇒ α = \\frac{[\\nabla f(\\mathbf{x})]^⊤\\nabla f(\\mathbf{x})}{\\mathbf{2}[\\nabla f(\\mathbf{x})]^⊤\\mathbf{A} \\nabla f(\\mathbf{x})} \\\\ \\text{Now we are to show that function is minimum at the value of  } \\alpha : \\\\ \\nabla^{2}f(x) \\text{ is positive definite matrix so at this value of alpha we get a minimum value of function.}$"
      ],
      "metadata": {
        "id": "CcUJuijXoJK6"
      }
    },
    {
      "cell_type": "code",
      "metadata": {
        "id": "f3blM08V0HOl"
      },
      "source": [
        "#Complete the module to compute the steplength by using the closed-form expression\n",
        "def compute_steplength_exact(gradf,A,x): #add appropriate arguments to the function\n",
        "  assert type(gradf) is np.ndarray and len(gradf) == 2 \n",
        "  assert type(A) is np.ndarray and A.shape[0] == 2 and  A.shape[1] == 2\n",
        "  numerator=np.dot(evalg(x).transpose(),evalg(x))    \n",
        "  denominator=2*np.dot(np.dot(evalg(x).transpose(),A),evalg(x))\n",
        "  step_length=numerator/denominator\n",
        "   \n",
        "  return step_length \n",
        "  "
      ],
      "execution_count": 5,
      "outputs": []
    },
    {
      "cell_type": "code",
      "metadata": {
        "id": "PGunDYy6Q21S"
      },
      "source": [
        "#Complete the module to compute the steplength by using the closed-form expression\n",
        "def compute_steplength_backtracking(x, gradf, alpha_start, rho, gamma): #add appropriate arguments to the function \n",
        "  assert type(x) is np.ndarray and len(gradf) == 2 \n",
        "  assert type(gradf) is np.ndarray and len(gradf) == 2 \n",
        "  assert type(alpha_start) is float and alpha_start>=0. \n",
        "  assert type(rho) is float and rho>=0.\n",
        "  assert type(gamma) is float and gamma>=0.\n",
        "  alpha = alpha_start\n",
        "  p=-gradf\n",
        "  while evalf(x+alpha*p)> evalf(x)+gamma*alpha*(np.dot(evalg(x).transpose(),p)):\n",
        "    alpha=alpha*rho\n",
        "  return alpha\n",
        "  \n",
        "  \n",
        "  "
      ],
      "execution_count": 6,
      "outputs": []
    },
    {
      "cell_type": "code",
      "metadata": {
        "id": "wqjdHM3eaHYf"
      },
      "source": [
        "def compute_steplength_backtracking_scaled_direction(x, gradf, direction, alpha_start, rho, gamma): #add appropriate arguments to the function \n",
        "  assert type(x) is np.ndarray and len(gradf) == 2 \n",
        "  assert type(gradf) is np.ndarray and len(gradf) == 2 \n",
        "  assert type(direction) is np.ndarray and len(direction) == 2 \n",
        "  assert type(alpha_start) is float and alpha_start>=0. \n",
        "  assert type(rho) is float and rho>=0.\n",
        "  assert type(gamma) is float and gamma>=0.\n",
        "  alpha = alpha_start\n",
        "  p=-gradf\n",
        "  while evalf(x-alpha*np.matmul(direction,gradf))> evalf(x)-gamma*alpha*(np.matmul(evalg(x).transpose(),np.matmul(direction,gradf))):\n",
        "    alpha=alpha*rho\n",
        "  return alpha \n",
        "  \n",
        "  \n",
        "  \n",
        "  #Complete the code "
      ],
      "execution_count": 7,
      "outputs": []
    },
    {
      "cell_type": "code",
      "metadata": {
        "id": "GvLRu5s635ph"
      },
      "source": [
        "#line search type \n",
        "EXACT_LINE_SEARCH = 1\n",
        "BACKTRACKING_LINE_SEARCH = 2\n",
        "CONSTANT_STEP_LENGTH = 3"
      ],
      "execution_count": 8,
      "outputs": []
    },
    {
      "cell_type": "code",
      "metadata": {
        "id": "kdYW5nldqZU-"
      },
      "source": [
        "#complete the code for gradient descent to find the minimizer\n",
        "def find_minimizer_gd(start_x, tol, line_search_type,*args):\n",
        "  #Input: start_x is a numpy array of size 2, tol denotes the tolerance and is a positive float value\n",
        "  assert type(start_x) is np.ndarray and len(start_x) == 2 #do not allow arbitrary arguments \n",
        "  assert type(tol) is float and tol>=0 \n",
        "  \n",
        "  A = np.array([1500,2,2,1]).reshape(2,2)\n",
        "  x = start_x\n",
        "  g_x = evalg(x)\n",
        "\n",
        "  #initialization for backtracking line search\n",
        "  if(line_search_type == BACKTRACKING_LINE_SEARCH):\n",
        "    alpha_start = args[0]\n",
        "    rho = args[1]\n",
        "    gamma = args[2]\n",
        "    print('Params for Backtracking LS: alpha start:', alpha_start, 'rho:', rho,' gamma:', gamma)\n",
        "\n",
        "  k = 0\n",
        "  #print('iter:',k, ' x:', x, ' f(x):', evalf(x), ' grad at x:', g_x, ' gradient norm:', np.linalg.norm(g_x))\n",
        "\n",
        "  while (np.linalg.norm(g_x) > tol): #continue as long as the norm of gradient is not close to zero upto a tolerance tol\n",
        "  \n",
        "    if line_search_type == EXACT_LINE_SEARCH:\n",
        "      step_length = compute_steplength_exact(g_x, A,x) #call the new function you wrote to compute the steplength\n",
        "      #raise ValueError('EXACT LINE SEARCH NOT YET IMPLEMENTED')\n",
        "    elif line_search_type == BACKTRACKING_LINE_SEARCH:\n",
        "      step_length = compute_steplength_backtracking(x,g_x, alpha_start,rho, gamma) #call the new function you wrote to compute the steplength\n",
        "      #raise ValueError('BACKTRACKING LINE SEARCH NOT YET IMPLEMENTED')\n",
        "    elif line_search_type == CONSTANT_STEP_LENGTH: #do a gradient descent with constant step length\n",
        "      step_length = 0.1\n",
        "    else:  \n",
        "      raise ValueError('Line search type unknown. Please check!')\n",
        "    \n",
        "    #implement the gradient descent steps here   \n",
        "    x = np.subtract(x, np.multiply(step_length,g_x)) #update x = x - step_length*g_x\n",
        "    k += 1 #increment iteration\n",
        "    g_x = evalg(x) #compute gradient at new point\n",
        "\n",
        "    #print('iter:',k, ' x:', x, ' f(x):', evalf(x), ' grad at x:', g_x, ' gradient norm:', np.linalg.norm(g_x))\n",
        "  return x,k \n",
        "  \n"
      ],
      "execution_count": 9,
      "outputs": []
    },
    {
      "cell_type": "code",
      "metadata": {
        "id": "3SCJdqivdpxx"
      },
      "source": [
        "#complete the code for gradient descent with scaling to find the minimizer\n",
        "\n",
        "def find_minimizer_gdscaling(start_x, tol, line_search_type,*args):\n",
        "  #Input: start_x is a numpy array of size 2, tol denotes the tolerance and is a positive float value\n",
        "  assert type(start_x) is np.ndarray and len(start_x) == 2 #do not allow arbitrary arguments \n",
        "  assert type(tol) is float and tol>=0 \n",
        "  A = np.array([[1500, 2],[2,1]])\n",
        "  x = start_x\n",
        "  g_x = evalg(x)\n",
        "  d_k=compute_D_k(x)\n",
        "  \n",
        "\n",
        "\n",
        "  #initialization for backtracking line search\n",
        "  if(line_search_type == BACKTRACKING_LINE_SEARCH):\n",
        "    alpha_start=args[0]\n",
        "    rho = args[1]\n",
        "    gamma = args[2]\n",
        "    #print('Params for Backtracking LS: alpha start:', alpha_start, 'rho:', rho,' gamma:', gamma)\n",
        "\n",
        "  k = 0\n",
        "  #print('iter:',k, ' x:', x, ' f(x):', evalf(x), ' grad at x:', g_x, ' gradient norm:', np.linalg.norm(g_x))\n",
        "\n",
        "  while (np.linalg.norm(g_x) > tol): #continue as long as the norm of gradient is not close to zero upto a tolerance tol\n",
        "  \n",
        "    if line_search_type == EXACT_LINE_SEARCH:\n",
        "      step_length = compute_steplength_exact(g_x, A) #call the new function you wrote to compute the steplength\n",
        "        #raise ValueError('EXACT LINE SEARCH NOT YET IMPLEMENTED')\n",
        "    elif line_search_type == BACKTRACKING_LINE_SEARCH:\n",
        "      step_length = compute_steplength_backtracking_scaled_direction(x,g_x,d_k, alpha_start,rho, gamma) #call the new function you wrote to compute the steplength      \n",
        "     # raise ValueError('BACKTRACKING LINE SEARCH NOT YET IMPLEMENTED')\n",
        "    elif line_search_type == CONSTANT_STEP_LENGTH: #do a gradient descent with constant step length\n",
        "      step_length = 0.1   \n",
        "    else:  \n",
        "      raise ValueError('Line search type unknown. Please check!')\n",
        "    \n",
        "    #implement the gradient descent steps here   \n",
        "    x = np.subtract(x, np.multiply(step_length,np.matmul(d_k,evalg(x)))) #update x = x - step_length*g_x\n",
        "    k += 1 #increment iteration\n",
        "    g_x = evalg(x) #compute gradient at new point\n",
        "    d_k=compute_D_k(x)\n",
        "\n",
        "    #print('iter:',k, ' x:', x, ' f(x):', evalf(x), ' grad at x:', dir, ' gradient norm:', np.linalg.norm(g_x))\n",
        "  return x,k\n",
        "\n",
        "  #Complete the code   "
      ],
      "execution_count": 10,
      "outputs": []
    },
    {
      "cell_type": "markdown",
      "source": [
        "$\\large \\textbf{Question [R]:} \\text{Note down the minimizer and minimum function value of} \\\\  f(x) = 1500x_1^2\n",
        "+ 4x_1x_2 + x_2^2\n",
        ". $"
      ],
      "metadata": {
        "id": "YtIUwX3OJ-TM"
      }
    },
    {
      "cell_type": "markdown",
      "source": [
        "$\\large \\textbf{Answer: minimizer of function is : (0,0)} \\\\ \\textbf{minimum function value is 0.}$"
      ],
      "metadata": {
        "id": "bE81jO-6KRU2"
      }
    },
    {
      "cell_type": "markdown",
      "source": [
        "$\\large \\textbf{Question [R]:} \\text{ With starting point}  \\\\ \n",
        "x_0= (1,4000) \\\\ \\text{and a stopping tolerance τ = 10−12, find the number of iterations taken\n",
        "by the gradient descent algorithm (without scaling) with exact line search, gradient descent algorithm (without\n",
        "scaling) with backtracking line search, gradient descent algorithm (with scaling) with backtracking line search.} \\\\ \\text{\n",
        "For backtracking line search, use α0 = 1, ρ = 0.5, γ = 0.5. Note the minimizer and minimum objective function\n",
        "value in each case. Comment on your observations.}$"
      ],
      "metadata": {
        "id": "bUaOYiX6Klj9"
      }
    },
    {
      "cell_type": "code",
      "metadata": {
        "id": "3hoak3jnHkXd"
      },
      "source": [
        "my_start_x = np.array([1.,4000.])\n",
        "my_tol= 1e-12"
      ],
      "execution_count": 11,
      "outputs": []
    },
    {
      "cell_type": "markdown",
      "source": [
        "$\\large \\textbf{Exaxt line search method} $"
      ],
      "metadata": {
        "id": "WUW4pJzwL0gE"
      }
    },
    {
      "cell_type": "code",
      "metadata": {
        "id": "vgu4yasdJEKo",
        "colab": {
          "base_uri": "https://localhost:8080/"
        },
        "outputId": "caed6d8b-394c-4a5c-9938-0ec9d15f7cd9"
      },
      "source": [
        "#check gradient descent with exact line search\n",
        "opt_x,number_of_iter=find_minimizer_gd(my_start_x,my_tol,EXACT_LINE_SEARCH)\n",
        "print('minimizer is :',opt_x)\n",
        "print('number of iterations taken :',number_of_iter)\n",
        "print('minimum value of function:',evalf(opt_x))\n",
        "\n"
      ],
      "execution_count": 12,
      "outputs": [
        {
          "output_type": "stream",
          "name": "stdout",
          "text": [
            "minimizer is : [-7.44595231e-16  4.61544291e-13]\n",
            "number of iterations taken : 14075\n",
            "minimum value of function: 2.1248011077928182463e-25\n"
          ]
        }
      ]
    },
    {
      "cell_type": "markdown",
      "source": [
        "$\\text{number of iteration taken to reach optimal  condition:}=14075  \\\\ \\text{minimizer of function:}= [-7.44595231e-16  4.61544291e-13] ≃ [0,0] \\\\ \\text{minimum function value is :}= 2.1248011077928182463e-25 ≃ 0 $"
      ],
      "metadata": {
        "id": "diDuFCk1L_eQ"
      }
    },
    {
      "cell_type": "markdown",
      "source": [
        "$\\large \\textbf{Using backtracking line search method without scalling:}$"
      ],
      "metadata": {
        "id": "IWWIIwtlMklp"
      }
    },
    {
      "cell_type": "code",
      "metadata": {
        "id": "U0_iOLVoQFYy",
        "colab": {
          "base_uri": "https://localhost:8080/"
        },
        "outputId": "62eb17e6-4f63-4f93-90f8-28595d6c408d"
      },
      "source": [
        "#check gradient descent with backtracking line search \n",
        "alpha_start = 1.\n",
        "rho = 0.5\n",
        "gamma = 0.5\n",
        "opt_x_bls,number_of_iter_bls=find_minimizer_gd(my_start_x,my_tol,BACKTRACKING_LINE_SEARCH,alpha_start,rho,gamma)\n",
        "print('minimizer is :',opt_x_bls)\n",
        "print('number of iterations taken :',number_of_iter_bls)\n",
        "print('minimum value of function:',evalf(opt_x_bls))\n",
        "\n"
      ],
      "execution_count": 13,
      "outputs": [
        {
          "output_type": "stream",
          "name": "stdout",
          "text": [
            "Params for Backtracking LS: alpha start: 1.0 rho: 0.5  gamma: 0.5\n",
            "minimizer is : [-4.78532202e-16  4.53575301e-13]\n",
            "number of iterations taken : 21985\n",
            "minimum value of function: 2.0520584176089342136e-25\n"
          ]
        }
      ]
    },
    {
      "cell_type": "markdown",
      "source": [
        "$\\text{number of iteration taken to reach optimal  condition:}=21985  \\\\ \\text{minimizer of function:}= [-4.78532202e-16  4.53575301e-13] ≃ [0,0] \\\\ \\text{minimum function value is :}= 2.0520584176089342136e-25 ≃ 0 $"
      ],
      "metadata": {
        "id": "8lafdZ-9M0G9"
      }
    },
    {
      "cell_type": "markdown",
      "source": [
        "$\\large \\textbf{Using backtracking line search method with scalling:} $"
      ],
      "metadata": {
        "id": "49mvzx3aNAf7"
      }
    },
    {
      "cell_type": "code",
      "metadata": {
        "id": "KpABILpQxPKD",
        "colab": {
          "base_uri": "https://localhost:8080/"
        },
        "outputId": "c0815539-0944-4c20-d82f-1225d6101ac6"
      },
      "source": [
        "#check gradient descent with scaling and backtracking line search \n",
        "alpha_start = 1.\n",
        "rho = 0.5\n",
        "gamma = 0.5\n",
        "opt_x_bls,number_of_iter_bls=find_minimizer_gdscaling(my_start_x,my_tol,BACKTRACKING_LINE_SEARCH,alpha_start,rho,gamma)\n",
        "print('minimizer is :',opt_x_bls)\n",
        "print('number of iterations taken :',number_of_iter_bls)\n",
        "print('minimum value of function:',evalf(opt_x_bls))"
      ],
      "execution_count": 14,
      "outputs": [
        {
          "output_type": "stream",
          "name": "stdout",
          "text": [
            "minimizer is : [-2.31674405e-18  9.60515434e-16]\n",
            "number of iterations taken : 16\n",
            "minimum value of function: 9.217397790469289959e-31\n"
          ]
        }
      ]
    },
    {
      "cell_type": "markdown",
      "source": [
        "$\\text{number of iteration taken to reach optimal  condition:}=16  \\\\ \\text{minimizer of function:}= [-2.31674405e-18  9.60515434e-16] ≃ [0,0] \\\\ \\text{minimum function value is :}= 9.217397790469289959e-31 ≃ 0 $"
      ],
      "metadata": {
        "id": "2g4eJVEVNG6q"
      }
    },
    {
      "cell_type": "markdown",
      "source": [
        " $ \\large \\textbf{Question[R]:}  $ \n",
        "  With starting point $x_0 $= (1, 4000) and τ = 10−12, we will now study the behavior of gradient descent algorithm\n",
        "(without scaling) with backtracking line search, gradient descent algorithm (with scaling) with backtracking\n",
        "line search, for different choices of α0. Take γ = ρ = 0.5. Try $α_0$ ∈ {1, 0.9, 0.75, 0.6, 0.5, 0.4, 0.25, 0.1, 0.01}.\n",
        "For each α0, record the final minimizer, final objective function value and number of iterations to terminate,\n",
        "for the gradient descent algorithm (without scaling) with backtracking line search and the gradient descent\n",
        "algorithm (with scaling) with backtracking line search. Prepare a plot where the number of iterations for\n",
        "both the algorithms are plotted against α0 values. Use different colors and a legend to distinguish the plots\n",
        "corresponding to the different algorithms. Comment on the observations. Comment about the minimizers and\n",
        "objective function values obtained for different choices of the α0 values for the two algorithms."
      ],
      "metadata": {
        "id": "IZBBmZOyNfKL"
      }
    },
    {
      "cell_type": "code",
      "source": [
        "alpha_values=[1.0,0.9,0.75,0.6,0.5,0.4,0.25,0.1,0.01] \n",
        "my_start_x=np.array([1,4000])\n",
        "my_tol= 1/10**(12)\n",
        "rho=0.5\n",
        "gamma=0.5\n",
        "iter_list=[]\n",
        "iter_list_scl=[]\n",
        "for alpha in alpha_values:\n",
        "  print('when alpha is :',alpha)\n",
        "  print('\\n----------------------------------------------------------------------------\\n')\n",
        "  print('backtracking line search method without scalling')\n",
        "  opt_x_bls,number_of_iter_bls=find_minimizer_gd(my_start_x,my_tol,BACKTRACKING_LINE_SEARCH,alpha,rho,gamma)\n",
        "  print('minimizer is :',opt_x_bls)\n",
        "  print('number of iterations taken :',number_of_iter_bls)\n",
        "  print('minimum value of function:',evalf(opt_x_bls))\n",
        "  iter_list.append(number_of_iter_bls)\n",
        "  print('\\n----------------------------------------------------------------------------\\n')\n",
        "  print('backtracking line search method with scalling')\n",
        "  opt_x_bls,number_of_iter_bls=find_minimizer_gdscaling(my_start_x,my_tol,BACKTRACKING_LINE_SEARCH,alpha_start,rho,gamma)\n",
        "  print('minimizer is :',opt_x_bls)\n",
        "  print('number of iterations taken :',number_of_iter_bls)\n",
        "  print('minimum value of function:',evalf(opt_x_bls))\n",
        "  iter_list_scl.append(number_of_iter_bls)\n",
        "  print('\\n----------------------------------------------------------------------------\\n')\n",
        "  print('\\n----------------------------------------------------------------------------\\n')\n",
        "print(iter_list)  \n",
        "print(iter_list_scl)\n",
        "\n",
        "\n"
      ],
      "metadata": {
        "colab": {
          "base_uri": "https://localhost:8080/"
        },
        "id": "-0CWb7GqKQ5n",
        "outputId": "ecb42ec2-c02d-4d21-cb69-25898d57dfa0"
      },
      "execution_count": 15,
      "outputs": [
        {
          "output_type": "stream",
          "name": "stdout",
          "text": [
            "when alpha is : 1.0\n",
            "\n",
            "----------------------------------------------------------------------------\n",
            "\n",
            "backtracking line search method without scalling\n",
            "Params for Backtracking LS: alpha start: 1.0 rho: 0.5  gamma: 0.5\n",
            "minimizer is : [-4.78532202e-16  4.53575301e-13]\n",
            "number of iterations taken : 21985\n",
            "minimum value of function: 2.0520584176089342136e-25\n",
            "\n",
            "----------------------------------------------------------------------------\n",
            "\n",
            "backtracking line search method with scalling\n",
            "minimizer is : [-2.31674405e-18  9.60515434e-16]\n",
            "number of iterations taken : 16\n",
            "minimum value of function: 9.217397790469289959e-31\n",
            "\n",
            "----------------------------------------------------------------------------\n",
            "\n",
            "\n",
            "----------------------------------------------------------------------------\n",
            "\n",
            "when alpha is : 0.9\n",
            "\n",
            "----------------------------------------------------------------------------\n",
            "\n",
            "backtracking line search method without scalling\n",
            "Params for Backtracking LS: alpha start: 0.9 rho: 0.5  gamma: 0.5\n",
            "minimizer is : [-5.48799355e-16  4.71515450e-13]\n",
            "number of iterations taken : 15941\n",
            "minimum value of function: 2.2174352131748196821e-25\n",
            "\n",
            "----------------------------------------------------------------------------\n",
            "\n",
            "backtracking line search method with scalling\n",
            "minimizer is : [-2.31674405e-18  9.60515434e-16]\n",
            "number of iterations taken : 16\n",
            "minimum value of function: 9.217397790469289959e-31\n",
            "\n",
            "----------------------------------------------------------------------------\n",
            "\n",
            "\n",
            "----------------------------------------------------------------------------\n",
            "\n",
            "when alpha is : 0.75\n",
            "\n",
            "----------------------------------------------------------------------------\n",
            "\n",
            "backtracking line search method without scalling\n",
            "Params for Backtracking LS: alpha start: 0.75 rho: 0.5  gamma: 0.5\n",
            "minimizer is : [-7.18643891e-16  4.89175378e-13]\n",
            "number of iterations taken : 6750\n",
            "minimum value of function: 2.3866105285479558722e-25\n",
            "\n",
            "----------------------------------------------------------------------------\n",
            "\n",
            "backtracking line search method with scalling\n",
            "minimizer is : [-2.31674405e-18  9.60515434e-16]\n",
            "number of iterations taken : 16\n",
            "minimum value of function: 9.217397790469289959e-31\n",
            "\n",
            "----------------------------------------------------------------------------\n",
            "\n",
            "\n",
            "----------------------------------------------------------------------------\n",
            "\n",
            "when alpha is : 0.6\n",
            "\n",
            "----------------------------------------------------------------------------\n",
            "\n",
            "backtracking line search method without scalling\n",
            "Params for Backtracking LS: alpha start: 0.6 rho: 0.5  gamma: 0.5\n",
            "minimizer is : [-6.07554226e-16  4.94036636e-13]\n",
            "number of iterations taken : 6887\n",
            "minimum value of function: 2.4342526428386636246e-25\n",
            "\n",
            "----------------------------------------------------------------------------\n",
            "\n",
            "backtracking line search method with scalling\n",
            "minimizer is : [-2.31674405e-18  9.60515434e-16]\n",
            "number of iterations taken : 16\n",
            "minimum value of function: 9.217397790469289959e-31\n",
            "\n",
            "----------------------------------------------------------------------------\n",
            "\n",
            "\n",
            "----------------------------------------------------------------------------\n",
            "\n",
            "when alpha is : 0.5\n",
            "\n",
            "----------------------------------------------------------------------------\n",
            "\n",
            "backtracking line search method without scalling\n",
            "Params for Backtracking LS: alpha start: 0.5 rho: 0.5  gamma: 0.5\n",
            "minimizer is : [-4.78532202e-16  4.53575301e-13]\n",
            "number of iterations taken : 21985\n",
            "minimum value of function: 2.0520584176089342136e-25\n",
            "\n",
            "----------------------------------------------------------------------------\n",
            "\n",
            "backtracking line search method with scalling\n",
            "minimizer is : [-2.31674405e-18  9.60515434e-16]\n",
            "number of iterations taken : 16\n",
            "minimum value of function: 9.217397790469289959e-31\n",
            "\n",
            "----------------------------------------------------------------------------\n",
            "\n",
            "\n",
            "----------------------------------------------------------------------------\n",
            "\n",
            "when alpha is : 0.4\n",
            "\n",
            "----------------------------------------------------------------------------\n",
            "\n",
            "backtracking line search method without scalling\n",
            "Params for Backtracking LS: alpha start: 0.4 rho: 0.5  gamma: 0.5\n",
            "minimizer is : [-7.24091328e-16  4.84454819e-13]\n",
            "number of iterations taken : 11362\n",
            "minimum value of function: 2.340797761558255364e-25\n",
            "\n",
            "----------------------------------------------------------------------------\n",
            "\n",
            "backtracking line search method with scalling\n",
            "minimizer is : [-2.31674405e-18  9.60515434e-16]\n",
            "number of iterations taken : 16\n",
            "minimum value of function: 9.217397790469289959e-31\n",
            "\n",
            "----------------------------------------------------------------------------\n",
            "\n",
            "\n",
            "----------------------------------------------------------------------------\n",
            "\n",
            "when alpha is : 0.25\n",
            "\n",
            "----------------------------------------------------------------------------\n",
            "\n",
            "backtracking line search method without scalling\n",
            "Params for Backtracking LS: alpha start: 0.25 rho: 0.5  gamma: 0.5\n",
            "minimizer is : [-4.78532202e-16  4.53575301e-13]\n",
            "number of iterations taken : 21985\n",
            "minimum value of function: 2.0520584176089342136e-25\n",
            "\n",
            "----------------------------------------------------------------------------\n",
            "\n",
            "backtracking line search method with scalling\n",
            "minimizer is : [-2.31674405e-18  9.60515434e-16]\n",
            "number of iterations taken : 16\n",
            "minimum value of function: 9.217397790469289959e-31\n",
            "\n",
            "----------------------------------------------------------------------------\n",
            "\n",
            "\n",
            "----------------------------------------------------------------------------\n",
            "\n",
            "when alpha is : 0.1\n",
            "\n",
            "----------------------------------------------------------------------------\n",
            "\n",
            "backtracking line search method without scalling\n",
            "Params for Backtracking LS: alpha start: 0.1 rho: 0.5  gamma: 0.5\n",
            "minimizer is : [-7.24091328e-16  4.84454819e-13]\n",
            "number of iterations taken : 11362\n",
            "minimum value of function: 2.340797761558255364e-25\n",
            "\n",
            "----------------------------------------------------------------------------\n",
            "\n",
            "backtracking line search method with scalling\n",
            "minimizer is : [-2.31674405e-18  9.60515434e-16]\n",
            "number of iterations taken : 16\n",
            "minimum value of function: 9.217397790469289959e-31\n",
            "\n",
            "----------------------------------------------------------------------------\n",
            "\n",
            "\n",
            "----------------------------------------------------------------------------\n",
            "\n",
            "when alpha is : 0.01\n",
            "\n",
            "----------------------------------------------------------------------------\n",
            "\n",
            "backtracking line search method without scalling\n",
            "Params for Backtracking LS: alpha start: 0.01 rho: 0.5  gamma: 0.5\n",
            "minimizer is : [-5.80852788e-16  4.86459735e-13]\n",
            "number of iterations taken : 5509\n",
            "minimum value of function: 2.3601891237044221942e-25\n",
            "\n",
            "----------------------------------------------------------------------------\n",
            "\n",
            "backtracking line search method with scalling\n",
            "minimizer is : [-2.31674405e-18  9.60515434e-16]\n",
            "number of iterations taken : 16\n",
            "minimum value of function: 9.217397790469289959e-31\n",
            "\n",
            "----------------------------------------------------------------------------\n",
            "\n",
            "\n",
            "----------------------------------------------------------------------------\n",
            "\n",
            "[21985, 15941, 6750, 6887, 21985, 11362, 21985, 11362, 5509]\n",
            "[16, 16, 16, 16, 16, 16, 16, 16, 16]\n"
          ]
        }
      ]
    },
    {
      "cell_type": "code",
      "source": [
        "import matplotlib.pyplot as plt\n",
        "plt.plot(alpha_values,iter_list,color='r')\n",
        "plt.plot(alpha_values,iter_list_scl,color='b')\n",
        "plt.xlabel('alpha values')\n",
        "plt.ylabel('number of iterations')\n",
        "plt.legend(['without scalling','with scalling'],bbox_to_anchor=(1.50, 0.5))\n",
        "plt.show()"
      ],
      "metadata": {
        "colab": {
          "base_uri": "https://localhost:8080/",
          "height": 279
        },
        "id": "E6Z0FmaQPU_6",
        "outputId": "075b62cd-69dc-4755-d111-c16a8fe83abc"
      },
      "execution_count": null,
      "outputs": [
        {
          "output_type": "display_data",
          "data": {
            "text/plain": [
              "<Figure size 432x288 with 1 Axes>"
            ],
            "image/png": "[encoded data removed]"
          },
          "metadata": {
            "needs_background": "light"
          }
        }
      ]
    },
    {
      "cell_type": "markdown",
      "source": [
        "$\\large \\textbf{Observations on iterations taken to reach optimality:}\\text{As we can see that number of iterations taken to reach optimality without} \\\\ \\large \\text{ scalling does not follow any specific pattern but as the alpha value decrease to zero then number of iterations decreases so fast. but in compare } \\\\ \\large \\text{ of without scalling if we talk about the backward line search method using scalling always take 16 iterations to reach optimal condition } \\\\ \\large \\text{ so we can conclude that after scalling our gradient descent is taking a low number of iterations to reach optimal condition.} $"
      ],
      "metadata": {
        "id": "7u0Jdfb-SnYs"
      }
    },
    {
      "cell_type": "markdown",
      "source": [
        "$ \\large \\textbf{Observations  on minimizers and objective function value:}  \\\\ \\text{As we can see that } x_1 \\text{is tending to zero from negative side as iterations occurs and }  x_2 \\text{ tends to zero from positive side as iterations occures } \\\\ \\text{and we can see that for all values all alpha we get a solution which is almost equal to (0,0) and minumum function value is also} \\\\ \\text{ approximately equal to zero.  }$"
      ],
      "metadata": {
        "id": "Rd6Qk2ga52GY"
      }
    },
    {
      "cell_type": "markdown",
      "source": [
        "$\\large \\textbf{Question:} $ \\\\ R] With starting point x0 = (1, 4000) and τ = 10−12, we will now study the behavior of gradient descent algorithm\n",
        "(without scaling) with backtracking line search, gradient descent algorithm (with scaling) with backtracking\n",
        "line search, for different choices of ρ. Take α = 1, γ = 0.5. Try ρ ∈ {0.9, 0.8, 0.75, 0.6, 0.5, 0.4, 0.25, 0.1, 0.01}.\n",
        "For each ρ, record the final minimizer, final objective function value and number of iterations to terminate,\n",
        "for the gradient descent algorithm (without scaling) with backtracking line search and the gradient descent\n",
        "algorithm (with scaling) with backtracking line search. Prepare a plot where the number of iterations for\n",
        "both the algorithms are plotted against ρ values. Use different colors and a legend to distinguish the plots\n",
        "corresponding to the different algorithms. Comment on the observations. Comment about the minimizers and\n",
        "objective function values obtained for different choices of the ρ values for both the algorithms."
      ],
      "metadata": {
        "id": "isc5kEAiUh7h"
      }
    },
    {
      "cell_type": "code",
      "source": [
        "\n",
        "rho_values=[0.01,0.1,0.25,0.4,0.5,0.6,0.75,0.8,0.9]\n",
        "my_start_x=np.array([1,4000])\n",
        "my_tol= 1/10**(12)\n",
        "alpha=1.0\n",
        "gamma=0.5\n",
        "iter_list=[]\n",
        "iter_list_scl=[]\n",
        "for rho in rho_values:\n",
        "  print('when rho is :',rho)\n",
        "  print('\\n----------------------------------------------------------------------------\\n')\n",
        "  print('backtracking line search method without scalling')\n",
        "  opt_x_bls,number_of_iter_bls=find_minimizer_gd(my_start_x,my_tol,BACKTRACKING_LINE_SEARCH,alpha,rho,gamma)\n",
        "  print('minimizer is :',opt_x_bls)\n",
        "  print('number of iterations taken :',number_of_iter_bls)\n",
        "  print('minimum value of function:',evalf(opt_x_bls))\n",
        "  iter_list.append(number_of_iter_bls)\n",
        "  print('\\n----------------------------------------------------------------------------\\n')\n",
        "  print('backtracking line search method with scalling')\n",
        "  opt_x_bls,number_of_iter_bls=find_minimizer_gdscaling(my_start_x,my_tol,BACKTRACKING_LINE_SEARCH,alpha_start,rho,gamma)\n",
        "  print('minimizer is :',opt_x_bls)\n",
        "  print('number of iterations taken :',number_of_iter_bls)\n",
        "  print('minimum value of function:',evalf(opt_x_bls))\n",
        "  iter_list_scl.append(number_of_iter_bls)\n",
        "  print('\\n----------------------------------------------------------------------------\\n')\n",
        "  print('\\n----------------------------------------------------------------------------\\n')\n",
        "print(iter_list)  \n",
        "print(iter_list_scl)"
      ],
      "metadata": {
        "colab": {
          "base_uri": "https://localhost:8080/"
        },
        "id": "jLcLGGGbRdOU",
        "outputId": "a746abd0-51e8-46e2-f308-6b132161af14"
      },
      "execution_count": 16,
      "outputs": [
        {
          "output_type": "stream",
          "name": "stdout",
          "text": [
            "when rho is : 0.01\n",
            "\n",
            "----------------------------------------------------------------------------\n",
            "\n",
            "backtracking line search method without scalling\n",
            "Params for Backtracking LS: alpha start: 1.0 rho: 0.01  gamma: 0.5\n",
            "minimizer is : [-6.03891924e-16  4.89972672e-13]\n",
            "number of iterations taken : 17463\n",
            "minimum value of function: 2.3943668542911699835e-25\n",
            "\n",
            "----------------------------------------------------------------------------\n",
            "\n",
            "backtracking line search method with scalling\n",
            "minimizer is : [-5.88632151e-16  4.39928337e-13]\n",
            "number of iterations taken : 130\n",
            "minimum value of function: 1.9302084997635642937e-25\n",
            "\n",
            "----------------------------------------------------------------------------\n",
            "\n",
            "\n",
            "----------------------------------------------------------------------------\n",
            "\n",
            "when rho is : 0.1\n",
            "\n",
            "----------------------------------------------------------------------------\n",
            "\n",
            "backtracking line search method without scalling\n",
            "Params for Backtracking LS: alpha start: 1.0 rho: 0.1  gamma: 0.5\n",
            "minimizer is : [-4.35224428e-16  4.42644725e-13]\n",
            "number of iterations taken : 45435\n",
            "minimum value of function: 1.954478834023159006e-25\n",
            "\n",
            "----------------------------------------------------------------------------\n",
            "\n",
            "backtracking line search method with scalling\n",
            "minimizer is : [-6.22892805e-16  4.51919078e-13]\n",
            "number of iterations taken : 23\n",
            "minimum value of function: 2.0368685744853979037e-25\n",
            "\n",
            "----------------------------------------------------------------------------\n",
            "\n",
            "\n",
            "----------------------------------------------------------------------------\n",
            "\n",
            "when rho is : 0.25\n",
            "\n",
            "----------------------------------------------------------------------------\n",
            "\n",
            "backtracking line search method without scalling\n",
            "Params for Backtracking LS: alpha start: 1.0 rho: 0.25  gamma: 0.5\n",
            "minimizer is : [-5.67128954e-16  4.70177132e-13]\n",
            "number of iterations taken : 24570\n",
            "minimum value of function: 2.2048238422067500588e-25\n",
            "\n",
            "----------------------------------------------------------------------------\n",
            "\n",
            "backtracking line search method with scalling\n",
            "minimizer is : [-6.9534609e-16  4.5561674e-13]\n",
            "number of iterations taken : 16\n",
            "minimum value of function: 2.0704462793405916438e-25\n",
            "\n",
            "----------------------------------------------------------------------------\n",
            "\n",
            "\n",
            "----------------------------------------------------------------------------\n",
            "\n",
            "when rho is : 0.4\n",
            "\n",
            "----------------------------------------------------------------------------\n",
            "\n",
            "backtracking line search method without scalling\n",
            "Params for Backtracking LS: alpha start: 1.0 rho: 0.4  gamma: 0.5\n",
            "minimizer is : [-5.16461460e-16  4.67846629e-13]\n",
            "number of iterations taken : 20049\n",
            "minimum value of function: 2.1831406770108283949e-25\n",
            "\n",
            "----------------------------------------------------------------------------\n",
            "\n",
            "backtracking line search method with scalling\n",
            "minimizer is : [-2.10920879e-18  1.38155681e-15]\n",
            "number of iterations taken : 16\n",
            "minimum value of function: 1.9037164073888824085e-30\n",
            "\n",
            "----------------------------------------------------------------------------\n",
            "\n",
            "\n",
            "----------------------------------------------------------------------------\n",
            "\n",
            "when rho is : 0.5\n",
            "\n",
            "----------------------------------------------------------------------------\n",
            "\n",
            "backtracking line search method without scalling\n",
            "Params for Backtracking LS: alpha start: 1.0 rho: 0.5  gamma: 0.5\n",
            "minimizer is : [-4.78532202e-16  4.53575301e-13]\n",
            "number of iterations taken : 21985\n",
            "minimum value of function: 2.0520584176089342136e-25\n",
            "\n",
            "----------------------------------------------------------------------------\n",
            "\n",
            "backtracking line search method with scalling\n",
            "minimizer is : [-2.31674405e-18  9.60515434e-16]\n",
            "number of iterations taken : 16\n",
            "minimum value of function: 9.217397790469289959e-31\n",
            "\n",
            "----------------------------------------------------------------------------\n",
            "\n",
            "\n",
            "----------------------------------------------------------------------------\n",
            "\n",
            "when rho is : 0.6\n",
            "\n",
            "----------------------------------------------------------------------------\n",
            "\n",
            "backtracking line search method without scalling\n",
            "Params for Backtracking LS: alpha start: 1.0 rho: 0.6  gamma: 0.5\n",
            "minimizer is : [-7.07691748e-16  4.70469643e-13]\n",
            "number of iterations taken : 15834\n",
            "minimum value of function: 2.207611361654380832e-25\n",
            "\n",
            "----------------------------------------------------------------------------\n",
            "\n",
            "backtracking line search method with scalling\n",
            "minimizer is : [-2.68496827e-18  1.53311688e-15]\n",
            "number of iterations taken : 15\n",
            "minimum value of function: 2.3447954703965862527e-30\n",
            "\n",
            "----------------------------------------------------------------------------\n",
            "\n",
            "\n",
            "----------------------------------------------------------------------------\n",
            "\n",
            "when rho is : 0.75\n",
            "\n",
            "----------------------------------------------------------------------------\n",
            "\n",
            "backtracking line search method without scalling\n",
            "Params for Backtracking LS: alpha start: 1.0 rho: 0.75  gamma: 0.5\n",
            "minimizer is : [-7.15454842e-16  4.83616543e-13]\n",
            "number of iterations taken : 3135\n",
            "minimum value of function: 2.3326875114120646613e-25\n",
            "\n",
            "----------------------------------------------------------------------------\n",
            "\n",
            "backtracking line search method with scalling\n",
            "minimizer is : [-3.59593964e-18  9.57478862e-16]\n",
            "number of iterations taken : 15\n",
            "minimum value of function: 9.223897999650186346e-31\n",
            "\n",
            "----------------------------------------------------------------------------\n",
            "\n",
            "\n",
            "----------------------------------------------------------------------------\n",
            "\n",
            "when rho is : 0.8\n",
            "\n",
            "----------------------------------------------------------------------------\n",
            "\n",
            "backtracking line search method without scalling\n",
            "Params for Backtracking LS: alpha start: 1.0 rho: 0.8  gamma: 0.5\n",
            "minimizer is : [-6.99968590e-16  4.40149178e-13]\n",
            "number of iterations taken : 1471\n",
            "minimum value of function: 1.9323387030718191021e-25\n",
            "\n",
            "----------------------------------------------------------------------------\n",
            "\n",
            "backtracking line search method with scalling\n",
            "minimizer is : [-3.89959677e-18  7.65599523e-16]\n",
            "number of iterations taken : 15\n",
            "minimum value of function: 5.9701079435151899295e-31\n",
            "\n",
            "----------------------------------------------------------------------------\n",
            "\n",
            "\n",
            "----------------------------------------------------------------------------\n",
            "\n",
            "when rho is : 0.9\n",
            "\n",
            "----------------------------------------------------------------------------\n",
            "\n",
            "backtracking line search method without scalling\n",
            "Params for Backtracking LS: alpha start: 1.0 rho: 0.9  gamma: 0.5\n",
            "minimizer is : [-6.44686128e-16  4.90962904e-13]\n",
            "number of iterations taken : 127\n",
            "minimum value of function: 2.404019351870076014e-25\n",
            "\n",
            "----------------------------------------------------------------------------\n",
            "\n",
            "backtracking line search method with scalling\n",
            "minimizer is : [-1.90920422e-16  3.38018326e-15]\n",
            "number of iterations taken : 14\n",
            "minimum value of function: 6.3520166220020603727e-29\n",
            "\n",
            "----------------------------------------------------------------------------\n",
            "\n",
            "\n",
            "----------------------------------------------------------------------------\n",
            "\n",
            "[17463, 45435, 24570, 20049, 21985, 15834, 3135, 1471, 127]\n",
            "[130, 23, 16, 16, 16, 15, 15, 15, 14]\n"
          ]
        }
      ]
    },
    {
      "cell_type": "code",
      "source": [
        "import matplotlib.pyplot as plt\n",
        "plt.plot(rho_values,iter_list,color='r')\n",
        "plt.plot(rho_values,iter_list_scl,color='b')\n",
        "plt.xlabel('rho values')\n",
        "plt.ylabel('number of iterations')\n",
        "plt.legend(['without scalling','with scalling'],bbox_to_anchor=(1.50, 0.5))\n",
        "plt.show()"
      ],
      "metadata": {
        "colab": {
          "base_uri": "https://localhost:8080/",
          "height": 279
        },
        "id": "-Kl46FYbVF-H",
        "outputId": "3cb60da4-16f0-4a17-f2bd-13880297a1b4"
      },
      "execution_count": 19,
      "outputs": [
        {
          "output_type": "display_data",
          "data": {
            "text/plain": [
              "<Figure size 432x288 with 1 Axes>"
            ],
            "image/png": "[encoded data removed]"
          },
          "metadata": {
            "needs_background": "light"
          }
        }
      ]
    },
    {
      "cell_type": "markdown",
      "source": [
        "$\\large \\textbf{Observations on iterations taken to reach optimality:} \\\\ \\text{As we can see that if we talk about backtracking line search method without scalling then it is clear from curve that as soon as} \\\\ \\text{  rho value increases and becomes closer to 1 then number of iteration decreases fastly and at value of rho 0.9 it becomes 126 iterations} \\\\ \\text{But if we talk about backtracking linear search method with scalling has almost same number of iterations for all rho values.} \\\\ \\text{ For value of rho = 0.01 number of iterations are 130 which are higher than other iterations taken to reach optimality condition for }\\\\ \\text{  other rho values. but for other values of rho number of iterations are same. } $"
      ],
      "metadata": {
        "id": "0fJGVART66FN"
      }
    },
    {
      "cell_type": "markdown",
      "source": [
        "$ \\large \\textbf{Observations  on minimizers and objective function value:}  \\\\ \\text{As we can see that } x_1 \\text{is tending to zero from negative side as iterations occurs and }  x_2 \\text{ tends to zero from positive side as iterations occures } \\\\ \\text{and we can see that for all values all alpha we get a solution which is almost equal to (0,0) and minumum function value is also} \\\\ \\text{ approximately equal to zero.  }$"
      ],
      "metadata": {
        "id": "OE8K1qG39Dlp"
      }
    },
    {
      "cell_type": "code",
      "source": [],
      "metadata": {
        "id": "hL-RNElcVdf7"
      },
      "execution_count": null,
      "outputs": []
    }
  ]
}