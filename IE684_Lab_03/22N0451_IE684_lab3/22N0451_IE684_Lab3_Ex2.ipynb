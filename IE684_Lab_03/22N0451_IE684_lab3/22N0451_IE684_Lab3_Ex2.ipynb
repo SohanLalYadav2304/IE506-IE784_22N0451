{
  "nbformat": 4,
  "nbformat_minor": 0,
  "metadata": {
    "colab": {
      "provenance": []
    },
    "kernelspec": {
      "name": "python3",
      "display_name": "Python 3"
    },
    "language_info": {
      "name": "python"
    }
  },
  "cells": [
    {
      "cell_type": "code",
      "execution_count": 40,
      "metadata": {
        "id": "Uvr4vcsE-AIF"
      },
      "outputs": [],
      "source": [
        "import numpy as np\n",
        "import matplotlib.pyplot as plt"
      ]
    },
    {
      "cell_type": "markdown",
      "source": [
        "$\\large \\textbf{Excercise 2:} \\ $"
      ],
      "metadata": {
        "id": "OUxZASCD-Lm8"
      }
    },
    {
      "cell_type": "markdown",
      "source": [
        "$\\text{The function is:} \\ \\  f(x)=512(x_2-x_1^2)^2+(4-x_1)^2 $"
      ],
      "metadata": {
        "id": "pp43aK4r_eaw"
      }
    },
    {
      "cell_type": "markdown",
      "source": [
        "$\\text{Question 1}$ \\\\ [R] Can you design a suitable diagonal matrix Dk for gradient descent algorithm with scaling to solve minx q(x).\n",
        "If you can come up with a suitable choice of Dk, use it in the implementation of Algorithm 1 (with backtracking\n",
        "line search) to find the minimizer of q(x) with starting point x0 = (8, 8) and τ = 10−5. Consider α0 = 1, ρ =\n",
        "0.5, γ = 0.5 for backtracking line search. Comment on your observations when compared to the gradient descent\n",
        "(without scaling) with backtracking line search. If you cannot find a suitable choice of Dk, explain clearly the\n",
        "reasons."
      ],
      "metadata": {
        "id": "cLqE3O3s_mdm"
      }
    },
    {
      "cell_type": "markdown",
      "source": [
        "$\\large \\textbf{Answer:}\\text{as we derived in last excercise that our } D_k \\text{ is :}$ "
      ],
      "metadata": {
        "id": "Y_9QkYNt_uJu"
      }
    },
    {
      "cell_type": "markdown",
      "source": [
        " $D_k=[(\\frac{\\delta^2f}{\\delta x_1^2})^{-1},(\\frac{\\delta^2f}{\\delta x_2^2})^{-1} , (\\frac{\\delta^2f}{\\delta x_3^2})^{-1}, ...............(\\frac{\\delta^2f}{\\delta x_n^2})^{-1}] $"
      ],
      "metadata": {
        "id": "spsRvVeUENmg"
      }
    },
    {
      "cell_type": "markdown",
      "source": [
        "$\\text{So according to question Dk is:} \\\\ $ $  D_k= \\begin{bmatrix}\n",
        "(2+6144*x_1^2-2048*x_2)^{-1} & 0\\\\\n",
        "0 & (1024)^{-1}\n",
        "\\end{bmatrix}$"
      ],
      "metadata": {
        "id": "dpnZ3eG4EoCp"
      }
    },
    {
      "cell_type": "markdown",
      "source": [
        "$\\text{our hessian matrix can be written as:} \\ $\n",
        "\n",
        "$H_x=\\nabla^2f(x)=$\\begin{bmatrix}\n",
        "(2+6144*x_1^2-2048*x_2)^{-1} & 0\\\\\n",
        "0 & (1024)^{-1}\n",
        "\\end{bmatrix}$"
      ],
      "metadata": {
        "id": "H1a6MrCmFH52"
      }
    },
    {
      "cell_type": "code",
      "source": [
        "def evalf(x):\n",
        "  assert type(x) is np.ndarray and len(x)==2\n",
        "  return 512*(x[1]-(x[0]**2))**2+(4-x[0])**2"
      ],
      "metadata": {
        "id": "Hncue3H--KqY"
      },
      "execution_count": 41,
      "outputs": []
    },
    {
      "cell_type": "code",
      "source": [
        "def evalg(x):\n",
        "  assert type(x) is np.ndarray and len(x)==2\n",
        "  x1_grad=2048*x[0]**3-2048*x[0]*x[1]-8+2*x[0]\n",
        "  x2_grad=1024*x[1]-1024*(x[0]**2)\n",
        "  return np.array([x1_grad,x2_grad],dtype='float64')"
      ],
      "metadata": {
        "id": "kcPGzqQuGDdX"
      },
      "execution_count": 42,
      "outputs": []
    },
    {
      "cell_type": "code",
      "source": [
        "def evalh(x):\n",
        "  assert type(x) is np.ndarray and len(x)==2\n",
        "  df_dxx=6144*(x[0]**2)-2048*x[1]+2\n",
        "  df_dyx=-2048*x[0]\n",
        "  df_dyy=1024\n",
        "  return np.array([df_dxx,df_dyx,df_dyx,df_dyy],dtype='float64').reshape(2,2)\n",
        "\n"
      ],
      "metadata": {
        "id": "iXCVmW_7Gmap"
      },
      "execution_count": 43,
      "outputs": []
    },
    {
      "cell_type": "code",
      "source": [
        "evalh(np.array([8,8]))"
      ],
      "metadata": {
        "colab": {
          "base_uri": "https://localhost:8080/"
        },
        "id": "c1IT3IPV73zR",
        "outputId": "7275f517-a6b6-488f-f096-b9c5588dc67a"
      },
      "execution_count": 44,
      "outputs": [
        {
          "output_type": "execute_result",
          "data": {
            "text/plain": [
              "array([[376834., -16384.],\n",
              "       [-16384.,   1024.]])"
            ]
          },
          "metadata": {},
          "execution_count": 44
        }
      ]
    },
    {
      "cell_type": "code",
      "source": [
        "def compute_D_k(x):\n",
        "  assert type(x) is np.ndarray\n",
        "  assert len(x) == 2\n",
        "  Hes=evalh(x)\n",
        "  D_k=np.array([1/Hes[0,0],0,0,1/Hes[1,1]]).reshape(2,2)\n",
        "  return D_k"
      ],
      "metadata": {
        "id": "IZtHi5WqHuVV"
      },
      "execution_count": 45,
      "outputs": []
    },
    {
      "cell_type": "code",
      "source": [
        "def compute_steplength_backtracking(x, gradf, alpha_start, rho, gamma): #add appropriate arguments to the function \n",
        "  assert type(x) is np.ndarray and len(gradf) == 2 \n",
        "  assert type(gradf) is np.ndarray and len(gradf) == 2 \n",
        "  assert type(alpha_start) is float and alpha_start>=0. \n",
        "  assert type(rho) is float and rho>=0.\n",
        "  assert type(gamma) is float and gamma>=0.\n",
        "  alpha = alpha_start\n",
        "  p=-gradf\n",
        "  while evalf(x+alpha*p)> evalf(x)+gamma*alpha*(np.dot(evalg(x).transpose(),p)):\n",
        "    alpha=alpha*rho\n",
        "  return alpha"
      ],
      "metadata": {
        "id": "xF6RaqTwKwQB"
      },
      "execution_count": 46,
      "outputs": []
    },
    {
      "cell_type": "code",
      "source": [
        "def find_condition_number(A):\n",
        "  assert type(A) is np.ndarray\n",
        "  assert A.shape[0] == A.shape[1]\n",
        "  eigen_values=np.linalg.eig(A)[0]\n",
        "  return max(eigen_values)/min(eigen_values)"
      ],
      "metadata": {
        "id": "1xSFR6cYM2q_"
      },
      "execution_count": 47,
      "outputs": []
    },
    {
      "cell_type": "code",
      "source": [
        "def compute_steplength_backtracking_scaled_direction(x, gradf, direction, alpha_start, rho, gamma): #add appropriate arguments to the function \n",
        "  assert type(x) is np.ndarray and len(gradf) == 2 \n",
        "  assert type(gradf) is np.ndarray and len(gradf) == 2 \n",
        "  assert type(direction) is np.ndarray and len(direction) == 2 \n",
        "  assert type(alpha_start) is float and alpha_start>=0. \n",
        "  assert type(rho) is float and rho>=0.\n",
        "  assert type(gamma) is float and gamma>=0.\n",
        "  alpha = alpha_start\n",
        "  p=-gradf\n",
        "  while evalf(x-alpha*np.matmul(direction,gradf))> evalf(x)-gamma*alpha*(np.matmul(evalg(x).transpose(),np.matmul(direction,gradf))):\n",
        "    alpha=alpha*rho\n",
        "  return alpha \n",
        "  "
      ],
      "metadata": {
        "id": "6V9vfNKjK6kP"
      },
      "execution_count": 48,
      "outputs": []
    },
    {
      "cell_type": "code",
      "source": [
        "EXACT_LINE_SEARCH = 1\n",
        "BACKTRACKING_LINE_SEARCH = 2\n",
        "CONSTANT_STEP_LENGTH = 3"
      ],
      "metadata": {
        "id": "gq87EI75LUep"
      },
      "execution_count": 49,
      "outputs": []
    },
    {
      "cell_type": "code",
      "source": [
        "def find_q(d_k,hes):\n",
        "  viv=np.matmul(scipy.linalg.sqrtm(d_k).T,np.matmul(hes,scipy.linalg.sqrtm(d_k)))\n",
        "  return viv"
      ],
      "metadata": {
        "id": "xmX3fWIj9f1A"
      },
      "execution_count": 50,
      "outputs": []
    },
    {
      "cell_type": "code",
      "source": [
        "#complete the code for gradient descent to find the minimizer\n",
        "def find_minimizer_gd(start_x, tol, line_search_type,*args):\n",
        "  #Input: start_x is a numpy array of size 2, tol denotes the tolerance and is a positive float value\n",
        "  assert type(start_x) is np.ndarray and len(start_x) == 2 #do not allow arbitrary arguments \n",
        "  assert type(tol) is float and tol>=0 \n",
        "  \n",
        "  A = np.array([1500,2,2,1]).reshape(2,2)\n",
        "  x = start_x\n",
        "  g_x = evalg(x)\n",
        "  cond=[]\n",
        "  cond_hess=[]\n",
        "\n",
        "  #initialization for backtracking line search\n",
        "  if(line_search_type == BACKTRACKING_LINE_SEARCH):\n",
        "    alpha_start = args[0]\n",
        "    rho = args[1]\n",
        "    gamma = args[2]\n",
        "    print('Params for Backtracking LS: alpha start:', alpha_start, 'rho:', rho,' gamma:', gamma)\n",
        "\n",
        "  k = 0\n",
        "  #print('iter:',k, ' x:', x, ' f(x):', evalf(x), ' grad at x:', g_x, ' gradient norm:', np.linalg.norm(g_x))\n",
        "\n",
        "  while (np.linalg.norm(g_x) > tol): #continue as long as the norm of gradient is not close to zero upto a tolerance tol\n",
        "  \n",
        "    if line_search_type == EXACT_LINE_SEARCH:\n",
        "      step_length = compute_steplength_exact(g_x, A,x) #call the new function you wrote to compute the steplength\n",
        "      #raise ValueError('EXACT LINE SEARCH NOT YET IMPLEMENTED')\n",
        "    elif line_search_type == BACKTRACKING_LINE_SEARCH:\n",
        "      step_length = compute_steplength_backtracking(x,g_x, alpha_start,rho, gamma) #call the new function you wrote to compute the steplength\n",
        "      #raise ValueError('BACKTRACKING LINE SEARCH NOT YET IMPLEMENTED')\n",
        "    elif line_search_type == CONSTANT_STEP_LENGTH: #do a gradient descent with constant step length\n",
        "      step_length = 0.1\n",
        "    else:  \n",
        "      raise ValueError('Line search type unknown. Please check!')\n",
        "    \n",
        "    #implement the gradient descent steps here   \n",
        "    x = np.subtract(x, np.multiply(step_length,g_x)) #update x = x - step_length*g_x\n",
        "    k += 1 #increment iteration\n",
        "    g_x = evalg(x) #compute gradient at new point\n",
        "    cond_hess.append(find_condition_number(evalh(x)))\n",
        "\n",
        "    #print('iter:',k, ' x:', x, ' f(x):', evalf(x), ' grad at x:', g_x, ' gradient norm:', np.linalg.norm(g_x))\n",
        "  return x,k,cond_hess\n",
        "  \n"
      ],
      "metadata": {
        "id": "vkgqHifyQwvV"
      },
      "execution_count": 51,
      "outputs": []
    },
    {
      "cell_type": "code",
      "source": [
        "#complete the code for gradient descent with scaling to find the minimizer\n",
        "\n",
        "def find_minimizer_gdscaling(start_x, tol, line_search_type,*args):\n",
        "  #Input: start_x is a numpy array of size 2, tol denotes the tolerance and is a positive float value\n",
        "  assert type(start_x) is np.ndarray and len(start_x) == 2 #do not allow arbitrary arguments \n",
        "  assert type(tol) is float and tol>=0 \n",
        "  A = np.array([[1500, 2],[2,1]])\n",
        "  x = start_x\n",
        "  g_x = evalg(x)\n",
        "  d_k=compute_D_k(x)\n",
        "  condition=find_condition_number(find_q(d_k,evalh(x)))\n",
        "  condition1=find_condition_number(evalh(x))\n",
        "  cond1=[]\n",
        "  cond2=[]\n",
        "  cond1.append(condition)\n",
        "  cond2.append(condition1)\n",
        "  \n",
        "\n",
        "\n",
        "  #initialization for backtracking line search\n",
        "  if(line_search_type == BACKTRACKING_LINE_SEARCH):\n",
        "    alpha_start=args[0]\n",
        "    rho = args[1]\n",
        "    gamma = args[2]\n",
        "    #print('Params for Backtracking LS: alpha start:', alpha_start, 'rho:', rho,' gamma:', gamma)\n",
        "\n",
        "  k = 0\n",
        "  #print('iter:',k, ' x:', x, ' f(x):', evalf(x), ' grad at x:', g_x, ' gradient norm:', np.linalg.norm(g_x))\n",
        "\n",
        "  while (np.linalg.norm(g_x) > tol): #continue as long as the norm of gradient is not close to zero upto a tolerance tol\n",
        "  \n",
        "    if line_search_type == EXACT_LINE_SEARCH:\n",
        "      step_length = compute_steplength_exact(g_x, A) #call the new function you wrote to compute the steplength\n",
        "        #raise ValueError('EXACT LINE SEARCH NOT YET IMPLEMENTED')\n",
        "    elif line_search_type == BACKTRACKING_LINE_SEARCH:\n",
        "      step_length = compute_steplength_backtracking_scaled_direction(x,g_x,d_k, alpha_start,rho, gamma) #call the new function you wrote to compute the steplength      \n",
        "     # raise ValueError('BACKTRACKING LINE SEARCH NOT YET IMPLEMENTED')\n",
        "    elif line_search_type == CONSTANT_STEP_LENGTH: #do a gradient descent with constant step length\n",
        "      step_length = 0.1   \n",
        "    else:  \n",
        "      raise ValueError('Line search type unknown. Please check!')\n",
        "    \n",
        "    #implement the gradient descent steps here   \n",
        "    x = np.subtract(x, np.multiply(step_length,np.matmul(d_k,evalg(x)))) #update x = x - step_length*g_x\n",
        "    k += 1 #increment iteration\n",
        "    g_x = evalg(x) #compute gradient at new point\n",
        "    d_k=compute_D_k(x)\n",
        "    cond1.append(condition)\n",
        "    cond2.append(condition1)\n",
        "    \n",
        "\n",
        "    #print('iter:',k, ' x:', x, ' f(x):', evalf(x), ' grad at x:', dir, ' gradient norm:', np.linalg.norm(g_x))\n",
        "  return x,k,cond1,cond2\n",
        "\n",
        "  #Complete the code   "
      ],
      "metadata": {
        "id": "_ecTbJyDQ29z"
      },
      "execution_count": 52,
      "outputs": []
    },
    {
      "cell_type": "code",
      "source": [
        "my_start_x=np.array([8,8])\n",
        "my_tol=1e-5\n",
        "alpha=1.0\n",
        "rho=0.5\n",
        "gamma=0.5\n",
        "opt_x_bls,number_of_iter_bls,condition_no_hess=find_minimizer_gd(my_start_x,my_tol,BACKTRACKING_LINE_SEARCH,alpha,rho,gamma)\n",
        "print('minimizer is :',opt_x_bls)\n",
        "print('number of iterations taken :',number_of_iter_bls)\n",
        "print('minimum value of function:',evalf(opt_x_bls))\n",
        "\n",
        "print('\\n-------------------------------------------------------------------\\n')\n",
        "print('Backtracking using scalling')\n",
        "opt_x_bls,number_of_iter_blscondition_no_with_sc,condition_no_Q,condition_no_hes_scl=find_minimizer_gdscaling(my_start_x,my_tol,BACKTRACKING_LINE_SEARCH,alpha,rho,gamma)\n",
        "print('minimizer is :',opt_x_bls)\n",
        "print('number of iterations taken :',number_of_iter_bls)\n",
        "print('minimum value of function:',evalf(opt_x_bls))"
      ],
      "metadata": {
        "colab": {
          "base_uri": "https://localhost:8080/"
        },
        "id": "KuAsAjItMN6s",
        "outputId": "cc2551c8-b0cc-4221-f300-5a6e4817a5ef"
      },
      "execution_count": null,
      "outputs": [
        {
          "output_type": "stream",
          "name": "stdout",
          "text": [
            "Params for Backtracking LS: alpha start: 1.0 rho: 0.5  gamma: 0.5\n"
          ]
        }
      ]
    },
    {
      "cell_type": "markdown",
      "source": [
        "$\\large \\textbf{Observations:} $ Here we can see that number of iterations taken to reach to optimal condition for both conditions are almost equal so in this problem we see that scalling in this way doesn't give us any benefit to use. "
      ],
      "metadata": {
        "id": "aNFEHzEVNxYz"
      }
    },
    {
      "cell_type": "markdown",
      "source": [
        "$\\large \\textbf{Question:}$[R] Based on our discussion on condition number and the derivation of the gradient descent scheme with\n",
        "scaling, can you identify and write down the matrix Q whose condition number needs to be analyzed in the\n",
        "new gradient descent scheme with scaling with Dk = (∇2f(xk))−1?"
      ],
      "metadata": {
        "id": "hfJgetroOqZg"
      }
    },
    {
      "cell_type": "markdown",
      "source": [
        "$\\large \\textbf{Answer:} \\text{as we know that} \\  \\mathbf{Q} = \\mathbf{(D^k)}^{\\frac{1}{2}}H^k \\mathbf{(D^k)}^{\\frac{1}{2}}  $"
      ],
      "metadata": {
        "id": "UCRunGXhTPDC"
      }
    },
    {
      "cell_type": "markdown",
      "source": [
        "where $H^k$ is Hassian matrix of a function for $k^{th}$ iteration"
      ],
      "metadata": {
        "id": "tg5WcLGdTmUe"
      }
    },
    {
      "cell_type": "markdown",
      "source": [
        "$\\large \\textbf{Question:} $"
      ],
      "metadata": {
        "id": "fHryzroAZ68X"
      }
    },
    {
      "cell_type": "markdown",
      "source": [
        "[R] With starting point x0 = (8, 8) and a stopping tolerance τ = 10−5, find the number of iterations taken\n",
        "by the gradient descent algorithm (without scaling) with backtracking line search, gradient descent algorithm\n",
        "(with scaling) with backtracking line search. For backtracking line search, use α0 = 1, ρ = 0.5, γ = 0.5.\n",
        "Note the minimizer and minimum objective function value in each case. Comment on your observations.\n",
        "Also note the condition number of the Hessian matrix involved in the gradient descent algorithm (without\n",
        "scaling) with backtracking line search and condition number of the matrix Q involved in the gradient descent\n",
        "algorithm (with scaling) with backtracking line search in each iteration. Prepare a plot depicting the behavior\n",
        "of condition numbers in both algorithms against iterations. Use different colors and legend to distinguish the\n",
        "methods. Comment on your observations."
      ],
      "metadata": {
        "id": "EW4UR7nWZ5nl"
      }
    },
    {
      "cell_type": "markdown",
      "source": [
        "$ \\large \\textbf{Answer:}$ As we can see that we get minimizer of function is obtained approximately (4,16) and minimum function value is zero obtained.\n",
        " "
      ],
      "metadata": {
        "id": "iJjv--PAfmmN"
      }
    },
    {
      "cell_type": "code",
      "source": [
        "plt.plot(condition_no_hess,label='condition number of hessian matrix with respect to iterations without scalling')\n",
        "plt.xlabel('iterations')\n",
        "plt.ylabel('condition number')\n",
        "plt.legend(bbox_to_anchor=(1.50,0.5))\n",
        "plt.show()"
      ],
      "metadata": {
        "id": "8gxLbut6eZVh"
      },
      "execution_count": null,
      "outputs": []
    },
    {
      "cell_type": "markdown",
      "source": [
        "$\\text{as we can see that as soon as iterations occures condition number of hessian matrix also increases which clearly indicates that illness of problem increases.}$"
      ],
      "metadata": {
        "id": "fwP1z8GOggYS"
      }
    },
    {
      "cell_type": "code",
      "source": [
        "plt.plot(condition_no_Q,label='condition number of Q matrix with respect to iterations with scalling')\n",
        "plt.xlabel('iterations')\n",
        "plt.ylabel('condition number')\n",
        "plt.legend(bbox_to_anchor=(1.50,0.5))\n",
        "plt.show()"
      ],
      "metadata": {
        "id": "xPUCTxQhfYnN"
      },
      "execution_count": null,
      "outputs": []
    },
    {
      "cell_type": "code",
      "source": [
        "def d_k_newton(x):\n",
        "  assert type(x) is np.ndarray and len(x)==2\n",
        "  return np.linalg.inv(evalh(x))"
      ],
      "metadata": {
        "id": "l3QoRLifUGRZ"
      },
      "execution_count": null,
      "outputs": []
    },
    {
      "cell_type": "code",
      "source": [
        "import scipy.linalg"
      ],
      "metadata": {
        "id": "BQNVrDEjDDeN"
      },
      "execution_count": 57,
      "outputs": []
    },
    {
      "cell_type": "code",
      "source": [
        "#complete the code for gradient descent with scaling to find the minimizer\n",
        "\n",
        "def find_minimizer_gdscaling_newton(start_x, tol, line_search_type,*args):\n",
        "  #Input: start_x is a numpy array of size 2, tol denotes the tolerance and is a positive float value\n",
        "  assert type(start_x) is np.ndarray and len(start_x) == 2 #do not allow arbitrary arguments \n",
        "  assert type(tol) is float and tol>=0 \n",
        "  A = np.array([[1500, 2],[2,1]])\n",
        "  x = start_x\n",
        "  g_x = evalg(x)\n",
        "  hes=evalh(x)\n",
        "  d_k=d_k_newton(x)\n",
        "  condition=find_condition_number(find_q(d_k,evalh(x)))\n",
        "  condition_num=[]\n",
        "  condition_num.append(condition)\n",
        "  \n",
        "\n",
        "\n",
        "  #initialization for backtracking line search\n",
        "  if(line_search_type == BACKTRACKING_LINE_SEARCH):\n",
        "    alpha_start=args[0]\n",
        "    rho = args[1]\n",
        "    gamma = args[2]\n",
        "    #print('Params for Backtracking LS: alpha start:', alpha_start, 'rho:', rho,' gamma:', gamma)\n",
        "\n",
        "  k = 0\n",
        "  #print('iter:',k, ' x:', x, ' f(x):', evalf(x), ' grad at x:', g_x, ' gradient norm:', np.linalg.norm(g_x))\n",
        "\n",
        "  while (np.linalg.norm(g_x) > tol): #continue as long as the norm of gradient is not close to zero upto a tolerance tol\n",
        "  \n",
        "    if line_search_type == EXACT_LINE_SEARCH:\n",
        "      step_length = compute_steplength_exact(g_x, A) #call the new function you wrote to compute the steplength\n",
        "        #raise ValueError('EXACT LINE SEARCH NOT YET IMPLEMENTED')\n",
        "    elif line_search_type == BACKTRACKING_LINE_SEARCH:\n",
        "      step_length = compute_steplength_backtracking_scaled_direction(x,g_x,d_k, alpha_start,rho, gamma) #call the new function you wrote to compute the steplength      \n",
        "     # raise ValueError('BACKTRACKING LINE SEARCH NOT YET IMPLEMENTED')\n",
        "    elif line_search_type == CONSTANT_STEP_LENGTH: #do a gradient descent with constant step length\n",
        "      step_length = 0.1   \n",
        "    else:  \n",
        "      raise ValueError('Line search type unknown. Please check!')\n",
        "    \n",
        "    #implement the gradient descent steps here   \n",
        "    x = np.subtract(x, np.multiply(step_length,np.matmul(d_k,evalg(x)))) #update x = x - step_length*g_x\n",
        "    k += 1 #increment iteration\n",
        "    g_x = evalg(x) #compute gradient at new point\n",
        "    d_k=d_k_newton(x)\n",
        "    condition_num.append(find_condition_number(find_q(d_k,evalh(x))))\n",
        "\n",
        "    #print('iter:',k, ' x:', x, ' f(x):', evalf(x), ' grad at x:', dir, ' gradient norm:', np.linalg.norm(g_x))\n",
        "  return x,k,condition_num\n",
        "\n",
        "  #Complete the code   "
      ],
      "metadata": {
        "id": "sx59WDotVIXw"
      },
      "execution_count": 55,
      "outputs": []
    },
    {
      "cell_type": "code",
      "source": [
        "opt_x_bls,number_of_iter_bls,con=find_minimizer_gdscaling_newton(my_start_x,my_tol,BACKTRACKING_LINE_SEARCH,alpha,rho,gamma)\n",
        "print('minimizer is :',opt_x_bls)\n",
        "print('number of iterations taken :',number_of_iter_bls)\n",
        "print('minimum value of function:',evalf(opt_x_bls))"
      ],
      "metadata": {
        "colab": {
          "base_uri": "https://localhost:8080/"
        },
        "id": "8XSodzT1VP9S",
        "outputId": "d1f989da-5d97-434c-caa8-b81b0163dcaa"
      },
      "execution_count": 58,
      "outputs": [
        {
          "output_type": "stream",
          "name": "stdout",
          "text": [
            "minimizer is : [ 4. 16.]\n",
            "number of iterations taken : 48\n",
            "minimum value of function: 9.49387788546246e-25\n"
          ]
        }
      ]
    },
    {
      "cell_type": "code",
      "source": [
        "print(con)"
      ],
      "metadata": {
        "id": "fiOxe3k83cg4"
      },
      "execution_count": null,
      "outputs": []
    },
    {
      "cell_type": "code",
      "source": [
        "plt.plot(con,label='condition number')\n",
        "plt.xlabel('iterations')\n",
        "plt.ylabel('condition number')\n",
        "plt.show()"
      ],
      "metadata": {
        "colab": {
          "base_uri": "https://localhost:8080/",
          "height": 290
        },
        "id": "MBsrduMqVXq5",
        "outputId": "dce593a8-7f8d-4793-8b5c-25bc7b82fc46"
      },
      "execution_count": 59,
      "outputs": [
        {
          "output_type": "display_data",
          "data": {
            "text/plain": [
              "<Figure size 432x288 with 1 Axes>"
            ],
            "image/png": "[encoded data removed]"
          },
          "metadata": {
            "needs_background": "light"
          }
        }
      ]
    },
    {
      "cell_type": "markdown",
      "source": [
        "$\\text{As above diagram indicates that as soon as iterations occures condition number of our matrix Q decreases }$"
      ],
      "metadata": {
        "id": "kJzZahAxgDph"
      }
    },
    {
      "cell_type": "code",
      "source": [],
      "metadata": {
        "id": "C5Qfe9t5ZqEH"
      },
      "execution_count": null,
      "outputs": []
    }
  ]
}