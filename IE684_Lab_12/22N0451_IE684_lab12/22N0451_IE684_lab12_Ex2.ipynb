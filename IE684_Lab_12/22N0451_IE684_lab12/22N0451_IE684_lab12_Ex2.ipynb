{
  "nbformat": 4,
  "nbformat_minor": 0,
  "metadata": {
    "colab": {
      "provenance": []
    },
    "kernelspec": {
      "name": "python3",
      "display_name": "Python 3"
    },
    "language_info": {
      "name": "python"
    }
  },
  "cells": [
    {
      "cell_type": "code",
      "execution_count": 1,
      "metadata": {
        "id": "cLPV5HBkvBcd"
      },
      "outputs": [],
      "source": [
        "import numpy as np\n",
        "import matplotlib.pyplot as plt\n",
        "%matplotlib inline"
      ]
    },
    {
      "cell_type": "code",
      "source": [],
      "metadata": {
        "id": "o82gMTgTDXDQ"
      },
      "execution_count": null,
      "outputs": []
    },
    {
      "cell_type": "code",
      "source": [
        "from sklearn.datasets import load_iris\n",
        "iris=load_iris()\n"
      ],
      "metadata": {
        "id": "RJiskkbCvOLL"
      },
      "execution_count": 2,
      "outputs": []
    },
    {
      "cell_type": "code",
      "source": [
        "data=iris.data\n",
        "print('data set :',data.shape)"
      ],
      "metadata": {
        "colab": {
          "base_uri": "https://localhost:8080/"
        },
        "id": "OW38u8Tev4g6",
        "outputId": "cd809b90-a4f1-4679-89ba-0030b2895897"
      },
      "execution_count": 4,
      "outputs": [
        {
          "output_type": "stream",
          "name": "stdout",
          "text": [
            "data set : (150, 4)\n"
          ]
        }
      ]
    },
    {
      "cell_type": "code",
      "source": [
        "#data"
      ],
      "metadata": {
        "id": "w60kVkz2v8bB"
      },
      "execution_count": 36,
      "outputs": []
    },
    {
      "cell_type": "code",
      "source": [
        "# target data point\n",
        "y=iris.target \n",
        "y.shape"
      ],
      "metadata": {
        "colab": {
          "base_uri": "https://localhost:8080/"
        },
        "id": "0hG8edDOwDQ8",
        "outputId": "7bb2b8e3-b892-4701-b40c-49857a662e69"
      },
      "execution_count": 6,
      "outputs": [
        {
          "output_type": "execute_result",
          "data": {
            "text/plain": [
              "(150,)"
            ]
          },
          "metadata": {},
          "execution_count": 6
        }
      ]
    },
    {
      "cell_type": "code",
      "source": [
        "# number of data points\n",
        "n=data.shape[0]\n",
        "d=data.shape[1]\n",
        "print('number of data points:',n)\n",
        "print('dimension of data points:',d)"
      ],
      "metadata": {
        "colab": {
          "base_uri": "https://localhost:8080/"
        },
        "id": "pAuwv2G-wM7V",
        "outputId": "f0ee8b83-4931-4537-b27d-b669da17d3a3"
      },
      "execution_count": 7,
      "outputs": [
        {
          "output_type": "stream",
          "name": "stdout",
          "text": [
            "number of data points: 150\n",
            "dimension of data points: 4\n"
          ]
        }
      ]
    },
    {
      "cell_type": "markdown",
      "source": [
        " $\\large \\text{Q1 }$Check the number of classes C and the class label values in iris data. Check if the class labels are from the\n",
        "set {0, 1, . . . , C − 1} or if they are from the set {1, 2, . . . , C}.\n",
        "(b) When loading the labels into y do the following:\n",
        "- If the class labels are from the set {0, 1, . . . , C − 1} convert classes 0, 2, 3, . . . , C − 1 to -1.\n",
        "- If the class labels are from the set {1, 2, . . . , C} convert classes 2, 3, . . . , C to -1 .\n",
        "Thus, you will have class labels eventually belonging to the set {+1, −1}"
      ],
      "metadata": {
        "id": "tCZojhvh1I9E"
      }
    },
    {
      "cell_type": "code",
      "source": [
        "print(np.unique(y))"
      ],
      "metadata": {
        "colab": {
          "base_uri": "https://localhost:8080/"
        },
        "id": "w-xqDb2Z1Sqq",
        "outputId": "a6e5d4ad-4ad9-47f4-f60c-38d14260b10c"
      },
      "execution_count": 38,
      "outputs": [
        {
          "output_type": "stream",
          "name": "stdout",
          "text": [
            "[0 1 2]\n"
          ]
        }
      ]
    },
    {
      "cell_type": "markdown",
      "source": [
        "$\\text{Here we can see that class labels are of the form {0,1,2} so we convert it as of the form {-1,1} where 0 and 2 is replaced by -1}$"
      ],
      "metadata": {
        "id": "tu6-2MGZ1XGZ"
      }
    },
    {
      "cell_type": "code",
      "source": [
        "label=[]\n",
        "for i in y:\n",
        "  if i!=1:\n",
        "    label.append(-1)\n",
        "  else:\n",
        "    label.append(1)  \n",
        "    "
      ],
      "metadata": {
        "id": "UvWqJWYbxc7P"
      },
      "execution_count": 10,
      "outputs": []
    },
    {
      "cell_type": "code",
      "source": [
        "import pandas as pd\n",
        "data=pd.DataFrame(data,columns=[1,2,3,4])\n",
        "\n",
        "data.head()"
      ],
      "metadata": {
        "colab": {
          "base_uri": "https://localhost:8080/",
          "height": 206
        },
        "id": "tTMO9dhQxfXq",
        "outputId": "04cc3165-9a12-40f1-be30-e2a0eb34637d"
      },
      "execution_count": 18,
      "outputs": [
        {
          "output_type": "execute_result",
          "data": {
            "text/plain": [
              "     1    2    3    4\n",
              "0  5.1  3.5  1.4  0.2\n",
              "1  4.9  3.0  1.4  0.2\n",
              "2  4.7  3.2  1.3  0.2\n",
              "3  4.6  3.1  1.5  0.2\n",
              "4  5.0  3.6  1.4  0.2"
            ],
            "text/html": [
              "\n",
              "  <div id=\"df-c941dfee-a2e8-42f3-8e68-c52eed18d081\">\n",
              "    <div class=\"colab-df-container\">\n",
              "      <div>\n",
              "<style scoped>\n",
              "    .dataframe tbody tr th:only-of-type {\n",
              "        vertical-align: middle;\n",
              "    }\n",
              "\n",
              "    .dataframe tbody tr th {\n",
              "        vertical-align: top;\n",
              "    }\n",
              "\n",
              "    .dataframe thead th {\n",
              "        text-align: right;\n",
              "    }\n",
              "</style>\n",
              "<table border=\"1\" class=\"dataframe\">\n",
              "  <thead>\n",
              "    <tr style=\"text-align: right;\">\n",
              "      <th></th>\n",
              "      <th>1</th>\n",
              "      <th>2</th>\n",
              "      <th>3</th>\n",
              "      <th>4</th>\n",
              "    </tr>\n",
              "  </thead>\n",
              "  <tbody>\n",
              "    <tr>\n",
              "      <th>0</th>\n",
              "      <td>5.1</td>\n",
              "      <td>3.5</td>\n",
              "      <td>1.4</td>\n",
              "      <td>0.2</td>\n",
              "    </tr>\n",
              "    <tr>\n",
              "      <th>1</th>\n",
              "      <td>4.9</td>\n",
              "      <td>3.0</td>\n",
              "      <td>1.4</td>\n",
              "      <td>0.2</td>\n",
              "    </tr>\n",
              "    <tr>\n",
              "      <th>2</th>\n",
              "      <td>4.7</td>\n",
              "      <td>3.2</td>\n",
              "      <td>1.3</td>\n",
              "      <td>0.2</td>\n",
              "    </tr>\n",
              "    <tr>\n",
              "      <th>3</th>\n",
              "      <td>4.6</td>\n",
              "      <td>3.1</td>\n",
              "      <td>1.5</td>\n",
              "      <td>0.2</td>\n",
              "    </tr>\n",
              "    <tr>\n",
              "      <th>4</th>\n",
              "      <td>5.0</td>\n",
              "      <td>3.6</td>\n",
              "      <td>1.4</td>\n",
              "      <td>0.2</td>\n",
              "    </tr>\n",
              "  </tbody>\n",
              "</table>\n",
              "</div>\n",
              "      <button class=\"colab-df-convert\" onclick=\"convertToInteractive('df-c941dfee-a2e8-42f3-8e68-c52eed18d081')\"\n",
              "              title=\"Convert this dataframe to an interactive table.\"\n",
              "              style=\"display:none;\">\n",
              "        \n",
              "  <svg xmlns=\"http://www.w3.org/2000/svg\" height=\"24px\"viewBox=\"0 0 24 24\"\n",
              "       width=\"24px\">\n",
              "    <path d=\"M0 0h24v24H0V0z\" fill=\"none\"/>\n",
              "    <path d=\"M18.56 5.44l.94 2.06.94-2.06 2.06-.94-2.06-.94-.94-2.06-.94 2.06-2.06.94zm-11 1L8.5 8.5l.94-2.06 2.06-.94-2.06-.94L8.5 2.5l-.94 2.06-2.06.94zm10 10l.94 2.06.94-2.06 2.06-.94-2.06-.94-.94-2.06-.94 2.06-2.06.94z\"/><path d=\"M17.41 7.96l-1.37-1.37c-.4-.4-.92-.59-1.43-.59-.52 0-1.04.2-1.43.59L10.3 9.45l-7.72 7.72c-.78.78-.78 2.05 0 2.83L4 21.41c.39.39.9.59 1.41.59.51 0 1.02-.2 1.41-.59l7.78-7.78 2.81-2.81c.8-.78.8-2.07 0-2.86zM5.41 20L4 18.59l7.72-7.72 1.47 1.35L5.41 20z\"/>\n",
              "  </svg>\n",
              "      </button>\n",
              "      \n",
              "  <style>\n",
              "    .colab-df-container {\n",
              "      display:flex;\n",
              "      flex-wrap:wrap;\n",
              "      gap: 12px;\n",
              "    }\n",
              "\n",
              "    .colab-df-convert {\n",
              "      background-color: #E8F0FE;\n",
              "      border: none;\n",
              "      border-radius: 50%;\n",
              "      cursor: pointer;\n",
              "      display: none;\n",
              "      fill: #1967D2;\n",
              "      height: 32px;\n",
              "      padding: 0 0 0 0;\n",
              "      width: 32px;\n",
              "    }\n",
              "\n",
              "    .colab-df-convert:hover {\n",
              "      background-color: #E2EBFA;\n",
              "      box-shadow: 0px 1px 2px rgba(60, 64, 67, 0.3), 0px 1px 3px 1px rgba(60, 64, 67, 0.15);\n",
              "      fill: #174EA6;\n",
              "    }\n",
              "\n",
              "    [theme=dark] .colab-df-convert {\n",
              "      background-color: #3B4455;\n",
              "      fill: #D2E3FC;\n",
              "    }\n",
              "\n",
              "    [theme=dark] .colab-df-convert:hover {\n",
              "      background-color: #434B5C;\n",
              "      box-shadow: 0px 1px 3px 1px rgba(0, 0, 0, 0.15);\n",
              "      filter: drop-shadow(0px 1px 2px rgba(0, 0, 0, 0.3));\n",
              "      fill: #FFFFFF;\n",
              "    }\n",
              "  </style>\n",
              "\n",
              "      <script>\n",
              "        const buttonEl =\n",
              "          document.querySelector('#df-c941dfee-a2e8-42f3-8e68-c52eed18d081 button.colab-df-convert');\n",
              "        buttonEl.style.display =\n",
              "          google.colab.kernel.accessAllowed ? 'block' : 'none';\n",
              "\n",
              "        async function convertToInteractive(key) {\n",
              "          const element = document.querySelector('#df-c941dfee-a2e8-42f3-8e68-c52eed18d081');\n",
              "          const dataTable =\n",
              "            await google.colab.kernel.invokeFunction('convertToInteractive',\n",
              "                                                     [key], {});\n",
              "          if (!dataTable) return;\n",
              "\n",
              "          const docLinkHtml = 'Like what you see? Visit the ' +\n",
              "            '<a target=\"_blank\" href=https://colab.research.google.com/notebooks/data_table.ipynb>data table notebook</a>'\n",
              "            + ' to learn more about interactive tables.';\n",
              "          element.innerHTML = '';\n",
              "          dataTable['output_type'] = 'display_data';\n",
              "          await google.colab.output.renderOutput(dataTable, element);\n",
              "          const docLink = document.createElement('div');\n",
              "          docLink.innerHTML = docLinkHtml;\n",
              "          element.appendChild(docLink);\n",
              "        }\n",
              "      </script>\n",
              "    </div>\n",
              "  </div>\n",
              "  "
            ]
          },
          "metadata": {},
          "execution_count": 18
        }
      ]
    },
    {
      "cell_type": "markdown",
      "source": [
        "$\\text{ Note that a shuffled index array indexarr is used in the code. Use this index array to partition the data and labels\n",
        "into train and test splits.} \\\\ \\text{ In particular, use the first 80% of the indices to create the training data and labels. Use\n",
        "the remaining 20% to create the test data and labels.} \\\\ \\text{ Store them in the variables train data , train label, test data,\n",
        "test label.\n",
        "}$"
      ],
      "metadata": {
        "id": "HxyyU7GF1suh"
      }
    },
    {
      "cell_type": "code",
      "source": [
        "# creating an index array\n",
        "indexarr=np.arange(n)\n",
        "np.random.shuffle(indexarr)"
      ],
      "metadata": {
        "id": "ky0WZUhmyCsx"
      },
      "execution_count": 19,
      "outputs": []
    },
    {
      "cell_type": "code",
      "source": [
        "print(indexarr)"
      ],
      "metadata": {
        "colab": {
          "base_uri": "https://localhost:8080/"
        },
        "id": "9XdAnNeTybHe",
        "outputId": "90bd3fb4-8d01-4de1-da56-94c8cd8941af"
      },
      "execution_count": 20,
      "outputs": [
        {
          "output_type": "stream",
          "name": "stdout",
          "text": [
            "[ 85 106  89 136 147 123  99  18 107  42  20  45  67  35  32  19 149 140\n",
            "  70 111  63 138  26   7  87  98   1  79 127  36  88 135  91  94  13  24\n",
            "  39 125  78  41  60 132 145  83  44  97  74   0 143   8  92 108 139 105\n",
            " 131 101  75  64  15  11  23 103 141  66  12  34  10  95 115  93 113  96\n",
            "  43  14 114  49 124  86 109  48  71  84  27  59  57  17   3  54 137 133\n",
            "  90  25  62  29  69  38  21 116  37  56 120 117  72  77 121 110 144  33\n",
            "   6 130 148   5  68   9 122 100 134 126 119  31  53  82  52 142  55  16\n",
            "  65  73  40 118   2 102  30 128 104 129  76  51   4  61  47  58 146  22\n",
            "  80  81  46  28 112  50]\n"
          ]
        }
      ]
    },
    {
      "cell_type": "code",
      "source": [
        "# train data\n",
        "train_data=data.iloc[indexarr[:120]]"
      ],
      "metadata": {
        "id": "6KhcPUtNzcrk"
      },
      "execution_count": 31,
      "outputs": []
    },
    {
      "cell_type": "code",
      "source": [
        "# train label\n",
        "train_label=label[:120]"
      ],
      "metadata": {
        "id": "Z14L36q40Zdz"
      },
      "execution_count": 34,
      "outputs": []
    },
    {
      "cell_type": "code",
      "source": [
        "# test data\n",
        "test_data=data.iloc[indexarr[120:]]\n"
      ],
      "metadata": {
        "id": "w_YP7LjP0ssL"
      },
      "execution_count": 33,
      "outputs": []
    },
    {
      "cell_type": "code",
      "source": [
        "# test label\n",
        "test_label=data.iloc[indexarr[120:]]"
      ],
      "metadata": {
        "id": "n3ngKxky04au"
      },
      "execution_count": 35,
      "outputs": []
    },
    {
      "cell_type": "markdown",
      "source": [
        "$\\large \\text{Write a python function which implements the prediction rule in eqn. (2). Use the following code template.}$"
      ],
      "metadata": {
        "id": "B2IzCEmq2NEG"
      }
    },
    {
      "cell_type": "code",
      "source": [
        "def pred_rule(w,x):\n",
        "  if np.dot(w,x)>=0:\n",
        "    return +1\n",
        "  else:\n",
        "    return -1   "
      ],
      "metadata": {
        "id": "lh7bCINx0-lx"
      },
      "execution_count": 39,
      "outputs": []
    },
    {
      "cell_type": "markdown",
      "source": [
        "$\\text{ Write a python function which takes as input the model parameter w, data features and labels and returns the\n",
        "accuracy on the data. (Use the predict function).}$"
      ],
      "metadata": {
        "id": "NwkRfx0m2fqW"
      }
    },
    {
      "cell_type": "code",
      "source": [
        "def accuracy(w,data,label):\n",
        "  correct_pred=0\n",
        "  for i in len(data):\n",
        "    x=data.iloc[i]\n",
        "    pred=pred_rule(w,x)\n",
        "    if pred==label[i]:\n",
        "      correct_pred+=1\n",
        "  return correct_pred/len(label)      "
      ],
      "metadata": {
        "id": "FxJy5EHF2cY8"
      },
      "execution_count": 40,
      "outputs": []
    }
  ]
}