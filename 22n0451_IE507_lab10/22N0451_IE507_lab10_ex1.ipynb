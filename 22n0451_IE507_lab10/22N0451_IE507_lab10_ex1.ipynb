{
  "nbformat": 4,
  "nbformat_minor": 0,
  "metadata": {
    "colab": {
      "provenance": [],
      "collapsed_sections": []
    },
    "kernelspec": {
      "name": "python3",
      "display_name": "Python 3"
    }
  },
  "cells": [
    {
      "cell_type": "markdown",
      "metadata": {
        "id": "uT_cmDH4VNUW"
      },
      "source": [
        "# Simulation using Python 1\n",
        "### Using Numpy's random package\n",
        "\n",
        "[Numpy Random website](https://docs.scipy.org/doc/numpy-1.14.1/reference/routines.random.html)"
      ]
    },
    {
      "cell_type": "markdown",
      "metadata": {
        "id": "L7CjxntgVigf"
      },
      "source": [
        "**import packages**"
      ]
    },
    {
      "cell_type": "code",
      "metadata": {
        "id": "xZ6aaRKXV4PY"
      },
      "source": [
        "#run this code first\n",
        "import numpy.random as rnd\n",
        "import numpy as np"
      ],
      "execution_count": 1,
      "outputs": []
    },
    {
      "cell_type": "markdown",
      "metadata": {
        "id": "YNR-O4lWhEyf"
      },
      "source": [
        "**Example 1a: Roll a die 10 times and observe output**\n",
        "\n",
        "We will use randint() function for this"
      ]
    },
    {
      "cell_type": "code",
      "metadata": {
        "id": "6_A7ygliYCBZ",
        "colab": {
          "base_uri": "https://localhost:8080/"
        },
        "outputId": "ce9e4a78-b1d8-4290-859c-2bcbd807b92d"
      },
      "source": [
        "#run this code.  Click play multiple times to simulate multiple dice throws\n",
        "rnd.randint(1,6+1)"
      ],
      "execution_count": 2,
      "outputs": [
        {
          "output_type": "execute_result",
          "data": {
            "text/plain": [
              "5"
            ]
          },
          "metadata": {},
          "execution_count": 2
        }
      ]
    },
    {
      "cell_type": "code",
      "metadata": {
        "id": "zsKvSPgnYEm6",
        "colab": {
          "base_uri": "https://localhost:8080/"
        },
        "outputId": "a91cebb6-7e5c-42b9-8ead-f9d529c579e6"
      },
      "source": [
        "#insert code here to simulate 10 rolls of a die, and print the output. \n",
        "for i in range(10):\n",
        "  print( rnd.randint(1,6+1)  ,end=', ')"
      ],
      "execution_count": 3,
      "outputs": [
        {
          "output_type": "stream",
          "name": "stdout",
          "text": [
            "2, 5, 5, 4, 6, 5, 1, 6, 1, 3, "
          ]
        }
      ]
    },
    {
      "cell_type": "markdown",
      "metadata": {
        "id": "kMa9iXXOhYMz"
      },
      "source": [
        "**Example 1b: Roll a pair of dice N times, and plot histogram**\n",
        "\n",
        "We will use randint() function for this; use matplotlib.pyplot for plotting"
      ]
    },
    {
      "cell_type": "code",
      "metadata": {
        "id": "4uVftSjiYj5C",
        "colab": {
          "base_uri": "https://localhost:8080/"
        },
        "outputId": "48c08e71-b0b9-4ff9-b077-0f3902256bde"
      },
      "source": [
        "#Code adds the output of two 'dice throws'. Run code multiple times.\n",
        "rnd.randint(1,6+1) + rnd.randint(1,6+1)"
      ],
      "execution_count": 4,
      "outputs": [
        {
          "output_type": "execute_result",
          "data": {
            "text/plain": [
              "8"
            ]
          },
          "metadata": {},
          "execution_count": 4
        }
      ]
    },
    {
      "cell_type": "code",
      "metadata": {
        "id": "Q3Ou0-00YOKB",
        "colab": {
          "base_uri": "https://localhost:8080/"
        },
        "outputId": "465f3748-9d39-41fa-c9f8-43dafc624127"
      },
      "source": [
        "#Code here simulates 10 dice throws.\n",
        "for i in range(10):\n",
        "  print( rnd.randint(1,7)+ rnd.randint(1,7) , end=', ')"
      ],
      "execution_count": 5,
      "outputs": [
        {
          "output_type": "stream",
          "name": "stdout",
          "text": [
            "3, 7, 7, 7, 6, 10, 6, 6, 8, 10, "
          ]
        }
      ]
    },
    {
      "cell_type": "code",
      "metadata": {
        "id": "Jw-6fA9zYoRB"
      },
      "source": [
        "#Required for plotting.\n",
        "import matplotlib.pyplot as plt"
      ],
      "execution_count": 6,
      "outputs": []
    },
    {
      "cell_type": "code",
      "metadata": {
        "id": "I1qr9mvzY479",
        "colab": {
          "base_uri": "https://localhost:8080/",
          "height": 317
        },
        "outputId": "44e5f575-10e5-4edb-a6ac-c6d563aa9291"
      },
      "source": [
        "# Simulate N throws of pair of dice, and plot histogram\n",
        "# See if you can use bins in histogram to get a better plot\n",
        "n=1000\n",
        "x=[]\n",
        "for i in range(n):\n",
        "  x.append( rnd.randint(1,7)+rnd.randint(1,7) )\n",
        "\n",
        "plt.hist( x,align='mid',bins=[i for i in range(2,14)]  )"
      ],
      "execution_count": 7,
      "outputs": [
        {
          "output_type": "execute_result",
          "data": {
            "text/plain": [
              "(array([ 18.,  70.,  69., 113., 139., 169., 135., 112., 100.,  49.,  26.]),\n",
              " array([ 2,  3,  4,  5,  6,  7,  8,  9, 10, 11, 12, 13]),\n",
              " <a list of 11 Patch objects>)"
            ]
          },
          "metadata": {},
          "execution_count": 7
        },
        {
          "output_type": "display_data",
          "data": {
            "text/plain": [
              "<Figure size 432x288 with 1 Axes>"
            ],
            "image/png": "[encoded data removed]"
          },
          "metadata": {
            "needs_background": "light"
          }
        }
      ]
    },
    {
      "cell_type": "markdown",
      "metadata": {
        "id": "TycNwmAPiEux"
      },
      "source": [
        "**Example 1c,1d: Toss a fair/unfair coin 10 times**\n",
        "\n",
        "Use choice() function"
      ]
    },
    {
      "cell_type": "code",
      "metadata": {
        "id": "Eo-lMDhvZHY9",
        "colab": {
          "base_uri": "https://localhost:8080/"
        },
        "outputId": "b011d8b9-7621-49ff-ff66-ca298a07e878"
      },
      "source": [
        "#insert code here to simulate toss a fair coin, choice(coin)\n",
        "coin=['Heads', 'Tails']\n",
        "for i in range(10):\n",
        " print( rnd.choice(coin ) )"
      ],
      "execution_count": 8,
      "outputs": [
        {
          "output_type": "stream",
          "name": "stdout",
          "text": [
            "Heads\n",
            "Heads\n",
            "Tails\n",
            "Heads\n",
            "Heads\n",
            "Heads\n",
            "Heads\n",
            "Tails\n",
            "Tails\n",
            "Heads\n"
          ]
        }
      ]
    },
    {
      "cell_type": "code",
      "metadata": {
        "id": "DKQ4dfi0aFi0",
        "colab": {
          "base_uri": "https://localhost:8080/"
        },
        "outputId": "eb288e74-4f2f-4809-b62e-5819b6729bc4"
      },
      "source": [
        "#insert code here to simulate toss an unfair coin, with P{H}=0.8. \n",
        "#use choice(coin, p=[0.8, 0.2])\n",
        "coin=['Heads', 'Tails']\n",
        "for i in range(10):\n",
        " print( rnd.choice(coin,p=[0.8,0.2]) )"
      ],
      "execution_count": 9,
      "outputs": [
        {
          "output_type": "stream",
          "name": "stdout",
          "text": [
            "Heads\n",
            "Heads\n",
            "Heads\n",
            "Heads\n",
            "Heads\n",
            "Heads\n",
            "Heads\n",
            "Heads\n",
            "Heads\n",
            "Tails\n"
          ]
        }
      ]
    },
    {
      "cell_type": "code",
      "metadata": {
        "id": "SRqkKjQmco-A",
        "colab": {
          "base_uri": "https://localhost:8080/"
        },
        "outputId": "1d801f16-1d03-4b19-cacd-7ee187c601df"
      },
      "source": [
        "#A more compact code. Use  choice(coin, p=[0.8, 0.2], size=10)\n",
        "coin=['Heads', 'Tails']\n",
        "rnd.choice(coin,p=[0.8,0.2],size=10  )"
      ],
      "execution_count": 10,
      "outputs": [
        {
          "output_type": "execute_result",
          "data": {
            "text/plain": [
              "array(['Tails', 'Heads', 'Heads', 'Heads', 'Tails', 'Heads', 'Heads',\n",
              "       'Heads', 'Heads', 'Heads'], dtype='<U5')"
            ]
          },
          "metadata": {},
          "execution_count": 10
        }
      ]
    },
    {
      "cell_type": "markdown",
      "source": [
        "After such experiments, one may want to simply count the number of heads and tails, and perhaphs plot a bar chart of the aggregate results. We can do that as follows:"
      ],
      "metadata": {
        "id": "1VOycON2Cf4I"
      }
    },
    {
      "cell_type": "code",
      "source": [
        "outcomes = rnd.choice(coin, p=[0.3,0.7],size=100) #Corresponds to 100 toss of a fair dice\n",
        "#the results are now stored in a variable called 'outcomes'. You can print(outcome) to view the results\n",
        "print(outcomes );\n",
        "\n",
        "#We need to now count the number of heads and tails we have got. \n",
        "#For that we create a dictonary with key as the options (Heads or Tails), and values as the count.\n",
        "from collections import Counter\n",
        "tosscount = dict(Counter(outcomes))#counter takes a list and count the distinct elements of list.\n",
        "\n",
        "#Print tosscount to view the results\n",
        "print(tosscount);\n",
        "\n",
        "#We can create a bar chart, with x-axis as the keys and y-axis as the values.\n",
        "plt.bar(tosscount.keys(), tosscount.values());"
      ],
      "metadata": {
        "id": "4ZUFGNrdDerA",
        "colab": {
          "base_uri": "https://localhost:8080/",
          "height": 491
        },
        "outputId": "6ffe272b-46bb-4d76-f4f7-48a7e7133552"
      },
      "execution_count": 11,
      "outputs": [
        {
          "output_type": "stream",
          "name": "stdout",
          "text": [
            "['Heads' 'Tails' 'Tails' 'Heads' 'Tails' 'Tails' 'Tails' 'Tails' 'Heads'\n",
            " 'Heads' 'Tails' 'Tails' 'Heads' 'Heads' 'Heads' 'Heads' 'Tails' 'Tails'\n",
            " 'Heads' 'Tails' 'Heads' 'Tails' 'Tails' 'Heads' 'Tails' 'Heads' 'Heads'\n",
            " 'Tails' 'Tails' 'Tails' 'Tails' 'Tails' 'Tails' 'Tails' 'Heads' 'Heads'\n",
            " 'Tails' 'Heads' 'Tails' 'Tails' 'Tails' 'Heads' 'Tails' 'Tails' 'Heads'\n",
            " 'Tails' 'Tails' 'Tails' 'Tails' 'Tails' 'Tails' 'Tails' 'Heads' 'Tails'\n",
            " 'Tails' 'Tails' 'Heads' 'Tails' 'Tails' 'Tails' 'Tails' 'Tails' 'Tails'\n",
            " 'Heads' 'Tails' 'Heads' 'Tails' 'Tails' 'Tails' 'Tails' 'Tails' 'Tails'\n",
            " 'Tails' 'Tails' 'Tails' 'Tails' 'Tails' 'Tails' 'Tails' 'Tails' 'Tails'\n",
            " 'Tails' 'Tails' 'Tails' 'Tails' 'Tails' 'Heads' 'Tails' 'Tails' 'Heads'\n",
            " 'Tails' 'Tails' 'Tails' 'Heads' 'Tails' 'Heads' 'Tails' 'Heads' 'Tails'\n",
            " 'Tails']\n",
            "{'Heads': 27, 'Tails': 73}\n"
          ]
        },
        {
          "output_type": "display_data",
          "data": {
            "text/plain": [
              "<Figure size 432x288 with 1 Axes>"
            ],
            "image/png": "[encoded data removed]"
          },
          "metadata": {
            "needs_background": "light"
          }
        }
      ]
    },
    {
      "cell_type": "markdown",
      "metadata": {
        "id": "dt0uVvF-ifKy"
      },
      "source": [
        "**Example 1e: Sample 3 balls from a box with 5 red and 3 blue balls, without replacement** \\\\\n",
        "\n",
        "sampling using choise() function "
      ]
    },
    {
      "cell_type": "code",
      "metadata": {
        "id": "dPFuBcCDc7Dm",
        "colab": {
          "base_uri": "https://localhost:8080/"
        },
        "outputId": "215c7477-25f3-4e5d-a751-cf498744b4fb"
      },
      "source": [
        "#insert code here to simulate sampling without replacement. Use replace='False' in choice.\n",
        "box=['red','red','red','red','red','blue','blue','blue']\n",
        "rnd.choice( box,size=8,replace=False)"
      ],
      "execution_count": 12,
      "outputs": [
        {
          "output_type": "execute_result",
          "data": {
            "text/plain": [
              "array(['blue', 'red', 'red', 'blue', 'red', 'blue', 'red', 'red'],\n",
              "      dtype='<U4')"
            ]
          },
          "metadata": {},
          "execution_count": 12
        }
      ]
    },
    {
      "cell_type": "markdown",
      "metadata": {
        "id": "fywJnj-hiwqt"
      },
      "source": [
        "**Example 1f: Randomly shuffle a list of students**\n",
        "\n",
        "Use shuffle() function"
      ]
    },
    {
      "cell_type": "code",
      "metadata": {
        "id": "eduuS73peSiu",
        "colab": {
          "base_uri": "https://localhost:8080/"
        },
        "outputId": "07ea3e97-d660-4cd8-ca9c-6ba860bb8b1c"
      },
      "source": [
        "#insert code here to shuffle a list\n",
        "students=['bhanu','shyam','radha','vijay','manu','deepak','meena','latha', 'alex', 'sania']\n",
        "rnd.shuffle( students )\n",
        "print(students)"
      ],
      "execution_count": 13,
      "outputs": [
        {
          "output_type": "stream",
          "name": "stdout",
          "text": [
            "['alex', 'radha', 'shyam', 'manu', 'latha', 'bhanu', 'vijay', 'meena', 'sania', 'deepak']\n"
          ]
        }
      ]
    },
    {
      "cell_type": "markdown",
      "metadata": {
        "id": "Sfe_K2ekyK9X"
      },
      "source": [
        "**Example 1g: Probability Distributions**\n",
        "\n",
        "Use random(), uniform(), triangular(), exponential() to generate sample"
      ]
    },
    {
      "cell_type": "code",
      "metadata": {
        "id": "mr_GHbBQyX6C",
        "colab": {
          "base_uri": "https://localhost:8080/"
        },
        "outputId": "d70a29ef-17fa-4da1-8a58-7da46364aa75"
      },
      "source": [
        "# Use random() function to generate numbers between 0 and 1\n",
        "# Use uniform(a,b) function to generate numbers between a=1 and b=6\n",
        "# Use triangular(low, mode, high) function to generate numbers triangular(1,2,6)\n",
        "# Use exponential(scale) function to generate numbers exponential(scale=2); scale = 1/lambda\n",
        "print('From random', rnd.random())\n",
        "print('from uniform', rnd.uniform(1,6))\n",
        "print('from tria(1,6,2)', rnd.triangular(1,2,6))\n",
        "print('from exponential(2)', rnd.exponential(2))"
      ],
      "execution_count": 14,
      "outputs": [
        {
          "output_type": "stream",
          "name": "stdout",
          "text": [
            "From random 0.0007065822267119382\n",
            "from uniform 2.380713640132586\n",
            "from tria(1,6,2) 5.011585539613014\n",
            "from exponential(2) 0.0906543178915247\n"
          ]
        }
      ]
    },
    {
      "cell_type": "markdown",
      "metadata": {
        "id": "gqI7nLL80Vh_"
      },
      "source": [
        "Next: Let's generate say 1000 samples from a distribution and plot the histogram to see the distribution"
      ]
    },
    {
      "cell_type": "code",
      "source": [
        "plt.hist([rnd.uniform(1,6) for i in range(10000)]);"
      ],
      "metadata": {
        "colab": {
          "base_uri": "https://localhost:8080/",
          "height": 265
        },
        "id": "42tPKgg4qy8U",
        "outputId": "08f0ec62-9a80-4fa3-dfe1-a34974d2d9c6"
      },
      "execution_count": 15,
      "outputs": [
        {
          "output_type": "display_data",
          "data": {
            "text/plain": [
              "<Figure size 432x288 with 1 Axes>"
            ],
            "image/png": "[encoded data removed]"
          },
          "metadata": {
            "needs_background": "light"
          }
        }
      ]
    },
    {
      "cell_type": "code",
      "metadata": {
        "id": "ACtJnev40e1X",
        "colab": {
          "base_uri": "https://localhost:8080/",
          "height": 369
        },
        "outputId": "464db8f6-7f16-4ea7-c08f-de1a0834a71a"
      },
      "source": [
        "#Let's try uniform distribution\n",
        "y=[]\n",
        "n=10000\n",
        "for i in range(n):\n",
        "  y.append(rnd.uniform(1,6)  )\n",
        "\n",
        "plt.hist(y)"
      ],
      "execution_count": 16,
      "outputs": [
        {
          "output_type": "execute_result",
          "data": {
            "text/plain": [
              "(array([ 984., 1017.,  991., 1056., 1031.,  983.,  997.,  981.,  985.,\n",
              "         975.]),\n",
              " array([1.00040755, 1.5003022 , 2.00019685, 2.50009149, 2.99998614,\n",
              "        3.49988079, 3.99977544, 4.49967009, 4.99956473, 5.49945938,\n",
              "        5.99935403]),\n",
              " <a list of 10 Patch objects>)"
            ]
          },
          "metadata": {},
          "execution_count": 16
        },
        {
          "output_type": "display_data",
          "data": {
            "text/plain": [
              "<Figure size 432x288 with 1 Axes>"
            ],
            "image/png": "[encoded data removed]"
          },
          "metadata": {
            "needs_background": "light"
          }
        }
      ]
    },
    {
      "cell_type": "code",
      "metadata": {
        "id": "T5rf4ueP0w25",
        "colab": {
          "base_uri": "https://localhost:8080/",
          "height": 352
        },
        "outputId": "78ef485d-0f46-4bca-eb78-5bb2992bc1ab"
      },
      "source": [
        "#Let's try expo(2) distribution\n",
        "z=[]\n",
        "n=1000\n",
        "for i in range(n):\n",
        "  z.append(rnd.exponential(2)  )\n",
        "\n",
        "plt.hist(z)"
      ],
      "execution_count": 17,
      "outputs": [
        {
          "output_type": "execute_result",
          "data": {
            "text/plain": [
              "(array([596., 243.,  96.,  34.,  19.,   5.,   4.,   1.,   1.,   1.]),\n",
              " array([3.10650973e-04, 1.76774365e+00, 3.53517665e+00, 5.30260964e+00,\n",
              "        7.07004264e+00, 8.83747564e+00, 1.06049086e+01, 1.23723416e+01,\n",
              "        1.41397746e+01, 1.59072076e+01, 1.76746406e+01]),\n",
              " <a list of 10 Patch objects>)"
            ]
          },
          "metadata": {},
          "execution_count": 17
        },
        {
          "output_type": "display_data",
          "data": {
            "text/plain": [
              "<Figure size 432x288 with 1 Axes>"
            ],
            "image/png": "[encoded data removed]"
          },
          "metadata": {
            "needs_background": "light"
          }
        }
      ]
    },
    {
      "cell_type": "code",
      "metadata": {
        "id": "XKBzsEZ5PW2m",
        "colab": {
          "base_uri": "https://localhost:8080/",
          "height": 352
        },
        "outputId": "fb634ebe-fe4e-43be-8c10-a6066249cc9b"
      },
      "source": [
        "# We can write a more compact code using \"size\" input inside the distribution function\n",
        "n=1000\n",
        "z= rnd.exponential( 2, size=n)\n",
        "plt.hist(z)"
      ],
      "execution_count": 18,
      "outputs": [
        {
          "output_type": "execute_result",
          "data": {
            "text/plain": [
              "(array([529., 263.,  97.,  56.,  32.,  11.,   7.,   3.,   0.,   2.]),\n",
              " array([6.40733908e-03, 1.47618829e+00, 2.94596924e+00, 4.41575019e+00,\n",
              "        5.88553113e+00, 7.35531208e+00, 8.82509303e+00, 1.02948740e+01,\n",
              "        1.17646549e+01, 1.32344359e+01, 1.47042168e+01]),\n",
              " <a list of 10 Patch objects>)"
            ]
          },
          "metadata": {},
          "execution_count": 18
        },
        {
          "output_type": "display_data",
          "data": {
            "text/plain": [
              "<Figure size 432x288 with 1 Axes>"
            ],
            "image/png": "[encoded data removed]"
          },
          "metadata": {
            "needs_background": "light"
          }
        }
      ]
    },
    {
      "cell_type": "markdown",
      "metadata": {
        "id": "eaQ-jxQH2v4Z"
      },
      "source": [
        "Next: Let's try simple probability exercises, compute P{X>=8}, where X ~ expo(mean=2)"
      ]
    },
    {
      "cell_type": "code",
      "metadata": {
        "id": "owSVOBcK1crb",
        "colab": {
          "base_uri": "https://localhost:8080/"
        },
        "outputId": "3d7c11e3-029f-409d-f1d0-da4d0e04d927"
      },
      "source": [
        "# Suppose X ~Expo(mean=2), what is P(X>=8)? Rerun with different values of n (sample size) and observe the output\n",
        "count=0\n",
        "n=100\n",
        "rnd.seed(2)\n",
        "for i in range(n):\n",
        "  if (rnd.exponential(2)  >= 8):\n",
        "    count = count+1\n",
        "\n",
        "print('P{X>=8} is ', count/n)\n"
      ],
      "execution_count": 19,
      "outputs": [
        {
          "output_type": "stream",
          "name": "stdout",
          "text": [
            "P{X>=8} is  0.02\n"
          ]
        }
      ]
    },
    {
      "cell_type": "markdown",
      "metadata": {
        "id": "C58ouJl927rR"
      },
      "source": [
        "In the above code, you see that the Prob. value keeps changing when you run it multiple times. To keep it the same, we need the simulator to use the same set of random numbers each time.  We can do that using ```seed()``` function.\n",
        "\n",
        "In the above code, before the ```for-loop ```, insert ```rnd.seed(3)``` and rerun the code"
      ]
    },
    {
      "cell_type": "markdown",
      "metadata": {
        "id": "gcJUwt8E3sXB"
      },
      "source": [
        "**Example 1h: Central limit Theorem**\n",
        "If $X_1, X_2, ..X_n$ are i.i.d random samples each of size $n$ taken from a population. Then the sample mean $\\bar{X}$ is Normally distributed."
      ]
    },
    {
      "cell_type": "code",
      "metadata": {
        "id": "E7riElZe3XNT",
        "colab": {
          "base_uri": "https://localhost:8080/",
          "height": 439
        },
        "outputId": "dd23bb46-40bf-4b89-ea13-f160eff4823a"
      },
      "source": [
        "# We can going to generate m sets of data, where each set has n data points. \n",
        "# From each set, we will take the sample mean, and plot the histogram of the sample means\n",
        "# let's generate samples from Expo(2)\n",
        "m=10000\n",
        "n=100\n",
        "sample_means=[]\n",
        "rnd.seed(3)\n",
        "for i in range(m):\n",
        "  x=[]  \n",
        "  for j in range(n):\n",
        "    x.append(rnd.exponential(2))\n",
        "  sample_means.append(np.mean(x))    \n",
        "  \n",
        "\n",
        "\n",
        "plt.hist(sample_means,bins=21)"
      ],
      "execution_count": 20,
      "outputs": [
        {
          "output_type": "execute_result",
          "data": {
            "text/plain": [
              "(array([1.200e+01, 3.600e+01, 9.300e+01, 2.530e+02, 5.590e+02, 9.140e+02,\n",
              "        1.233e+03, 1.559e+03, 1.604e+03, 1.368e+03, 1.033e+03, 6.200e+02,\n",
              "        3.620e+02, 1.920e+02, 9.900e+01, 4.200e+01, 1.500e+01, 3.000e+00,\n",
              "        2.000e+00, 0.000e+00, 1.000e+00]),\n",
              " array([1.34605656, 1.42556101, 1.50506546, 1.58456991, 1.66407436,\n",
              "        1.74357881, 1.82308326, 1.90258771, 1.98209216, 2.06159661,\n",
              "        2.14110106, 2.22060551, 2.30010996, 2.37961441, 2.45911887,\n",
              "        2.53862332, 2.61812777, 2.69763222, 2.77713667, 2.85664112,\n",
              "        2.93614557, 3.01565002]),\n",
              " <a list of 21 Patch objects>)"
            ]
          },
          "metadata": {},
          "execution_count": 20
        },
        {
          "output_type": "display_data",
          "data": {
            "text/plain": [
              "<Figure size 432x288 with 1 Axes>"
            ],
            "image/png": "[encoded data removed]"
          },
          "metadata": {
            "needs_background": "light"
          }
        }
      ]
    },
    {
      "cell_type": "markdown",
      "metadata": {
        "id": "u3USDWsK7f5V"
      },
      "source": [
        "***Note: The Above construct of ```inner for-loop``` for the samples, and the ```outer for-loop``` for the sample means is common in simulation***"
      ]
    },
    {
      "cell_type": "code",
      "metadata": {
        "id": "eIBANT3hNHd7",
        "colab": {
          "base_uri": "https://localhost:8080/",
          "height": 491
        },
        "outputId": "7fca8632-58ca-444f-cd94-12c0c23e6721"
      },
      "source": [
        "# However, we can write a compact code using list comprehension\n",
        "m=10000\n",
        "n=100\n",
        "rnd.seed(3)\n",
        "sample_means = [np.mean(rnd.exponential(2,n)) for i in range(m)]\n",
        "\n",
        "plt.hist(sample_means, bins=30)"
      ],
      "execution_count": 21,
      "outputs": [
        {
          "output_type": "execute_result",
          "data": {
            "text/plain": [
              "(array([6.000e+00, 1.700e+01, 3.000e+01, 5.900e+01, 1.350e+02, 2.340e+02,\n",
              "        4.030e+02, 5.890e+02, 7.290e+02, 8.980e+02, 1.098e+03, 1.113e+03,\n",
              "        1.100e+03, 9.850e+02, 7.990e+02, 6.240e+02, 4.210e+02, 2.860e+02,\n",
              "        1.930e+02, 1.190e+02, 7.800e+01, 4.400e+01, 2.100e+01, 9.000e+00,\n",
              "        5.000e+00, 3.000e+00, 1.000e+00, 0.000e+00, 0.000e+00, 1.000e+00]),\n",
              " array([1.34605656, 1.40170967, 1.45736279, 1.5130159 , 1.56866902,\n",
              "        1.62432213, 1.67997525, 1.73562836, 1.79128148, 1.8469346 ,\n",
              "        1.90258771, 1.95824083, 2.01389394, 2.06954706, 2.12520017,\n",
              "        2.18085329, 2.2365064 , 2.29215952, 2.34781263, 2.40346575,\n",
              "        2.45911887, 2.51477198, 2.5704251 , 2.62607821, 2.68173133,\n",
              "        2.73738444, 2.79303756, 2.84869067, 2.90434379, 2.9599969 ,\n",
              "        3.01565002]),\n",
              " <a list of 30 Patch objects>)"
            ]
          },
          "metadata": {},
          "execution_count": 21
        },
        {
          "output_type": "display_data",
          "data": {
            "text/plain": [
              "<Figure size 432x288 with 1 Axes>"
            ],
            "image/png": "[encoded data removed]"
          },
          "metadata": {
            "needs_background": "light"
          }
        }
      ]
    },
    {
      "cell_type": "markdown",
      "metadata": {
        "id": "6aCnd7u878a5"
      },
      "source": [
        "##Exercise to try\n",
        "**P1: Compute P{2X+Y} <= 10, where X ~ triangular(1,3,8) and Y ~ discrete uniform[1,6] (i.e., sampling Y is like rolling a die)** \n",
        "\n",
        "Compute probability with at least 4 decimal place accuracy"
      ]
    },
    {
      "cell_type": "code",
      "metadata": {
        "id": "tsQo2L3J6dnw",
        "colab": {
          "base_uri": "https://localhost:8080/"
        },
        "outputId": "490f66d5-5f1f-4e97-ad51-9b5350822246"
      },
      "source": [
        "m=10000\n",
        "x=[2*rnd.triangular(1,3,8 )+rnd.randint(1,7) for i in range(m)]\n",
        "count=0\n",
        "for i in x:\n",
        "  if i<=10:\n",
        "    count+=1\n",
        "print('probability is:{0:.4f}'.format(count/m))    \n",
        "\n",
        "\n"
      ],
      "execution_count": 22,
      "outputs": [
        {
          "output_type": "stream",
          "name": "stdout",
          "text": [
            "probability is:0.3572\n"
          ]
        }
      ]
    },
    {
      "cell_type": "markdown",
      "source": [
        "**P2a: Suppose we have 5 courses: C1, C2, C3, C4 and C5. Now, 750 students have to each choose one course out of the five.**\n",
        "(i)  Suppose each student chooses any of the course with equal probability. Simulate and count the number of students opting for each course. Simulate 10 different outcome scenarios. Make a bar chart of an outcome scenario.\n"
      ],
      "metadata": {
        "id": "c92ZtglCKHkf"
      }
    },
    {
      "cell_type": "code",
      "source": [
        "m=10\n",
        "n=750\n",
        "x=[dict(Counter(rnd.randint(1,6,size=750 )))for i in range(m)]\n",
        "print(x)\n",
        "plt.bar(x[0].keys(),x[0].values())"
      ],
      "metadata": {
        "colab": {
          "base_uri": "https://localhost:8080/",
          "height": 320
        },
        "id": "d_LqPWukwfGN",
        "outputId": "d1d3cb52-8621-4122-a5e2-24b64e754d2a"
      },
      "execution_count": 23,
      "outputs": [
        {
          "output_type": "stream",
          "name": "stdout",
          "text": [
            "[{1: 146, 4: 148, 5: 170, 2: 147, 3: 139}, {4: 146, 3: 157, 5: 148, 1: 146, 2: 153}, {4: 137, 2: 144, 1: 151, 3: 153, 5: 165}, {3: 146, 2: 152, 5: 151, 1: 139, 4: 162}, {1: 153, 2: 139, 3: 159, 5: 153, 4: 146}, {3: 135, 4: 173, 5: 161, 1: 138, 2: 143}, {3: 152, 1: 143, 5: 167, 2: 141, 4: 147}, {2: 161, 3: 161, 1: 133, 5: 149, 4: 146}, {5: 134, 3: 164, 4: 159, 2: 138, 1: 155}, {5: 125, 2: 160, 1: 148, 4: 154, 3: 163}]\n"
          ]
        },
        {
          "output_type": "execute_result",
          "data": {
            "text/plain": [
              "<BarContainer object of 5 artists>"
            ]
          },
          "metadata": {},
          "execution_count": 23
        },
        {
          "output_type": "display_data",
          "data": {
            "text/plain": [
              "<Figure size 432x288 with 1 Axes>"
            ],
            "image/png": "[encoded data removed]"
          },
          "metadata": {
            "needs_background": "light"
          }
        }
      ]
    },
    {
      "cell_type": "code",
      "source": [
        "m=10\n",
        "n=750\n",
        "x=[dict(Counter(rnd.randint(1,6,size=750 )))for i in range(m)]\n",
        "figure=plt.subplots(figsize=(20,10))\n",
        "for i in range(1,11):\n",
        "  plt.subplot(1,10,i)\n",
        "  plt.bar(x[i-1].keys(),x[i-1].values())"
      ],
      "metadata": {
        "id": "4v0F5JnMsZp5",
        "colab": {
          "base_uri": "https://localhost:8080/",
          "height": 592
        },
        "outputId": "cf474c2e-a501-4767-ef72-ec9f2b69feac"
      },
      "execution_count": 24,
      "outputs": [
        {
          "output_type": "display_data",
          "data": {
            "text/plain": [
              "<Figure size 1440x720 with 10 Axes>"
            ],
            "image/png": "[encoded data removed]"
          },
          "metadata": {
            "needs_background": "light"
          }
        }
      ]
    },
    {
      "cell_type": "markdown",
      "source": [
        "**P2b: Suppose we have 5 courses: C1, C2, C3, C4 and C5. Now, 750 students have to each choose one course out of the five.**\n",
        "(ii) Suppose each student choose courses such that the probability of choosing C1 > prob. of choosing C2 > prob. of choosing C3 > prob. of choosing C4 > prob. of choosing C5. You come up the with the probability values. Simulate and observe if the outcomes matches the probabiliy values you have taken.  Make a bar chart of an outcome scenario."
      ],
      "metadata": {
        "id": "g0TfW8UvMhLe"
      }
    },
    {
      "cell_type": "code",
      "source": [
        "# let the probability of choosing course C1,C2,C3,C4,C5 are 5/15,4/15,3/15,2/15,1/15\n",
        "m=10\n",
        "n=750\n",
        "# Here we take 10 random samples.\n",
        "x=[dict(Counter(rnd.choice([1,2,3,4,5],p=(5/15,4/15,3/15,2/15,1/15),size=n))) for i in range(m)]\n",
        "#bar chat for first sample\n",
        "for i in range(1,6):\n",
        "    print(f'probability of course:{i}=',x[0][i]/n )\n",
        "plt.bar(x[0].keys(),x[0].values())    "
      ],
      "metadata": {
        "id": "wCxv1JOYMptx",
        "colab": {
          "base_uri": "https://localhost:8080/",
          "height": 372
        },
        "outputId": "6bd23912-8769-42c4-b2df-58495e5e55a5"
      },
      "execution_count": 25,
      "outputs": [
        {
          "output_type": "stream",
          "name": "stdout",
          "text": [
            "probability of course:1= 0.32\n",
            "probability of course:2= 0.25066666666666665\n",
            "probability of course:3= 0.21466666666666667\n",
            "probability of course:4= 0.15866666666666668\n",
            "probability of course:5= 0.056\n"
          ]
        },
        {
          "output_type": "execute_result",
          "data": {
            "text/plain": [
              "<BarContainer object of 5 artists>"
            ]
          },
          "metadata": {},
          "execution_count": 25
        },
        {
          "output_type": "display_data",
          "data": {
            "text/plain": [
              "<Figure size 432x288 with 1 Axes>"
            ],
            "image/png": "[encoded data removed]"
          },
          "metadata": {
            "needs_background": "light"
          }
        }
      ]
    },
    {
      "cell_type": "code",
      "source": [],
      "metadata": {
        "id": "tliGolNi0134"
      },
      "execution_count": 25,
      "outputs": []
    },
    {
      "cell_type": "code",
      "source": [
        "for i in range(5) :\n",
        "  print(f'assumption probability of course{i+1}=',(np.array([5,4,3,2,1])/15)[i])"
      ],
      "metadata": {
        "colab": {
          "base_uri": "https://localhost:8080/"
        },
        "id": "zmsxbRPWyDq8",
        "outputId": "866c7b1c-364d-4cf9-e80f-5b0c85df6f58"
      },
      "execution_count": 26,
      "outputs": [
        {
          "output_type": "stream",
          "name": "stdout",
          "text": [
            "assumption probability of course1= 0.3333333333333333\n",
            "assumption probability of course2= 0.26666666666666666\n",
            "assumption probability of course3= 0.2\n",
            "assumption probability of course4= 0.13333333333333333\n",
            "assumption probability of course5= 0.06666666666666667\n"
          ]
        }
      ]
    },
    {
      "cell_type": "markdown",
      "source": [
        "## Hence probability by simulation is approximately equal to supposed probability."
      ],
      "metadata": {
        "id": "hM2WSts40npI"
      }
    },
    {
      "cell_type": "code",
      "source": [],
      "metadata": {
        "id": "fzs7SeoEyEgJ"
      },
      "execution_count": 26,
      "outputs": []
    }
  ]
}