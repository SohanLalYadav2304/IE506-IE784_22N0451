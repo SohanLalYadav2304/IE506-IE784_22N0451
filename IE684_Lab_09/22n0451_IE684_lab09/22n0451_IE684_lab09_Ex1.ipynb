{
  "nbformat": 4,
  "nbformat_minor": 0,
  "metadata": {
    "colab": {
      "provenance": []
    },
    "kernelspec": {
      "name": "python3",
      "display_name": "Python 3"
    },
    "language_info": {
      "name": "python"
    }
  },
  "cells": [
    {
      "cell_type": "code",
      "source": [
        "!pip install -q pyomo"
      ],
      "metadata": {
        "id": "hDo6HXwSzgfC",
        "colab": {
          "base_uri": "https://localhost:8080/"
        },
        "outputId": "6b45aa1a-921b-496f-f5aa-8ffa91758156"
      },
      "execution_count": null,
      "outputs": [
        {
          "output_type": "stream",
          "name": "stdout",
          "text": [
            "\u001b[2K     \u001b[90m━━━━━━━━━━━━━━━━━━━━━━━━━━━━━━━━━━━━━━━━\u001b[0m \u001b[32m11.0/11.0 MB\u001b[0m \u001b[31m69.7 MB/s\u001b[0m eta \u001b[36m0:00:00\u001b[0m\n",
            "\u001b[2K     \u001b[90m━━━━━━━━━━━━━━━━━━━━━━━━━━━━━━━━━━━━━━━━\u001b[0m \u001b[32m49.6/49.6 KB\u001b[0m \u001b[31m5.8 MB/s\u001b[0m eta \u001b[36m0:00:00\u001b[0m\n",
            "\u001b[?25h"
          ]
        }
      ]
    },
    {
      "cell_type": "code",
      "execution_count": null,
      "metadata": {
        "id": "C0F_ehlDW9jx"
      },
      "outputs": [],
      "source": [
        "import numpy as np\n",
        "import pandas as pd"
      ]
    },
    {
      "cell_type": "code",
      "source": [
        "from pyomo.environ import *"
      ],
      "metadata": {
        "id": "1Lhpil9SzjAk"
      },
      "execution_count": null,
      "outputs": []
    },
    {
      "cell_type": "code",
      "source": [
        "df=pd.read_csv('Knapsack.csv',sep=' ')"
      ],
      "metadata": {
        "id": "56WKqsuMXXgV"
      },
      "execution_count": null,
      "outputs": []
    },
    {
      "cell_type": "code",
      "source": [
        "#df"
      ],
      "metadata": {
        "id": "F-xprS8FXq6d"
      },
      "execution_count": null,
      "outputs": []
    },
    {
      "cell_type": "code",
      "source": [
        "# k value(maximum knapsack value)\n",
        "K=df.iloc[0,1] \n",
        "N=df.iloc[0,0] #total number of items\n",
        "print('k value:',K)"
      ],
      "metadata": {
        "colab": {
          "base_uri": "https://localhost:8080/"
        },
        "id": "tVJCpB2V1095",
        "outputId": "a18dab64-eea1-44f3-b39d-9a5119c685f7"
      },
      "execution_count": null,
      "outputs": [
        {
          "output_type": "stream",
          "name": "stdout",
          "text": [
            "k value: 550\n"
          ]
        }
      ]
    },
    {
      "cell_type": "code",
      "source": [
        "from timeit import default_timer as timer"
      ],
      "metadata": {
        "id": "q-HQku6s5wCK"
      },
      "execution_count": null,
      "outputs": []
    },
    {
      "cell_type": "code",
      "source": [
        "!apt-get install -y -qq coinor-cbc"
      ],
      "metadata": {
        "colab": {
          "base_uri": "https://localhost:8080/"
        },
        "id": "okL-fNFZ3c_H",
        "outputId": "df798b7d-2c31-449e-b9ef-baf07d2b76c1"
      },
      "execution_count": null,
      "outputs": [
        {
          "output_type": "stream",
          "name": "stdout",
          "text": [
            "Selecting previously unselected package coinor-libcoinutils3v5.\n",
            "(Reading database ... 128275 files and directories currently installed.)\n",
            "Preparing to unpack .../0-coinor-libcoinutils3v5_2.11.4+repack1-1_amd64.deb ...\n",
            "Unpacking coinor-libcoinutils3v5 (2.11.4+repack1-1) ...\n",
            "Selecting previously unselected package coinor-libosi1v5.\n",
            "Preparing to unpack .../1-coinor-libosi1v5_0.108.6+repack1-1_amd64.deb ...\n",
            "Unpacking coinor-libosi1v5 (0.108.6+repack1-1) ...\n",
            "Selecting previously unselected package coinor-libclp1.\n",
            "Preparing to unpack .../2-coinor-libclp1_1.17.5+repack1-1_amd64.deb ...\n",
            "Unpacking coinor-libclp1 (1.17.5+repack1-1) ...\n",
            "Selecting previously unselected package coinor-libcgl1.\n",
            "Preparing to unpack .../3-coinor-libcgl1_0.60.3+repack1-2_amd64.deb ...\n",
            "Unpacking coinor-libcgl1 (0.60.3+repack1-2) ...\n",
            "Selecting previously unselected package coinor-libcbc3.\n",
            "Preparing to unpack .../4-coinor-libcbc3_2.10.3+repack1-1build1_amd64.deb ...\n",
            "Unpacking coinor-libcbc3 (2.10.3+repack1-1build1) ...\n",
            "Selecting previously unselected package coinor-cbc.\n",
            "Preparing to unpack .../5-coinor-cbc_2.10.3+repack1-1build1_amd64.deb ...\n",
            "Unpacking coinor-cbc (2.10.3+repack1-1build1) ...\n",
            "Setting up coinor-libcoinutils3v5 (2.11.4+repack1-1) ...\n",
            "Setting up coinor-libosi1v5 (0.108.6+repack1-1) ...\n",
            "Setting up coinor-libclp1 (1.17.5+repack1-1) ...\n",
            "Setting up coinor-libcgl1 (0.60.3+repack1-2) ...\n",
            "Setting up coinor-libcbc3 (2.10.3+repack1-1build1) ...\n",
            "Setting up coinor-cbc (2.10.3+repack1-1build1) ...\n",
            "Processing triggers for man-db (2.9.1-1) ...\n",
            "Processing triggers for libc-bin (2.31-0ubuntu9.9) ...\n"
          ]
        }
      ]
    },
    {
      "cell_type": "code",
      "source": [
        "# create a model\n",
        "start_time=timer()\n",
        "\n",
        "model = ConcreteModel()\n",
        "model.x = Var(np.array([i for i in range(26)]),domain=Binary)\n",
        "obj_coef=np.array(df['value'][1:])\n",
        "# declare objective\n",
        "model.objective = Objective(expr = summation(obj_coef,model.x), sense=maximize)\n",
        "constra_coef=np.array(df['weight'][1:])\n",
        "model.constr1 = Constraint(expr = summation(constra_coef,model.x)<=K)\n",
        "opt_cbc = SolverFactory('cbc')\n",
        "\n",
        "result = opt_cbc.solve(model)\n",
        "print('Solver status:', result.solver.status)\n",
        "print('Solver termination condition:',result.solver.termination_condition)\n",
        "\n",
        "end_time=timer()\n",
        "time_taken_by_IP=end_time-start_time\n",
        "print('time taken :',end_time-start_time)\n",
        "print('Maximum value can be obtained :',model.objective())\n",
        "items=[]\n",
        "for i in range(26):\n",
        "  if model.x[i].value==1:\n",
        "    items.append(i+1)\n",
        "print('set of items :',set(items))    \n",
        "\n",
        "\n"
      ],
      "metadata": {
        "colab": {
          "base_uri": "https://localhost:8080/"
        },
        "id": "xgKn95Dqzm9A",
        "outputId": "c17d4cd8-1180-4241-99f7-dd9cd0d5d8f6"
      },
      "execution_count": 28,
      "outputs": [
        {
          "output_type": "stream",
          "name": "stdout",
          "text": [
            "Solver status: ok\n",
            "Solver termination condition: optimal\n",
            "time taken : 0.1644000619999133\n",
            "Maximum value can be obtained : 911.0\n",
            "set of items : {1, 2, 3, 4, 5, 6, 9, 11, 12, 14, 16, 18, 23, 24, 25}\n"
          ]
        }
      ]
    },
    {
      "cell_type": "code",
      "source": [
        "for i in items:\n",
        "  print('',i,'th item is used with weight:',df.iloc[i,1],'and value:',df.iloc[i,0])"
      ],
      "metadata": {
        "colab": {
          "base_uri": "https://localhost:8080/"
        },
        "id": "Q6100CxM4MS2",
        "outputId": "ea30f8b2-918f-4432-dcfc-13d9c9b1d978"
      },
      "execution_count": null,
      "outputs": [
        {
          "output_type": "stream",
          "name": "stdout",
          "text": [
            " 1 th item is used with weight: 84 and value: 91\n",
            " 2 th item is used with weight: 83 and value: 72\n",
            " 3 th item is used with weight: 43 and value: 90\n",
            " 4 th item is used with weight: 4 and value: 46\n",
            " 5 th item is used with weight: 44 and value: 55\n",
            " 6 th item is used with weight: 6 and value: 8\n",
            " 9 th item is used with weight: 25 and value: 61\n",
            " 11 th item is used with weight: 56 and value: 77\n",
            " 12 th item is used with weight: 18 and value: 40\n",
            " 14 th item is used with weight: 14 and value: 75\n",
            " 16 th item is used with weight: 70 and value: 75\n",
            " 18 th item is used with weight: 32 and value: 78\n",
            " 23 th item is used with weight: 12 and value: 23\n",
            " 24 th item is used with weight: 15 and value: 55\n",
            " 25 th item is used with weight: 38 and value: 65\n"
          ]
        }
      ]
    },
    {
      "cell_type": "markdown",
      "source": [
        "$\\large \\text{Greedy Algorithm}$"
      ],
      "metadata": {
        "id": "JyvawML579Q5"
      }
    },
    {
      "cell_type": "code",
      "source": [
        "df.head()"
      ],
      "metadata": {
        "colab": {
          "base_uri": "https://localhost:8080/",
          "height": 206
        },
        "id": "KpSm5Va24iSe",
        "outputId": "3f0f8ad5-bbaa-4a65-f309-811b5e97290c"
      },
      "execution_count": null,
      "outputs": [
        {
          "output_type": "execute_result",
          "data": {
            "text/plain": [
              "   value  weight\n",
              "0     26     550\n",
              "1     91      84\n",
              "2     72      83\n",
              "3     90      43\n",
              "4     46       4"
            ],
            "text/html": [
              "\n",
              "  <div id=\"df-6a3c1289-76be-4f75-89bc-a52d65589e7f\">\n",
              "    <div class=\"colab-df-container\">\n",
              "      <div>\n",
              "<style scoped>\n",
              "    .dataframe tbody tr th:only-of-type {\n",
              "        vertical-align: middle;\n",
              "    }\n",
              "\n",
              "    .dataframe tbody tr th {\n",
              "        vertical-align: top;\n",
              "    }\n",
              "\n",
              "    .dataframe thead th {\n",
              "        text-align: right;\n",
              "    }\n",
              "</style>\n",
              "<table border=\"1\" class=\"dataframe\">\n",
              "  <thead>\n",
              "    <tr style=\"text-align: right;\">\n",
              "      <th></th>\n",
              "      <th>value</th>\n",
              "      <th>weight</th>\n",
              "    </tr>\n",
              "  </thead>\n",
              "  <tbody>\n",
              "    <tr>\n",
              "      <th>0</th>\n",
              "      <td>26</td>\n",
              "      <td>550</td>\n",
              "    </tr>\n",
              "    <tr>\n",
              "      <th>1</th>\n",
              "      <td>91</td>\n",
              "      <td>84</td>\n",
              "    </tr>\n",
              "    <tr>\n",
              "      <th>2</th>\n",
              "      <td>72</td>\n",
              "      <td>83</td>\n",
              "    </tr>\n",
              "    <tr>\n",
              "      <th>3</th>\n",
              "      <td>90</td>\n",
              "      <td>43</td>\n",
              "    </tr>\n",
              "    <tr>\n",
              "      <th>4</th>\n",
              "      <td>46</td>\n",
              "      <td>4</td>\n",
              "    </tr>\n",
              "  </tbody>\n",
              "</table>\n",
              "</div>\n",
              "      <button class=\"colab-df-convert\" onclick=\"convertToInteractive('df-6a3c1289-76be-4f75-89bc-a52d65589e7f')\"\n",
              "              title=\"Convert this dataframe to an interactive table.\"\n",
              "              style=\"display:none;\">\n",
              "        \n",
              "  <svg xmlns=\"http://www.w3.org/2000/svg\" height=\"24px\"viewBox=\"0 0 24 24\"\n",
              "       width=\"24px\">\n",
              "    <path d=\"M0 0h24v24H0V0z\" fill=\"none\"/>\n",
              "    <path d=\"M18.56 5.44l.94 2.06.94-2.06 2.06-.94-2.06-.94-.94-2.06-.94 2.06-2.06.94zm-11 1L8.5 8.5l.94-2.06 2.06-.94-2.06-.94L8.5 2.5l-.94 2.06-2.06.94zm10 10l.94 2.06.94-2.06 2.06-.94-2.06-.94-.94-2.06-.94 2.06-2.06.94z\"/><path d=\"M17.41 7.96l-1.37-1.37c-.4-.4-.92-.59-1.43-.59-.52 0-1.04.2-1.43.59L10.3 9.45l-7.72 7.72c-.78.78-.78 2.05 0 2.83L4 21.41c.39.39.9.59 1.41.59.51 0 1.02-.2 1.41-.59l7.78-7.78 2.81-2.81c.8-.78.8-2.07 0-2.86zM5.41 20L4 18.59l7.72-7.72 1.47 1.35L5.41 20z\"/>\n",
              "  </svg>\n",
              "      </button>\n",
              "      \n",
              "  <style>\n",
              "    .colab-df-container {\n",
              "      display:flex;\n",
              "      flex-wrap:wrap;\n",
              "      gap: 12px;\n",
              "    }\n",
              "\n",
              "    .colab-df-convert {\n",
              "      background-color: #E8F0FE;\n",
              "      border: none;\n",
              "      border-radius: 50%;\n",
              "      cursor: pointer;\n",
              "      display: none;\n",
              "      fill: #1967D2;\n",
              "      height: 32px;\n",
              "      padding: 0 0 0 0;\n",
              "      width: 32px;\n",
              "    }\n",
              "\n",
              "    .colab-df-convert:hover {\n",
              "      background-color: #E2EBFA;\n",
              "      box-shadow: 0px 1px 2px rgba(60, 64, 67, 0.3), 0px 1px 3px 1px rgba(60, 64, 67, 0.15);\n",
              "      fill: #174EA6;\n",
              "    }\n",
              "\n",
              "    [theme=dark] .colab-df-convert {\n",
              "      background-color: #3B4455;\n",
              "      fill: #D2E3FC;\n",
              "    }\n",
              "\n",
              "    [theme=dark] .colab-df-convert:hover {\n",
              "      background-color: #434B5C;\n",
              "      box-shadow: 0px 1px 3px 1px rgba(0, 0, 0, 0.15);\n",
              "      filter: drop-shadow(0px 1px 2px rgba(0, 0, 0, 0.3));\n",
              "      fill: #FFFFFF;\n",
              "    }\n",
              "  </style>\n",
              "\n",
              "      <script>\n",
              "        const buttonEl =\n",
              "          document.querySelector('#df-6a3c1289-76be-4f75-89bc-a52d65589e7f button.colab-df-convert');\n",
              "        buttonEl.style.display =\n",
              "          google.colab.kernel.accessAllowed ? 'block' : 'none';\n",
              "\n",
              "        async function convertToInteractive(key) {\n",
              "          const element = document.querySelector('#df-6a3c1289-76be-4f75-89bc-a52d65589e7f');\n",
              "          const dataTable =\n",
              "            await google.colab.kernel.invokeFunction('convertToInteractive',\n",
              "                                                     [key], {});\n",
              "          if (!dataTable) return;\n",
              "\n",
              "          const docLinkHtml = 'Like what you see? Visit the ' +\n",
              "            '<a target=\"_blank\" href=https://colab.research.google.com/notebooks/data_table.ipynb>data table notebook</a>'\n",
              "            + ' to learn more about interactive tables.';\n",
              "          element.innerHTML = '';\n",
              "          dataTable['output_type'] = 'display_data';\n",
              "          await google.colab.output.renderOutput(dataTable, element);\n",
              "          const docLink = document.createElement('div');\n",
              "          docLink.innerHTML = docLinkHtml;\n",
              "          element.appendChild(docLink);\n",
              "        }\n",
              "      </script>\n",
              "    </div>\n",
              "  </div>\n",
              "  "
            ]
          },
          "metadata": {},
          "execution_count": 13
        }
      ]
    },
    {
      "cell_type": "code",
      "source": [
        "max_weight=df.iloc[0,1]\n",
        "print('maximum weight that can be obtained:',max_weight)"
      ],
      "metadata": {
        "colab": {
          "base_uri": "https://localhost:8080/"
        },
        "id": "G_516DoZ8Ehw",
        "outputId": "18b606af-c5ef-48e4-eb97-dad96d799394"
      },
      "execution_count": null,
      "outputs": [
        {
          "output_type": "stream",
          "name": "stdout",
          "text": [
            "maximum weight that can be obtained: 550\n"
          ]
        }
      ]
    },
    {
      "cell_type": "code",
      "source": [
        "N=26\n",
        "print('number of items:',N)"
      ],
      "metadata": {
        "colab": {
          "base_uri": "https://localhost:8080/"
        },
        "id": "0-Kwxi548VV3",
        "outputId": "86a7ddf8-c9ee-4628-f29c-4d1faf9228d8"
      },
      "execution_count": null,
      "outputs": [
        {
          "output_type": "stream",
          "name": "stdout",
          "text": [
            "number of items: 26\n"
          ]
        }
      ]
    },
    {
      "cell_type": "code",
      "source": [
        "# values corresponding to items\n",
        "values=np.array(df['value'][1:])\n",
        "weights=np.array(df['weight'][1:])"
      ],
      "metadata": {
        "id": "6MAK8x2p8Lm4"
      },
      "execution_count": null,
      "outputs": []
    },
    {
      "cell_type": "code",
      "source": [
        "# value to weight ratio\n",
        "ratio=values/weights\n",
        "print(ratio)"
      ],
      "metadata": {
        "colab": {
          "base_uri": "https://localhost:8080/"
        },
        "id": "PQLDxl9M8lm6",
        "outputId": "910fa7e8-e506-4e3f-a0b6-9ac3684bd6fe"
      },
      "execution_count": null,
      "outputs": [
        {
          "output_type": "stream",
          "name": "stdout",
          "text": [
            "[ 1.08333333  0.86746988  2.09302326 11.5         1.25        1.33333333\n",
            "  0.42682927  0.81521739  2.44        0.18072289  1.375       2.22222222\n",
            "  1.0862069   5.35714286  0.60416667  1.07142857  0.17708333  2.4375\n",
            "  0.58823529  0.47826087  0.66666667  0.36363636  1.91666667  3.66666667\n",
            "  1.71052632  0.3       ]\n"
          ]
        }
      ]
    },
    {
      "cell_type": "code",
      "source": [
        "ratio=list(ratio)\n",
        "ratio_item=[]\n",
        "for i in range(26):\n",
        "  ratio_item.append((ratio[i],i+1))\n",
        "ratio_item \n",
        "ratio_item.sort(reverse=True) \n",
        "ratio_item\n"
      ],
      "metadata": {
        "colab": {
          "base_uri": "https://localhost:8080/"
        },
        "id": "PxCF9ic88uBN",
        "outputId": "c0aaa7fe-f1a0-4213-a415-f37e1ca26c1e"
      },
      "execution_count": null,
      "outputs": [
        {
          "output_type": "execute_result",
          "data": {
            "text/plain": [
              "[(11.5, 4),\n",
              " (5.357142857142857, 14),\n",
              " (3.6666666666666665, 24),\n",
              " (2.44, 9),\n",
              " (2.4375, 18),\n",
              " (2.2222222222222223, 12),\n",
              " (2.0930232558139537, 3),\n",
              " (1.9166666666666667, 23),\n",
              " (1.7105263157894737, 25),\n",
              " (1.375, 11),\n",
              " (1.3333333333333333, 6),\n",
              " (1.25, 5),\n",
              " (1.0862068965517242, 13),\n",
              " (1.0833333333333333, 1),\n",
              " (1.0714285714285714, 16),\n",
              " (0.8674698795180723, 2),\n",
              " (0.8152173913043478, 8),\n",
              " (0.6666666666666666, 21),\n",
              " (0.6041666666666666, 15),\n",
              " (0.5882352941176471, 19),\n",
              " (0.4782608695652174, 20),\n",
              " (0.4268292682926829, 7),\n",
              " (0.36363636363636365, 22),\n",
              " (0.3, 26),\n",
              " (0.18072289156626506, 10),\n",
              " (0.17708333333333334, 17)]"
            ]
          },
          "metadata": {},
          "execution_count": 18
        }
      ]
    },
    {
      "cell_type": "code",
      "source": [
        "# Greedy algorithm\n",
        "start_time=timer()\n",
        "w=0\n",
        "val=0\n",
        "item=[]\n",
        "K=max_weight\n",
        "for i in range(26):\n",
        "  w=w+df['weight'][ratio_item[i][1]]\n",
        "  if w>=K:\n",
        "    break\n",
        "  else:\n",
        "    val=val+df['value'][ratio_item[i][1]]\n",
        "    item.append(ratio_item[i][1])\n",
        "end_time=timer()\n",
        "time_taken_by_greedy=end_time-start_time\n",
        "print('time taken to solve by Greedy method:',end_time-start_time)\n",
        "print('maximum value obtained:',val)\n",
        "print('set of items:',set(item))   \n"
      ],
      "metadata": {
        "colab": {
          "base_uri": "https://localhost:8080/"
        },
        "id": "4CprvfFt80QH",
        "outputId": "a2b0d474-9756-49a8-c46d-aaca6fa74795"
      },
      "execution_count": 27,
      "outputs": [
        {
          "output_type": "stream",
          "name": "stdout",
          "text": [
            "time taken to solve by Greedy method: 0.004903319000277406\n",
            "maximum value obtained: 902\n",
            "set of items: {1, 3, 4, 5, 6, 9, 11, 12, 13, 14, 16, 18, 23, 24, 25}\n"
          ]
        }
      ]
    },
    {
      "cell_type": "code",
      "source": [
        "def knapsack(W, wt, val, n):\n",
        "    start_time=timer()\n",
        "    K = [[0 for x in range(W + 1)] for x in range(n + 1)]\n",
        "\n",
        "    for i in range(n + 1):\n",
        "        for w in range(W + 1):\n",
        "            if i == 0 or w == 0:\n",
        "                K[i][w] = 0\n",
        "            elif wt[i - 1] <= w:\n",
        "                K[i][w] = max(val[i - 1] + K[i - 1][w - wt[i - 1]], K[i - 1][w])\n",
        "            else:\n",
        "                K[i][w] = K[i - 1][w]\n",
        "    end_time=timer()            \n",
        "\n",
        "    return K[n][W],end_time-start_time"
      ],
      "metadata": {
        "id": "aLDHu6OH-WJd"
      },
      "execution_count": 22,
      "outputs": []
    },
    {
      "cell_type": "code",
      "source": [
        "solution_by_DP,time_takenby_DP=knapsack(max_weight,weights,values,26)"
      ],
      "metadata": {
        "id": "0HWdc8qbkk5O"
      },
      "execution_count": 23,
      "outputs": []
    },
    {
      "cell_type": "code",
      "source": [
        "print('soution taken by Dynamic Programming:',solution_by_DP)\n",
        "print('time taken by dynamic programming:',time_takenby_DP)"
      ],
      "metadata": {
        "colab": {
          "base_uri": "https://localhost:8080/"
        },
        "id": "GuwHhqBGkuHs",
        "outputId": "d4e8e64a-dc66-4c6b-d4c0-2ac1b1071d07"
      },
      "execution_count": 26,
      "outputs": [
        {
          "output_type": "stream",
          "name": "stdout",
          "text": [
            "soution taken by Dynamic Programming: 911\n",
            "time taken by dynamic programming: 0.020752216999881057\n"
          ]
        }
      ]
    },
    {
      "cell_type": "markdown",
      "source": [
        "$$"
      ],
      "metadata": {
        "id": "1Rr5LwqrmPfz"
      }
    },
    {
      "cell_type": "code",
      "source": [],
      "metadata": {
        "id": "WuUcu23NmORH"
      },
      "execution_count": null,
      "outputs": []
    },
    {
      "cell_type": "code",
      "source": [],
      "metadata": {
        "id": "hegLmOeelfO9"
      },
      "execution_count": null,
      "outputs": []
    }
  ]
}