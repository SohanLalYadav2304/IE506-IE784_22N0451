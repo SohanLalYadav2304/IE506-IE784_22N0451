{
  "nbformat": 4,
  "nbformat_minor": 0,
  "metadata": {
    "colab": {
      "provenance": []
    },
    "kernelspec": {
      "name": "python3",
      "display_name": "Python 3"
    },
    "language_info": {
      "name": "python"
    }
  },
  "cells": [
    {
      "cell_type": "code",
      "execution_count": 35,
      "metadata": {
        "id": "9Ehni40dmY36"
      },
      "outputs": [],
      "source": [
        "import numpy as np\n",
        "import pandas as pd\n"
      ]
    },
    {
      "cell_type": "code",
      "source": [
        "# target sum\n",
        "S=1489\n",
        "print('target sum is :',S)"
      ],
      "metadata": {
        "colab": {
          "base_uri": "https://localhost:8080/"
        },
        "id": "3_phYEHumoG2",
        "outputId": "03a3f07c-067a-4033-db88-cec11dbdb945"
      },
      "execution_count": 36,
      "outputs": [
        {
          "output_type": "stream",
          "name": "stdout",
          "text": [
            "target sum is : 1489\n"
          ]
        }
      ]
    },
    {
      "cell_type": "code",
      "source": [
        "set_g=set([381, 76, 55, 11, 329, 178, 110, 420, 17, 225, 139, 315, 455,292, 189, 184, 294, 45, 196, 125])\n",
        "#set_g"
      ],
      "metadata": {
        "id": "Num5yBLcm-C5"
      },
      "execution_count": 37,
      "outputs": []
    },
    {
      "cell_type": "markdown",
      "source": [
        "$\\large \\text{Greedy algorithm} $"
      ],
      "metadata": {
        "id": "L2zlmOYhnJm1"
      }
    },
    {
      "cell_type": "code",
      "source": [
        "from timeit import default_timer as timer"
      ],
      "metadata": {
        "id": "VQomMhdipMZ5"
      },
      "execution_count": 38,
      "outputs": []
    },
    {
      "cell_type": "code",
      "source": [
        "def greedy(set_,sum):\n",
        "  start=timer()\n",
        "  list_items=list(set_)\n",
        "  s=0\n",
        "  list_req=[]\n",
        "  list_items.sort(reverse=True)\n",
        "  for i in list_items:\n",
        "    s=s+i \n",
        "    list_req.append(i)\n",
        "    if s>=sum:\n",
        "      break\n",
        "  end=timer()    \n",
        "  return list(list_req) , end-start   \n",
        "      \n",
        "\n",
        "\n",
        "\n"
      ],
      "metadata": {
        "id": "iFEDAU2OnG7f"
      },
      "execution_count": 39,
      "outputs": []
    },
    {
      "cell_type": "code",
      "source": [
        "subset,time_by_greedy=greedy(set_g,S)\n",
        "length_of_subset_greedy=len(subset)\n",
        "print('minimum lenght of subset is :',len(subset))\n",
        "print('minimum subset is:',subset)\n",
        "print('time taken by greedy method',time_by_greedy)"
      ],
      "metadata": {
        "colab": {
          "base_uri": "https://localhost:8080/"
        },
        "id": "Mf8aYPqzo-32",
        "outputId": "0aa05bcd-5625-4386-99dc-caa07bc20ef6"
      },
      "execution_count": 40,
      "outputs": [
        {
          "output_type": "stream",
          "name": "stdout",
          "text": [
            "minimum lenght of subset is : 4\n",
            "minimum subset is: [455, 420, 381, 329]\n",
            "time taken by greedy method 7.160000677686185e-06\n"
          ]
        }
      ]
    },
    {
      "cell_type": "markdown",
      "source": [
        "$\\large \\text{Dynamic programming approach to solve the problem}$"
      ],
      "metadata": {
        "id": "yrFNnZw81zqU"
      }
    },
    {
      "cell_type": "code",
      "source": [
        "# dynamic approach\n",
        "def subsetsum_dynamic( target, nums):\n",
        "    start=timer()\n",
        "    nums.sort()\n",
        "    dp = [0 for _ in range(len(nums)+1)]\n",
        "    for index, num in enumerate(nums):\n",
        "        dp[index+1] = dp[index] + nums[index]\n",
        "    index = 0\n",
        "    while index < len(dp):\n",
        "        if dp[index] >= target:\n",
        "            break\n",
        "        index += 1\n",
        "    if index == len(dp):\n",
        "        return 0\n",
        "    left, right = 0, index\n",
        "    while right < len(dp):\n",
        "        if dp[right] - dp[left] >= target:\n",
        "            left += 1\n",
        "        else:\n",
        "            left += 1\n",
        "            right += 1\n",
        "    end=timer()\n",
        "    return right-left+1,end-start\n",
        "\n"
      ],
      "metadata": {
        "id": "lbE9wZ_wpeQX"
      },
      "execution_count": 41,
      "outputs": []
    },
    {
      "cell_type": "code",
      "source": [
        "length_of_subset_DP,time=subsetsum_dynamic(S,list(set_g))\n",
        "print('lenth of subset:',length_of_subset_DP)\n",
        "print('time taken by DP',time)"
      ],
      "metadata": {
        "colab": {
          "base_uri": "https://localhost:8080/"
        },
        "id": "vJO8RWFIulOD",
        "outputId": "b3950b35-fd93-4692-e988-cbd9ae9e1401"
      },
      "execution_count": 42,
      "outputs": [
        {
          "output_type": "stream",
          "name": "stdout",
          "text": [
            "lenth of subset: 4\n",
            "time taken by DP 1.911999970616307e-05\n"
          ]
        }
      ]
    },
    {
      "cell_type": "markdown",
      "source": [
        "$\\large  \\text{Using simulated annelealing :}$"
      ],
      "metadata": {
        "id": "lFS--Azi1uJT"
      }
    },
    {
      "cell_type": "code",
      "source": [
        "import random\n",
        "import math"
      ],
      "metadata": {
        "id": "JryagMViz-XI"
      },
      "execution_count": 43,
      "outputs": []
    },
    {
      "cell_type": "code",
      "source": [
        "def simulated_annealing(A, S, temperature, cooling_rate):\n",
        "    # Start with a random subset of A\n",
        "    start=timer()\n",
        "    subset = random.sample(A, random.randint(1, len(A)))\n",
        "    \n",
        "    while temperature > 1:\n",
        "        # Choose a random neighbor subset by adding or removing an element\n",
        "        neighbor = subset.copy()\n",
        "        if random.random() < 0.5 and len(neighbor) > 1:\n",
        "            neighbor.remove(random.choice(neighbor))\n",
        "        else:\n",
        "            neighbor.append(random.choice(A))\n",
        "            \n",
        "        # If the neighbor subset has sum greater than or equal to S, return its size\n",
        "        if sum(neighbor) >= S:\n",
        "            end=timer()\n",
        "            return len(neighbor),end-start\n",
        "        \n",
        "        # Compute the difference in sums between the neighbor subset and the current subset\n",
        "        delta = sum(neighbor) - sum(subset)\n",
        "        \n",
        "        # Accept the neighbor subset with probability e^(-delta/temperature)\n",
        "        if delta > 0 or random.random() < math.exp(delta/temperature):\n",
        "            subset = neighbor\n",
        "        \n",
        "        # Reduce the temperature\n",
        "        temperature *= cooling_rate\n",
        "    \n",
        "    # If no subset of A with sum greater than or equal to S is found, return -1\n",
        "    end=timer()\n",
        "    return -1,end-start\n",
        "\n",
        "\n",
        "\n",
        "temperature = 1000\n",
        "cooling_rate = 1.5\n",
        "solution,time_taken=simulated_annealing(list(set_g), S, temperature, cooling_rate)\n",
        "print('soution is:',solution)\n",
        "print('time taken is:',time_taken)\n"
      ],
      "metadata": {
        "colab": {
          "base_uri": "https://localhost:8080/"
        },
        "id": "2C5QT3RszILw",
        "outputId": "39069a10-fdcd-4830-e1a4-e5f3f4658e61"
      },
      "execution_count": 48,
      "outputs": [
        {
          "output_type": "stream",
          "name": "stdout",
          "text": [
            "soution is: 10\n",
            "time taken is: 5.802000032417709e-05\n"
          ]
        }
      ]
    },
    {
      "cell_type": "markdown",
      "source": [
        "$\\text{Here we can see that our algorithm to solve is giving different solution each time so this is not a good method to solve it.}$"
      ],
      "metadata": {
        "id": "0BTI66yv1TpR"
      }
    },
    {
      "cell_type": "code",
      "source": [
        "print('solution obtained by greedy:',length_of_subset_greedy)\n",
        "print('solutin obtained by DP',length_of_subset_DP)\n",
        "print('solution obtained by simulated annealing:',solution)"
      ],
      "metadata": {
        "colab": {
          "base_uri": "https://localhost:8080/"
        },
        "id": "SXTyhAfz2biO",
        "outputId": "60691c8f-2067-40f7-f1a6-cf9dd9fc1b1f"
      },
      "execution_count": 49,
      "outputs": [
        {
          "output_type": "stream",
          "name": "stdout",
          "text": [
            "solution obtained by greedy: 4\n",
            "solutin obtained by DP 4\n",
            "solution obtained by simulated annealing: 10\n"
          ]
        }
      ]
    },
    {
      "cell_type": "code",
      "source": [
        "print('time taken to solve by greedy algo:',time_by_greedy)\n",
        "print('time taken to solve by DP',time)\n",
        "print('time taken by simulated annealing',time_taken)"
      ],
      "metadata": {
        "colab": {
          "base_uri": "https://localhost:8080/"
        },
        "id": "bnTKNcCj0RF_",
        "outputId": "0b02d301-d4c7-4ded-c7e0-1ad595006d35"
      },
      "execution_count": 50,
      "outputs": [
        {
          "output_type": "stream",
          "name": "stdout",
          "text": [
            "time taken to solve by greedy algo: 7.160000677686185e-06\n",
            "time taken to solve by DP 1.911999970616307e-05\n",
            "time taken by simulated annealing 5.802000032417709e-05\n"
          ]
        }
      ]
    }
  ]
}