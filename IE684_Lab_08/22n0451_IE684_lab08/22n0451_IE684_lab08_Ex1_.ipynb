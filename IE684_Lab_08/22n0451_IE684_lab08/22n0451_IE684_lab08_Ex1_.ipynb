{
  "nbformat": 4,
  "nbformat_minor": 0,
  "metadata": {
    "colab": {
      "provenance": []
    },
    "kernelspec": {
      "name": "python3",
      "display_name": "Python 3"
    },
    "language_info": {
      "name": "python"
    }
  },
  "cells": [
    {
      "cell_type": "code",
      "execution_count": 72,
      "metadata": {
        "id": "OWq0m_ETX-JW"
      },
      "outputs": [],
      "source": [
        "import numpy as np\n",
        "import pandas as pd\n",
        "import matplotlib.pyplot as plt\n"
      ]
    },
    {
      "cell_type": "code",
      "source": [
        "data=pd.read_csv('IE684_lab08.csv')"
      ],
      "metadata": {
        "id": "BSKT2WcHYCCz"
      },
      "execution_count": 73,
      "outputs": []
    },
    {
      "cell_type": "code",
      "source": [
        "with open(\"IE_684.txt\") as my_file:\n",
        "    print(my_file.read())"
      ],
      "metadata": {
        "colab": {
          "base_uri": "https://localhost:8080/"
        },
        "id": "ReTLJ-WuYG45",
        "outputId": "3a881738-864e-4b8f-ce5f-45949f55afbb"
      },
      "execution_count": 74,
      "outputs": [
        {
          "output_type": "stream",
          "name": "stdout",
          "text": [
            "1. Title: Haberman's Survival Data\n",
            "\n",
            "2. Sources:\n",
            "   (a) Donor:   Tjen-Sien Lim (limt@stat.wisc.edu)\n",
            "   (b) Date:    March 4, 1999\n",
            "\n",
            "3. Past Usage:\n",
            "   1. Haberman, S. J. (1976). Generalized Residuals for Log-Linear\n",
            "      Models, Proceedings of the 9th International Biometrics\n",
            "      Conference, Boston, pp. 104-122.\n",
            "   2. Landwehr, J. M., Pregibon, D., and Shoemaker, A. C. (1984),\n",
            "      Graphical Models for Assessing Logistic Regression Models (with\n",
            "      discussion), Journal of the American Statistical Association 79:\n",
            "      61-83.\n",
            "   3. Lo, W.-D. (1993). Logistic Regression Trees, PhD thesis,\n",
            "      Department of Statistics, University of Wisconsin, Madison, WI.\n",
            "\n",
            "4. Relevant Information:\n",
            "   The dataset contains cases from a study that was conducted between\n",
            "   1958 and 1970 at the University of Chicago's Billings Hospital on\n",
            "   the survival of patients who had undergone surgery for breast\n",
            "   cancer.\n",
            "\n",
            "5. Number of Instances: 306\n",
            "\n",
            "6. Number of Attributes: 4 (including the class attribute)\n",
            "\n",
            "7. Attribute Information:\n",
            "   1. Age of patient at time of operation (numerical)\n",
            "   2. Patient's year of operation (year - 1900, numerical)\n",
            "   3. Number of positive axillary nodes detected (numerical)\n",
            "   4. Survival status (class attribute)\n",
            "         1 = the patient survived 5 years or longer\n",
            "         2 = the patient died within 5 year\n",
            "\n",
            "8. Missing Attribute Values: None\n",
            "\n"
          ]
        }
      ]
    },
    {
      "cell_type": "code",
      "source": [
        "data.head()"
      ],
      "metadata": {
        "colab": {
          "base_uri": "https://localhost:8080/",
          "height": 206
        },
        "id": "0NTikp38YIgk",
        "outputId": "0f70192d-a4ee-49a4-e4ed-eaec8f9b2dc7"
      },
      "execution_count": 75,
      "outputs": [
        {
          "output_type": "execute_result",
          "data": {
            "text/plain": [
              "    A   B  C  D\n",
              "0  30  64  1  1\n",
              "1  30  62  3  1\n",
              "2  30  65  0  1\n",
              "3  31  59  2  1\n",
              "4  31  65  4  1"
            ],
            "text/html": [
              "\n",
              "  <div id=\"df-07e0ab1b-f5c5-46ff-985f-8cf58b91c2dd\">\n",
              "    <div class=\"colab-df-container\">\n",
              "      <div>\n",
              "<style scoped>\n",
              "    .dataframe tbody tr th:only-of-type {\n",
              "        vertical-align: middle;\n",
              "    }\n",
              "\n",
              "    .dataframe tbody tr th {\n",
              "        vertical-align: top;\n",
              "    }\n",
              "\n",
              "    .dataframe thead th {\n",
              "        text-align: right;\n",
              "    }\n",
              "</style>\n",
              "<table border=\"1\" class=\"dataframe\">\n",
              "  <thead>\n",
              "    <tr style=\"text-align: right;\">\n",
              "      <th></th>\n",
              "      <th>A</th>\n",
              "      <th>B</th>\n",
              "      <th>C</th>\n",
              "      <th>D</th>\n",
              "    </tr>\n",
              "  </thead>\n",
              "  <tbody>\n",
              "    <tr>\n",
              "      <th>0</th>\n",
              "      <td>30</td>\n",
              "      <td>64</td>\n",
              "      <td>1</td>\n",
              "      <td>1</td>\n",
              "    </tr>\n",
              "    <tr>\n",
              "      <th>1</th>\n",
              "      <td>30</td>\n",
              "      <td>62</td>\n",
              "      <td>3</td>\n",
              "      <td>1</td>\n",
              "    </tr>\n",
              "    <tr>\n",
              "      <th>2</th>\n",
              "      <td>30</td>\n",
              "      <td>65</td>\n",
              "      <td>0</td>\n",
              "      <td>1</td>\n",
              "    </tr>\n",
              "    <tr>\n",
              "      <th>3</th>\n",
              "      <td>31</td>\n",
              "      <td>59</td>\n",
              "      <td>2</td>\n",
              "      <td>1</td>\n",
              "    </tr>\n",
              "    <tr>\n",
              "      <th>4</th>\n",
              "      <td>31</td>\n",
              "      <td>65</td>\n",
              "      <td>4</td>\n",
              "      <td>1</td>\n",
              "    </tr>\n",
              "  </tbody>\n",
              "</table>\n",
              "</div>\n",
              "      <button class=\"colab-df-convert\" onclick=\"convertToInteractive('df-07e0ab1b-f5c5-46ff-985f-8cf58b91c2dd')\"\n",
              "              title=\"Convert this dataframe to an interactive table.\"\n",
              "              style=\"display:none;\">\n",
              "        \n",
              "  <svg xmlns=\"http://www.w3.org/2000/svg\" height=\"24px\"viewBox=\"0 0 24 24\"\n",
              "       width=\"24px\">\n",
              "    <path d=\"M0 0h24v24H0V0z\" fill=\"none\"/>\n",
              "    <path d=\"M18.56 5.44l.94 2.06.94-2.06 2.06-.94-2.06-.94-.94-2.06-.94 2.06-2.06.94zm-11 1L8.5 8.5l.94-2.06 2.06-.94-2.06-.94L8.5 2.5l-.94 2.06-2.06.94zm10 10l.94 2.06.94-2.06 2.06-.94-2.06-.94-.94-2.06-.94 2.06-2.06.94z\"/><path d=\"M17.41 7.96l-1.37-1.37c-.4-.4-.92-.59-1.43-.59-.52 0-1.04.2-1.43.59L10.3 9.45l-7.72 7.72c-.78.78-.78 2.05 0 2.83L4 21.41c.39.39.9.59 1.41.59.51 0 1.02-.2 1.41-.59l7.78-7.78 2.81-2.81c.8-.78.8-2.07 0-2.86zM5.41 20L4 18.59l7.72-7.72 1.47 1.35L5.41 20z\"/>\n",
              "  </svg>\n",
              "      </button>\n",
              "      \n",
              "  <style>\n",
              "    .colab-df-container {\n",
              "      display:flex;\n",
              "      flex-wrap:wrap;\n",
              "      gap: 12px;\n",
              "    }\n",
              "\n",
              "    .colab-df-convert {\n",
              "      background-color: #E8F0FE;\n",
              "      border: none;\n",
              "      border-radius: 50%;\n",
              "      cursor: pointer;\n",
              "      display: none;\n",
              "      fill: #1967D2;\n",
              "      height: 32px;\n",
              "      padding: 0 0 0 0;\n",
              "      width: 32px;\n",
              "    }\n",
              "\n",
              "    .colab-df-convert:hover {\n",
              "      background-color: #E2EBFA;\n",
              "      box-shadow: 0px 1px 2px rgba(60, 64, 67, 0.3), 0px 1px 3px 1px rgba(60, 64, 67, 0.15);\n",
              "      fill: #174EA6;\n",
              "    }\n",
              "\n",
              "    [theme=dark] .colab-df-convert {\n",
              "      background-color: #3B4455;\n",
              "      fill: #D2E3FC;\n",
              "    }\n",
              "\n",
              "    [theme=dark] .colab-df-convert:hover {\n",
              "      background-color: #434B5C;\n",
              "      box-shadow: 0px 1px 3px 1px rgba(0, 0, 0, 0.15);\n",
              "      filter: drop-shadow(0px 1px 2px rgba(0, 0, 0, 0.3));\n",
              "      fill: #FFFFFF;\n",
              "    }\n",
              "  </style>\n",
              "\n",
              "      <script>\n",
              "        const buttonEl =\n",
              "          document.querySelector('#df-07e0ab1b-f5c5-46ff-985f-8cf58b91c2dd button.colab-df-convert');\n",
              "        buttonEl.style.display =\n",
              "          google.colab.kernel.accessAllowed ? 'block' : 'none';\n",
              "\n",
              "        async function convertToInteractive(key) {\n",
              "          const element = document.querySelector('#df-07e0ab1b-f5c5-46ff-985f-8cf58b91c2dd');\n",
              "          const dataTable =\n",
              "            await google.colab.kernel.invokeFunction('convertToInteractive',\n",
              "                                                     [key], {});\n",
              "          if (!dataTable) return;\n",
              "\n",
              "          const docLinkHtml = 'Like what you see? Visit the ' +\n",
              "            '<a target=\"_blank\" href=https://colab.research.google.com/notebooks/data_table.ipynb>data table notebook</a>'\n",
              "            + ' to learn more about interactive tables.';\n",
              "          element.innerHTML = '';\n",
              "          dataTable['output_type'] = 'display_data';\n",
              "          await google.colab.output.renderOutput(dataTable, element);\n",
              "          const docLink = document.createElement('div');\n",
              "          docLink.innerHTML = docLinkHtml;\n",
              "          element.appendChild(docLink);\n",
              "        }\n",
              "      </script>\n",
              "    </div>\n",
              "  </div>\n",
              "  "
            ]
          },
          "metadata": {},
          "execution_count": 75
        }
      ]
    },
    {
      "cell_type": "code",
      "source": [
        "data.columns=['Age','Year','positive axillary nodes','survival status']"
      ],
      "metadata": {
        "id": "sbxXd4XJYLD6"
      },
      "execution_count": 76,
      "outputs": []
    },
    {
      "cell_type": "code",
      "source": [
        "data.head()"
      ],
      "metadata": {
        "colab": {
          "base_uri": "https://localhost:8080/",
          "height": 206
        },
        "id": "5hBxBuGKYNP-",
        "outputId": "92832dd6-a509-4c44-ae32-50a164ec4e27"
      },
      "execution_count": 77,
      "outputs": [
        {
          "output_type": "execute_result",
          "data": {
            "text/plain": [
              "   Age  Year  positive axillary nodes  survival status\n",
              "0   30    64                        1                1\n",
              "1   30    62                        3                1\n",
              "2   30    65                        0                1\n",
              "3   31    59                        2                1\n",
              "4   31    65                        4                1"
            ],
            "text/html": [
              "\n",
              "  <div id=\"df-32fcb41a-4f71-48cb-ae5c-4d991d427375\">\n",
              "    <div class=\"colab-df-container\">\n",
              "      <div>\n",
              "<style scoped>\n",
              "    .dataframe tbody tr th:only-of-type {\n",
              "        vertical-align: middle;\n",
              "    }\n",
              "\n",
              "    .dataframe tbody tr th {\n",
              "        vertical-align: top;\n",
              "    }\n",
              "\n",
              "    .dataframe thead th {\n",
              "        text-align: right;\n",
              "    }\n",
              "</style>\n",
              "<table border=\"1\" class=\"dataframe\">\n",
              "  <thead>\n",
              "    <tr style=\"text-align: right;\">\n",
              "      <th></th>\n",
              "      <th>Age</th>\n",
              "      <th>Year</th>\n",
              "      <th>positive axillary nodes</th>\n",
              "      <th>survival status</th>\n",
              "    </tr>\n",
              "  </thead>\n",
              "  <tbody>\n",
              "    <tr>\n",
              "      <th>0</th>\n",
              "      <td>30</td>\n",
              "      <td>64</td>\n",
              "      <td>1</td>\n",
              "      <td>1</td>\n",
              "    </tr>\n",
              "    <tr>\n",
              "      <th>1</th>\n",
              "      <td>30</td>\n",
              "      <td>62</td>\n",
              "      <td>3</td>\n",
              "      <td>1</td>\n",
              "    </tr>\n",
              "    <tr>\n",
              "      <th>2</th>\n",
              "      <td>30</td>\n",
              "      <td>65</td>\n",
              "      <td>0</td>\n",
              "      <td>1</td>\n",
              "    </tr>\n",
              "    <tr>\n",
              "      <th>3</th>\n",
              "      <td>31</td>\n",
              "      <td>59</td>\n",
              "      <td>2</td>\n",
              "      <td>1</td>\n",
              "    </tr>\n",
              "    <tr>\n",
              "      <th>4</th>\n",
              "      <td>31</td>\n",
              "      <td>65</td>\n",
              "      <td>4</td>\n",
              "      <td>1</td>\n",
              "    </tr>\n",
              "  </tbody>\n",
              "</table>\n",
              "</div>\n",
              "      <button class=\"colab-df-convert\" onclick=\"convertToInteractive('df-32fcb41a-4f71-48cb-ae5c-4d991d427375')\"\n",
              "              title=\"Convert this dataframe to an interactive table.\"\n",
              "              style=\"display:none;\">\n",
              "        \n",
              "  <svg xmlns=\"http://www.w3.org/2000/svg\" height=\"24px\"viewBox=\"0 0 24 24\"\n",
              "       width=\"24px\">\n",
              "    <path d=\"M0 0h24v24H0V0z\" fill=\"none\"/>\n",
              "    <path d=\"M18.56 5.44l.94 2.06.94-2.06 2.06-.94-2.06-.94-.94-2.06-.94 2.06-2.06.94zm-11 1L8.5 8.5l.94-2.06 2.06-.94-2.06-.94L8.5 2.5l-.94 2.06-2.06.94zm10 10l.94 2.06.94-2.06 2.06-.94-2.06-.94-.94-2.06-.94 2.06-2.06.94z\"/><path d=\"M17.41 7.96l-1.37-1.37c-.4-.4-.92-.59-1.43-.59-.52 0-1.04.2-1.43.59L10.3 9.45l-7.72 7.72c-.78.78-.78 2.05 0 2.83L4 21.41c.39.39.9.59 1.41.59.51 0 1.02-.2 1.41-.59l7.78-7.78 2.81-2.81c.8-.78.8-2.07 0-2.86zM5.41 20L4 18.59l7.72-7.72 1.47 1.35L5.41 20z\"/>\n",
              "  </svg>\n",
              "      </button>\n",
              "      \n",
              "  <style>\n",
              "    .colab-df-container {\n",
              "      display:flex;\n",
              "      flex-wrap:wrap;\n",
              "      gap: 12px;\n",
              "    }\n",
              "\n",
              "    .colab-df-convert {\n",
              "      background-color: #E8F0FE;\n",
              "      border: none;\n",
              "      border-radius: 50%;\n",
              "      cursor: pointer;\n",
              "      display: none;\n",
              "      fill: #1967D2;\n",
              "      height: 32px;\n",
              "      padding: 0 0 0 0;\n",
              "      width: 32px;\n",
              "    }\n",
              "\n",
              "    .colab-df-convert:hover {\n",
              "      background-color: #E2EBFA;\n",
              "      box-shadow: 0px 1px 2px rgba(60, 64, 67, 0.3), 0px 1px 3px 1px rgba(60, 64, 67, 0.15);\n",
              "      fill: #174EA6;\n",
              "    }\n",
              "\n",
              "    [theme=dark] .colab-df-convert {\n",
              "      background-color: #3B4455;\n",
              "      fill: #D2E3FC;\n",
              "    }\n",
              "\n",
              "    [theme=dark] .colab-df-convert:hover {\n",
              "      background-color: #434B5C;\n",
              "      box-shadow: 0px 1px 3px 1px rgba(0, 0, 0, 0.15);\n",
              "      filter: drop-shadow(0px 1px 2px rgba(0, 0, 0, 0.3));\n",
              "      fill: #FFFFFF;\n",
              "    }\n",
              "  </style>\n",
              "\n",
              "      <script>\n",
              "        const buttonEl =\n",
              "          document.querySelector('#df-32fcb41a-4f71-48cb-ae5c-4d991d427375 button.colab-df-convert');\n",
              "        buttonEl.style.display =\n",
              "          google.colab.kernel.accessAllowed ? 'block' : 'none';\n",
              "\n",
              "        async function convertToInteractive(key) {\n",
              "          const element = document.querySelector('#df-32fcb41a-4f71-48cb-ae5c-4d991d427375');\n",
              "          const dataTable =\n",
              "            await google.colab.kernel.invokeFunction('convertToInteractive',\n",
              "                                                     [key], {});\n",
              "          if (!dataTable) return;\n",
              "\n",
              "          const docLinkHtml = 'Like what you see? Visit the ' +\n",
              "            '<a target=\"_blank\" href=https://colab.research.google.com/notebooks/data_table.ipynb>data table notebook</a>'\n",
              "            + ' to learn more about interactive tables.';\n",
              "          element.innerHTML = '';\n",
              "          dataTable['output_type'] = 'display_data';\n",
              "          await google.colab.output.renderOutput(dataTable, element);\n",
              "          const docLink = document.createElement('div');\n",
              "          docLink.innerHTML = docLinkHtml;\n",
              "          element.appendChild(docLink);\n",
              "        }\n",
              "      </script>\n",
              "    </div>\n",
              "  </div>\n",
              "  "
            ]
          },
          "metadata": {},
          "execution_count": 77
        }
      ]
    },
    {
      "cell_type": "code",
      "source": [
        "X_data=data[data.columns[:-1]]"
      ],
      "metadata": {
        "id": "gWKnlj9vYQGm"
      },
      "execution_count": 78,
      "outputs": []
    },
    {
      "cell_type": "code",
      "source": [
        "from sklearn.preprocessing import StandardScaler\n",
        "scaler=StandardScaler()\n",
        "scaler.fit(X_data)\n",
        "X_data=scaler.transform(X_data)"
      ],
      "metadata": {
        "id": "oLw1sJLMgMNv"
      },
      "execution_count": 79,
      "outputs": []
    },
    {
      "cell_type": "code",
      "source": [
        "Y_data=data[data.columns[-1]]"
      ],
      "metadata": {
        "id": "W2c5xjoDYSIP"
      },
      "execution_count": 80,
      "outputs": []
    },
    {
      "cell_type": "code",
      "source": [
        "from sklearn.model_selection import train_test_split\n",
        "X_data_train,X_data_test,Y_data_train,Y_data_test = train_test_split(X_data, Y_data, test_size=0.2, random_state=69)\n",
        "len(X_data_train) , len(X_data_test) , len(Y_data_train) , len(Y_data_test)"
      ],
      "metadata": {
        "colab": {
          "base_uri": "https://localhost:8080/"
        },
        "id": "d3Qr5SKIYUAz",
        "outputId": "3e07e675-6e06-4bb8-992f-7303f8407fdc"
      },
      "execution_count": 81,
      "outputs": [
        {
          "output_type": "execute_result",
          "data": {
            "text/plain": [
              "(244, 62, 244, 62)"
            ]
          },
          "metadata": {},
          "execution_count": 81
        }
      ]
    },
    {
      "cell_type": "code",
      "source": [
        "from sklearn.neighbors import KNeighborsClassifier\n",
        "from sklearn.metrics import accuracy_score\n",
        "k_values=[1,2,3,4,5]\n",
        "accuracy_l1=[]\n",
        "accuracy_l2=[]\n",
        "for k in k_values:\n",
        "  print('\\n************************************')\n",
        "  print('when k is:',k)\n",
        "  neigh_l1 = KNeighborsClassifier(n_neighbors=k ,metric= 'manhattan' )\n",
        "  neigh_l2= KNeighborsClassifier(n_neighbors=k  )\n",
        "  neigh_l1.fit(X_data_train,Y_data_train)\n",
        "  neigh_l2.fit(X_data_train,Y_data_train)\n",
        "  pred_l1=neigh_l1.predict(X_data_test)\n",
        "  pred_l2=neigh_l2.predict(X_data_test)\n",
        "\n",
        "  print('accuracy with l1 matric:',accuracy_score(Y_data_test, pred_l1))\n",
        "  print('accuracy with l2 matric:',accuracy_score(Y_data_test, pred_l2))\n",
        "  accuracy_l1.append(accuracy_score(Y_data_test, pred_l1))\n",
        "  accuracy_l2.append(accuracy_score(Y_data_test, pred_l2))\n",
        "  \n",
        "\n",
        "\n"
      ],
      "metadata": {
        "colab": {
          "base_uri": "https://localhost:8080/"
        },
        "id": "lG8NdgGYYZPp",
        "outputId": "ce7c6e0f-d3db-4040-b957-32977939f8ea"
      },
      "execution_count": 82,
      "outputs": [
        {
          "output_type": "stream",
          "name": "stdout",
          "text": [
            "\n",
            "************************************\n",
            "when k is: 1\n",
            "accuracy with l1 matric: 0.6129032258064516\n",
            "accuracy with l2 matric: 0.6290322580645161\n",
            "\n",
            "************************************\n",
            "when k is: 2\n",
            "accuracy with l1 matric: 0.7096774193548387\n",
            "accuracy with l2 matric: 0.6774193548387096\n",
            "\n",
            "************************************\n",
            "when k is: 3\n",
            "accuracy with l1 matric: 0.6935483870967742\n",
            "accuracy with l2 matric: 0.6935483870967742\n",
            "\n",
            "************************************\n",
            "when k is: 4\n",
            "accuracy with l1 matric: 0.7258064516129032\n",
            "accuracy with l2 matric: 0.7258064516129032\n",
            "\n",
            "************************************\n",
            "when k is: 5\n",
            "accuracy with l1 matric: 0.7096774193548387\n",
            "accuracy with l2 matric: 0.7258064516129032\n"
          ]
        }
      ]
    },
    {
      "cell_type": "markdown",
      "source": [
        "**R] Repeat the same experiment for 60 : 40, 70 : 30 and 90 : 10. Report the results.**"
      ],
      "metadata": {
        "id": "YB76oJ0_bCIJ"
      }
    },
    {
      "cell_type": "code",
      "source": [
        "split_ratio=[0.4,0.3,0.2,0.1]\n",
        "accuracy_split_l1={}\n",
        "accuracy_split_l2={}\n",
        "for ratio in split_ratio:\n",
        "  print('\\n**************************************************')\n",
        "  print('when split ratio is',(1-ratio)*100,':',ratio*100)\n",
        "  X_data_train,X_data_test,Y_data_train,Y_data_test = train_test_split(X_data, Y_data, test_size=ratio, random_state=99)\n",
        "  accuracy_l1=[]\n",
        "  accuracy_l2=[]\n",
        "  for k in k_values:\n",
        "    print('\\n************************************')\n",
        "    print('when k is:',k)\n",
        "    neigh_l1 = KNeighborsClassifier(n_neighbors=k ,metric= 'manhattan' )\n",
        "    neigh_l2= KNeighborsClassifier(n_neighbors=k  )\n",
        "    neigh_l1.fit(X_data_train,Y_data_train)\n",
        "    neigh_l2.fit(X_data_train,Y_data_train)\n",
        "    pred_l1=neigh_l1.predict(X_data_test)\n",
        "    pred_l2=neigh_l2.predict(X_data_test)\n",
        "\n",
        "    print('accuracy with l1 matric:',accuracy_score(Y_data_test, pred_l1))\n",
        "    print('accuracy with l2 matric:',accuracy_score(Y_data_test, pred_l2))\n",
        "    accuracy_l1.append(accuracy_score(Y_data_test, pred_l1))\n",
        "    accuracy_l2.append(accuracy_score(Y_data_test, pred_l2))\n",
        "  accuracy_split_l1[ratio]=accuracy_l1\n",
        "  accuracy_split_l2[ratio]=accuracy_l2\n"
      ],
      "metadata": {
        "colab": {
          "base_uri": "https://localhost:8080/"
        },
        "id": "7oYz3ylaZXSN",
        "outputId": "38747d5a-5627-458b-f979-98179e5b9461"
      },
      "execution_count": 83,
      "outputs": [
        {
          "output_type": "stream",
          "name": "stdout",
          "text": [
            "\n",
            "**************************************************\n",
            "when split ratio is 60.0 : 40.0\n",
            "\n",
            "************************************\n",
            "when k is: 1\n",
            "accuracy with l1 matric: 0.6178861788617886\n",
            "accuracy with l2 matric: 0.6178861788617886\n",
            "\n",
            "************************************\n",
            "when k is: 2\n",
            "accuracy with l1 matric: 0.6747967479674797\n",
            "accuracy with l2 matric: 0.6910569105691057\n",
            "\n",
            "************************************\n",
            "when k is: 3\n",
            "accuracy with l1 matric: 0.6097560975609756\n",
            "accuracy with l2 matric: 0.6422764227642277\n",
            "\n",
            "************************************\n",
            "when k is: 4\n",
            "accuracy with l1 matric: 0.6747967479674797\n",
            "accuracy with l2 matric: 0.6666666666666666\n",
            "\n",
            "************************************\n",
            "when k is: 5\n",
            "accuracy with l1 matric: 0.6504065040650406\n",
            "accuracy with l2 matric: 0.6585365853658537\n",
            "\n",
            "**************************************************\n",
            "when split ratio is 70.0 : 30.0\n",
            "\n",
            "************************************\n",
            "when k is: 1\n",
            "accuracy with l1 matric: 0.6195652173913043\n",
            "accuracy with l2 matric: 0.6304347826086957\n",
            "\n",
            "************************************\n",
            "when k is: 2\n",
            "accuracy with l1 matric: 0.6739130434782609\n",
            "accuracy with l2 matric: 0.6847826086956522\n",
            "\n",
            "************************************\n",
            "when k is: 3\n",
            "accuracy with l1 matric: 0.6304347826086957\n",
            "accuracy with l2 matric: 0.6304347826086957\n",
            "\n",
            "************************************\n",
            "when k is: 4\n",
            "accuracy with l1 matric: 0.6847826086956522\n",
            "accuracy with l2 matric: 0.6521739130434783\n",
            "\n",
            "************************************\n",
            "when k is: 5\n",
            "accuracy with l1 matric: 0.6304347826086957\n",
            "accuracy with l2 matric: 0.6739130434782609\n",
            "\n",
            "**************************************************\n",
            "when split ratio is 80.0 : 20.0\n",
            "\n",
            "************************************\n",
            "when k is: 1\n",
            "accuracy with l1 matric: 0.6290322580645161\n",
            "accuracy with l2 matric: 0.6612903225806451\n",
            "\n",
            "************************************\n",
            "when k is: 2\n",
            "accuracy with l1 matric: 0.7258064516129032\n",
            "accuracy with l2 matric: 0.7419354838709677\n",
            "\n",
            "************************************\n",
            "when k is: 3\n",
            "accuracy with l1 matric: 0.6935483870967742\n",
            "accuracy with l2 matric: 0.6774193548387096\n",
            "\n",
            "************************************\n",
            "when k is: 4\n",
            "accuracy with l1 matric: 0.6774193548387096\n",
            "accuracy with l2 matric: 0.6774193548387096\n",
            "\n",
            "************************************\n",
            "when k is: 5\n",
            "accuracy with l1 matric: 0.6935483870967742\n",
            "accuracy with l2 matric: 0.6774193548387096\n",
            "\n",
            "**************************************************\n",
            "when split ratio is 90.0 : 10.0\n",
            "\n",
            "************************************\n",
            "when k is: 1\n",
            "accuracy with l1 matric: 0.5161290322580645\n",
            "accuracy with l2 matric: 0.5806451612903226\n",
            "\n",
            "************************************\n",
            "when k is: 2\n",
            "accuracy with l1 matric: 0.6774193548387096\n",
            "accuracy with l2 matric: 0.7419354838709677\n",
            "\n",
            "************************************\n",
            "when k is: 3\n",
            "accuracy with l1 matric: 0.6129032258064516\n",
            "accuracy with l2 matric: 0.6451612903225806\n",
            "\n",
            "************************************\n",
            "when k is: 4\n",
            "accuracy with l1 matric: 0.6451612903225806\n",
            "accuracy with l2 matric: 0.6451612903225806\n",
            "\n",
            "************************************\n",
            "when k is: 5\n",
            "accuracy with l1 matric: 0.5806451612903226\n",
            "accuracy with l2 matric: 0.6129032258064516\n"
          ]
        }
      ]
    },
    {
      "cell_type": "markdown",
      "source": [
        "$\\large \\text{Plot the graph between k(Number of Clusters) vs test − accuracy for all the different training and test data\n",
        "splits.}$"
      ],
      "metadata": {
        "id": "lQLNDk1CbZXb"
      }
    },
    {
      "cell_type": "code",
      "source": [
        "plt.plot(k_values,accuracy_split_l1[split_ratio[0]],color='r',label=f'split_ratio: {split_ratio[0]}')\n",
        "plt.plot(k_values,accuracy_split_l1[split_ratio[1]],color='b',label=f'split_ratio: {split_ratio[1]}')\n",
        "plt.plot(k_values,accuracy_split_l1[split_ratio[2]],color='y',label=f'split_ratio: {split_ratio[2]}')\n",
        "plt.plot(k_values,accuracy_split_l1[split_ratio[3]],color='g',label=f'split_ratio: {split_ratio[3]}')\n",
        "\n",
        "plt.title('L1 distance metric')\n",
        "plt.xlabel('k values')\n",
        "plt.ylabel('accuracy ')\n",
        "plt.legend(bbox_to_anchor=(1,0.5))\n",
        "plt.show()"
      ],
      "metadata": {
        "colab": {
          "base_uri": "https://localhost:8080/",
          "height": 295
        },
        "id": "GnXJ806saou4",
        "outputId": "5ba0e8c8-511c-4009-c5e1-6c033261f4f0"
      },
      "execution_count": 84,
      "outputs": [
        {
          "output_type": "display_data",
          "data": {
            "text/plain": [
              "<Figure size 432x288 with 1 Axes>"
            ],
            "image/png": "[encoded data removed]"
          },
          "metadata": {
            "needs_background": "light"
          }
        }
      ]
    },
    {
      "cell_type": "code",
      "source": [
        "plt.plot(k_values,accuracy_split_l2[split_ratio[0]],color='r',label=f'split_ratio: {split_ratio[0]}')\n",
        "plt.plot(k_values,accuracy_split_l2[split_ratio[1]],color='b',label=f'split_ratio: {split_ratio[2]}')\n",
        "plt.plot(k_values,accuracy_split_l2[split_ratio[2]],color='y',label=f'split_ratio: {split_ratio[2]}')\n",
        "plt.plot(k_values,accuracy_split_l2[split_ratio[3]],color='g',label=f'split_ratio: {split_ratio[3]}')\n",
        "\n",
        "plt.title('l2 distance metric')\n",
        "plt.xlabel('k values')\n",
        "plt.ylabel('accuracy ')\n",
        "plt.legend(bbox_to_anchor=(1,0.5))\n",
        "plt.show()\n"
      ],
      "metadata": {
        "colab": {
          "base_uri": "https://localhost:8080/",
          "height": 295
        },
        "id": "dq8nKBDfbJwU",
        "outputId": "9c094be8-5407-4637-e7f1-0acabc2bbb6b"
      },
      "execution_count": 85,
      "outputs": [
        {
          "output_type": "display_data",
          "data": {
            "text/plain": [
              "<Figure size 432x288 with 1 Axes>"
            ],
            "image/png": "[encoded data removed]"
          },
          "metadata": {
            "needs_background": "light"
          }
        }
      ]
    },
    {
      "cell_type": "code",
      "source": [],
      "metadata": {
        "id": "XbXuRb4PbT6J"
      },
      "execution_count": 85,
      "outputs": []
    }
  ]
}