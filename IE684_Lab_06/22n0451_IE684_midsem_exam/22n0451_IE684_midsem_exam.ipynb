{
  "nbformat": 4,
  "nbformat_minor": 0,
  "metadata": {
    "colab": {
      "provenance": []
    },
    "kernelspec": {
      "name": "python3",
      "display_name": "Python 3"
    },
    "language_info": {
      "name": "python"
    }
  },
  "cells": [
    {
      "cell_type": "code",
      "execution_count": 249,
      "metadata": {
        "id": "SSeQoU6gLR3B"
      },
      "outputs": [],
      "source": [
        "import numpy as np\n",
        "import matplotlib.pyplot as plt"
      ]
    },
    {
      "cell_type": "code",
      "source": [
        "from timeit import default_timer as timer"
      ],
      "metadata": {
        "id": "ZGO7-ompOw8d"
      },
      "execution_count": 250,
      "outputs": []
    },
    {
      "cell_type": "code",
      "source": [
        "# let's fix seed value to 1000\n",
        "np.random.seed(1000)\n"
      ],
      "metadata": {
        "id": "xc0fcWH4O0RV"
      },
      "execution_count": 251,
      "outputs": []
    },
    {
      "cell_type": "code",
      "source": [
        "# let's create a matrix A of size (1000,10)\n",
        "A=np.random.randn(1000,10)\n",
        "print('shape of A matrix',A.shape)\n"
      ],
      "metadata": {
        "colab": {
          "base_uri": "https://localhost:8080/"
        },
        "id": "akNEJATkie_u",
        "outputId": "b828ec56-9699-41d3-8881-426387ac79cb"
      },
      "execution_count": 252,
      "outputs": [
        {
          "output_type": "stream",
          "name": "stdout",
          "text": [
            "shape of A matrix (1000, 10)\n"
          ]
        }
      ]
    },
    {
      "cell_type": "code",
      "source": [
        "# let's define a random vector x\n",
        "x=[]\n",
        "for i in range(10):\n",
        "  if (i+1)%2!=0:\n",
        "    x.append(np.random.uniform(-(i+1),-i))\n",
        "  else:\n",
        "    x.append(np.random.uniform(i,i+1))  \n",
        "x=np.array(x).reshape(10,1) \n",
        "x_bar=x\n",
        " # creating a vector of shape (10,1)  \n",
        "print('shape of x vector',x.shape)\n"
      ],
      "metadata": {
        "colab": {
          "base_uri": "https://localhost:8080/"
        },
        "id": "i9_2t7sEihD4",
        "outputId": "f3fe59c8-627e-4098-bf16-846cc9ec9f9e"
      },
      "execution_count": 253,
      "outputs": [
        {
          "output_type": "stream",
          "name": "stdout",
          "text": [
            "shape of x vector (10, 1)\n"
          ]
        }
      ]
    },
    {
      "cell_type": "code",
      "source": [
        "# creating a epsilon\n",
        "epsilon=np.random.randn(1000,1)\n",
        "print('shape of epsilor vector',epsilon.shape)\n"
      ],
      "metadata": {
        "colab": {
          "base_uri": "https://localhost:8080/"
        },
        "id": "oDJN32DZij8d",
        "outputId": "eca5f83a-ad56-4d98-8fb2-1230961ee0e8"
      },
      "execution_count": 254,
      "outputs": [
        {
          "output_type": "stream",
          "name": "stdout",
          "text": [
            "shape of epsilor vector (1000, 1)\n"
          ]
        }
      ]
    },
    {
      "cell_type": "code",
      "source": [
        "# calculating y value\n",
        "y=np.add(np.matmul(A,x),epsilon)\n",
        "print('shape of y vector',y.shape)"
      ],
      "metadata": {
        "colab": {
          "base_uri": "https://localhost:8080/"
        },
        "id": "2zfu5fyRilY4",
        "outputId": "55fb3e82-59c0-4899-d1e7-ffe7985ecd78"
      },
      "execution_count": 255,
      "outputs": [
        {
          "output_type": "stream",
          "name": "stdout",
          "text": [
            "shape of y vector (1000, 1)\n"
          ]
        }
      ]
    },
    {
      "cell_type": "markdown",
      "source": [
        "$min_\n",
        "x\n",
        "f(x) = 12∥Ax − y∥_2^2\n",
        ".$"
      ],
      "metadata": {
        "id": "UmvhVklPSVjj"
      }
    },
    {
      "cell_type": "markdown",
      "source": [
        "**. Write Python functions using appropriate numpy routines to compute the objective function value, the gradient\n",
        "value and the Hessian of f.**"
      ],
      "metadata": {
        "id": "_VJPWZvpSi1k"
      }
    },
    {
      "cell_type": "markdown",
      "source": [
        "**Function value**"
      ],
      "metadata": {
        "id": "MYTY_FmDUfCI"
      }
    },
    {
      "cell_type": "code",
      "source": [
        "def evalf(x):\n",
        "  assert type(x) is np.ndarray and len(x)==10\n",
        "  inner_part=(np.matmul(A,x)-y)\n",
        "  return 12*(np.linalg.norm(inner_part))**2"
      ],
      "metadata": {
        "id": "plYU7x6MSM09"
      },
      "execution_count": 256,
      "outputs": []
    },
    {
      "cell_type": "markdown",
      "source": [
        "**Gradient value**"
      ],
      "metadata": {
        "id": "u1OIb9CeUiHA"
      }
    },
    {
      "cell_type": "code",
      "source": [
        "def evalg(x):\n",
        "  assert type(x) is np.ndarray and len(x)==10\n",
        "  first_part=np.matmul(np.matmul(A.transpose(),A),x)\n",
        "  second_part=np.matmul(A.transpose(),y)\n",
        "  return (first_part-second_part)"
      ],
      "metadata": {
        "id": "FiEV0ktNS7Kx"
      },
      "execution_count": 257,
      "outputs": []
    },
    {
      "cell_type": "markdown",
      "source": [
        "** Hessian value**"
      ],
      "metadata": {
        "id": "ryzfW_6ZUkMn"
      }
    },
    {
      "cell_type": "code",
      "source": [
        "def evalh(x):\n",
        "  assert type(x) is np.ndarray and len(x)==10\n",
        "  return np.matmul(A.transpose(),A)\n"
      ],
      "metadata": {
        "id": "X578Qz4rUPI9"
      },
      "execution_count": 258,
      "outputs": []
    },
    {
      "cell_type": "code",
      "source": [
        "def compute_D_k(x):\n",
        "  assert type(x) is np.ndarray and len(x) == 10\n",
        "  if np.linalg.det(evalh(x)) == 0:\n",
        "    raise ValueError('Determinant of Hessian is zero')\n",
        "  return np.linalg.inv(evalh(x))"
      ],
      "metadata": {
        "id": "boq9Ye7hVVFZ"
      },
      "execution_count": 259,
      "outputs": []
    },
    {
      "cell_type": "code",
      "source": [
        "def compute_steplength_backtracking_scaled_direction(x, gradf, alpha_start, rho, gamma, B_k): \n",
        "  assert type(x) is np.ndarray\n",
        "  assert type(gradf) is np.ndarray\n",
        "   \n",
        "  n = len(x)\n",
        "  alpha = alpha_start\n",
        "  p = - gradf \n",
        "  D_k = B_k\n",
        "  while evalf(x + alpha*np.matmul(D_k,p)) > evalf(x) + gamma * alpha* (np.matmul(np.matrix.transpose(gradf), np.matmul(D_k,p)) ):\n",
        "    alpha = alpha * rho\n",
        "  return alpha  "
      ],
      "metadata": {
        "id": "d2VIQSioUdRY"
      },
      "execution_count": 260,
      "outputs": []
    },
    {
      "cell_type": "code",
      "source": [
        "BACKTRACKING_LINE_SEARCH = 1\n",
        "CONSTANT_STEP_LENGTH=2\n",
        "EXACT_LINE_SEARCH=3"
      ],
      "metadata": {
        "id": "JGCaXfweVFRt"
      },
      "execution_count": 261,
      "outputs": []
    },
    {
      "cell_type": "code",
      "source": [
        "def find_minimizer_Newton(start_x, n, tol, line_search_type, *args):\n",
        "  assert type(start_x) is np.ndarray and len(start_x) == n\n",
        "  assert type(tol) is float and tol>=0 \n",
        "  \n",
        "  x = start_x\n",
        "  g_x = evalg(x)\n",
        "  h_x = evalh(x)\n",
        "  x_iter = []\n",
        "  if line_search_type == BACKTRACKING_LINE_SEARCH:\n",
        "      alpha_start = float(args[0])\n",
        "      rho = float(args[1])\n",
        "      gamma = float(args[2])\n",
        "\n",
        "  k = 0\n",
        "  step_length = 1.0\n",
        "  while (np.linalg.norm(g_x) > tol): \n",
        "    D_k = np.linalg.inv(evalh(x))\n",
        "    step_length = compute_steplength_backtracking_scaled_direction(x, g_x, alpha_start, rho, gamma, D_k)\n",
        "\n",
        "    x = np.subtract(x, np.multiply(step_length,np.matmul(D_k, g_x))) #update x = x - step_length*g_x\n",
        "    x_iter.append(x)\n",
        "    k += 1 #increment iteration\n",
        "    g_x = evalg(x) #compute gradient at new point\n",
        "  return x, x_iter,k"
      ],
      "metadata": {
        "id": "-sip5zX7VN0n"
      },
      "execution_count": 262,
      "outputs": []
    },
    {
      "cell_type": "code",
      "source": [
        "n = 10\n",
        "my_start_x = np.array([0 for i in range(10)])\n",
        "my_start_x = my_start_x.reshape(10,1)\n",
        "my_tol  = 10**(-4)\n",
        "alpha =float(0.99)\n",
        "rho=0.5\n",
        "gamma=0.5"
      ],
      "metadata": {
        "id": "2fweEs0VXDb7"
      },
      "execution_count": 263,
      "outputs": []
    },
    {
      "cell_type": "markdown",
      "source": [
        "**Let x  be the final optimal solution provided by your algorithm. Report thevalues of x and ¯x, and discuss the observations.**"
      ],
      "metadata": {
        "id": "aFVKKFTTcIWm"
      }
    },
    {
      "cell_type": "code",
      "source": [
        "time_start=timer()\n",
        "x_star,x_iter,iterations=find_minimizer_Newton(my_start_x,n,my_tol,BACKTRACKING_LINE_SEARCH,alpha,rho,gamma)\n",
        "time_end=timer()\n",
        "time_taken_newton=time_end-time_start\n",
        "print('time taken by newton methosd is: ',time_taken_newton)\n",
        "print('iteations taken by newton metbod is:',iterations)"
      ],
      "metadata": {
        "colab": {
          "base_uri": "https://localhost:8080/"
        },
        "id": "Dfb0Q5o2Yk5A",
        "outputId": "61a15892-9f5d-4ec0-f35d-879a1abdb11d"
      },
      "execution_count": 264,
      "outputs": [
        {
          "output_type": "stream",
          "name": "stdout",
          "text": [
            "time taken by newton methosd is:  0.008049338999626343\n",
            "iteations taken by newton metbod is: 5\n"
          ]
        }
      ]
    },
    {
      "cell_type": "code",
      "source": [
        "for i in range(10):\n",
        "  print('x_bar',i+1,'th value is',x_bar[i],'And value of',i+1,' x_star is:',x_star[i])"
      ],
      "metadata": {
        "colab": {
          "base_uri": "https://localhost:8080/"
        },
        "id": "OYd_JOghaCUA",
        "outputId": "76119d85-9f53-4a1b-c518-d52a26ab83b2"
      },
      "execution_count": 265,
      "outputs": [
        {
          "output_type": "stream",
          "name": "stdout",
          "text": [
            "x_bar 1 th value is [-0.06258705] And value of 1  x_star is: [-0.04982253]\n",
            "x_bar 2 th value is [1.94307072] And value of 2  x_star is: [1.95189743]\n",
            "x_bar 3 th value is [-2.34150552] And value of 3  x_star is: [-2.34298192]\n",
            "x_bar 4 th value is [3.58252615] And value of 4  x_star is: [3.60956007]\n",
            "x_bar 5 th value is [-4.75947573] And value of 5  x_star is: [-4.71176195]\n",
            "x_bar 6 th value is [5.93512469] And value of 6  x_star is: [5.89877618]\n",
            "x_bar 7 th value is [-6.61893094] And value of 7  x_star is: [-6.62879358]\n",
            "x_bar 8 th value is [7.16818187] And value of 8  x_star is: [7.16821112]\n",
            "x_bar 9 th value is [-8.2179964] And value of 9  x_star is: [-8.22221199]\n",
            "x_bar 10 th value is [9.00022174] And value of 10  x_star is: [9.05669293]\n"
          ]
        }
      ]
    },
    {
      "cell_type": "markdown",
      "source": [
        "$\\text{As we can see that our model is not properly appro}$"
      ],
      "metadata": {
        "id": "CoD0zii3bpon"
      }
    },
    {
      "cell_type": "markdown",
      "source": [
        "$\\text{Plot the values} \\ log(||x^\n",
        "k − x^*||_2) \\  against  \\ iterations \\  k = 0, 1, 2, . . ..$"
      ],
      "metadata": {
        "id": "u7PpSI9wcR7g"
      }
    },
    {
      "cell_type": "code",
      "source": [
        "import math"
      ],
      "metadata": {
        "id": "RG_VhQLQb09F"
      },
      "execution_count": 266,
      "outputs": []
    },
    {
      "cell_type": "code",
      "source": [
        "ln_values=[]\n",
        "ln_values_fun=[]\n",
        "for i in range(iterations-1):\n",
        "  a=np.linalg.norm(x_iter[i]-x_star)\n",
        "  b=np.linalg.norm(evalf(x_iter[i])-evalf(x_star))\n",
        "\n",
        "  ln_values.append(math.log(a))\n",
        "  ln_values_fun.append(math.log(b))\n",
        "\n",
        "print(ln_values)  \n",
        "print(ln_values_fun)"
      ],
      "metadata": {
        "colab": {
          "base_uri": "https://localhost:8080/"
        },
        "id": "2YzJZZ_Vb7TX",
        "outputId": "602375ee-c847-4e20-a311-267a3e50efe9"
      },
      "execution_count": 267,
      "outputs": [
        {
          "output_type": "stream",
          "name": "stdout",
          "text": [
            "[-1.7143669160943475, -6.319538092083591, -10.924807283185778, -15.539927800970789]\n",
            "[6.084730898753019, -3.1256094733713256, -12.335950160717971, -21.552101118495877]\n"
          ]
        }
      ]
    },
    {
      "cell_type": "code",
      "source": [
        "plt.plot([i+1 for i in range(iterations-1)],ln_values,label='ln_values first',color='r')\n",
        "plt.title(' plot for plotting log(|xk − x) for values obtained for each iteations')\n",
        "plt.xlabel('iteration number')\n",
        "plt.ylabel(\"value\")\n",
        "plt.legend()\n",
        "plt.show()"
      ],
      "metadata": {
        "colab": {
          "base_uri": "https://localhost:8080/",
          "height": 295
        },
        "id": "7HHBpNAggFOo",
        "outputId": "1534acd6-a03b-48ef-f0fe-fa3c58348cc8"
      },
      "execution_count": 268,
      "outputs": [
        {
          "output_type": "display_data",
          "data": {
            "text/plain": [
              "<Figure size 432x288 with 1 Axes>"
            ],
            "image/png": "[encoded data removed]"
          },
          "metadata": {
            "needs_background": "light"
          }
        }
      ]
    },
    {
      "cell_type": "markdown",
      "source": [
        "$\\text{Prepare a different plot for plotting log} (|f(x_k\n",
        ") − f(x^*)|) \\\\ \\text{ obtained from Newton’s method against the\n",
        "iterations.}$\n"
      ],
      "metadata": {
        "id": "piopUwiGdvD7"
      }
    },
    {
      "cell_type": "code",
      "source": [
        "plt.plot([i+1 for i in range(iterations-1)],ln_values_fun,label='ln_values_second',color='b')\n",
        "plt.title(' plot for plotting log(|f(xk) − f(x)|) for values obtained for each iteations')\n",
        "plt.xlabel('iteration number')\n",
        "plt.ylabel(\"value\")\n",
        "plt.legend()\n",
        "plt.show()"
      ],
      "metadata": {
        "colab": {
          "base_uri": "https://localhost:8080/",
          "height": 295
        },
        "id": "q4pryj7teosm",
        "outputId": "658ebbc5-6dd1-49aa-bf0e-d68ae78d5036"
      },
      "execution_count": 269,
      "outputs": [
        {
          "output_type": "display_data",
          "data": {
            "text/plain": [
              "<Figure size 432x288 with 1 Axes>"
            ],
            "image/png": "[encoded data removed]"
          },
          "metadata": {
            "needs_background": "light"
          }
        }
      ]
    },
    {
      "cell_type": "code",
      "source": [
        "plt.plot([i+1 for i in range(iterations-1)],ln_values,label='ln_values first',color='r')\n",
        "plt.plot([i+1 for i in range(iterations-1)],ln_values_fun,label='ln_values_second',color='b')\n",
        "plt.xlabel('iteration number')\n",
        "plt.ylabel(\"value\")\n",
        "plt.legend()\n",
        "plt.show()"
      ],
      "metadata": {
        "colab": {
          "base_uri": "https://localhost:8080/",
          "height": 279
        },
        "id": "gA0F90XadGcl",
        "outputId": "04a581dc-b6cb-4f09-b335-d98dc49cf1fd"
      },
      "execution_count": 270,
      "outputs": [
        {
          "output_type": "display_data",
          "data": {
            "text/plain": [
              "<Figure size 432x288 with 1 Axes>"
            ],
            "image/png": "[encoded data removed]"
          },
          "metadata": {
            "needs_background": "light"
          }
        }
      ]
    },
    {
      "cell_type": "markdown",
      "source": [
        "$\\text{Comment on the convergence rates of the iterates and the objective function values, by recalling the\n",
        "definitions given above.}$"
      ],
      "metadata": {
        "id": "laULo419fo_4"
      }
    },
    {
      "cell_type": "code",
      "source": [],
      "metadata": {
        "id": "O9xooNm2gCf9"
      },
      "execution_count": 270,
      "outputs": []
    },
    {
      "cell_type": "markdown",
      "source": [
        "\n",
        "\n",
        "Since we know that The condition of Q-Linear is :$\\frac{||x^{k+1} - x^*||_2}{||x^{k} - x^*||_2}\\leq r$, Where $r\\in(0,1)$\n",
        "\n",
        "now taking log both side, we obtain\n",
        "$$log(||x^{k+1} - x^*||_2)-log(||x^k - x^*||_2)\\leq log(r)$$\n",
        "\n",
        "\n",
        "Since $r\\in (0,1)$\n",
        "\n",
        "⇒ $log(r)< 0$ \n",
        "\n",
        "Hence the condition of Q-Linear becomes:\n",
        "\n",
        "⇒ $$log(||x^{k+1} - x^*||_2)-log(||x^k - x^*||_2)\\leq 0$$\n",
        "\n",
        "From the above plots, we can observe that at each iteration value is decreased so :\n",
        "\n",
        "$log(||x^{k+1} - x^*||_2)-log(||x^k - x^*||_2)$ is negative. \n",
        "\n",
        "similarly ,\n",
        "$log(||f(x^{k+1}) - f(x^*)||_2)-log(||f(x^k) - f(x^*)||_2)$ is negative.\n",
        "\n",
        "\n",
        "Hence, according to definition we can say that the Convergence of the function is Q-Linear.\n",
        "\n"
      ],
      "metadata": {
        "id": "VhPsRVdgfsRe"
      }
    },
    {
      "cell_type": "markdown",
      "source": [
        "$\\large \\text{Question 3:} \\\\ \\text{. [R] With a starting point of } \\\\ \n",
        "x_0 =[0 0 . . . 0]^T∈ R^\n",
        "{10}, \\text{ solve problem (1) using the BFGS method implemented\n",
        "in the previous lab with backtracking line search (use} α_\n",
        "0 = 0.99, ρ = 0.5, γ = 0.5 \\\\ \\text{ for backtracking line search\n",
        "and τ = 10−4\n",
        ").}\n",
        "$"
      ],
      "metadata": {
        "id": "YLHQvt1Wgatq"
      }
    },
    {
      "cell_type": "code",
      "source": [
        "def compute_steplength_backtracking(n,x, gradf, direction, alpha_start, rho, gamma):\n",
        "  assert type(x) is np.ndarray and len(x) == n \n",
        "  assert type(gradf) is np.ndarray and len(gradf) == n  \n",
        "  assert type(direction) is np.ndarray and len(gradf) == n\n",
        "  assert type(alpha_start) is float and alpha_start>=0. \n",
        "  assert type(rho) is float and rho>=0.\n",
        "  assert type(gamma) is float and gamma>=0. \n",
        "  \n",
        "  alpha = alpha_start\n",
        "  while evalf(x+alpha*direction)>evalf(x)+gamma*alpha*np.matmul(gradf.T,direction):\n",
        "    alpha=rho*alpha\n",
        "\n",
        "  return alpha"
      ],
      "metadata": {
        "id": "-rzebLZshzup"
      },
      "execution_count": 271,
      "outputs": []
    },
    {
      "cell_type": "code",
      "source": [
        "BACKTRACKING_LINE_SEARCH = 1\n",
        "CONSTANT_STEP_LENGTH=2\n",
        "EXACT_LINE_SEARCH=3"
      ],
      "metadata": {
        "id": "mCgwso52jy2X"
      },
      "execution_count": 272,
      "outputs": []
    },
    {
      "cell_type": "code",
      "source": [
        "def BFGS_method(n,start_x,tol,*args):\n",
        "  assert type(start_x) is np.ndarray  and len(start_x) == n\n",
        "  assert type(tol) is float and tol>=0 \n",
        "\n",
        "  x=start_x\n",
        "  g_x=evalg(x)\n",
        "  B_k=np.identity(n)/4\n",
        "  alpha_start=args[0]\n",
        "  rho = args[1]\n",
        "  gamma = args[2]\n",
        "  iter_x_bfgs=[]\n",
        "\n",
        "  k=0\n",
        "  while (np.linalg.norm(g_x)>tol):\n",
        "    p_k=-np.matmul(B_k,g_x)\n",
        "    step_length=compute_steplength_backtracking(n,x, g_x, p_k, alpha_start, rho, gamma)\n",
        "\n",
        "    x_initial=x\n",
        "    x=x+np.multiply(step_length,p_k)\n",
        "    iter_x_bfgs.append(x)\n",
        "\n",
        "    s_k=x-x_initial\n",
        "    y_k=evalg(x)-evalg(x_initial)\n",
        "    u_k= 1/np.matmul(y_k.transpose(),s_k)\n",
        "\n",
        "    B_1=np.eye(n)-u_k*np.matmul(s_k,y_k.transpose())\n",
        "    B_2=np.eye(n)-u_k*np.matmul(y_k,s_k.transpose())\n",
        "\n",
        "    B_k=np.matmul(np.matmul(B_1,B_k),B_2)+u_k*np.matmul(s_k,s_k.transpose())\n",
        "    k=k+1\n",
        "    g_x=evalg(x)\n",
        "    #if k%1000==0:\n",
        "      #print('iterations till now:',k)\n",
        "\n",
        "  return x,iter_x_bfgs,k\n"
      ],
      "metadata": {
        "id": "Eq-7zbHZj2Rg"
      },
      "execution_count": 273,
      "outputs": []
    },
    {
      "cell_type": "code",
      "source": [
        "n=10\n",
        "alpha_start=0.9\n",
        "rho=0.5\n",
        "gamma=0.5\n",
        "tol=1e-4\n",
        "\n",
        "start_time=timer()\n",
        "x_start=np.array([0 for i in range(n)]).reshape((n,1))\n",
        "x_star_bfgs,iter_x_val,iter_bfgs=BFGS_method(n,x_start,tol,alpha_start,rho,gamma)\n",
        "end_time=timer()\n",
        "time_taken_bfgs=end_time-start_time\n",
        "print('iterations taken by bfgs method:',iter_bfgs)\n",
        "print('time taken by bfgs method',time_taken_bfgs)\n"
      ],
      "metadata": {
        "colab": {
          "base_uri": "https://localhost:8080/"
        },
        "id": "14QT8O3fkB0F",
        "outputId": "fec650de-439b-427f-b9b4-8afc57e290e0"
      },
      "execution_count": 274,
      "outputs": [
        {
          "output_type": "stream",
          "name": "stdout",
          "text": [
            "iterations taken by bfgs method: 20\n",
            "time taken by bfgs method 0.025448735999816563\n"
          ]
        }
      ]
    },
    {
      "cell_type": "code",
      "source": [
        "print('For BFGS method:\\n *****************************************************')\n",
        "for i in range(10):\n",
        "  \n",
        "  print('x_bar',i+1,'th value is',x_bar[i],'And value of',i+1,' x_star  is:',x_star_bfgs[i])"
      ],
      "metadata": {
        "colab": {
          "base_uri": "https://localhost:8080/"
        },
        "id": "MjKyw7c8kkxQ",
        "outputId": "42d9c0fe-0fbb-4194-c936-ef0cdb534ef9"
      },
      "execution_count": 275,
      "outputs": [
        {
          "output_type": "stream",
          "name": "stdout",
          "text": [
            "For BFGS method:\n",
            " *****************************************************\n",
            "x_bar 1 th value is [-0.06258705] And value of 1  x_star  is: [-0.04982253]\n",
            "x_bar 2 th value is [1.94307072] And value of 2  x_star  is: [1.95189743]\n",
            "x_bar 3 th value is [-2.34150552] And value of 3  x_star  is: [-2.34298192]\n",
            "x_bar 4 th value is [3.58252615] And value of 4  x_star  is: [3.60956008]\n",
            "x_bar 5 th value is [-4.75947573] And value of 5  x_star  is: [-4.71176194]\n",
            "x_bar 6 th value is [5.93512469] And value of 6  x_star  is: [5.89877618]\n",
            "x_bar 7 th value is [-6.61893094] And value of 7  x_star  is: [-6.62879358]\n",
            "x_bar 8 th value is [7.16818187] And value of 8  x_star  is: [7.16821112]\n",
            "x_bar 9 th value is [-8.2179964] And value of 9  x_star  is: [-8.22221199]\n",
            "x_bar 10 th value is [9.00022174] And value of 10  x_star  is: [9.05669293]\n"
          ]
        }
      ]
    },
    {
      "cell_type": "markdown",
      "source": [
        "$\\text{for BFGS method ,Plot the values} \\ log(||x^\n",
        "k − x^*||_2) \\  against  \\ iterations \\  k = 0, 1, 2, . . ..$"
      ],
      "metadata": {
        "id": "yZX6-6f7l38Q"
      }
    },
    {
      "cell_type": "code",
      "source": [
        "ln_values_bfgs=[]\n",
        "ln_values_fun_bfgs=[]\n",
        "for i in range(iter_bfgs-1):\n",
        "  a=np.linalg.norm(iter_x_val[i]-x_star)\n",
        "  b=np.linalg.norm(evalf(iter_x_val[i])-evalf(x_star))\n",
        "\n",
        "  ln_values_bfgs.append(math.log(a))\n",
        "  ln_values_fun_bfgs.append(math.log(b))\n",
        "print(len(ln_values_bfgs))\n",
        "print(ln_values_bfgs)  \n",
        "print(ln_values_fun_bfgs)"
      ],
      "metadata": {
        "colab": {
          "base_uri": "https://localhost:8080/"
        },
        "id": "Ei9B2Ri-klkz",
        "outputId": "085eae9c-0561-4499-fa6d-5172b8568d18"
      },
      "execution_count": 276,
      "outputs": [
        {
          "output_type": "stream",
          "name": "stdout",
          "text": [
            "19\n",
            "[0.2134243711529178, -0.04601664255769426, -0.04648544145046949, -0.06476560102874773, -0.6599852966963182, -0.7051328328614125, -0.7209544910117676, -0.8227318764798431, -0.9101883596149638, -0.9221607957620718, -2.2264881787435593, -2.3660261277530488, -2.3958042386039233, -4.162881497485062, -6.472329151253196, -8.774913701532096, -11.077488976319767, -13.379975300234442, -15.68151344452358]\n",
            "[9.816815966336362, 9.319207938748752, 9.298921086269038, 9.233785928809553, 8.072929615970518, 7.985038905284907, 7.950627950674716, 7.760975648179265, 7.575618720347675, 7.556831343062449, 4.951226929224197, 4.671462663975357, 4.613654844749936, 1.1026796698879546, -3.5164324784160423, -8.12160286060004, -12.726773928367958, -17.332042094735556, -21.94514370660548]\n"
          ]
        }
      ]
    },
    {
      "cell_type": "code",
      "source": [
        "plt.plot([i+1 for i in range(iter_bfgs-1)],ln_values_bfgs,label='log[||x_k-x||]',color='r')\n",
        "plt.title(' plot for plotting log[||x_k-x||] for values obtained for each iteations using BFGS method')\n",
        "plt.xlabel('iteration number')\n",
        "plt.ylabel(\"value\")\n",
        "plt.legend()\n",
        "plt.show()"
      ],
      "metadata": {
        "colab": {
          "base_uri": "https://localhost:8080/",
          "height": 295
        },
        "id": "Oto_HVZ7mScc",
        "outputId": "7eb08f27-43b1-4170-a9f5-4478c274124f"
      },
      "execution_count": 277,
      "outputs": [
        {
          "output_type": "display_data",
          "data": {
            "text/plain": [
              "<Figure size 432x288 with 1 Axes>"
            ],
            "image/png": "[encoded data removed]"
          },
          "metadata": {
            "needs_background": "light"
          }
        }
      ]
    },
    {
      "cell_type": "markdown",
      "source": [
        "$\\text{Prepare a different plot for plotting log} (|f(x_k\n",
        ") − f(x^*)|) \\\\ \\text{ obtained from BFGS method against the\n",
        "iterations.}$\n"
      ],
      "metadata": {
        "id": "6Y-U8M7wnGxi"
      }
    },
    {
      "cell_type": "code",
      "source": [
        "plt.plot([i+1 for i in range(iter_bfgs-1)],ln_values_fun_bfgs,label='log(|f(xk) − f(x)|)',color='b')\n",
        "plt.title(' plot for plotting log(|f(xk) − f(x)|) for values obtained for each iteations')\n",
        "plt.xlabel('iteration number')\n",
        "plt.ylabel(\"value\")\n",
        "plt.legend()\n",
        "plt.show()"
      ],
      "metadata": {
        "colab": {
          "base_uri": "https://localhost:8080/",
          "height": 295
        },
        "id": "YIF2PzWsnAl7",
        "outputId": "77677e07-ae0f-4c6d-b560-5ea17f820815"
      },
      "execution_count": 278,
      "outputs": [
        {
          "output_type": "display_data",
          "data": {
            "text/plain": [
              "<Figure size 432x288 with 1 Axes>"
            ],
            "image/png": "[encoded data removed]"
          },
          "metadata": {
            "needs_background": "light"
          }
        }
      ]
    },
    {
      "cell_type": "markdown",
      "source": [
        "$\\text{Comment on the convergence rates of the iterates and the objective function values obtained by BFGS\n",
        "method.} $"
      ],
      "metadata": {
        "id": "qu9p6npKnfvM"
      }
    },
    {
      "cell_type": "markdown",
      "source": [
        "$\\large \\text{Answer:}$"
      ],
      "metadata": {
        "id": "94J10ZfApAAv"
      }
    },
    {
      "cell_type": "markdown",
      "source": [
        "$\\text{As we calculate above the condition to be Q linear  is  } $ \n",
        "\n",
        " $$log(||x^{k+1} - x^*||_2)-log(||x^k - x^*||_2)\\leq 0$$ \n",
        "\n",
        " $\\text{In above plot for } ||x_k-x^*||_2  \\text{Value is decreasing as soon as k increases and also for sufficient large k, we can see that value of  } ||x_k-x^*||_2 \\\\   \\text{also decreases with k so our above condition holds for bfgs method also. similarly if we see the } \\\\ ||f(x_k)-f(x^*)||_2  \\text{then we can observe that these values are also decreasing as k increases }\\\\ \\textbf{So the convergence of the function is Q linear.}$"
      ],
      "metadata": {
        "id": "F2sQ0kChpVBh"
      }
    },
    {
      "cell_type": "markdown",
      "source": [
        "$\\large \\text{Question 4.} \\\\\n",
        "\\textbf{[R] Compare and contrast the results obtained by Newton’s method and BFGS method and comment on the\n",
        "time taken by both the methods.\n",
        "}$"
      ],
      "metadata": {
        "id": "EDrspVbLrIlC"
      }
    },
    {
      "cell_type": "code",
      "source": [
        "from tabulate import tabulate"
      ],
      "metadata": {
        "id": "jAgl5Xblsro_"
      },
      "execution_count": 279,
      "outputs": []
    },
    {
      "cell_type": "code",
      "source": [
        "table = [[\"x_bar_val\", \"newton's x_val \",\"BFGS x_val\"]]\n",
        "for i in  range(10):\n",
        "    table.append([x_bar[i] , x_star[i],x_star_bfgs[i] ])    \n",
        "print(tabulate(table, headers = 'firstrow',tablefmt=\"grid\"))"
      ],
      "metadata": {
        "colab": {
          "base_uri": "https://localhost:8080/"
        },
        "id": "yL9Mxp8BnSoW",
        "outputId": "c9d895fd-ca90-4774-a246-78f4a8f1dcdb"
      },
      "execution_count": 280,
      "outputs": [
        {
          "output_type": "stream",
          "name": "stdout",
          "text": [
            "+-------------+-------------------+--------------+\n",
            "|   x_bar_val |   newton's x_val  |   BFGS x_val |\n",
            "+=============+===================+==============+\n",
            "|  -0.0625871 |        -0.0498225 |   -0.0498225 |\n",
            "+-------------+-------------------+--------------+\n",
            "|   1.94307   |         1.9519    |    1.9519    |\n",
            "+-------------+-------------------+--------------+\n",
            "|  -2.34151   |        -2.34298   |   -2.34298   |\n",
            "+-------------+-------------------+--------------+\n",
            "|   3.58253   |         3.60956   |    3.60956   |\n",
            "+-------------+-------------------+--------------+\n",
            "|  -4.75948   |        -4.71176   |   -4.71176   |\n",
            "+-------------+-------------------+--------------+\n",
            "|   5.93512   |         5.89878   |    5.89878   |\n",
            "+-------------+-------------------+--------------+\n",
            "|  -6.61893   |        -6.62879   |   -6.62879   |\n",
            "+-------------+-------------------+--------------+\n",
            "|   7.16818   |         7.16821   |    7.16821   |\n",
            "+-------------+-------------------+--------------+\n",
            "|  -8.218     |        -8.22221   |   -8.22221   |\n",
            "+-------------+-------------------+--------------+\n",
            "|   9.00022   |         9.05669   |    9.05669   |\n",
            "+-------------+-------------------+--------------+\n"
          ]
        }
      ]
    },
    {
      "cell_type": "code",
      "source": [
        "print('difference based on iteration taken:\\n ********************************************')\n",
        "print('number of iterations taken by newton method',iterations)\n",
        "print('number of iterations taken by BFGS method',iter_bfgs)"
      ],
      "metadata": {
        "colab": {
          "base_uri": "https://localhost:8080/"
        },
        "id": "URTqmZfxtAog",
        "outputId": "79ca994c-e700-499f-b5fe-c2d1c87458dc"
      },
      "execution_count": 281,
      "outputs": [
        {
          "output_type": "stream",
          "name": "stdout",
          "text": [
            "difference based on iteration taken:\n",
            " ********************************************\n",
            "number of iterations taken by newton method 5\n",
            "number of iterations taken by BFGS method 20\n"
          ]
        }
      ]
    },
    {
      "cell_type": "code",
      "source": [
        "print('difference based on time taken : \\n ***************************************************')\n",
        "print('time taken by newton method',time_taken_newton)\n",
        "print('time taken by BFGS method',time_taken_bfgs)"
      ],
      "metadata": {
        "colab": {
          "base_uri": "https://localhost:8080/"
        },
        "id": "zcgYqivgtWzs",
        "outputId": "46a2b472-4397-4065-83dd-944bea559a36"
      },
      "execution_count": 282,
      "outputs": [
        {
          "output_type": "stream",
          "name": "stdout",
          "text": [
            "difference based on time taken : \n",
            " ***************************************************\n",
            "time taken by newton method 0.008049338999626343\n",
            "time taken by BFGS method 0.025448735999816563\n"
          ]
        }
      ]
    },
    {
      "cell_type": "markdown",
      "source": [
        "$\\text{BY above results we can see that if we observe the values of x then it can easily  be seen that there is no proper difference in values of x } \\\\ \\text{that means both the methods approximate the x value almost same. }$"
      ],
      "metadata": {
        "id": "xE00h6yAtndK"
      }
    },
    {
      "cell_type": "markdown",
      "source": [
        "$\\text{As we see the number of iterations taken to reach to optimality condition is higher in bfgs method in comparison of newton's method.}$"
      ],
      "metadata": {
        "id": "fIlvq1UIuPDk"
      }
    },
    {
      "cell_type": "markdown",
      "source": [
        "$\\textbf{Observations over time taken to solve:} \\\\ \\text{As we can see that newton's method take less time to solve the problem and leads the x value to optimal value in less time than bfgs method.}$"
      ],
      "metadata": {
        "id": "hG43chBTuZrd"
      }
    },
    {
      "cell_type": "code",
      "source": [],
      "metadata": {
        "id": "GttpvmqAtmcw"
      },
      "execution_count": null,
      "outputs": []
    }
  ]
}